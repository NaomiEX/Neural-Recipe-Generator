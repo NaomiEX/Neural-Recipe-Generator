{
 "cells": [
  {
   "cell_type": "code",
   "execution_count": 3,
   "metadata": {},
   "outputs": [
    {
     "name": "stderr",
     "output_type": "stream",
     "text": [
      "/home/student/anaconda3/envs/nlp/lib/python3.9/site-packages/tqdm/auto.py:21: TqdmWarning: IProgress not found. Please update jupyter and ipywidgets. See https://ipywidgets.readthedocs.io/en/stable/user_install.html\n",
      "  from .autonotebook import tqdm as notebook_tqdm\n"
     ]
    }
   ],
   "source": [
    "import torch\n",
    "from torch import nn\n",
    "import numpy as np"
   ]
  },
  {
   "cell_type": "code",
   "execution_count": 4,
   "metadata": {},
   "outputs": [],
   "source": [
    "k=3\n",
    "vocab_size=10"
   ]
  },
  {
   "cell_type": "code",
   "execution_count": 8,
   "metadata": {},
   "outputs": [],
   "source": [
    "word_history = [[0], [4], [2]] # [k, |history|]"
   ]
  },
  {
   "cell_type": "markdown",
   "metadata": {},
   "source": [
    "# Pruning"
   ]
  },
  {
   "cell_type": "code",
   "execution_count": 5,
   "metadata": {},
   "outputs": [],
   "source": [
    "    # once satisfied remove\n",
    "    pos_constraints = [[[1, 4], [5], [7, 9], [0]] for _ in range(k)]\n",
    "    # no need to remove\n",
    "    neg_constraints = [[3], [6], [2, 1]]"
   ]
  },
  {
   "cell_type": "code",
   "execution_count": 7,
   "metadata": {},
   "outputs": [
    {
     "data": {
      "text/plain": [
       "tensor([[0.2842, 0.6313, 0.1902, 0.0574, 0.1085, 0.6113, 0.8863, 0.4447, 0.2815,\n",
       "         0.6691],\n",
       "        [0.7425, 0.2465, 0.0646, 0.7713, 0.4118, 0.7276, 0.1250, 0.5677, 0.0539,\n",
       "         0.0690],\n",
       "        [0.2149, 0.3084, 0.9116, 0.7402, 0.5656, 0.6229, 0.4891, 0.5549, 0.6596,\n",
       "         0.6171]])"
      ]
     },
     "execution_count": 7,
     "metadata": {},
     "output_type": "execute_result"
    }
   ],
   "source": [
    "decoder_output = torch.rand(k, vocab_size)\n",
    "decoder_output"
   ]
  },
  {
   "cell_type": "markdown",
   "metadata": {},
   "source": [
    "### penalize inclusion of negative constraint"
   ]
  },
  {
   "cell_type": "code",
   "execution_count": 15,
   "metadata": {},
   "outputs": [],
   "source": [
    "neg_constraint_penalty = 1"
   ]
  },
  {
   "cell_type": "code",
   "execution_count": 14,
   "metadata": {},
   "outputs": [],
   "source": [
    "penalties = torch.zeros_like(decoder_output) # [k, vocab_size]"
   ]
  },
  {
   "cell_type": "code",
   "execution_count": 16,
   "metadata": {},
   "outputs": [],
   "source": [
    "for ki in range(k):\n",
    "    for neg_constraint in neg_constraints:\n",
    "        neg_constraint_exist = True\n",
    "        neg_idx = neg_constraint[-1] # index in vocab dim of the negative word [3, 6, 1]\n",
    "        for i, constraint_word in enumerate(neg_constraint[:-1][::-1]): # from 2nd last to first word in constraint\n",
    "            if word_history[ki][-i] != constraint_word:\n",
    "                neg_constraint_exist = False\n",
    "                break\n",
    "        penalties[ki][neg_idx] += neg_constraint_penalty"
   ]
  },
  {
   "cell_type": "markdown",
   "metadata": {},
   "source": [
    "# Selection"
   ]
  }
 ],
 "metadata": {
  "kernelspec": {
   "display_name": "nlp",
   "language": "python",
   "name": "python3"
  },
  "language_info": {
   "codemirror_mode": {
    "name": "ipython",
    "version": 3
   },
   "file_extension": ".py",
   "mimetype": "text/x-python",
   "name": "python",
   "nbconvert_exporter": "python",
   "pygments_lexer": "ipython3",
   "version": "3.9.19"
  }
 },
 "nbformat": 4,
 "nbformat_minor": 2
}
