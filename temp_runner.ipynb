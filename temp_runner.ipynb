{
 "cells": [
  {
   "cell_type": "code",
   "execution_count": 1,
   "metadata": {},
   "outputs": [],
   "source": [
    "%load_ext autoreload\n",
    "%autoreload 2"
   ]
  },
  {
   "cell_type": "code",
   "execution_count": 2,
   "metadata": {},
   "outputs": [],
   "source": [
    "# !pip install torch==1.13.1+cu116 torchvision==0.14.1+cu116 --extra-index-url https://download.pytorch.org/whl/cu116\n",
    "# !pip install matplotlib numpy pandas tqdm nltk\n",
    "\n",
    "# for separating ingredients vs non-ingredients\n",
    "# NOTE: if using Windows to run this, need to download GNU Wget\n",
    "# !wget -c https://raw.githubusercontent.com/williamLyh/RecipeWithPlans/main/ingredient_set.json -O ingredient_set.json"
   ]
  },
  {
   "cell_type": "code",
   "execution_count": 3,
   "metadata": {},
   "outputs": [
    {
     "name": "stderr",
     "output_type": "stream",
     "text": [
      "/home/student/anaconda3/envs/nlp/lib/python3.9/site-packages/tqdm/auto.py:21: TqdmWarning: IProgress not found. Please update jupyter and ipywidgets. See https://ipywidgets.readthedocs.io/en/stable/user_install.html\n",
      "  from .autonotebook import tqdm as notebook_tqdm\n"
     ]
    }
   ],
   "source": [
    "import os\n",
    "import math\n",
    "import re\n",
    "import string\n",
    "import numpy as np\n",
    "import pandas as pd\n",
    "import random\n",
    "import json\n",
    "from torch.optim.lr_scheduler import CosineAnnealingLR, StepLR, MultiStepLR, CosineAnnealingWarmRestarts\n",
    "import nltk\n",
    "from nltk.translate.bleu_score import corpus_bleu, sentence_bleu\n",
    "from nltk.translate import meteor\n",
    "\n",
    "from data import *\n",
    "from encoder_decoder import *\n",
    "from train import *\n",
    "from eval import *\n",
    "from utils import *\n",
    "\n",
    "# required for bleu\n",
    "# nltk.download(\"wordnet\")"
   ]
  },
  {
   "cell_type": "markdown",
   "metadata": {},
   "source": [
    "---"
   ]
  },
  {
   "cell_type": "code",
   "execution_count": 4,
   "metadata": {},
   "outputs": [
    {
     "name": "stdout",
     "output_type": "stream",
     "text": [
      "Using device: cuda\n"
     ]
    }
   ],
   "source": [
    "SEED = 31989101\n",
    "HIDDEN_SIZE = 256\n",
    "MAX_INGR_LEN = 150 # fixed from assignment\n",
    "MAX_RECIPE_LEN = 600\n",
    "DROPOUT = 0.1\n",
    "DEVICE = torch.device(\"cuda\" if torch.cuda.is_available() else \"cpu\")\n",
    "\n",
    "## ensuring reproducibility\n",
    "def reset_rng():\n",
    "    torch.manual_seed(SEED)\n",
    "    np.random.seed(SEED)\n",
    "    random.seed(SEED)\n",
    "\n",
    "reset_rng()\n",
    "\n",
    "# to easily read ingredients and instructions\n",
    "pd.set_option('display.max_colwidth', 2000)\n",
    "\n",
    "print(f\"Using device: {DEVICE}\")"
   ]
  },
  {
   "cell_type": "code",
   "execution_count": 5,
   "metadata": {},
   "outputs": [],
   "source": [
    "data_root = \"./Cooking_Dataset\"\n",
    "add_intermediate_tag=False\n",
    "\n",
    "train_df_orig = pd.read_csv(os.path.join(data_root, \"train.csv\"), usecols=['Ingredients', 'Recipe'])\n",
    "dev_df_orig = pd.read_csv(os.path.join(data_root, \"dev.csv\"), usecols=['Ingredients', 'Recipe'])\n",
    "test_df_orig = pd.read_csv(os.path.join(data_root, \"test.csv\"), usecols=['Ingredients', 'Recipe'])"
   ]
  },
  {
   "cell_type": "code",
   "execution_count": 6,
   "metadata": {},
   "outputs": [
    {
     "name": "stdout",
     "output_type": "stream",
     "text": [
      "Number of data samples before preprocessing: 101340\n",
      "Number of data samples after preprocessing: 100637 (99.306%)\n"
     ]
    }
   ],
   "source": [
    "train_df = preprocess_data(train_df_orig, max_ingr_len=MAX_INGR_LEN, max_recipe_len=MAX_RECIPE_LEN, add_intermediate_tag=add_intermediate_tag)"
   ]
  },
  {
   "cell_type": "code",
   "execution_count": 7,
   "metadata": {},
   "outputs": [
    {
     "name": "stdout",
     "output_type": "stream",
     "text": [
      "Number of data samples before preprocessing: 797\n",
      "Number of data samples after preprocessing: 793 (99.498%)\n"
     ]
    }
   ],
   "source": [
    "dev_df = preprocess_data(dev_df_orig, max_ingr_len=MAX_INGR_LEN, max_recipe_len=MAX_RECIPE_LEN, add_intermediate_tag=add_intermediate_tag)"
   ]
  },
  {
   "cell_type": "code",
   "execution_count": 8,
   "metadata": {},
   "outputs": [
    {
     "name": "stdout",
     "output_type": "stream",
     "text": [
      "Number of data samples before preprocessing: 778\n",
      "Number of data samples after preprocessing: 774 (99.486%)\n"
     ]
    }
   ],
   "source": [
    "test_df = preprocess_data(test_df_orig, max_ingr_len=MAX_INGR_LEN, max_recipe_len=MAX_RECIPE_LEN, add_intermediate_tag=add_intermediate_tag)"
   ]
  },
  {
   "cell_type": "code",
   "execution_count": 9,
   "metadata": {},
   "outputs": [
    {
     "name": "stderr",
     "output_type": "stream",
     "text": [
      "  0%|          | 0/100637 [00:00<?, ?it/s]"
     ]
    },
    {
     "name": "stderr",
     "output_type": "stream",
     "text": [
      "100%|██████████| 100637/100637 [00:06<00:00, 15508.17it/s]\n"
     ]
    },
    {
     "data": {
      "text/plain": [
       "44315"
      ]
     },
     "execution_count": 9,
     "metadata": {},
     "output_type": "execute_result"
    }
   ],
   "source": [
    "vocab = Vocabulary(add_intermediate_tag=add_intermediate_tag)\n",
    "vocab.populate(train_df)\n",
    "vocab.n_unique_words"
   ]
  },
  {
   "cell_type": "code",
   "execution_count": 10,
   "metadata": {},
   "outputs": [],
   "source": [
    "train_ds = RecipeDataset(train_df, vocab)\n",
    "# subset_train_ds = RecipeDataset(train_df[:250], vocab) # ! REMOVE LATER\n",
    "dev_ds_val_loss = RecipeDataset(dev_df, vocab, train=True) # used for getting validation loss\n",
    "dev_ds_val_met = RecipeDataset(dev_df, vocab, train=False) # used for getting validation BLEU, and other metrics\n",
    "test_ds = RecipeDataset(test_df, vocab, train=False)"
   ]
  },
  {
   "cell_type": "markdown",
   "metadata": {},
   "source": [
    "## Encoder-Decoder (Base)"
   ]
  },
  {
   "cell_type": "code",
   "execution_count": 11,
   "metadata": {},
   "outputs": [],
   "source": [
    "embedding_size=300\n",
    "encoder = EncoderRNN(vocab.n_unique_words, embedding_size=embedding_size, hidden_size=HIDDEN_SIZE, padding_value=vocab.word2index(PAD_WORD)).to(DEVICE)\n",
    "# in the training script, decoder is always fed a non-end token and thus never needs to generate padding\n",
    "# also it should never generate \"<UNKNOWN>\"\n",
    "decoder = DecoderRNN(embedding_size=embedding_size,hidden_size=HIDDEN_SIZE, output_size=vocab.n_unique_words-1).to(DEVICE)"
   ]
  },
  {
   "cell_type": "code",
   "execution_count": 14,
   "metadata": {},
   "outputs": [
    {
     "name": "stdout",
     "output_type": "stream",
     "text": [
      "Starting epoch 1/30, enc lr scheduler: [0.001], dec lr scheduler: [0.001]\n",
      "(Epoch 0, iter 10/787) Average loss so far: 10.210\n",
      "(Epoch 0, iter 20/787) Average loss so far: 6.945\n",
      "(Epoch 0, iter 30/787) Average loss so far: 6.156\n",
      "(Epoch 0, iter 40/787) Average loss so far: 6.180\n",
      "(Epoch 0, iter 50/787) Average loss so far: 6.071\n",
      "(Epoch 0, iter 60/787) Average loss so far: 6.040\n",
      "(Epoch 0, iter 70/787) Average loss so far: 6.024\n",
      "(Epoch 0, iter 80/787) Average loss so far: 5.991\n",
      "(Epoch 0, iter 90/787) Average loss so far: 5.968\n",
      "(Epoch 0, iter 100/787) Average loss so far: 5.922\n",
      "(Epoch 0, iter 110/787) Average loss so far: 5.875\n",
      "(Epoch 0, iter 120/787) Average loss so far: 5.845\n",
      "(Epoch 0, iter 130/787) Average loss so far: 5.806\n",
      "(Epoch 0, iter 140/787) Average loss so far: 5.735\n",
      "(Epoch 0, iter 150/787) Average loss so far: 5.680\n",
      "(Epoch 0, iter 160/787) Average loss so far: 5.623\n",
      "(Epoch 0, iter 170/787) Average loss so far: 5.582\n",
      "(Epoch 0, iter 180/787) Average loss so far: 5.544\n",
      "(Epoch 0, iter 190/787) Average loss so far: 5.465\n",
      "(Epoch 0, iter 200/787) Average loss so far: 5.394\n",
      "(Epoch 0, iter 210/787) Average loss so far: 5.393\n",
      "(Epoch 0, iter 220/787) Average loss so far: 5.290\n",
      "(Epoch 0, iter 230/787) Average loss so far: 5.281\n",
      "(Epoch 0, iter 240/787) Average loss so far: 5.231\n",
      "(Epoch 0, iter 250/787) Average loss so far: 5.168\n",
      "(Epoch 0, iter 260/787) Average loss so far: 5.150\n",
      "(Epoch 0, iter 270/787) Average loss so far: 5.102\n",
      "(Epoch 0, iter 280/787) Average loss so far: 5.049\n",
      "(Epoch 0, iter 290/787) Average loss so far: 5.066\n",
      "(Epoch 0, iter 300/787) Average loss so far: 5.038\n",
      "(Epoch 0, iter 310/787) Average loss so far: 4.920\n",
      "(Epoch 0, iter 320/787) Average loss so far: 4.976\n",
      "(Epoch 0, iter 330/787) Average loss so far: 4.909\n",
      "(Epoch 0, iter 340/787) Average loss so far: 4.922\n",
      "(Epoch 0, iter 350/787) Average loss so far: 4.880\n",
      "(Epoch 0, iter 360/787) Average loss so far: 4.831\n",
      "(Epoch 0, iter 370/787) Average loss so far: 4.802\n",
      "(Epoch 0, iter 380/787) Average loss so far: 4.801\n",
      "(Epoch 0, iter 390/787) Average loss so far: 4.774\n",
      "(Epoch 0, iter 400/787) Average loss so far: 4.762\n",
      "(Epoch 0, iter 410/787) Average loss so far: 4.732\n",
      "(Epoch 0, iter 420/787) Average loss so far: 4.735\n",
      "(Epoch 0, iter 430/787) Average loss so far: 4.684\n",
      "(Epoch 0, iter 440/787) Average loss so far: 4.666\n",
      "(Epoch 0, iter 450/787) Average loss so far: 4.636\n",
      "(Epoch 0, iter 460/787) Average loss so far: 4.611\n",
      "(Epoch 0, iter 470/787) Average loss so far: 4.631\n",
      "(Epoch 0, iter 480/787) Average loss so far: 4.562\n",
      "(Epoch 0, iter 490/787) Average loss so far: 4.581\n",
      "(Epoch 0, iter 500/787) Average loss so far: 4.557\n",
      "(Epoch 0, iter 510/787) Average loss so far: 4.531\n",
      "(Epoch 0, iter 520/787) Average loss so far: 4.605\n",
      "(Epoch 0, iter 530/787) Average loss so far: 4.482\n",
      "(Epoch 0, iter 540/787) Average loss so far: 4.493\n",
      "(Epoch 0, iter 550/787) Average loss so far: 4.508\n",
      "(Epoch 0, iter 560/787) Average loss so far: 4.512\n",
      "(Epoch 0, iter 570/787) Average loss so far: 4.454\n",
      "(Epoch 0, iter 580/787) Average loss so far: 4.416\n",
      "(Epoch 0, iter 590/787) Average loss so far: 4.421\n",
      "(Epoch 0, iter 600/787) Average loss so far: 4.424\n",
      "(Epoch 0, iter 610/787) Average loss so far: 4.410\n",
      "(Epoch 0, iter 620/787) Average loss so far: 4.393\n",
      "(Epoch 0, iter 630/787) Average loss so far: 4.366\n",
      "(Epoch 0, iter 640/787) Average loss so far: 4.340\n",
      "(Epoch 0, iter 650/787) Average loss so far: 4.346\n",
      "(Epoch 0, iter 660/787) Average loss so far: 4.316\n",
      "(Epoch 0, iter 670/787) Average loss so far: 4.296\n",
      "(Epoch 0, iter 680/787) Average loss so far: 4.361\n",
      "(Epoch 0, iter 690/787) Average loss so far: 4.279\n",
      "(Epoch 0, iter 700/787) Average loss so far: 4.280\n",
      "(Epoch 0, iter 710/787) Average loss so far: 4.271\n",
      "(Epoch 0, iter 720/787) Average loss so far: 4.278\n",
      "(Epoch 0, iter 730/787) Average loss so far: 4.239\n",
      "(Epoch 0, iter 740/787) Average loss so far: 4.287\n",
      "(Epoch 0, iter 750/787) Average loss so far: 4.258\n",
      "(Epoch 0, iter 760/787) Average loss so far: 4.218\n",
      "(Epoch 0, iter 770/787) Average loss so far: 4.239\n",
      "(Epoch 0, iter 780/787) Average loss so far: 4.239\n",
      "Average epoch loss: 5.006\n",
      "This epoch took 23.566594620545704 mins. Time remaining: 11.0 hrs 23.0 mins.\n"
     ]
    },
    {
     "name": "stderr",
     "output_type": "stream",
     "text": [
      "7it [00:03,  2.05it/s]\n"
     ]
    },
    {
     "name": "stdout",
     "output_type": "stream",
     "text": [
      "validation loss: 4.239502702440534\n"
     ]
    },
    {
     "name": "stderr",
     "output_type": "stream",
     "text": [
      " 14%|█▍        | 28/199 [00:15<01:36,  1.77it/s]\n"
     ]
    },
    {
     "ename": "KeyboardInterrupt",
     "evalue": "",
     "output_type": "error",
     "traceback": [
      "\u001b[0;31m---------------------------------------------------------------------------\u001b[0m",
      "\u001b[0;31mKeyboardInterrupt\u001b[0m                         Traceback (most recent call last)",
      "Cell \u001b[0;32mIn[14], line 12\u001b[0m\n\u001b[1;32m      9\u001b[0m \u001b[38;5;66;03m# enc_scheduler = MultiStepLR(encoder_optimizer, milestones=[15], gamma=0.1)\u001b[39;00m\n\u001b[1;32m     10\u001b[0m \u001b[38;5;66;03m# dec_scheduler = MultiStepLR(decoder_optimizer, milestones=[15], gamma=0.1)\u001b[39;00m\n\u001b[1;32m     11\u001b[0m identifier\u001b[38;5;241m=\u001b[39m\u001b[38;5;124m\"\u001b[39m\u001b[38;5;124madam_without_intermediate_tags_wd0_lr1e-3\u001b[39m\u001b[38;5;124m\"\u001b[39m\n\u001b[0;32m---> 12\u001b[0m epoch_losses, log \u001b[38;5;241m=\u001b[39m \u001b[43mtrain\u001b[49m\u001b[43m(\u001b[49m\u001b[43mencoder\u001b[49m\u001b[43m,\u001b[49m\u001b[43m \u001b[49m\u001b[43mdecoder\u001b[49m\u001b[43m,\u001b[49m\u001b[43m \u001b[49m\u001b[43mencoder_optimizer\u001b[49m\u001b[43m,\u001b[49m\u001b[43m \u001b[49m\u001b[43mdecoder_optimizer\u001b[49m\u001b[43m,\u001b[49m\u001b[43m \u001b[49m\u001b[43mtrain_ds\u001b[49m\u001b[43m,\u001b[49m\u001b[43m \u001b[49m\n\u001b[1;32m     13\u001b[0m \u001b[43m                     \u001b[49m\u001b[43mn_epochs\u001b[49m\u001b[38;5;241;43m=\u001b[39;49m\u001b[43mn_epochs\u001b[49m\u001b[43m,\u001b[49m\u001b[43m \u001b[49m\u001b[43mvocab\u001b[49m\u001b[38;5;241;43m=\u001b[39;49m\u001b[43mvocab\u001b[49m\u001b[43m,\u001b[49m\u001b[43m \u001b[49m\u001b[43mdecoder_mode\u001b[49m\u001b[38;5;241;43m=\u001b[39;49m\u001b[38;5;124;43m\"\u001b[39;49m\u001b[38;5;124;43mbasic\u001b[39;49m\u001b[38;5;124;43m\"\u001b[39;49m\u001b[43m,\u001b[49m\u001b[43m \u001b[49m\u001b[43mbatch_size\u001b[49m\u001b[38;5;241;43m=\u001b[39;49m\u001b[43mbatch_size\u001b[49m\u001b[43m,\u001b[49m\u001b[43m \u001b[49m\n\u001b[1;32m     14\u001b[0m \u001b[43m                     \u001b[49m\u001b[43menc_lr_scheduler\u001b[49m\u001b[38;5;241;43m=\u001b[39;49m\u001b[43menc_scheduler\u001b[49m\u001b[43m,\u001b[49m\u001b[43m \u001b[49m\u001b[43mdec_lr_scheduler\u001b[49m\u001b[38;5;241;43m=\u001b[39;49m\u001b[43mdec_scheduler\u001b[49m\u001b[43m,\u001b[49m\u001b[43m \u001b[49m\n\u001b[1;32m     15\u001b[0m \u001b[43m                     \u001b[49m\u001b[43mdev_ds_val_loss\u001b[49m\u001b[43m \u001b[49m\u001b[38;5;241;43m=\u001b[39;49m\u001b[43m \u001b[49m\u001b[43mdev_ds_val_loss\u001b[49m\u001b[43m,\u001b[49m\u001b[43m \u001b[49m\u001b[43mdev_ds_val_met\u001b[49m\u001b[38;5;241;43m=\u001b[39;49m\u001b[43mdev_ds_val_met\u001b[49m\u001b[43m,\u001b[49m\u001b[43m \u001b[49m\u001b[43midentifier\u001b[49m\u001b[38;5;241;43m=\u001b[39;49m\u001b[43midentifier\u001b[49m\u001b[43m,\u001b[49m\n\u001b[1;32m     16\u001b[0m \u001b[43m                     \u001b[49m\u001b[43mverbose_iter_interval\u001b[49m\u001b[38;5;241;43m=\u001b[39;49m\u001b[38;5;241;43m10\u001b[39;49m\u001b[43m)\u001b[49m\n\u001b[1;32m     18\u001b[0m save_log(identifier, log, encoder_optimizer, decoder_optimizer, enc_scheduler, dec_scheduler)\n",
      "File \u001b[0;32m/media/student/HDD 2/Michelle/NLP/neural-recipe-generator/train.py:209\u001b[0m, in \u001b[0;36mtrain\u001b[0;34m(encoder, decoder, encoder_optimizer, decoder_optimizer, dataset, n_epochs, vocab, decoder_mode, batch_size, enc_lr_scheduler, dec_lr_scheduler, dev_ds_val_loss, dev_ds_val_met, identifier, min_bleu_to_save, verbose, verbose_iter_interval)\u001b[0m\n\u001b[1;32m    206\u001b[0m     \u001b[38;5;28mprint\u001b[39m(msg)\n\u001b[1;32m    208\u001b[0m \u001b[38;5;66;03m## get validation metrics\u001b[39;00m\n\u001b[0;32m--> 209\u001b[0m all_decoder_outs, all_gt_recipes \u001b[38;5;241m=\u001b[39m \u001b[38;5;28;43meval\u001b[39;49m\u001b[43m(\u001b[49m\u001b[43mencoder\u001b[49m\u001b[43m,\u001b[49m\u001b[43m \u001b[49m\u001b[43mdecoder\u001b[49m\u001b[43m,\u001b[49m\u001b[43m \u001b[49m\u001b[43mdev_ds_val_met\u001b[49m\u001b[43m,\u001b[49m\u001b[43m \u001b[49m\u001b[43mvocab\u001b[49m\u001b[43m,\u001b[49m\n\u001b[1;32m    210\u001b[0m \u001b[43m                                        \u001b[49m\u001b[43mmax_recipe_len\u001b[49m\u001b[38;5;241;43m=\u001b[39;49m\u001b[43mMAX_RECIPE_LEN\u001b[49m\u001b[43m)\u001b[49m\n\u001b[1;32m    211\u001b[0m bleu \u001b[38;5;241m=\u001b[39m calc_bleu(all_gt_recipes, all_decoder_outs)\n\u001b[1;32m    212\u001b[0m meteor \u001b[38;5;241m=\u001b[39m calc_meteor(all_gt_recipes, all_decoder_outs, split_gt\u001b[38;5;241m=\u001b[39m\u001b[38;5;28;01mFalse\u001b[39;00m)\n",
      "File \u001b[0;32m/media/student/HDD 2/Michelle/NLP/neural-recipe-generator/eval.py:229\u001b[0m, in \u001b[0;36meval\u001b[0;34m(encoder, decoder, dataset, vocab, batch_size, max_recipe_len, decoder_mode)\u001b[0m\n\u001b[1;32m    220\u001b[0m \u001b[38;5;28;01mwith\u001b[39;00m torch\u001b[38;5;241m.\u001b[39mno_grad():\n\u001b[1;32m    221\u001b[0m     \u001b[38;5;28;01mfor\u001b[39;00m ingredients, recipes, ing_lens, _ \u001b[38;5;129;01min\u001b[39;00m tqdm(dataloader):\n\u001b[1;32m    222\u001b[0m         \u001b[38;5;66;03m# ingredients: Tensor[N, L_i] padded ingredients\u001b[39;00m\n\u001b[1;32m    223\u001b[0m         \u001b[38;5;66;03m# recipes (List[List[str]]): list of len N, each element is a\u001b[39;00m\n\u001b[0;32m   (...)\u001b[0m\n\u001b[1;32m    227\u001b[0m         \u001b[38;5;66;03m#                               list of len `gen_size`, which is the size of the generated sequence, and each element is a \u001b[39;00m\n\u001b[1;32m    228\u001b[0m         \u001b[38;5;66;03m#                                   str representing a single word in the generated recipe\u001b[39;00m\n\u001b[0;32m--> 229\u001b[0m         dec_outs \u001b[38;5;241m=\u001b[39m \u001b[43mget_predictions_iter\u001b[49m\u001b[43m(\u001b[49m\u001b[43mingredients\u001b[49m\u001b[43m,\u001b[49m\u001b[43m \u001b[49m\u001b[43ming_lens\u001b[49m\u001b[43m,\u001b[49m\u001b[43m \u001b[49m\u001b[43mencoder\u001b[49m\u001b[43m,\u001b[49m\u001b[43m \u001b[49m\u001b[43mdecoder\u001b[49m\u001b[43m,\u001b[49m\u001b[43m \u001b[49m\u001b[43mvocab\u001b[49m\u001b[43m,\u001b[49m\u001b[43m \u001b[49m\n\u001b[1;32m    230\u001b[0m \u001b[43m                                        \u001b[49m\u001b[43mmax_recipe_len\u001b[49m\u001b[38;5;241;43m=\u001b[39;49m\u001b[43mmax_recipe_len\u001b[49m\u001b[43m,\u001b[49m\u001b[43m \u001b[49m\u001b[43mdecoder_mode\u001b[49m\u001b[38;5;241;43m=\u001b[39;49m\u001b[43mdecoder_mode\u001b[49m\u001b[43m)\u001b[49m\n\u001b[1;32m    232\u001b[0m         all_decoder_outs \u001b[38;5;241m+\u001b[39m\u001b[38;5;241m=\u001b[39m dec_outs\n\u001b[1;32m    233\u001b[0m         all_gt_recipes \u001b[38;5;241m+\u001b[39m\u001b[38;5;241m=\u001b[39m recipes\n",
      "File \u001b[0;32m/media/student/HDD 2/Michelle/NLP/neural-recipe-generator/eval.py:205\u001b[0m, in \u001b[0;36mget_predictions_iter\u001b[0;34m(ingredients, ing_lens, encoder, decoder, vocab, max_recipe_len, decoder_mode)\u001b[0m\n\u001b[1;32m    201\u001b[0m decoder_cell \u001b[38;5;241m=\u001b[39m enc_c_final\n\u001b[1;32m    203\u001b[0m \u001b[38;5;66;03m# List[List[str]]\u001b[39;00m\n\u001b[0;32m--> 205\u001b[0m all_decoder_outs \u001b[38;5;241m=\u001b[39m \u001b[43meval_decoder_iter\u001b[49m\u001b[43m(\u001b[49m\u001b[43mdecoder\u001b[49m\u001b[43m,\u001b[49m\u001b[43m \u001b[49m\u001b[43mdecoder_hidden\u001b[49m\u001b[43m,\u001b[49m\u001b[43m \u001b[49m\u001b[43mdecoder_cell\u001b[49m\u001b[43m,\u001b[49m\n\u001b[1;32m    206\u001b[0m \u001b[43m                                     \u001b[49m\u001b[43menc_out\u001b[49m\u001b[43m,\u001b[49m\u001b[43m \u001b[49m\u001b[43mingredients\u001b[49m\u001b[43m,\u001b[49m\u001b[43m \u001b[49m\u001b[43mmax_recipe_len\u001b[49m\u001b[43m,\u001b[49m\n\u001b[1;32m    207\u001b[0m \u001b[43m                                     \u001b[49m\u001b[43mvocab\u001b[49m\u001b[43m,\u001b[49m\u001b[43m \u001b[49m\u001b[43mdecoder_mode\u001b[49m\u001b[38;5;241;43m=\u001b[39;49m\u001b[43mdecoder_mode\u001b[49m\u001b[43m)\u001b[49m\n\u001b[1;32m    209\u001b[0m \u001b[38;5;28;01mreturn\u001b[39;00m all_decoder_outs\n",
      "File \u001b[0;32m/media/student/HDD 2/Michelle/NLP/neural-recipe-generator/eval.py:144\u001b[0m, in \u001b[0;36meval_decoder_iter\u001b[0;34m(decoder, decoder_hidden, decoder_cell, encoder_houts, ingredients, max_recipe_len, vocab, decoder_mode)\u001b[0m\n\u001b[1;32m    141\u001b[0m decoder_topk_preds \u001b[38;5;241m=\u001b[39m decoder_out\u001b[38;5;241m.\u001b[39mtopk(\u001b[38;5;241m1\u001b[39m)[\u001b[38;5;241m1\u001b[39m]\u001b[38;5;241m.\u001b[39mreshape(\u001b[38;5;241m-\u001b[39m\u001b[38;5;241m1\u001b[39m) \u001b[38;5;66;03m# [N_valid]\u001b[39;00m\n\u001b[1;32m    143\u001b[0m \u001b[38;5;66;03m## store generated output\u001b[39;00m\n\u001b[0;32m--> 144\u001b[0m \u001b[38;5;28;01mfor\u001b[39;00m dec_idx, valid_n \u001b[38;5;129;01min\u001b[39;00m \u001b[38;5;28mzip\u001b[39m(\u001b[38;5;28mrange\u001b[39m(\u001b[38;5;28mlen\u001b[39m(decoder_topk_preds)), \u001b[43mvalid\u001b[49m\u001b[38;5;241;43m.\u001b[39;49m\u001b[43mnonzero\u001b[49m\u001b[43m(\u001b[49m\u001b[43m)\u001b[49m):\n\u001b[1;32m    145\u001b[0m     valid_idx \u001b[38;5;241m=\u001b[39m valid_n\u001b[38;5;241m.\u001b[39mitem()\n\u001b[1;32m    146\u001b[0m     all_decoder_outs[valid_idx]\u001b[38;5;241m.\u001b[39mappend(\n\u001b[1;32m    147\u001b[0m         vocab\u001b[38;5;241m.\u001b[39mindex2word[decoder_topk_preds[dec_idx]\u001b[38;5;241m.\u001b[39mitem()]) \u001b[38;5;66;03m# str\u001b[39;00m\n",
      "\u001b[0;31mKeyboardInterrupt\u001b[0m: "
     ]
    }
   ],
   "source": [
    "initial_lr=1e-3\n",
    "min_lr = 1e-5\n",
    "n_epochs = 30\n",
    "batch_size=128\n",
    "encoder_optimizer = optim.Adam(encoder.parameters(), lr=initial_lr)\n",
    "decoder_optimizer = optim.Adam(decoder.parameters(), lr=initial_lr)\n",
    "enc_scheduler = CosineAnnealingLR(encoder_optimizer, T_max=n_epochs, eta_min=min_lr)\n",
    "dec_scheduler = CosineAnnealingLR(decoder_optimizer, T_max=n_epochs, eta_min=min_lr)\n",
    "# enc_scheduler = MultiStepLR(encoder_optimizer, milestones=[15], gamma=0.1)\n",
    "# dec_scheduler = MultiStepLR(decoder_optimizer, milestones=[15], gamma=0.1)\n",
    "identifier=\"adam_without_intermediate_tags_wd0_lr1e-3\"\n",
    "epoch_losses, val_epoch_losses, log = train(encoder, decoder, encoder_optimizer, decoder_optimizer, train_ds, \n",
    "                     n_epochs=n_epochs, vocab=vocab, decoder_mode=\"basic\", batch_size=batch_size, \n",
    "                     enc_lr_scheduler=enc_scheduler, dec_lr_scheduler=dec_scheduler, \n",
    "                     dev_ds_val_loss = dev_ds_val_loss, dev_ds_val_met=dev_ds_val_met, identifier=identifier,\n",
    "                     verbose_iter_interval=10)\n",
    "\n",
    "save_log(identifier, log, encoder_optimizer, decoder_optimizer, enc_scheduler, dec_scheduler)"
   ]
  },
  {
   "cell_type": "code",
   "execution_count": null,
   "metadata": {},
   "outputs": [],
   "source": [
    "save_model(encoder, decoder, \"adam_without_intermediate_tags_wd0_lr1e-3_last\")"
   ]
  },
  {
   "cell_type": "markdown",
   "metadata": {},
   "source": [
    "## Encoder-Decoder (Attention)"
   ]
  },
  {
   "cell_type": "code",
   "execution_count": 11,
   "metadata": {},
   "outputs": [],
   "source": [
    "reset_rng()"
   ]
  },
  {
   "cell_type": "code",
   "execution_count": 12,
   "metadata": {},
   "outputs": [],
   "source": [
    "embedding_size=300\n",
    "encoder_attn = EncoderRNN(vocab.n_unique_words, embedding_size=embedding_size, hidden_size=HIDDEN_SIZE, padding_value=vocab.word2index(PAD_WORD)).to(DEVICE)\n",
    "# in the training script, decoder is always fed a non-end token and thus never needs to generate padding\n",
    "# also it should never generate \"<UNKNOWN>\"\n",
    "# decoder = DecoderRNN(embedding_size=embedding_size,hidden_size=HIDDEN_SIZE, output_size=vocab.n_unique_words-2).to(DEVICE)\n",
    "decoder_attn = AttnDecoderRNN(embedding_size, hidden_size=HIDDEN_SIZE, output_size=vocab.n_unique_words-1, padding_val=vocab.word2index(PAD_WORD), \n",
    "                              dropout=DROPOUT).to(DEVICE)"
   ]
  },
  {
   "cell_type": "code",
   "execution_count": 13,
   "metadata": {},
   "outputs": [
    {
     "name": "stdout",
     "output_type": "stream",
     "text": [
      "Starting epoch 1/30, enc lr scheduler: [0.001], dec lr scheduler: [0.001]\n",
      "(Epoch 0, iter 50/787) Average loss so far: 6.972\n",
      "(Epoch 0, iter 100/787) Average loss so far: 6.023\n",
      "(Epoch 0, iter 150/787) Average loss so far: 5.968\n",
      "(Epoch 0, iter 200/787) Average loss so far: 5.927\n",
      "(Epoch 0, iter 250/787) Average loss so far: 5.877\n",
      "(Epoch 0, iter 300/787) Average loss so far: 5.818\n",
      "(Epoch 0, iter 350/787) Average loss so far: 5.785\n",
      "(Epoch 0, iter 400/787) Average loss so far: 5.725\n",
      "(Epoch 0, iter 450/787) Average loss so far: 5.683\n",
      "(Epoch 0, iter 500/787) Average loss so far: 5.621\n",
      "(Epoch 0, iter 550/787) Average loss so far: 5.551\n",
      "(Epoch 0, iter 600/787) Average loss so far: 5.440\n",
      "(Epoch 0, iter 650/787) Average loss so far: 5.360\n",
      "(Epoch 0, iter 700/787) Average loss so far: 5.215\n",
      "(Epoch 0, iter 750/787) Average loss so far: 5.093\n",
      "Average epoch loss: 5.701\n",
      "This epoch took 8.194433637460072 mins. Time remaining: 3.0 hrs 57.0 mins.\n"
     ]
    },
    {
     "name": "stderr",
     "output_type": "stream",
     "text": [
      "7it [00:01,  5.45it/s]\n"
     ]
    },
    {
     "name": "stdout",
     "output_type": "stream",
     "text": [
      "validation loss: 4.93167952128819\n"
     ]
    },
    {
     "name": "stderr",
     "output_type": "stream",
     "text": [
      "100%|██████████| 7/7 [00:07<00:00,  1.13s/it]\n",
      "100%|██████████| 793/793 [00:08<00:00, 95.55it/s] \n"
     ]
    },
    {
     "name": "stdout",
     "output_type": "stream",
     "text": [
      "BLEU score: 0.002800126985071343, METEOR score: 0.08576382563509898\n",
      "Starting epoch 2/30, enc lr scheduler: [0.0009972883382072953], dec lr scheduler: [0.0009972883382072953]\n",
      "(Epoch 1, iter 50/787) Average loss so far: 4.863\n",
      "(Epoch 1, iter 100/787) Average loss so far: 4.706\n",
      "(Epoch 1, iter 150/787) Average loss so far: 4.641\n",
      "(Epoch 1, iter 200/787) Average loss so far: 4.523\n",
      "(Epoch 1, iter 250/787) Average loss so far: 4.437\n",
      "(Epoch 1, iter 300/787) Average loss so far: 4.366\n",
      "(Epoch 1, iter 350/787) Average loss so far: 4.295\n",
      "(Epoch 1, iter 400/787) Average loss so far: 4.248\n",
      "(Epoch 1, iter 450/787) Average loss so far: 4.186\n",
      "(Epoch 1, iter 500/787) Average loss so far: 4.133\n",
      "(Epoch 1, iter 550/787) Average loss so far: 4.082\n",
      "(Epoch 1, iter 600/787) Average loss so far: 4.041\n",
      "(Epoch 1, iter 650/787) Average loss so far: 4.004\n",
      "(Epoch 1, iter 700/787) Average loss so far: 3.956\n",
      "(Epoch 1, iter 750/787) Average loss so far: 3.932\n",
      "Average epoch loss: 4.277\n",
      "This epoch took 8.073306282361349 mins. Time remaining: 3.0 hrs 46.0 mins.\n"
     ]
    },
    {
     "name": "stderr",
     "output_type": "stream",
     "text": [
      "7it [00:01,  5.24it/s]\n"
     ]
    },
    {
     "name": "stdout",
     "output_type": "stream",
     "text": [
      "validation loss: 3.926896367754255\n"
     ]
    },
    {
     "name": "stderr",
     "output_type": "stream",
     "text": [
      "100%|██████████| 7/7 [00:07<00:00,  1.05s/it]\n",
      "100%|██████████| 793/793 [00:07<00:00, 112.04it/s]\n"
     ]
    },
    {
     "name": "stdout",
     "output_type": "stream",
     "text": [
      "BLEU score: 0.005528415216107959, METEOR score: 0.1087509998355728\n",
      "Starting epoch 3/30, enc lr scheduler: [0.0009891830623632338], dec lr scheduler: [0.0009891830623632338]\n",
      "(Epoch 2, iter 50/787) Average loss so far: 3.866\n",
      "(Epoch 2, iter 100/787) Average loss so far: 3.844\n",
      "(Epoch 2, iter 150/787) Average loss so far: 3.818\n",
      "(Epoch 2, iter 200/787) Average loss so far: 3.778\n",
      "(Epoch 2, iter 250/787) Average loss so far: 3.752\n",
      "(Epoch 2, iter 300/787) Average loss so far: 3.761\n",
      "(Epoch 2, iter 350/787) Average loss so far: 3.706\n",
      "(Epoch 2, iter 400/787) Average loss so far: 3.690\n",
      "(Epoch 2, iter 450/787) Average loss so far: 3.667\n",
      "(Epoch 2, iter 500/787) Average loss so far: 3.662\n",
      "(Epoch 2, iter 550/787) Average loss so far: 3.666\n",
      "(Epoch 2, iter 600/787) Average loss so far: 3.646\n",
      "(Epoch 2, iter 650/787) Average loss so far: 3.610\n",
      "(Epoch 2, iter 700/787) Average loss so far: 3.615\n",
      "(Epoch 2, iter 750/787) Average loss so far: 3.572\n",
      "Average epoch loss: 3.704\n",
      "This epoch took 8.144790331522623 mins. Time remaining: 3.0 hrs 39.0 mins.\n"
     ]
    },
    {
     "name": "stderr",
     "output_type": "stream",
     "text": [
      "7it [00:01,  5.53it/s]\n"
     ]
    },
    {
     "name": "stdout",
     "output_type": "stream",
     "text": [
      "validation loss: 3.6217985493796214\n"
     ]
    },
    {
     "name": "stderr",
     "output_type": "stream",
     "text": [
      "100%|██████████| 7/7 [00:04<00:00,  1.51it/s]\n",
      "100%|██████████| 793/793 [00:03<00:00, 240.20it/s]\n"
     ]
    },
    {
     "name": "stdout",
     "output_type": "stream",
     "text": [
      "BLEU score: 0.015059414822228353, METEOR score: 0.1608885573065793\n",
      "Starting epoch 4/30, enc lr scheduler: [0.0009757729755661011], dec lr scheduler: [0.0009757729755661011]\n",
      "(Epoch 3, iter 50/787) Average loss so far: 3.552\n",
      "(Epoch 3, iter 100/787) Average loss so far: 3.533\n",
      "(Epoch 3, iter 150/787) Average loss so far: 3.512\n",
      "(Epoch 3, iter 200/787) Average loss so far: 3.499\n",
      "(Epoch 3, iter 250/787) Average loss so far: 3.503\n",
      "(Epoch 3, iter 300/787) Average loss so far: 3.494\n",
      "(Epoch 3, iter 350/787) Average loss so far: 3.480\n",
      "(Epoch 3, iter 400/787) Average loss so far: 3.455\n",
      "(Epoch 3, iter 450/787) Average loss so far: 3.445\n",
      "(Epoch 3, iter 500/787) Average loss so far: 3.436\n",
      "(Epoch 3, iter 550/787) Average loss so far: 3.436\n",
      "(Epoch 3, iter 600/787) Average loss so far: 3.424\n",
      "(Epoch 3, iter 650/787) Average loss so far: 3.410\n",
      "(Epoch 3, iter 700/787) Average loss so far: 3.401\n",
      "(Epoch 3, iter 750/787) Average loss so far: 3.412\n",
      "Average epoch loss: 3.463\n",
      "This epoch took 8.090149772167205 mins. Time remaining: 3.0 hrs 30.0 mins.\n"
     ]
    },
    {
     "name": "stderr",
     "output_type": "stream",
     "text": [
      "7it [00:01,  5.57it/s]\n"
     ]
    },
    {
     "name": "stdout",
     "output_type": "stream",
     "text": [
      "validation loss: 3.4686967645372664\n"
     ]
    },
    {
     "name": "stderr",
     "output_type": "stream",
     "text": [
      "100%|██████████| 7/7 [00:03<00:00,  1.87it/s]\n",
      "100%|██████████| 793/793 [00:02<00:00, 350.55it/s]\n"
     ]
    },
    {
     "name": "stdout",
     "output_type": "stream",
     "text": [
      "BLEU score: 0.02478974721483497, METEOR score: 0.18132902088830255\n",
      "Starting epoch 5/30, enc lr scheduler: [0.0009572050015330874], dec lr scheduler: [0.0009572050015330874]\n",
      "(Epoch 4, iter 50/787) Average loss so far: 3.370\n",
      "(Epoch 4, iter 100/787) Average loss so far: 3.354\n",
      "(Epoch 4, iter 150/787) Average loss so far: 3.346\n",
      "(Epoch 4, iter 200/787) Average loss so far: 3.360\n",
      "(Epoch 4, iter 250/787) Average loss so far: 3.335\n",
      "(Epoch 4, iter 300/787) Average loss so far: 3.325\n",
      "(Epoch 4, iter 350/787) Average loss so far: 3.323\n",
      "(Epoch 4, iter 400/787) Average loss so far: 3.308\n",
      "(Epoch 4, iter 450/787) Average loss so far: 3.320\n",
      "(Epoch 4, iter 500/787) Average loss so far: 3.303\n",
      "(Epoch 4, iter 550/787) Average loss so far: 3.310\n",
      "(Epoch 4, iter 600/787) Average loss so far: 3.296\n",
      "(Epoch 4, iter 650/787) Average loss so far: 3.290\n",
      "(Epoch 4, iter 700/787) Average loss so far: 3.293\n",
      "(Epoch 4, iter 750/787) Average loss so far: 3.283\n",
      "Average epoch loss: 3.318\n",
      "This epoch took 8.103163651625316 mins. Time remaining: 3.0 hrs 22.0 mins.\n"
     ]
    },
    {
     "name": "stderr",
     "output_type": "stream",
     "text": [
      "7it [00:01,  5.50it/s]\n"
     ]
    },
    {
     "name": "stdout",
     "output_type": "stream",
     "text": [
      "validation loss: 3.376786708831787\n"
     ]
    },
    {
     "name": "stderr",
     "output_type": "stream",
     "text": [
      "100%|██████████| 7/7 [00:04<00:00,  1.44it/s]\n",
      "100%|██████████| 793/793 [00:03<00:00, 216.71it/s]\n"
     ]
    },
    {
     "name": "stdout",
     "output_type": "stream",
     "text": [
      "BLEU score: 0.016797911257019238, METEOR score: 0.17466288946573208\n",
      "Starting epoch 6/30, enc lr scheduler: [0.0009336825748732973], dec lr scheduler: [0.0009336825748732973]\n",
      "(Epoch 5, iter 50/787) Average loss so far: 3.233\n",
      "(Epoch 5, iter 100/787) Average loss so far: 3.250\n",
      "(Epoch 5, iter 150/787) Average loss so far: 3.227\n",
      "(Epoch 5, iter 200/787) Average loss so far: 3.236\n",
      "(Epoch 5, iter 250/787) Average loss so far: 3.215\n",
      "(Epoch 5, iter 300/787) Average loss so far: 3.229\n",
      "(Epoch 5, iter 350/787) Average loss so far: 3.227\n",
      "(Epoch 5, iter 400/787) Average loss so far: 3.229\n",
      "(Epoch 5, iter 450/787) Average loss so far: 3.212\n",
      "(Epoch 5, iter 500/787) Average loss so far: 3.217\n",
      "(Epoch 5, iter 550/787) Average loss so far: 3.221\n",
      "(Epoch 5, iter 600/787) Average loss so far: 3.205\n",
      "(Epoch 5, iter 650/787) Average loss so far: 3.199\n",
      "(Epoch 5, iter 700/787) Average loss so far: 3.194\n",
      "(Epoch 5, iter 750/787) Average loss so far: 3.184\n",
      "Average epoch loss: 3.217\n",
      "This epoch took 8.09989018837611 mins. Time remaining: 3.0 hrs 14.0 mins.\n"
     ]
    },
    {
     "name": "stderr",
     "output_type": "stream",
     "text": [
      "7it [00:01,  5.31it/s]\n"
     ]
    },
    {
     "name": "stdout",
     "output_type": "stream",
     "text": [
      "validation loss: 3.3135062967027937\n"
     ]
    },
    {
     "name": "stderr",
     "output_type": "stream",
     "text": [
      "100%|██████████| 7/7 [00:03<00:00,  1.87it/s]\n",
      "100%|██████████| 793/793 [00:02<00:00, 322.45it/s]\n"
     ]
    },
    {
     "name": "stdout",
     "output_type": "stream",
     "text": [
      "BLEU score: 0.026052313701649024, METEOR score: 0.1865945117369642\n",
      "Starting epoch 7/30, enc lr scheduler: [0.0009054634122155991], dec lr scheduler: [0.0009054634122155991]\n",
      "(Epoch 6, iter 50/787) Average loss so far: 3.171\n",
      "(Epoch 6, iter 100/787) Average loss so far: 3.163\n",
      "(Epoch 6, iter 150/787) Average loss so far: 3.161\n",
      "(Epoch 6, iter 200/787) Average loss so far: 3.149\n",
      "(Epoch 6, iter 250/787) Average loss so far: 3.141\n",
      "(Epoch 6, iter 300/787) Average loss so far: 3.143\n",
      "(Epoch 6, iter 350/787) Average loss so far: 3.139\n",
      "(Epoch 6, iter 400/787) Average loss so far: 3.145\n",
      "(Epoch 6, iter 450/787) Average loss so far: 3.148\n",
      "(Epoch 6, iter 500/787) Average loss so far: 3.133\n",
      "(Epoch 6, iter 550/787) Average loss so far: 3.126\n",
      "(Epoch 6, iter 600/787) Average loss so far: 3.146\n",
      "(Epoch 6, iter 650/787) Average loss so far: 3.121\n",
      "(Epoch 6, iter 700/787) Average loss so far: 3.131\n",
      "(Epoch 6, iter 750/787) Average loss so far: 3.117\n",
      "Average epoch loss: 3.141\n",
      "This epoch took 8.1756121357282 mins. Time remaining: 3.0 hrs 8.0 mins.\n"
     ]
    },
    {
     "name": "stderr",
     "output_type": "stream",
     "text": [
      "7it [00:01,  5.49it/s]\n"
     ]
    },
    {
     "name": "stdout",
     "output_type": "stream",
     "text": [
      "validation loss: 3.277291910988944\n"
     ]
    },
    {
     "name": "stderr",
     "output_type": "stream",
     "text": [
      "100%|██████████| 7/7 [00:03<00:00,  1.86it/s]\n",
      "100%|██████████| 793/793 [00:02<00:00, 339.68it/s]\n"
     ]
    },
    {
     "name": "stdout",
     "output_type": "stream",
     "text": [
      "BLEU score: 0.0272790639424669, METEOR score: 0.1936208372227744\n",
      "Starting epoch 8/30, enc lr scheduler: [0.0008728566886113102], dec lr scheduler: [0.0008728566886113102]\n",
      "(Epoch 7, iter 50/787) Average loss so far: 3.102\n",
      "(Epoch 7, iter 100/787) Average loss so far: 3.099\n",
      "(Epoch 7, iter 150/787) Average loss so far: 3.106\n",
      "(Epoch 7, iter 200/787) Average loss so far: 3.087\n",
      "(Epoch 7, iter 250/787) Average loss so far: 3.083\n",
      "(Epoch 7, iter 300/787) Average loss so far: 3.089\n",
      "(Epoch 7, iter 350/787) Average loss so far: 3.085\n",
      "(Epoch 7, iter 400/787) Average loss so far: 3.076\n",
      "(Epoch 7, iter 450/787) Average loss so far: 3.084\n",
      "(Epoch 7, iter 500/787) Average loss so far: 3.067\n",
      "(Epoch 7, iter 550/787) Average loss so far: 3.081\n",
      "(Epoch 7, iter 600/787) Average loss so far: 3.054\n",
      "(Epoch 7, iter 650/787) Average loss so far: 3.071\n",
      "(Epoch 7, iter 700/787) Average loss so far: 3.076\n",
      "(Epoch 7, iter 750/787) Average loss so far: 3.075\n",
      "Average epoch loss: 3.081\n",
      "This epoch took 8.089503169059753 mins. Time remaining: 2.0 hrs 57.0 mins.\n"
     ]
    },
    {
     "name": "stderr",
     "output_type": "stream",
     "text": [
      "7it [00:01,  5.51it/s]\n"
     ]
    },
    {
     "name": "stdout",
     "output_type": "stream",
     "text": [
      "validation loss: 3.2438402516501292\n"
     ]
    },
    {
     "name": "stderr",
     "output_type": "stream",
     "text": [
      "100%|██████████| 7/7 [00:03<00:00,  2.02it/s]\n",
      "100%|██████████| 793/793 [00:01<00:00, 431.65it/s]\n"
     ]
    },
    {
     "name": "stdout",
     "output_type": "stream",
     "text": [
      "BLEU score: 0.038146458721083895, METEOR score: 0.1998428588672739\n",
      "Starting epoch 9/30, enc lr scheduler: [0.0008362196501476349], dec lr scheduler: [0.0008362196501476349]\n",
      "(Epoch 8, iter 50/787) Average loss so far: 3.045\n",
      "(Epoch 8, iter 100/787) Average loss so far: 3.044\n",
      "(Epoch 8, iter 150/787) Average loss so far: 3.046\n",
      "(Epoch 8, iter 200/787) Average loss so far: 3.050\n",
      "(Epoch 8, iter 250/787) Average loss so far: 3.025\n",
      "(Epoch 8, iter 300/787) Average loss so far: 3.033\n",
      "(Epoch 8, iter 350/787) Average loss so far: 3.038\n",
      "(Epoch 8, iter 400/787) Average loss so far: 3.021\n",
      "(Epoch 8, iter 450/787) Average loss so far: 3.028\n",
      "(Epoch 8, iter 500/787) Average loss so far: 3.025\n",
      "(Epoch 8, iter 550/787) Average loss so far: 3.041\n",
      "(Epoch 8, iter 600/787) Average loss so far: 3.017\n",
      "(Epoch 8, iter 650/787) Average loss so far: 3.017\n",
      "(Epoch 8, iter 700/787) Average loss so far: 3.039\n",
      "(Epoch 8, iter 750/787) Average loss so far: 3.022\n",
      "Average epoch loss: 3.031\n",
      "This epoch took 8.09464071591695 mins. Time remaining: 2.0 hrs 49.0 mins.\n"
     ]
    },
    {
     "name": "stderr",
     "output_type": "stream",
     "text": [
      "7it [00:01,  5.53it/s]\n"
     ]
    },
    {
     "name": "stdout",
     "output_type": "stream",
     "text": [
      "validation loss: 3.2192379406520297\n"
     ]
    },
    {
     "name": "stderr",
     "output_type": "stream",
     "text": [
      "100%|██████████| 7/7 [00:03<00:00,  2.01it/s]\n",
      "100%|██████████| 793/793 [00:01<00:00, 409.40it/s]\n"
     ]
    },
    {
     "name": "stdout",
     "output_type": "stream",
     "text": [
      "BLEU score: 0.036190345080440604, METEOR score: 0.19858925888566942\n",
      "Starting epoch 10/30, enc lr scheduler: [0.0007959536998847742], dec lr scheduler: [0.0007959536998847742]\n",
      "(Epoch 9, iter 50/787) Average loss so far: 3.012\n",
      "(Epoch 9, iter 100/787) Average loss so far: 2.984\n",
      "(Epoch 9, iter 150/787) Average loss so far: 2.981\n",
      "(Epoch 9, iter 200/787) Average loss so far: 2.988\n",
      "(Epoch 9, iter 250/787) Average loss so far: 2.998\n",
      "(Epoch 9, iter 300/787) Average loss so far: 2.991\n",
      "(Epoch 9, iter 350/787) Average loss so far: 3.002\n",
      "(Epoch 9, iter 400/787) Average loss so far: 2.992\n",
      "(Epoch 9, iter 450/787) Average loss so far: 3.007\n",
      "(Epoch 9, iter 500/787) Average loss so far: 2.980\n",
      "(Epoch 9, iter 550/787) Average loss so far: 2.987\n",
      "(Epoch 9, iter 600/787) Average loss so far: 2.970\n",
      "(Epoch 9, iter 650/787) Average loss so far: 2.989\n",
      "(Epoch 9, iter 700/787) Average loss so far: 2.997\n",
      "(Epoch 9, iter 750/787) Average loss so far: 2.971\n",
      "Average epoch loss: 2.990\n",
      "This epoch took 8.119804537296295 mins. Time remaining: 2.0 hrs 42.0 mins.\n"
     ]
    },
    {
     "name": "stderr",
     "output_type": "stream",
     "text": [
      "7it [00:01,  5.47it/s]\n"
     ]
    },
    {
     "name": "stdout",
     "output_type": "stream",
     "text": [
      "validation loss: 3.2011922086988176\n"
     ]
    },
    {
     "name": "stderr",
     "output_type": "stream",
     "text": [
      "100%|██████████| 7/7 [00:03<00:00,  2.08it/s]\n",
      "100%|██████████| 793/793 [00:01<00:00, 448.70it/s]\n"
     ]
    },
    {
     "name": "stdout",
     "output_type": "stream",
     "text": [
      "BLEU score: 0.03947045191983198, METEOR score: 0.19917691253253444\n",
      "Starting epoch 11/30, enc lr scheduler: [0.0007525], dec lr scheduler: [0.0007525]\n",
      "(Epoch 10, iter 50/787) Average loss so far: 2.958\n",
      "(Epoch 10, iter 100/787) Average loss so far: 2.957\n",
      "(Epoch 10, iter 150/787) Average loss so far: 2.941\n",
      "(Epoch 10, iter 200/787) Average loss so far: 2.959\n",
      "(Epoch 10, iter 250/787) Average loss so far: 2.947\n",
      "(Epoch 10, iter 300/787) Average loss so far: 2.957\n",
      "(Epoch 10, iter 350/787) Average loss so far: 2.952\n",
      "(Epoch 10, iter 400/787) Average loss so far: 2.966\n",
      "(Epoch 10, iter 450/787) Average loss so far: 2.948\n",
      "(Epoch 10, iter 500/787) Average loss so far: 2.961\n",
      "(Epoch 10, iter 550/787) Average loss so far: 2.954\n",
      "(Epoch 10, iter 600/787) Average loss so far: 2.947\n",
      "(Epoch 10, iter 650/787) Average loss so far: 2.955\n",
      "(Epoch 10, iter 700/787) Average loss so far: 2.952\n",
      "(Epoch 10, iter 750/787) Average loss so far: 2.965\n",
      "Average epoch loss: 2.955\n",
      "This epoch took 8.114036385218302 mins. Time remaining: 2.0 hrs 34.0 mins.\n"
     ]
    },
    {
     "name": "stderr",
     "output_type": "stream",
     "text": [
      "7it [00:01,  5.57it/s]\n"
     ]
    },
    {
     "name": "stdout",
     "output_type": "stream",
     "text": [
      "validation loss: 3.1880315371922086\n"
     ]
    },
    {
     "name": "stderr",
     "output_type": "stream",
     "text": [
      "100%|██████████| 7/7 [00:03<00:00,  2.01it/s]\n",
      "100%|██████████| 793/793 [00:01<00:00, 432.08it/s]\n"
     ]
    },
    {
     "name": "stdout",
     "output_type": "stream",
     "text": [
      "BLEU score: 0.03707379676793246, METEOR score: 0.20066902120742106\n",
      "Starting epoch 12/30, enc lr scheduler: [0.0007063346383225212], dec lr scheduler: [0.0007063346383225212]\n",
      "(Epoch 11, iter 50/787) Average loss so far: 2.919\n",
      "(Epoch 11, iter 100/787) Average loss so far: 2.936\n",
      "(Epoch 11, iter 150/787) Average loss so far: 2.912\n",
      "(Epoch 11, iter 200/787) Average loss so far: 2.926\n",
      "(Epoch 11, iter 250/787) Average loss so far: 2.933\n",
      "(Epoch 11, iter 300/787) Average loss so far: 2.918\n",
      "(Epoch 11, iter 350/787) Average loss so far: 2.928\n",
      "(Epoch 11, iter 400/787) Average loss so far: 2.931\n",
      "(Epoch 11, iter 450/787) Average loss so far: 2.915\n",
      "(Epoch 11, iter 500/787) Average loss so far: 2.925\n",
      "(Epoch 11, iter 550/787) Average loss so far: 2.922\n",
      "(Epoch 11, iter 600/787) Average loss so far: 2.912\n",
      "(Epoch 11, iter 650/787) Average loss so far: 2.919\n",
      "(Epoch 11, iter 700/787) Average loss so far: 2.929\n",
      "(Epoch 11, iter 750/787) Average loss so far: 2.939\n",
      "Average epoch loss: 2.924\n",
      "This epoch took 8.10150664250056 mins. Time remaining: 2.0 hrs 25.0 mins.\n"
     ]
    },
    {
     "name": "stderr",
     "output_type": "stream",
     "text": [
      "7it [00:01,  5.54it/s]\n"
     ]
    },
    {
     "name": "stdout",
     "output_type": "stream",
     "text": [
      "validation loss: 3.1738901478903636\n"
     ]
    },
    {
     "name": "stderr",
     "output_type": "stream",
     "text": [
      "100%|██████████| 7/7 [00:03<00:00,  1.97it/s]\n",
      "100%|██████████| 793/793 [00:01<00:00, 420.49it/s]\n"
     ]
    },
    {
     "name": "stdout",
     "output_type": "stream",
     "text": [
      "BLEU score: 0.03867613565428751, METEOR score: 0.2017267310038669\n",
      "Starting epoch 13/30, enc lr scheduler: [0.000657963412215599], dec lr scheduler: [0.000657963412215599]\n",
      "(Epoch 12, iter 50/787) Average loss so far: 2.889\n",
      "(Epoch 12, iter 100/787) Average loss so far: 2.888\n",
      "(Epoch 12, iter 150/787) Average loss so far: 2.880\n",
      "(Epoch 12, iter 200/787) Average loss so far: 2.896\n",
      "(Epoch 12, iter 250/787) Average loss so far: 2.896\n",
      "(Epoch 12, iter 300/787) Average loss so far: 2.903\n",
      "(Epoch 12, iter 350/787) Average loss so far: 2.885\n",
      "(Epoch 12, iter 400/787) Average loss so far: 2.904\n",
      "(Epoch 12, iter 450/787) Average loss so far: 2.898\n",
      "(Epoch 12, iter 500/787) Average loss so far: 2.898\n",
      "(Epoch 12, iter 550/787) Average loss so far: 2.892\n",
      "(Epoch 12, iter 600/787) Average loss so far: 2.911\n",
      "(Epoch 12, iter 650/787) Average loss so far: 2.916\n",
      "(Epoch 12, iter 700/787) Average loss so far: 2.894\n",
      "(Epoch 12, iter 750/787) Average loss so far: 2.902\n",
      "Average epoch loss: 2.896\n",
      "This epoch took 8.079897010326386 mins. Time remaining: 2.0 hrs 17.0 mins.\n"
     ]
    },
    {
     "name": "stderr",
     "output_type": "stream",
     "text": [
      "7it [00:01,  5.26it/s]\n"
     ]
    },
    {
     "name": "stdout",
     "output_type": "stream",
     "text": [
      "validation loss: 3.1668037346431186\n"
     ]
    },
    {
     "name": "stderr",
     "output_type": "stream",
     "text": [
      "100%|██████████| 7/7 [00:03<00:00,  1.94it/s]\n",
      "100%|██████████| 793/793 [00:02<00:00, 390.27it/s]\n"
     ]
    },
    {
     "name": "stdout",
     "output_type": "stream",
     "text": [
      "BLEU score: 0.035783646119029455, METEOR score: 0.19836152461714607\n",
      "Starting epoch 14/30, enc lr scheduler: [0.0006079162869547909], dec lr scheduler: [0.0006079162869547909]\n",
      "(Epoch 13, iter 50/787) Average loss so far: 2.883\n",
      "(Epoch 13, iter 100/787) Average loss so far: 2.870\n",
      "(Epoch 13, iter 150/787) Average loss so far: 2.875\n",
      "(Epoch 13, iter 200/787) Average loss so far: 2.870\n",
      "(Epoch 13, iter 250/787) Average loss so far: 2.899\n",
      "(Epoch 13, iter 300/787) Average loss so far: 2.864\n",
      "(Epoch 13, iter 350/787) Average loss so far: 2.870\n",
      "(Epoch 13, iter 400/787) Average loss so far: 2.875\n",
      "(Epoch 13, iter 450/787) Average loss so far: 2.873\n",
      "(Epoch 13, iter 500/787) Average loss so far: 2.873\n",
      "(Epoch 13, iter 550/787) Average loss so far: 2.860\n",
      "(Epoch 13, iter 600/787) Average loss so far: 2.863\n",
      "(Epoch 13, iter 650/787) Average loss so far: 2.887\n",
      "(Epoch 13, iter 700/787) Average loss so far: 2.874\n",
      "(Epoch 13, iter 750/787) Average loss so far: 2.867\n",
      "Average epoch loss: 2.873\n",
      "This epoch took 8.058853403727214 mins. Time remaining: 2.0 hrs 8.0 mins.\n"
     ]
    },
    {
     "name": "stderr",
     "output_type": "stream",
     "text": [
      "7it [00:01,  5.44it/s]\n"
     ]
    },
    {
     "name": "stdout",
     "output_type": "stream",
     "text": [
      "validation loss: 3.1585819721221924\n"
     ]
    },
    {
     "name": "stderr",
     "output_type": "stream",
     "text": [
      "100%|██████████| 7/7 [00:03<00:00,  1.98it/s]\n",
      "100%|██████████| 793/793 [00:01<00:00, 447.37it/s]\n"
     ]
    },
    {
     "name": "stdout",
     "output_type": "stream",
     "text": [
      "BLEU score: 0.04004954169047118, METEOR score: 0.20343329001800056\n",
      "Starting epoch 15/30, enc lr scheduler: [0.0005567415893174886], dec lr scheduler: [0.0005567415893174886]\n",
      "(Epoch 14, iter 50/787) Average loss so far: 2.854\n",
      "(Epoch 14, iter 100/787) Average loss so far: 2.848\n",
      "(Epoch 14, iter 150/787) Average loss so far: 2.840\n",
      "(Epoch 14, iter 200/787) Average loss so far: 2.846\n",
      "(Epoch 14, iter 250/787) Average loss so far: 2.842\n",
      "(Epoch 14, iter 300/787) Average loss so far: 2.861\n",
      "(Epoch 14, iter 350/787) Average loss so far: 2.832\n",
      "(Epoch 14, iter 400/787) Average loss so far: 2.864\n",
      "(Epoch 14, iter 450/787) Average loss so far: 2.858\n",
      "(Epoch 14, iter 500/787) Average loss so far: 2.865\n",
      "(Epoch 14, iter 550/787) Average loss so far: 2.849\n",
      "(Epoch 14, iter 600/787) Average loss so far: 2.854\n",
      "(Epoch 14, iter 650/787) Average loss so far: 2.849\n",
      "(Epoch 14, iter 700/787) Average loss so far: 2.852\n",
      "(Epoch 14, iter 750/787) Average loss so far: 2.866\n",
      "Average epoch loss: 2.852\n",
      "This epoch took 8.125524540742239 mins. Time remaining: 2.0 hrs 1.0 mins.\n"
     ]
    },
    {
     "name": "stderr",
     "output_type": "stream",
     "text": [
      "7it [00:01,  5.75it/s]\n"
     ]
    },
    {
     "name": "stdout",
     "output_type": "stream",
     "text": [
      "validation loss: 3.157423734664917\n"
     ]
    },
    {
     "name": "stderr",
     "output_type": "stream",
     "text": [
      "100%|██████████| 7/7 [00:03<00:00,  2.14it/s]\n",
      "100%|██████████| 793/793 [00:01<00:00, 505.40it/s]\n"
     ]
    },
    {
     "name": "stdout",
     "output_type": "stream",
     "text": [
      "BLEU score: 0.04606436720940942, METEOR score: 0.2026929298648693\n",
      "Starting epoch 16/30, enc lr scheduler: [0.0005050000000000002], dec lr scheduler: [0.0005050000000000002]\n",
      "(Epoch 15, iter 50/787) Average loss so far: 2.824\n",
      "(Epoch 15, iter 100/787) Average loss so far: 2.823\n",
      "(Epoch 15, iter 150/787) Average loss so far: 2.835\n",
      "(Epoch 15, iter 200/787) Average loss so far: 2.824\n",
      "(Epoch 15, iter 250/787) Average loss so far: 2.828\n",
      "(Epoch 15, iter 300/787) Average loss so far: 2.832\n",
      "(Epoch 15, iter 350/787) Average loss so far: 2.837\n",
      "(Epoch 15, iter 400/787) Average loss so far: 2.820\n",
      "(Epoch 15, iter 450/787) Average loss so far: 2.829\n",
      "(Epoch 15, iter 500/787) Average loss so far: 2.846\n",
      "(Epoch 15, iter 550/787) Average loss so far: 2.845\n",
      "(Epoch 15, iter 600/787) Average loss so far: 2.843\n",
      "(Epoch 15, iter 650/787) Average loss so far: 2.838\n",
      "(Epoch 15, iter 700/787) Average loss so far: 2.838\n",
      "(Epoch 15, iter 750/787) Average loss so far: 2.839\n",
      "Average epoch loss: 2.833\n",
      "This epoch took 8.089334380626678 mins. Time remaining: 1.0 hrs 53.0 mins.\n"
     ]
    },
    {
     "name": "stderr",
     "output_type": "stream",
     "text": [
      "7it [00:01,  5.77it/s]\n"
     ]
    },
    {
     "name": "stdout",
     "output_type": "stream",
     "text": [
      "validation loss: 3.1507908276149204\n"
     ]
    },
    {
     "name": "stderr",
     "output_type": "stream",
     "text": [
      "100%|██████████| 7/7 [00:03<00:00,  2.12it/s]\n",
      "100%|██████████| 793/793 [00:01<00:00, 486.39it/s]\n"
     ]
    },
    {
     "name": "stdout",
     "output_type": "stream",
     "text": [
      "BLEU score: 0.04347215230255102, METEOR score: 0.20329518542651354\n",
      "Starting epoch 17/30, enc lr scheduler: [0.0004532584106825117], dec lr scheduler: [0.0004532584106825117]\n",
      "(Epoch 16, iter 50/787) Average loss so far: 2.810\n",
      "(Epoch 16, iter 100/787) Average loss so far: 2.807\n",
      "(Epoch 16, iter 150/787) Average loss so far: 2.817\n",
      "(Epoch 16, iter 200/787) Average loss so far: 2.800\n",
      "(Epoch 16, iter 250/787) Average loss so far: 2.812\n",
      "(Epoch 16, iter 300/787) Average loss so far: 2.820\n",
      "(Epoch 16, iter 350/787) Average loss so far: 2.824\n",
      "(Epoch 16, iter 400/787) Average loss so far: 2.830\n",
      "(Epoch 16, iter 450/787) Average loss so far: 2.818\n",
      "(Epoch 16, iter 500/787) Average loss so far: 2.829\n",
      "(Epoch 16, iter 550/787) Average loss so far: 2.807\n",
      "(Epoch 16, iter 600/787) Average loss so far: 2.812\n",
      "(Epoch 16, iter 650/787) Average loss so far: 2.816\n",
      "(Epoch 16, iter 700/787) Average loss so far: 2.799\n",
      "(Epoch 16, iter 750/787) Average loss so far: 2.830\n",
      "Average epoch loss: 2.816\n",
      "This epoch took 8.11363825003306 mins. Time remaining: 1.0 hrs 45.0 mins.\n"
     ]
    },
    {
     "name": "stderr",
     "output_type": "stream",
     "text": [
      "7it [00:01,  5.44it/s]\n"
     ]
    },
    {
     "name": "stdout",
     "output_type": "stream",
     "text": [
      "validation loss: 3.146672351019723\n"
     ]
    },
    {
     "name": "stderr",
     "output_type": "stream",
     "text": [
      "100%|██████████| 7/7 [00:03<00:00,  2.15it/s]\n",
      "100%|██████████| 793/793 [00:01<00:00, 494.13it/s]\n"
     ]
    },
    {
     "name": "stdout",
     "output_type": "stream",
     "text": [
      "BLEU score: 0.04394619733107649, METEOR score: 0.2021709564532238\n",
      "Starting epoch 18/30, enc lr scheduler: [0.00040208371304520916], dec lr scheduler: [0.00040208371304520916]\n",
      "(Epoch 17, iter 50/787) Average loss so far: 2.801\n",
      "(Epoch 17, iter 100/787) Average loss so far: 2.796\n",
      "(Epoch 17, iter 150/787) Average loss so far: 2.805\n",
      "(Epoch 17, iter 200/787) Average loss so far: 2.794\n",
      "(Epoch 17, iter 250/787) Average loss so far: 2.784\n",
      "(Epoch 17, iter 300/787) Average loss so far: 2.814\n",
      "(Epoch 17, iter 350/787) Average loss so far: 2.790\n",
      "(Epoch 17, iter 400/787) Average loss so far: 2.786\n",
      "(Epoch 17, iter 450/787) Average loss so far: 2.808\n",
      "(Epoch 17, iter 500/787) Average loss so far: 2.801\n",
      "(Epoch 17, iter 550/787) Average loss so far: 2.797\n",
      "(Epoch 17, iter 600/787) Average loss so far: 2.811\n",
      "(Epoch 17, iter 650/787) Average loss so far: 2.809\n",
      "(Epoch 17, iter 700/787) Average loss so far: 2.813\n",
      "(Epoch 17, iter 750/787) Average loss so far: 2.814\n",
      "Average epoch loss: 2.802\n",
      "This epoch took 8.12422217130661 mins. Time remaining: 1.0 hrs 37.0 mins.\n"
     ]
    },
    {
     "name": "stderr",
     "output_type": "stream",
     "text": [
      "7it [00:01,  5.54it/s]\n"
     ]
    },
    {
     "name": "stdout",
     "output_type": "stream",
     "text": [
      "validation loss: 3.144554853439331\n"
     ]
    },
    {
     "name": "stderr",
     "output_type": "stream",
     "text": [
      "100%|██████████| 7/7 [00:03<00:00,  2.18it/s]\n",
      "100%|██████████| 793/793 [00:01<00:00, 539.82it/s]\n"
     ]
    },
    {
     "name": "stdout",
     "output_type": "stream",
     "text": [
      "BLEU score: 0.050306488687707214, METEOR score: 0.2085596593048818\n",
      "Starting epoch 19/30, enc lr scheduler: [0.00035203658778440114], dec lr scheduler: [0.00035203658778440114]\n",
      "(Epoch 18, iter 50/787) Average loss so far: 2.776\n",
      "(Epoch 18, iter 100/787) Average loss so far: 2.779\n",
      "(Epoch 18, iter 150/787) Average loss so far: 2.778\n",
      "(Epoch 18, iter 200/787) Average loss so far: 2.786\n",
      "(Epoch 18, iter 250/787) Average loss so far: 2.788\n",
      "(Epoch 18, iter 300/787) Average loss so far: 2.771\n",
      "(Epoch 18, iter 350/787) Average loss so far: 2.792\n",
      "(Epoch 18, iter 400/787) Average loss so far: 2.808\n",
      "(Epoch 18, iter 450/787) Average loss so far: 2.795\n",
      "(Epoch 18, iter 500/787) Average loss so far: 2.784\n",
      "(Epoch 18, iter 550/787) Average loss so far: 2.794\n",
      "(Epoch 18, iter 600/787) Average loss so far: 2.780\n",
      "(Epoch 18, iter 650/787) Average loss so far: 2.786\n",
      "(Epoch 18, iter 700/787) Average loss so far: 2.799\n",
      "(Epoch 18, iter 750/787) Average loss so far: 2.798\n",
      "Average epoch loss: 2.788\n",
      "This epoch took 8.187793207168578 mins. Time remaining: 1.0 hrs 30.0 mins.\n"
     ]
    },
    {
     "name": "stderr",
     "output_type": "stream",
     "text": [
      "7it [00:01,  5.48it/s]\n"
     ]
    },
    {
     "name": "stdout",
     "output_type": "stream",
     "text": [
      "validation loss: 3.139380386897496\n"
     ]
    },
    {
     "name": "stderr",
     "output_type": "stream",
     "text": [
      "100%|██████████| 7/7 [00:03<00:00,  2.20it/s]\n",
      "100%|██████████| 793/793 [00:01<00:00, 524.64it/s]\n"
     ]
    },
    {
     "name": "stdout",
     "output_type": "stream",
     "text": [
      "BLEU score: 0.05073499908229344, METEOR score: 0.20909495784132945\n",
      "Starting epoch 20/30, enc lr scheduler: [0.00030366536167747904], dec lr scheduler: [0.00030366536167747904]\n",
      "(Epoch 19, iter 50/787) Average loss so far: 2.776\n",
      "(Epoch 19, iter 100/787) Average loss so far: 2.776\n",
      "(Epoch 19, iter 150/787) Average loss so far: 2.768\n",
      "(Epoch 19, iter 200/787) Average loss so far: 2.764\n",
      "(Epoch 19, iter 250/787) Average loss so far: 2.763\n",
      "(Epoch 19, iter 300/787) Average loss so far: 2.781\n",
      "(Epoch 19, iter 350/787) Average loss so far: 2.774\n",
      "(Epoch 19, iter 400/787) Average loss so far: 2.779\n",
      "(Epoch 19, iter 450/787) Average loss so far: 2.769\n",
      "(Epoch 19, iter 500/787) Average loss so far: 2.786\n",
      "(Epoch 19, iter 550/787) Average loss so far: 2.772\n",
      "(Epoch 19, iter 600/787) Average loss so far: 2.777\n",
      "(Epoch 19, iter 650/787) Average loss so far: 2.790\n",
      "(Epoch 19, iter 700/787) Average loss so far: 2.769\n",
      "(Epoch 19, iter 750/787) Average loss so far: 2.797\n",
      "Average epoch loss: 2.777\n",
      "This epoch took 8.119319772720337 mins. Time remaining: 1.0 hrs 21.0 mins.\n"
     ]
    },
    {
     "name": "stderr",
     "output_type": "stream",
     "text": [
      "7it [00:01,  5.18it/s]\n"
     ]
    },
    {
     "name": "stdout",
     "output_type": "stream",
     "text": [
      "validation loss: 3.1408518382481168\n"
     ]
    },
    {
     "name": "stderr",
     "output_type": "stream",
     "text": [
      "100%|██████████| 7/7 [00:03<00:00,  2.24it/s]\n",
      "100%|██████████| 793/793 [00:01<00:00, 574.52it/s]\n"
     ]
    },
    {
     "name": "stdout",
     "output_type": "stream",
     "text": [
      "BLEU score: 0.05228166600737611, METEOR score: 0.20709094525810967\n",
      "Starting epoch 21/30, enc lr scheduler: [0.00025750000000000013], dec lr scheduler: [0.00025750000000000013]\n",
      "(Epoch 20, iter 50/787) Average loss so far: 2.769\n",
      "(Epoch 20, iter 100/787) Average loss so far: 2.758\n",
      "(Epoch 20, iter 150/787) Average loss so far: 2.767\n",
      "(Epoch 20, iter 200/787) Average loss so far: 2.772\n",
      "(Epoch 20, iter 250/787) Average loss so far: 2.776\n",
      "(Epoch 20, iter 300/787) Average loss so far: 2.772\n",
      "(Epoch 20, iter 350/787) Average loss so far: 2.749\n",
      "(Epoch 20, iter 400/787) Average loss so far: 2.774\n",
      "(Epoch 20, iter 450/787) Average loss so far: 2.760\n",
      "(Epoch 20, iter 500/787) Average loss so far: 2.759\n",
      "(Epoch 20, iter 550/787) Average loss so far: 2.761\n",
      "(Epoch 20, iter 600/787) Average loss so far: 2.778\n",
      "(Epoch 20, iter 650/787) Average loss so far: 2.762\n",
      "(Epoch 20, iter 700/787) Average loss so far: 2.777\n",
      "(Epoch 20, iter 750/787) Average loss so far: 2.765\n",
      "Average epoch loss: 2.767\n",
      "This epoch took 8.181585311889648 mins. Time remaining: 1.0 hrs 13.0 mins.\n"
     ]
    },
    {
     "name": "stderr",
     "output_type": "stream",
     "text": [
      "7it [00:01,  5.42it/s]\n"
     ]
    },
    {
     "name": "stdout",
     "output_type": "stream",
     "text": [
      "validation loss: 3.1391042300633023\n"
     ]
    },
    {
     "name": "stderr",
     "output_type": "stream",
     "text": [
      "100%|██████████| 7/7 [00:02<00:00,  2.38it/s]\n",
      "100%|██████████| 793/793 [00:01<00:00, 609.62it/s]\n"
     ]
    },
    {
     "name": "stdout",
     "output_type": "stream",
     "text": [
      "BLEU score: 0.05379213235939195, METEOR score: 0.2088759308593728\n",
      "Starting epoch 22/30, enc lr scheduler: [0.00021404630011522585], dec lr scheduler: [0.00021404630011522585]\n",
      "(Epoch 21, iter 50/787) Average loss so far: 2.759\n",
      "(Epoch 21, iter 100/787) Average loss so far: 2.741\n",
      "(Epoch 21, iter 150/787) Average loss so far: 2.746\n",
      "(Epoch 21, iter 200/787) Average loss so far: 2.776\n",
      "(Epoch 21, iter 250/787) Average loss so far: 2.746\n",
      "(Epoch 21, iter 300/787) Average loss so far: 2.761\n",
      "(Epoch 21, iter 350/787) Average loss so far: 2.762\n",
      "(Epoch 21, iter 400/787) Average loss so far: 2.763\n",
      "(Epoch 21, iter 450/787) Average loss so far: 2.759\n",
      "(Epoch 21, iter 500/787) Average loss so far: 2.751\n",
      "(Epoch 21, iter 550/787) Average loss so far: 2.757\n",
      "(Epoch 21, iter 600/787) Average loss so far: 2.773\n",
      "(Epoch 21, iter 650/787) Average loss so far: 2.748\n",
      "(Epoch 21, iter 700/787) Average loss so far: 2.769\n",
      "(Epoch 21, iter 750/787) Average loss so far: 2.743\n",
      "Average epoch loss: 2.758\n",
      "This epoch took 8.174315893650055 mins. Time remaining: 1.0 hrs 5.0 mins.\n"
     ]
    },
    {
     "name": "stderr",
     "output_type": "stream",
     "text": [
      "7it [00:01,  5.51it/s]\n"
     ]
    },
    {
     "name": "stdout",
     "output_type": "stream",
     "text": [
      "validation loss: 3.1356898035321916\n"
     ]
    },
    {
     "name": "stderr",
     "output_type": "stream",
     "text": [
      "100%|██████████| 7/7 [00:03<00:00,  2.20it/s]\n",
      "100%|██████████| 793/793 [00:01<00:00, 558.30it/s]\n"
     ]
    },
    {
     "name": "stdout",
     "output_type": "stream",
     "text": [
      "BLEU score: 0.0521244945980193, METEOR score: 0.20665171059130683\n",
      "Starting epoch 23/30, enc lr scheduler: [0.00017378034985236535], dec lr scheduler: [0.00017378034985236535]\n",
      "(Epoch 22, iter 50/787) Average loss so far: 2.743\n",
      "(Epoch 22, iter 100/787) Average loss so far: 2.736\n",
      "(Epoch 22, iter 150/787) Average loss so far: 2.749\n",
      "(Epoch 22, iter 200/787) Average loss so far: 2.755\n",
      "(Epoch 22, iter 250/787) Average loss so far: 2.747\n",
      "(Epoch 22, iter 300/787) Average loss so far: 2.757\n",
      "(Epoch 22, iter 350/787) Average loss so far: 2.755\n",
      "(Epoch 22, iter 400/787) Average loss so far: 2.744\n",
      "(Epoch 22, iter 450/787) Average loss so far: 2.758\n",
      "(Epoch 22, iter 500/787) Average loss so far: 2.746\n",
      "(Epoch 22, iter 550/787) Average loss so far: 2.760\n",
      "(Epoch 22, iter 600/787) Average loss so far: 2.766\n",
      "(Epoch 22, iter 650/787) Average loss so far: 2.742\n",
      "(Epoch 22, iter 700/787) Average loss so far: 2.747\n",
      "(Epoch 22, iter 750/787) Average loss so far: 2.749\n",
      "Average epoch loss: 2.750\n",
      "This epoch took 7.989608466625214 mins. Time remaining: 0.0 hrs 55.0 mins.\n"
     ]
    },
    {
     "name": "stderr",
     "output_type": "stream",
     "text": [
      "7it [00:01,  5.36it/s]\n"
     ]
    },
    {
     "name": "stdout",
     "output_type": "stream",
     "text": [
      "validation loss: 3.1357997144971574\n"
     ]
    },
    {
     "name": "stderr",
     "output_type": "stream",
     "text": [
      "100%|██████████| 7/7 [00:02<00:00,  2.43it/s]\n",
      "100%|██████████| 793/793 [00:01<00:00, 591.51it/s]\n"
     ]
    },
    {
     "name": "stdout",
     "output_type": "stream",
     "text": [
      "BLEU score: 0.05242640382134315, METEOR score: 0.20686833056692383\n",
      "Starting epoch 24/30, enc lr scheduler: [0.00013714331138868998], dec lr scheduler: [0.00013714331138868998]\n",
      "(Epoch 23, iter 50/787) Average loss so far: 2.736\n",
      "(Epoch 23, iter 100/787) Average loss so far: 2.744\n",
      "(Epoch 23, iter 150/787) Average loss so far: 2.725\n",
      "(Epoch 23, iter 200/787) Average loss so far: 2.741\n",
      "(Epoch 23, iter 250/787) Average loss so far: 2.745\n",
      "(Epoch 23, iter 300/787) Average loss so far: 2.746\n",
      "(Epoch 23, iter 350/787) Average loss so far: 2.734\n",
      "(Epoch 23, iter 400/787) Average loss so far: 2.747\n",
      "(Epoch 23, iter 450/787) Average loss so far: 2.741\n",
      "(Epoch 23, iter 500/787) Average loss so far: 2.734\n",
      "(Epoch 23, iter 550/787) Average loss so far: 2.739\n",
      "(Epoch 23, iter 600/787) Average loss so far: 2.744\n",
      "(Epoch 23, iter 650/787) Average loss so far: 2.765\n",
      "(Epoch 23, iter 700/787) Average loss so far: 2.758\n",
      "(Epoch 23, iter 750/787) Average loss so far: 2.746\n",
      "Average epoch loss: 2.744\n",
      "This epoch took 8.09567631483078 mins. Time remaining: 0.0 hrs 48.0 mins.\n"
     ]
    },
    {
     "name": "stderr",
     "output_type": "stream",
     "text": [
      "7it [00:01,  5.40it/s]\n"
     ]
    },
    {
     "name": "stdout",
     "output_type": "stream",
     "text": [
      "validation loss: 3.135296242577689\n"
     ]
    },
    {
     "name": "stderr",
     "output_type": "stream",
     "text": [
      "100%|██████████| 7/7 [00:03<00:00,  2.24it/s]\n",
      "100%|██████████| 793/793 [00:01<00:00, 603.28it/s]\n"
     ]
    },
    {
     "name": "stdout",
     "output_type": "stream",
     "text": [
      "BLEU score: 0.051097938950738914, METEOR score: 0.20545257704474157\n",
      "Starting epoch 25/30, enc lr scheduler: [0.00010453658778440108], dec lr scheduler: [0.00010453658778440108]\n",
      "(Epoch 24, iter 50/787) Average loss so far: 2.748\n",
      "(Epoch 24, iter 100/787) Average loss so far: 2.726\n",
      "(Epoch 24, iter 150/787) Average loss so far: 2.731\n",
      "(Epoch 24, iter 200/787) Average loss so far: 2.757\n",
      "(Epoch 24, iter 250/787) Average loss so far: 2.718\n",
      "(Epoch 24, iter 300/787) Average loss so far: 2.734\n",
      "(Epoch 24, iter 350/787) Average loss so far: 2.749\n",
      "(Epoch 24, iter 400/787) Average loss so far: 2.745\n",
      "(Epoch 24, iter 450/787) Average loss so far: 2.738\n",
      "(Epoch 24, iter 500/787) Average loss so far: 2.742\n",
      "(Epoch 24, iter 550/787) Average loss so far: 2.754\n",
      "(Epoch 24, iter 600/787) Average loss so far: 2.740\n",
      "(Epoch 24, iter 650/787) Average loss so far: 2.746\n",
      "(Epoch 24, iter 700/787) Average loss so far: 2.731\n",
      "(Epoch 24, iter 750/787) Average loss so far: 2.722\n",
      "Average epoch loss: 2.738\n",
      "This epoch took 8.16293386220932 mins. Time remaining: 0.0 hrs 40.0 mins.\n"
     ]
    },
    {
     "name": "stderr",
     "output_type": "stream",
     "text": [
      "7it [00:01,  5.42it/s]\n"
     ]
    },
    {
     "name": "stdout",
     "output_type": "stream",
     "text": [
      "validation loss: 3.1331892013549805\n"
     ]
    },
    {
     "name": "stderr",
     "output_type": "stream",
     "text": [
      "100%|██████████| 7/7 [00:02<00:00,  2.39it/s]\n",
      "100%|██████████| 793/793 [00:01<00:00, 597.43it/s]\n"
     ]
    },
    {
     "name": "stdout",
     "output_type": "stream",
     "text": [
      "BLEU score: 0.05338881169928626, METEOR score: 0.20659685260841154\n",
      "Starting epoch 26/30, enc lr scheduler: [7.631742512670285e-05], dec lr scheduler: [7.631742512670285e-05]\n",
      "(Epoch 25, iter 50/787) Average loss so far: 2.725\n",
      "(Epoch 25, iter 100/787) Average loss so far: 2.720\n",
      "(Epoch 25, iter 150/787) Average loss so far: 2.750\n",
      "(Epoch 25, iter 200/787) Average loss so far: 2.731\n",
      "(Epoch 25, iter 250/787) Average loss so far: 2.725\n",
      "(Epoch 25, iter 300/787) Average loss so far: 2.717\n",
      "(Epoch 25, iter 350/787) Average loss so far: 2.742\n",
      "(Epoch 25, iter 400/787) Average loss so far: 2.735\n",
      "(Epoch 25, iter 450/787) Average loss so far: 2.736\n",
      "(Epoch 25, iter 500/787) Average loss so far: 2.735\n",
      "(Epoch 25, iter 550/787) Average loss so far: 2.738\n",
      "(Epoch 25, iter 600/787) Average loss so far: 2.737\n",
      "(Epoch 25, iter 650/787) Average loss so far: 2.732\n",
      "(Epoch 25, iter 700/787) Average loss so far: 2.749\n",
      "(Epoch 25, iter 750/787) Average loss so far: 2.738\n",
      "Average epoch loss: 2.734\n",
      "This epoch took 8.112463406721751 mins. Time remaining: 0.0 hrs 32.0 mins.\n"
     ]
    },
    {
     "name": "stderr",
     "output_type": "stream",
     "text": [
      "7it [00:01,  5.46it/s]\n"
     ]
    },
    {
     "name": "stdout",
     "output_type": "stream",
     "text": [
      "validation loss: 3.1343512194497243\n"
     ]
    },
    {
     "name": "stderr",
     "output_type": "stream",
     "text": [
      "100%|██████████| 7/7 [00:03<00:00,  2.24it/s]\n",
      "100%|██████████| 793/793 [00:01<00:00, 591.37it/s]\n"
     ]
    },
    {
     "name": "stdout",
     "output_type": "stream",
     "text": [
      "BLEU score: 0.05337146516245549, METEOR score: 0.20767647224625604\n",
      "Starting epoch 27/30, enc lr scheduler: [5.279499846691252e-05], dec lr scheduler: [5.279499846691252e-05]\n",
      "(Epoch 26, iter 50/787) Average loss so far: 2.724\n",
      "(Epoch 26, iter 100/787) Average loss so far: 2.720\n",
      "(Epoch 26, iter 150/787) Average loss so far: 2.706\n",
      "(Epoch 26, iter 200/787) Average loss so far: 2.737\n",
      "(Epoch 26, iter 250/787) Average loss so far: 2.737\n",
      "(Epoch 26, iter 300/787) Average loss so far: 2.726\n",
      "(Epoch 26, iter 350/787) Average loss so far: 2.739\n",
      "(Epoch 26, iter 400/787) Average loss so far: 2.741\n",
      "(Epoch 26, iter 450/787) Average loss so far: 2.735\n",
      "(Epoch 26, iter 500/787) Average loss so far: 2.735\n",
      "(Epoch 26, iter 550/787) Average loss so far: 2.734\n",
      "(Epoch 26, iter 600/787) Average loss so far: 2.735\n",
      "(Epoch 26, iter 650/787) Average loss so far: 2.728\n",
      "(Epoch 26, iter 700/787) Average loss so far: 2.725\n",
      "(Epoch 26, iter 750/787) Average loss so far: 2.726\n",
      "Average epoch loss: 2.730\n",
      "This epoch took 8.101639938354491 mins. Time remaining: 0.0 hrs 24.0 mins.\n"
     ]
    },
    {
     "name": "stderr",
     "output_type": "stream",
     "text": [
      "7it [00:01,  5.39it/s]\n"
     ]
    },
    {
     "name": "stdout",
     "output_type": "stream",
     "text": [
      "validation loss: 3.1328334467751637\n"
     ]
    },
    {
     "name": "stderr",
     "output_type": "stream",
     "text": [
      "100%|██████████| 7/7 [00:03<00:00,  2.24it/s]\n",
      "100%|██████████| 793/793 [00:01<00:00, 581.81it/s]\n"
     ]
    },
    {
     "name": "stdout",
     "output_type": "stream",
     "text": [
      "BLEU score: 0.05541456263767681, METEOR score: 0.21179274372666657\n",
      "Starting epoch 28/30, enc lr scheduler: [3.4227024433899005e-05], dec lr scheduler: [3.4227024433899005e-05]\n",
      "(Epoch 27, iter 50/787) Average loss so far: 2.747\n",
      "(Epoch 27, iter 100/787) Average loss so far: 2.725\n",
      "(Epoch 27, iter 150/787) Average loss so far: 2.725\n",
      "(Epoch 27, iter 200/787) Average loss so far: 2.721\n",
      "(Epoch 27, iter 250/787) Average loss so far: 2.731\n",
      "(Epoch 27, iter 300/787) Average loss so far: 2.723\n",
      "(Epoch 27, iter 350/787) Average loss so far: 2.726\n",
      "(Epoch 27, iter 400/787) Average loss so far: 2.718\n",
      "(Epoch 27, iter 450/787) Average loss so far: 2.734\n",
      "(Epoch 27, iter 500/787) Average loss so far: 2.741\n",
      "(Epoch 27, iter 550/787) Average loss so far: 2.731\n",
      "(Epoch 27, iter 600/787) Average loss so far: 2.729\n",
      "(Epoch 27, iter 650/787) Average loss so far: 2.714\n",
      "(Epoch 27, iter 700/787) Average loss so far: 2.731\n",
      "(Epoch 27, iter 750/787) Average loss so far: 2.726\n",
      "Average epoch loss: 2.728\n",
      "This epoch took 8.081586301326752 mins. Time remaining: 0.0 hrs 16.0 mins.\n"
     ]
    },
    {
     "name": "stderr",
     "output_type": "stream",
     "text": [
      "7it [00:01,  5.59it/s]\n"
     ]
    },
    {
     "name": "stdout",
     "output_type": "stream",
     "text": [
      "validation loss: 3.1330018043518066\n"
     ]
    },
    {
     "name": "stderr",
     "output_type": "stream",
     "text": [
      "100%|██████████| 7/7 [00:02<00:00,  2.40it/s]\n",
      "100%|██████████| 793/793 [00:01<00:00, 605.09it/s]\n"
     ]
    },
    {
     "name": "stdout",
     "output_type": "stream",
     "text": [
      "BLEU score: 0.05391199400984629, METEOR score: 0.20699247679832458\n",
      "Starting epoch 29/30, enc lr scheduler: [2.0816937636766188e-05], dec lr scheduler: [2.0816937636766188e-05]\n",
      "(Epoch 28, iter 50/787) Average loss so far: 2.733\n",
      "(Epoch 28, iter 100/787) Average loss so far: 2.710\n",
      "(Epoch 28, iter 150/787) Average loss so far: 2.729\n",
      "(Epoch 28, iter 200/787) Average loss so far: 2.698\n",
      "(Epoch 28, iter 250/787) Average loss so far: 2.733\n",
      "(Epoch 28, iter 300/787) Average loss so far: 2.728\n",
      "(Epoch 28, iter 350/787) Average loss so far: 2.734\n",
      "(Epoch 28, iter 400/787) Average loss so far: 2.728\n",
      "(Epoch 28, iter 450/787) Average loss so far: 2.732\n",
      "(Epoch 28, iter 500/787) Average loss so far: 2.728\n",
      "(Epoch 28, iter 550/787) Average loss so far: 2.732\n",
      "(Epoch 28, iter 600/787) Average loss so far: 2.721\n",
      "(Epoch 28, iter 650/787) Average loss so far: 2.731\n",
      "(Epoch 28, iter 700/787) Average loss so far: 2.728\n",
      "(Epoch 28, iter 750/787) Average loss so far: 2.726\n",
      "Average epoch loss: 2.726\n",
      "This epoch took 7.988488773504893 mins. Time remaining: 0.0 hrs 7.0 mins.\n"
     ]
    },
    {
     "name": "stderr",
     "output_type": "stream",
     "text": [
      "7it [00:01,  5.47it/s]\n"
     ]
    },
    {
     "name": "stdout",
     "output_type": "stream",
     "text": [
      "validation loss: 3.132430451256888\n"
     ]
    },
    {
     "name": "stderr",
     "output_type": "stream",
     "text": [
      "100%|██████████| 7/7 [00:03<00:00,  2.30it/s]\n",
      "100%|██████████| 793/793 [00:01<00:00, 598.63it/s]\n"
     ]
    },
    {
     "name": "stdout",
     "output_type": "stream",
     "text": [
      "BLEU score: 0.05513984026373013, METEOR score: 0.2094436932678814\n",
      "Starting epoch 30/30, enc lr scheduler: [1.2711661792704668e-05], dec lr scheduler: [1.2711661792704668e-05]\n",
      "(Epoch 29, iter 50/787) Average loss so far: 2.732\n",
      "(Epoch 29, iter 100/787) Average loss so far: 2.722\n",
      "(Epoch 29, iter 150/787) Average loss so far: 2.715\n",
      "(Epoch 29, iter 200/787) Average loss so far: 2.739\n",
      "(Epoch 29, iter 250/787) Average loss so far: 2.727\n",
      "(Epoch 29, iter 300/787) Average loss so far: 2.729\n",
      "(Epoch 29, iter 350/787) Average loss so far: 2.730\n",
      "(Epoch 29, iter 400/787) Average loss so far: 2.714\n",
      "(Epoch 29, iter 450/787) Average loss so far: 2.725\n",
      "(Epoch 29, iter 500/787) Average loss so far: 2.711\n",
      "(Epoch 29, iter 550/787) Average loss so far: 2.733\n",
      "(Epoch 29, iter 600/787) Average loss so far: 2.737\n",
      "(Epoch 29, iter 650/787) Average loss so far: 2.723\n",
      "(Epoch 29, iter 700/787) Average loss so far: 2.724\n",
      "(Epoch 29, iter 750/787) Average loss so far: 2.724\n",
      "Average epoch loss: 2.725\n",
      "This epoch took 7.996612278620402 mins. Time remaining: 0.0 hrs 0.0 mins.\n"
     ]
    },
    {
     "name": "stderr",
     "output_type": "stream",
     "text": [
      "7it [00:01,  5.51it/s]\n"
     ]
    },
    {
     "name": "stdout",
     "output_type": "stream",
     "text": [
      "validation loss: 3.1326404299054826\n"
     ]
    },
    {
     "name": "stderr",
     "output_type": "stream",
     "text": [
      "100%|██████████| 7/7 [00:02<00:00,  2.39it/s]\n",
      "100%|██████████| 793/793 [00:01<00:00, 595.70it/s]"
     ]
    },
    {
     "name": "stdout",
     "output_type": "stream",
     "text": [
      "BLEU score: 0.055078340546709854, METEOR score: 0.20826842611097787\n"
     ]
    },
    {
     "name": "stderr",
     "output_type": "stream",
     "text": [
      "\n"
     ]
    }
   ],
   "source": [
    "initial_lr=1e-3\n",
    "min_lr = 1e-5\n",
    "n_epochs = 30\n",
    "batch_size=128\n",
    "encoder_attn_optimizer = optim.Adam(encoder_attn.parameters(), lr=initial_lr)\n",
    "decoder_attn_optimizer = optim.Adam(decoder_attn.parameters(), lr=initial_lr)\n",
    "# enc_attn_scheduler = CosineAnnealingLR(encoder_attn_optimizer, T_max=n_epochs, eta_min=min_lr)\n",
    "# dec_attn_scheduler = CosineAnnealingLR(decoder_attn_optimizer, T_max=n_epochs, eta_min=min_lr)\n",
    "enc_attn_scheduler = CosineAnnealingLR(encoder_attn_optimizer, T_max=n_epochs, eta_min=min_lr)\n",
    "dec_attn_scheduler = CosineAnnealingLR(decoder_attn_optimizer, T_max=n_epochs, eta_min=min_lr)\n",
    "identifier=\"attn_adam_without_intermediate_tags_wd0_lr1e-3\"\n",
    "\n",
    "attn_epoch_losses, attn_val_epoch_losses, attn_log = train(\n",
    "    encoder_attn, decoder_attn, encoder_attn_optimizer, decoder_attn_optimizer, train_ds, \n",
    "    n_epochs=n_epochs, vocab=vocab, decoder_mode=\"attention\", batch_size=batch_size, \n",
    "    enc_lr_scheduler=enc_attn_scheduler, dec_lr_scheduler=dec_attn_scheduler, \n",
    "    dev_ds_val_loss = dev_ds_val_loss, dev_ds_val_met=dev_ds_val_met, identifier=identifier,\n",
    "    verbose_iter_interval=50)\n",
    "\n",
    "save_log(identifier, attn_log, encoder_attn_optimizer, decoder_attn_optimizer, \n",
    "         enc_attn_scheduler, dec_attn_scheduler)"
   ]
  },
  {
   "cell_type": "code",
   "execution_count": 14,
   "metadata": {},
   "outputs": [],
   "source": [
    "save_model(encoder_attn, decoder_attn, f\"{identifier}_last\")"
   ]
  },
  {
   "cell_type": "markdown",
   "metadata": {},
   "source": [
    "## Encoder-Decoder (Extension: pretrained embeddings)"
   ]
  },
  {
   "cell_type": "code",
   "execution_count": 11,
   "metadata": {},
   "outputs": [],
   "source": [
    "reset_rng()"
   ]
  },
  {
   "cell_type": "code",
   "execution_count": 12,
   "metadata": {},
   "outputs": [],
   "source": [
    "pretrained_embedding_dict = create_pretrained_embedding_dict(\"./glove.840B.300d.txt\")"
   ]
  },
  {
   "cell_type": "code",
   "execution_count": null,
   "metadata": {},
   "outputs": [
    {
     "name": "stderr",
     "output_type": "stream",
     "text": [
      "100%|██████████| 44315/44315 [00:00<00:00, 389428.21it/s]\n"
     ]
    },
    {
     "name": "stdout",
     "output_type": "stream",
     "text": [
      "29462/44315 (0.665%) words have pretrained embeddings\n"
     ]
    },
    {
     "name": "stderr",
     "output_type": "stream",
     "text": [
      "100%|██████████| 44314/44314 [00:00<00:00, 362567.79it/s]\n"
     ]
    },
    {
     "name": "stdout",
     "output_type": "stream",
     "text": [
      "29462/44314 (0.665%) words have pretrained embeddings\n"
     ]
    }
   ],
   "source": [
    "embedding_size=300\n",
    "encoder_pretrained_embed = EncoderRNN(\n",
    "    input_size=vocab.n_unique_words, embedding_size=embedding_size, hidden_size=HIDDEN_SIZE, \n",
    "    padding_value=vocab.word2index(PAD_WORD), pretrained_embedding_dict=pretrained_embedding_dict, \n",
    "    vocab=vocab).to(DEVICE)\n",
    "# in the training script, decoder is always fed a non-end token and thus never needs to generate padding\n",
    "# also it should never generate \"<UNKNOWN>\"\n",
    "decoder_pretrained_embed = AttnDecoderRNN(\n",
    "    embedding_size=embedding_size,hidden_size=HIDDEN_SIZE, output_size=vocab.n_unique_words-1,\n",
    "    padding_val=vocab.word2index(PAD_WORD), dropout=DROPOUT, global_max_ing_len=MAX_INGR_LEN,\n",
    "    pretrained_embedding_dict=pretrained_embedding_dict, vocab=vocab).to(DEVICE)"
   ]
  },
  {
   "cell_type": "code",
   "execution_count": 16,
   "metadata": {},
   "outputs": [
    {
     "name": "stdout",
     "output_type": "stream",
     "text": [
      "Starting epoch 1/30, enc lr scheduler: [0.001], dec lr scheduler: [0.001]\n"
     ]
    }
   ],
   "source": [
    "initial_lr=1e-3\n",
    "min_lr = 1e-5\n",
    "n_epochs = 30\n",
    "batch_size=128\n",
    "encoder_pretrained_embed_optimizer = optim.Adam(encoder_pretrained_embed.parameters(), lr=initial_lr)\n",
    "decoder_pretrained_embed_optimizer = optim.Adam(decoder_pretrained_embed.parameters(), lr=initial_lr)\n",
    "# enc_scheduler = CosineAnnealingLR(encoder_pretrained_embed_optimizer, T_max=n_epochs, eta_min=min_lr)\n",
    "# dec_scheduler = CosineAnnealingLR(decoder_pretrained_embed_optimizer, T_max=n_epochs, eta_min=min_lr)\n",
    "enc_pretrained_embed_scheduler = CosineAnnealingLR(encoder_pretrained_embed_optimizer, T_max=n_epochs, eta_min=min_lr)\n",
    "dec_pretrained_embed_scheduler = CosineAnnealingLR(decoder_pretrained_embed_optimizer, T_max=n_epochs, eta_min=min_lr)\n",
    "identifier=\"pretrained_emb_attn_adam_without_intermediate_tags_wd0_lr1e-3\"\n",
    "\n",
    "pre_epoch_losses, pre_val_epoch_losses, pre_log = train(\n",
    "    encoder_pretrained_embed, decoder_pretrained_embed, encoder_pretrained_embed_optimizer, decoder_pretrained_embed_optimizer, \n",
    "    train_ds, n_epochs=n_epochs, vocab=vocab, decoder_mode=\"attention\", batch_size=batch_size, \n",
    "    enc_lr_scheduler=enc_pretrained_embed_scheduler, dec_lr_scheduler=dec_pretrained_embed_scheduler, \n",
    "    dev_ds_val_loss = dev_ds_val_loss, dev_ds_val_met=dev_ds_val_met, identifier=identifier,\n",
    "    verbose_iter_interval=50)\n",
    "\n",
    "save_log(identifier, pre_log, encoder_pretrained_embed_optimizer, decoder_pretrained_embed_optimizer, \n",
    "         enc_pretrained_embed_scheduler, dec_pretrained_embed_scheduler)"
   ]
  },
  {
   "cell_type": "markdown",
   "metadata": {},
   "source": [
    "---"
   ]
  },
  {
   "cell_type": "markdown",
   "metadata": {},
   "source": [
    "### Run testing"
   ]
  },
  {
   "cell_type": "code",
   "execution_count": null,
   "metadata": {},
   "outputs": [],
   "source": [
    "# decoder_attn = AttnDecoderRNN(embedding_size=embedding_size, hidden_size=HIDDEN_SIZE,\n",
    "#                               output_size=vocab.n_unique_words-2, \n",
    "#                               padding_val=vocab.word2index(PAD_WORD)).to(DEVICE)"
   ]
  },
  {
   "cell_type": "code",
   "execution_count": null,
   "metadata": {},
   "outputs": [],
   "source": [
    "# dataloader = DataLoader(recipe_ds, batch_size=4, shuffle=True, collate_fn=pad_collate(vocab))\n",
    "# ingredients, recipes, ing_lens, rec_lens = next(iter(dataloader))"
   ]
  },
  {
   "cell_type": "code",
   "execution_count": null,
   "metadata": {},
   "outputs": [],
   "source": [
    "# rec_lens"
   ]
  },
  {
   "cell_type": "code",
   "execution_count": null,
   "metadata": {},
   "outputs": [],
   "source": [
    "# initial_lr=0.8\n",
    "# min_lr = 0.01\n",
    "# n_epochs = 30\n",
    "# batch_size=128\n",
    "# encoder_optimizer = optim.SGD(encoder.parameters(), lr=initial_lr)\n",
    "# decoder_optimizer = optim.SGD(decoder.parameters(), lr=initial_lr)"
   ]
  },
  {
   "cell_type": "code",
   "execution_count": null,
   "metadata": {},
   "outputs": [],
   "source": [
    "# train_iter(ingredients, recipes, ing_lens, rec_lens, encoder, decoder_attn, \n",
    "#            encoder_optimizer, decoder_optimizer, criterion=nn.NLLLoss(),\n",
    "#            decoder_mode=\"attention\", vocab=vocab)"
   ]
  },
  {
   "cell_type": "markdown",
   "metadata": {},
   "source": [
    "---"
   ]
  },
  {
   "cell_type": "markdown",
   "metadata": {},
   "source": [
    "## Evaluation"
   ]
  },
  {
   "cell_type": "markdown",
   "metadata": {},
   "source": [
    "### Without attention"
   ]
  },
  {
   "cell_type": "code",
   "execution_count": 12,
   "metadata": {},
   "outputs": [],
   "source": [
    "load_model(encoder, decoder, \"adam_without_intermediate_tags_with_val_wd0_lr1e-3_ep_24\")"
   ]
  },
  {
   "cell_type": "code",
   "execution_count": 13,
   "metadata": {},
   "outputs": [
    {
     "name": "stderr",
     "output_type": "stream",
     "text": [
      "100%|██████████| 7/7 [00:02<00:00,  3.07it/s]\n"
     ]
    }
   ],
   "source": [
    "all_decoder_outs, all_gt_recipes = eval(encoder, decoder, test_ds, vocab, batch_size=128, decoder_mode=\"basic\",\n",
    "                                        max_recipe_len=MAX_RECIPE_LEN)"
   ]
  },
  {
   "cell_type": "code",
   "execution_count": 14,
   "metadata": {},
   "outputs": [
    {
     "data": {
      "text/plain": [
       "0.044537752361233085"
      ]
     },
     "execution_count": 14,
     "metadata": {},
     "output_type": "execute_result"
    }
   ],
   "source": [
    "calc_bleu(all_gt_recipes, all_decoder_outs)"
   ]
  },
  {
   "cell_type": "code",
   "execution_count": 15,
   "metadata": {},
   "outputs": [
    {
     "name": "stderr",
     "output_type": "stream",
     "text": [
      "100%|██████████| 774/774 [00:01<00:00, 435.87it/s]\n"
     ]
    },
    {
     "data": {
      "text/plain": [
       "0.20157579551309057"
      ]
     },
     "execution_count": 15,
     "metadata": {},
     "output_type": "execute_result"
    }
   ],
   "source": [
    "calc_meteor(all_gt_recipes, all_decoder_outs, split_gt=False)"
   ]
  },
  {
   "cell_type": "markdown",
   "metadata": {},
   "source": [
    "### With attention"
   ]
  },
  {
   "cell_type": "code",
   "execution_count": 15,
   "metadata": {},
   "outputs": [],
   "source": [
    "load_model(encoder_attn, decoder_attn, \"attn_adam_without_intermediate_tags_wd0_lr1e-3_ep_26\")"
   ]
  },
  {
   "cell_type": "code",
   "execution_count": 16,
   "metadata": {},
   "outputs": [
    {
     "name": "stderr",
     "output_type": "stream",
     "text": [
      "100%|██████████| 7/7 [00:02<00:00,  2.40it/s]\n"
     ]
    }
   ],
   "source": [
    "all_decoder_outs, all_gt_recipes = eval(encoder_attn, decoder_attn, test_ds, vocab, batch_size=128, decoder_mode=\"attention\",\n",
    "                                        max_recipe_len=MAX_RECIPE_LEN)"
   ]
  },
  {
   "cell_type": "code",
   "execution_count": 18,
   "metadata": {},
   "outputs": [
    {
     "data": {
      "text/plain": [
       "['<RECIPE_START>',\n",
       " 'cream',\n",
       " 'butter',\n",
       " 'and',\n",
       " 'sugar',\n",
       " 'add',\n",
       " 'egg',\n",
       " 'yolks',\n",
       " ',',\n",
       " 'one',\n",
       " 'at',\n",
       " 'a',\n",
       " 'time',\n",
       " 'and',\n",
       " 'beat',\n",
       " 'until',\n",
       " 'mixture',\n",
       " 'is',\n",
       " 'very',\n",
       " 'light',\n",
       " 'and',\n",
       " 'lemon',\n",
       " 'colored',\n",
       " 'add',\n",
       " 'vanilla',\n",
       " 'and',\n",
       " 'milk',\n",
       " 'in',\n",
       " 'another',\n",
       " 'bowl',\n",
       " 'beat',\n",
       " 'egg',\n",
       " 'whites',\n",
       " 'until',\n",
       " 'foamy',\n",
       " 'fold',\n",
       " 'into',\n",
       " 'creamed',\n",
       " 'mixture',\n",
       " 'fold',\n",
       " 'in',\n",
       " '11/2',\n",
       " 'cups',\n",
       " 'of',\n",
       " 'the',\n",
       " 'coconut',\n",
       " 'pour',\n",
       " 'into',\n",
       " 'baked',\n",
       " 'pie',\n",
       " 'shell',\n",
       " 'and',\n",
       " 'sprinkle',\n",
       " 'with',\n",
       " 'nutmeg',\n",
       " 'top',\n",
       " 'with',\n",
       " 'remaining',\n",
       " 'grated',\n",
       " 'coconut',\n",
       " 'bake',\n",
       " 'in',\n",
       " 'preheated',\n",
       " '350',\n",
       " 'oven',\n",
       " 'for',\n",
       " 'about',\n",
       " '35',\n",
       " 'minutes',\n",
       " 'or',\n",
       " 'until',\n",
       " 'filling',\n",
       " 'is',\n",
       " 'just',\n",
       " 'set',\n",
       " 'serve',\n",
       " 'warm',\n",
       " 'or',\n",
       " 'cold',\n",
       " 'courtesy',\n",
       " 'of',\n",
       " 'dale',\n",
       " '&',\n",
       " 'gail',\n",
       " 'shipp',\n",
       " ',',\n",
       " 'columbia',\n",
       " 'md',\n",
       " '<RECIPE_END>']"
      ]
     },
     "execution_count": 18,
     "metadata": {},
     "output_type": "execute_result"
    }
   ],
   "source": [
    "all_gt_recipes[0]"
   ]
  },
  {
   "cell_type": "code",
   "execution_count": 19,
   "metadata": {},
   "outputs": [
    {
     "data": {
      "text/plain": [
       "['<RECIPE_START>',\n",
       " 'in',\n",
       " 'a',\n",
       " 'medium',\n",
       " 'saucepan',\n",
       " ',',\n",
       " 'combine',\n",
       " 'the',\n",
       " 'sugar',\n",
       " 'and',\n",
       " 'cocoa',\n",
       " ',',\n",
       " 'and',\n",
       " 'cook',\n",
       " 'over',\n",
       " 'medium',\n",
       " 'heat',\n",
       " ',',\n",
       " 'stirring',\n",
       " 'constantly',\n",
       " ',',\n",
       " 'until',\n",
       " 'the',\n",
       " 'mixture',\n",
       " 'is',\n",
       " 'smooth',\n",
       " 'and',\n",
       " 'the',\n",
       " 'sugar',\n",
       " 'is',\n",
       " 'dissolved',\n",
       " ',',\n",
       " 'about',\n",
       " '5',\n",
       " 'minutes',\n",
       " 'remove',\n",
       " 'from',\n",
       " 'the',\n",
       " 'heat',\n",
       " 'and',\n",
       " 'stir',\n",
       " 'in',\n",
       " 'the',\n",
       " 'milk',\n",
       " ',',\n",
       " 'vanilla',\n",
       " 'and',\n",
       " 'salt',\n",
       " 'and',\n",
       " 'mix',\n",
       " 'well',\n",
       " 'pour',\n",
       " 'into',\n",
       " 'a',\n",
       " '9',\n",
       " '-',\n",
       " 'inch',\n",
       " 'springform',\n",
       " 'pan',\n",
       " 'bake',\n",
       " 'in',\n",
       " 'a',\n",
       " 'preheated',\n",
       " '350',\n",
       " 'degree',\n",
       " 'f',\n",
       " 'oven',\n",
       " 'for',\n",
       " '45',\n",
       " 'minutes',\n",
       " 'or',\n",
       " 'until',\n",
       " 'the',\n",
       " 'custard',\n",
       " 'is',\n",
       " 'set',\n",
       " 'cool',\n",
       " 'completely',\n",
       " 'on',\n",
       " 'a',\n",
       " 'wire',\n",
       " 'rack',\n",
       " 'and',\n",
       " 'refrigerate',\n",
       " 'for',\n",
       " 'at',\n",
       " 'least',\n",
       " '2',\n",
       " 'hours',\n",
       " 'before',\n",
       " 'serving',\n",
       " '<RECIPE_END>']"
      ]
     },
     "execution_count": 19,
     "metadata": {},
     "output_type": "execute_result"
    }
   ],
   "source": [
    "all_decoder_outs[0]"
   ]
  },
  {
   "cell_type": "code",
   "execution_count": 17,
   "metadata": {},
   "outputs": [
    {
     "data": {
      "text/plain": [
       "0.04949963728618708"
      ]
     },
     "execution_count": 17,
     "metadata": {},
     "output_type": "execute_result"
    }
   ],
   "source": [
    "calc_bleu(all_gt_recipes, all_decoder_outs)"
   ]
  },
  {
   "cell_type": "code",
   "execution_count": 20,
   "metadata": {},
   "outputs": [
    {
     "name": "stderr",
     "output_type": "stream",
     "text": [
      "100%|██████████| 774/774 [00:01<00:00, 636.00it/s]\n"
     ]
    },
    {
     "data": {
      "text/plain": [
       "0.20855536635420194"
      ]
     },
     "execution_count": 20,
     "metadata": {},
     "output_type": "execute_result"
    }
   ],
   "source": [
    "calc_meteor(all_gt_recipes, all_decoder_outs, split_gt=False)"
   ]
  },
  {
   "cell_type": "markdown",
   "metadata": {},
   "source": [
    "---"
   ]
  },
  {
   "cell_type": "markdown",
   "metadata": {},
   "source": [
    "## Metric Sample"
   ]
  },
  {
   "cell_type": "code",
   "execution_count": null,
   "metadata": {},
   "outputs": [],
   "source": [
    "all_ings = get_all_ingredients(\"./ingredient_set.json\")\n",
    "all_ings_regex = get_ingredients_regex(all_ings)\n",
    "metric_sample_ings, metric_sample_gold_recipe, metric_sample_generated_recipe = \\\n",
    "    load_metric_sample(\"./metric_sample.txt\")"
   ]
  },
  {
   "cell_type": "code",
   "execution_count": null,
   "metadata": {},
   "outputs": [],
   "source": [
    "prop_inp_ings, n_extra_ings = get_prop_input_num_extra_ingredients(\n",
    "    metric_sample_ings, metric_sample_generated_recipe, all_ings_regex, verbose=True,\n",
    "    metric_sample=True)\n",
    "print(f\"\\nproportion of input ingredients: {prop_inp_ings}\\nnumber of extra ingredients: {n_extra_ings}\")"
   ]
  },
  {
   "cell_type": "code",
   "execution_count": null,
   "metadata": {},
   "outputs": [],
   "source": [
    "bleu_score = calc_bleu([metric_sample_gold_recipe], [metric_sample_generated_recipe], split_gen=True)\n",
    "meteor_score = calc_meteor([metric_sample_gold_recipe], [metric_sample_generated_recipe], split_gen=True)\n",
    "print(f\"BLEU score: {bleu_score}, METEOR score: {meteor_score}\")"
   ]
  }
 ],
 "metadata": {
  "kernelspec": {
   "display_name": "nlp",
   "language": "python",
   "name": "python3"
  },
  "language_info": {
   "codemirror_mode": {
    "name": "ipython",
    "version": 3
   },
   "file_extension": ".py",
   "mimetype": "text/x-python",
   "name": "python",
   "nbconvert_exporter": "python",
   "pygments_lexer": "ipython3",
   "version": "3.9.19"
  }
 },
 "nbformat": 4,
 "nbformat_minor": 2
}
