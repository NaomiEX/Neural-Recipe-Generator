{
 "cells": [
  {
   "cell_type": "code",
   "execution_count": 1,
   "metadata": {},
   "outputs": [],
   "source": [
    "%load_ext autoreload\n",
    "%autoreload 2"
   ]
  },
  {
   "cell_type": "code",
   "execution_count": 2,
   "metadata": {},
   "outputs": [],
   "source": [
    "# !pip install torch==1.13.1+cu116 torchvision==0.14.1+cu116 --extra-index-url https://download.pytorch.org/whl/cu116\n",
    "# !pip install matplotlib numpy pandas tqdm nltk\n",
    "\n",
    "# for separating ingredients vs non-ingredients\n",
    "# NOTE: if using Windows to run this, need to download GNU Wget\n",
    "# !wget -c https://raw.githubusercontent.com/williamLyh/RecipeWithPlans/main/ingredient_set.json -O ingredient_set.json"
   ]
  },
  {
   "cell_type": "code",
   "execution_count": 3,
   "metadata": {},
   "outputs": [
    {
     "name": "stderr",
     "output_type": "stream",
     "text": [
      "/home/student/anaconda3/envs/nlp/lib/python3.9/site-packages/tqdm/auto.py:21: TqdmWarning: IProgress not found. Please update jupyter and ipywidgets. See https://ipywidgets.readthedocs.io/en/stable/user_install.html\n",
      "  from .autonotebook import tqdm as notebook_tqdm\n",
      "[nltk_data] Downloading package wordnet to /home/student/nltk_data...\n",
      "[nltk_data]   Package wordnet is already up-to-date!\n",
      "[nltk_data] Downloading package punkt to /home/student/nltk_data...\n",
      "[nltk_data]   Package punkt is already up-to-date!\n"
     ]
    },
    {
     "data": {
      "text/plain": [
       "True"
      ]
     },
     "execution_count": 3,
     "metadata": {},
     "output_type": "execute_result"
    }
   ],
   "source": [
    "import os\n",
    "import math\n",
    "import re\n",
    "import string\n",
    "import numpy as np\n",
    "import pandas as pd\n",
    "import random\n",
    "import json\n",
    "from torch.optim.lr_scheduler import CosineAnnealingLR, StepLR, MultiStepLR, CosineAnnealingWarmRestarts\n",
    "import nltk\n",
    "from nltk.translate.bleu_score import corpus_bleu, sentence_bleu\n",
    "from nltk.translate import meteor\n",
    "\n",
    "from data import *\n",
    "from encoder_decoder import *\n",
    "from train import *\n",
    "from eval import *\n",
    "from utils import *\n",
    "from neuro_dec import *\n",
    "\n",
    "# required for bleu\n",
    "nltk.download(\"wordnet\")\n",
    "nltk.download(\"punkt\")"
   ]
  },
  {
   "cell_type": "markdown",
   "metadata": {},
   "source": [
    "---"
   ]
  },
  {
   "cell_type": "code",
   "execution_count": 4,
   "metadata": {},
   "outputs": [
    {
     "name": "stdout",
     "output_type": "stream",
     "text": [
      "Using device: cuda\n"
     ]
    }
   ],
   "source": [
    "SEED = 31989101\n",
    "HIDDEN_SIZE = 256\n",
    "MAX_INGR_LEN = 150 # fixed from assignment\n",
    "MAX_RECIPE_LEN = 600\n",
    "DROPOUT = 0.1\n",
    "DEVICE = torch.device(\"cuda\" if torch.cuda.is_available() else \"cpu\")\n",
    "\n",
    "## ensuring reproducibility\n",
    "def reset_rng():\n",
    "    torch.manual_seed(SEED)\n",
    "    np.random.seed(SEED)\n",
    "    random.seed(SEED)\n",
    "\n",
    "reset_rng()\n",
    "\n",
    "# to easily read ingredients and instructions\n",
    "pd.set_option('display.max_colwidth', 2000)\n",
    "\n",
    "print(f\"Using device: {DEVICE}\")"
   ]
  },
  {
   "cell_type": "code",
   "execution_count": 5,
   "metadata": {},
   "outputs": [],
   "source": [
    "data_root = \"./Cooking_Dataset\"\n",
    "add_intermediate_tag=False\n",
    "\n",
    "train_df_orig = pd.read_csv(os.path.join(data_root, \"train.csv\"), usecols=['Ingredients', 'Recipe'])\n",
    "dev_df_orig = pd.read_csv(os.path.join(data_root, \"dev.csv\"), usecols=['Ingredients', 'Recipe'])\n",
    "test_df_orig = pd.read_csv(os.path.join(data_root, \"test.csv\"), usecols=['Ingredients', 'Recipe'])"
   ]
  },
  {
   "cell_type": "code",
   "execution_count": 6,
   "metadata": {},
   "outputs": [
    {
     "name": "stdout",
     "output_type": "stream",
     "text": [
      "Number of data samples before preprocessing: 101340\n",
      "Number of data samples after preprocessing: 100637 (99.306%)\n"
     ]
    }
   ],
   "source": [
    "train_df = preprocess_data(train_df_orig, max_ingr_len=MAX_INGR_LEN, max_recipe_len=MAX_RECIPE_LEN, add_intermediate_tag=add_intermediate_tag)"
   ]
  },
  {
   "cell_type": "code",
   "execution_count": 7,
   "metadata": {},
   "outputs": [
    {
     "name": "stdout",
     "output_type": "stream",
     "text": [
      "Number of data samples before preprocessing: 797\n",
      "Number of data samples after preprocessing: 793 (99.498%)\n"
     ]
    }
   ],
   "source": [
    "dev_df = preprocess_data(dev_df_orig, max_ingr_len=MAX_INGR_LEN, max_recipe_len=MAX_RECIPE_LEN, add_intermediate_tag=add_intermediate_tag)"
   ]
  },
  {
   "cell_type": "code",
   "execution_count": 8,
   "metadata": {},
   "outputs": [
    {
     "name": "stdout",
     "output_type": "stream",
     "text": [
      "Number of data samples before preprocessing: 778\n",
      "Number of data samples after preprocessing: 774 (99.486%)\n"
     ]
    }
   ],
   "source": [
    "test_df = preprocess_data(test_df_orig, max_ingr_len=MAX_INGR_LEN, max_recipe_len=MAX_RECIPE_LEN, add_intermediate_tag=add_intermediate_tag)"
   ]
  },
  {
   "cell_type": "code",
   "execution_count": 9,
   "metadata": {},
   "outputs": [
    {
     "name": "stderr",
     "output_type": "stream",
     "text": [
      "  0%|          | 0/100637 [00:00<?, ?it/s]"
     ]
    },
    {
     "name": "stderr",
     "output_type": "stream",
     "text": [
      "100%|██████████| 100637/100637 [00:06<00:00, 15730.54it/s]\n"
     ]
    },
    {
     "data": {
      "text/plain": [
       "44315"
      ]
     },
     "execution_count": 9,
     "metadata": {},
     "output_type": "execute_result"
    }
   ],
   "source": [
    "vocab = Vocabulary(add_intermediate_tag=add_intermediate_tag)\n",
    "vocab.populate(train_df)\n",
    "vocab.n_unique_words"
   ]
  },
  {
   "cell_type": "code",
   "execution_count": 10,
   "metadata": {},
   "outputs": [],
   "source": [
    "train_ds = RecipeDataset(train_df, vocab)\n",
    "# subset_train_ds = RecipeDataset(train_df[:250], vocab) # ! REMOVE LATER\n",
    "dev_ds_val_loss = RecipeDataset(dev_df, vocab, train=True) # used for getting validation loss\n",
    "dev_ds_val_met = RecipeDataset(dev_df, vocab, train=False) # used for getting validation BLEU, and other metrics\n",
    "test_ds = RecipeDataset(test_df, vocab, train=False)"
   ]
  },
  {
   "cell_type": "markdown",
   "metadata": {},
   "source": [
    "## Encoder-Decoder (Base)"
   ]
  },
  {
   "cell_type": "code",
   "execution_count": 11,
   "metadata": {},
   "outputs": [],
   "source": [
    "embedding_size=300\n",
    "encoder = EncoderRNN(vocab.n_unique_words, embedding_size=embedding_size, hidden_size=HIDDEN_SIZE, padding_value=vocab.word2index(PAD_WORD)).to(DEVICE)\n",
    "# in the training script, decoder is always fed a non-end token and thus never needs to generate padding\n",
    "# also it should never generate \"<UNKNOWN>\"\n",
    "decoder = DecoderRNN(embedding_size=embedding_size,hidden_size=HIDDEN_SIZE, output_size=vocab.n_unique_words-1).to(DEVICE)"
   ]
  },
  {
   "cell_type": "code",
   "execution_count": 12,
   "metadata": {},
   "outputs": [
    {
     "name": "stdout",
     "output_type": "stream",
     "text": [
      "Starting epoch 1/30, enc lr scheduler: [0.001], dec lr scheduler: [0.001]\n",
      "(Epoch 0, iter 50/787) Average loss so far: 7.144\n",
      "(Epoch 0, iter 100/787) Average loss so far: 5.967\n",
      "(Epoch 0, iter 150/787) Average loss so far: 5.730\n",
      "(Epoch 0, iter 200/787) Average loss so far: 5.470\n",
      "(Epoch 0, iter 250/787) Average loss so far: 5.212\n",
      "(Epoch 0, iter 300/787) Average loss so far: 5.019\n",
      "(Epoch 0, iter 350/787) Average loss so far: 4.865\n",
      "(Epoch 0, iter 400/787) Average loss so far: 4.737\n",
      "(Epoch 0, iter 450/787) Average loss so far: 4.632\n",
      "(Epoch 0, iter 500/787) Average loss so far: 4.540\n",
      "(Epoch 0, iter 550/787) Average loss so far: 4.449\n",
      "(Epoch 0, iter 600/787) Average loss so far: 4.382\n",
      "(Epoch 0, iter 650/787) Average loss so far: 4.317\n",
      "(Epoch 0, iter 700/787) Average loss so far: 4.246\n",
      "(Epoch 0, iter 750/787) Average loss so far: 4.207\n",
      "Average epoch loss: 4.956\n",
      "This epoch took 5.9502798040707905 mins. Time remaining: 2.0 hrs 52.0 mins.\n"
     ]
    },
    {
     "name": "stderr",
     "output_type": "stream",
     "text": [
      "7it [00:00,  8.22it/s]\n"
     ]
    },
    {
     "name": "stdout",
     "output_type": "stream",
     "text": [
      "validation loss: 4.188371658325195\n"
     ]
    },
    {
     "name": "stderr",
     "output_type": "stream",
     "text": [
      "100%|██████████| 7/7 [00:07<00:00,  1.02s/it]\n",
      "100%|██████████| 793/793 [00:09<00:00, 87.30it/s] \n"
     ]
    },
    {
     "name": "stdout",
     "output_type": "stream",
     "text": [
      "BLEU score: 0.0040273883646875595, METEOR score: 0.09091902403865486\n",
      "Starting epoch 2/30, enc lr scheduler: [0.0009972883382072953], dec lr scheduler: [0.0009972883382072953]\n",
      "(Epoch 1, iter 50/787) Average loss so far: 4.108\n",
      "(Epoch 1, iter 100/787) Average loss so far: 4.071\n",
      "(Epoch 1, iter 150/787) Average loss so far: 4.044\n",
      "(Epoch 1, iter 200/787) Average loss so far: 4.004\n",
      "(Epoch 1, iter 250/787) Average loss so far: 3.953\n",
      "(Epoch 1, iter 300/787) Average loss so far: 3.925\n",
      "(Epoch 1, iter 350/787) Average loss so far: 3.904\n",
      "(Epoch 1, iter 400/787) Average loss so far: 3.880\n",
      "(Epoch 1, iter 450/787) Average loss so far: 3.846\n",
      "(Epoch 1, iter 500/787) Average loss so far: 3.816\n",
      "(Epoch 1, iter 550/787) Average loss so far: 3.792\n",
      "(Epoch 1, iter 600/787) Average loss so far: 3.775\n",
      "(Epoch 1, iter 650/787) Average loss so far: 3.753\n",
      "(Epoch 1, iter 700/787) Average loss so far: 3.747\n",
      "(Epoch 1, iter 750/787) Average loss so far: 3.701\n",
      "Average epoch loss: 3.878\n",
      "This epoch took 5.9652024269104 mins. Time remaining: 2.0 hrs 47.0 mins.\n"
     ]
    },
    {
     "name": "stderr",
     "output_type": "stream",
     "text": [
      "7it [00:00,  8.33it/s]\n"
     ]
    },
    {
     "name": "stdout",
     "output_type": "stream",
     "text": [
      "validation loss: 3.762834276471819\n"
     ]
    },
    {
     "name": "stderr",
     "output_type": "stream",
     "text": [
      "100%|██████████| 7/7 [00:03<00:00,  1.76it/s]\n",
      "100%|██████████| 793/793 [00:03<00:00, 253.49it/s]\n"
     ]
    },
    {
     "name": "stdout",
     "output_type": "stream",
     "text": [
      "BLEU score: 0.014792012153973902, METEOR score: 0.17129374579676301\n",
      "Starting epoch 3/30, enc lr scheduler: [0.0009891830623632338], dec lr scheduler: [0.0009891830623632338]\n",
      "(Epoch 2, iter 50/787) Average loss so far: 3.655\n",
      "(Epoch 2, iter 100/787) Average loss so far: 3.650\n",
      "(Epoch 2, iter 150/787) Average loss so far: 3.604\n",
      "(Epoch 2, iter 200/787) Average loss so far: 3.606\n",
      "(Epoch 2, iter 250/787) Average loss so far: 3.587\n",
      "(Epoch 2, iter 300/787) Average loss so far: 3.586\n",
      "(Epoch 2, iter 350/787) Average loss so far: 3.569\n",
      "(Epoch 2, iter 400/787) Average loss so far: 3.535\n",
      "(Epoch 2, iter 450/787) Average loss so far: 3.553\n",
      "(Epoch 2, iter 500/787) Average loss so far: 3.543\n",
      "(Epoch 2, iter 550/787) Average loss so far: 3.522\n",
      "(Epoch 2, iter 600/787) Average loss so far: 3.509\n",
      "(Epoch 2, iter 650/787) Average loss so far: 3.499\n",
      "(Epoch 2, iter 700/787) Average loss so far: 3.479\n",
      "(Epoch 2, iter 750/787) Average loss so far: 3.466\n",
      "Average epoch loss: 3.553\n",
      "This epoch took 5.964460162321727 mins. Time remaining: 2.0 hrs 41.0 mins.\n"
     ]
    },
    {
     "name": "stderr",
     "output_type": "stream",
     "text": [
      "7it [00:00,  8.39it/s]\n"
     ]
    },
    {
     "name": "stdout",
     "output_type": "stream",
     "text": [
      "validation loss: 3.558991943086897\n"
     ]
    },
    {
     "name": "stderr",
     "output_type": "stream",
     "text": [
      "100%|██████████| 7/7 [00:04<00:00,  1.70it/s]\n",
      "100%|██████████| 793/793 [00:03<00:00, 208.83it/s]\n"
     ]
    },
    {
     "name": "stdout",
     "output_type": "stream",
     "text": [
      "BLEU score: 0.013738925056068545, METEOR score: 0.1597429689849473\n",
      "Starting epoch 4/30, enc lr scheduler: [0.0009757729755661011], dec lr scheduler: [0.0009757729755661011]\n",
      "(Epoch 3, iter 50/787) Average loss so far: 3.436\n",
      "(Epoch 3, iter 100/787) Average loss so far: 3.407\n",
      "(Epoch 3, iter 150/787) Average loss so far: 3.395\n",
      "(Epoch 3, iter 200/787) Average loss so far: 3.389\n",
      "(Epoch 3, iter 250/787) Average loss so far: 3.381\n",
      "(Epoch 3, iter 300/787) Average loss so far: 3.382\n",
      "(Epoch 3, iter 350/787) Average loss so far: 3.371\n",
      "(Epoch 3, iter 400/787) Average loss so far: 3.364\n",
      "(Epoch 3, iter 450/787) Average loss so far: 3.346\n",
      "(Epoch 3, iter 500/787) Average loss so far: 3.333\n",
      "(Epoch 3, iter 550/787) Average loss so far: 3.330\n",
      "(Epoch 3, iter 600/787) Average loss so far: 3.347\n",
      "(Epoch 3, iter 650/787) Average loss so far: 3.328\n",
      "(Epoch 3, iter 700/787) Average loss so far: 3.305\n",
      "(Epoch 3, iter 750/787) Average loss so far: 3.300\n",
      "Average epoch loss: 3.359\n",
      "This epoch took 5.93084941705068 mins. Time remaining: 2.0 hrs 34.0 mins.\n"
     ]
    },
    {
     "name": "stderr",
     "output_type": "stream",
     "text": [
      "7it [00:00,  8.37it/s]\n"
     ]
    },
    {
     "name": "stdout",
     "output_type": "stream",
     "text": [
      "validation loss: 3.4334449768066406\n"
     ]
    },
    {
     "name": "stderr",
     "output_type": "stream",
     "text": [
      "100%|██████████| 7/7 [00:03<00:00,  2.01it/s]\n",
      "100%|██████████| 793/793 [00:02<00:00, 284.67it/s]\n"
     ]
    },
    {
     "name": "stdout",
     "output_type": "stream",
     "text": [
      "BLEU score: 0.01996062579533466, METEOR score: 0.17012901848915718\n",
      "Starting epoch 5/30, enc lr scheduler: [0.0009572050015330874], dec lr scheduler: [0.0009572050015330874]\n",
      "(Epoch 4, iter 50/787) Average loss so far: 3.272\n",
      "(Epoch 4, iter 100/787) Average loss so far: 3.258\n",
      "(Epoch 4, iter 150/787) Average loss so far: 3.250\n",
      "(Epoch 4, iter 200/787) Average loss so far: 3.243\n",
      "(Epoch 4, iter 250/787) Average loss so far: 3.239\n",
      "(Epoch 4, iter 300/787) Average loss so far: 3.247\n",
      "(Epoch 4, iter 350/787) Average loss so far: 3.219\n",
      "(Epoch 4, iter 400/787) Average loss so far: 3.228\n",
      "(Epoch 4, iter 450/787) Average loss so far: 3.223\n",
      "(Epoch 4, iter 500/787) Average loss so far: 3.212\n",
      "(Epoch 4, iter 550/787) Average loss so far: 3.211\n",
      "(Epoch 4, iter 600/787) Average loss so far: 3.203\n",
      "(Epoch 4, iter 650/787) Average loss so far: 3.205\n",
      "(Epoch 4, iter 700/787) Average loss so far: 3.205\n",
      "(Epoch 4, iter 750/787) Average loss so far: 3.193\n",
      "Average epoch loss: 3.227\n",
      "This epoch took 5.959438494841257 mins. Time remaining: 2.0 hrs 28.0 mins.\n"
     ]
    },
    {
     "name": "stderr",
     "output_type": "stream",
     "text": [
      "7it [00:00,  8.29it/s]\n"
     ]
    },
    {
     "name": "stdout",
     "output_type": "stream",
     "text": [
      "validation loss: 3.358621767589024\n"
     ]
    },
    {
     "name": "stderr",
     "output_type": "stream",
     "text": [
      "100%|██████████| 7/7 [00:02<00:00,  2.36it/s]\n",
      "100%|██████████| 793/793 [00:02<00:00, 380.90it/s]\n"
     ]
    },
    {
     "name": "stdout",
     "output_type": "stream",
     "text": [
      "BLEU score: 0.027415656741189266, METEOR score: 0.1823641169217577\n",
      "Starting epoch 6/30, enc lr scheduler: [0.0009336825748732973], dec lr scheduler: [0.0009336825748732973]\n",
      "(Epoch 5, iter 50/787) Average loss so far: 3.157\n",
      "(Epoch 5, iter 100/787) Average loss so far: 3.144\n",
      "(Epoch 5, iter 150/787) Average loss so far: 3.140\n",
      "(Epoch 5, iter 200/787) Average loss so far: 3.148\n",
      "(Epoch 5, iter 250/787) Average loss so far: 3.115\n",
      "(Epoch 5, iter 300/787) Average loss so far: 3.129\n",
      "(Epoch 5, iter 350/787) Average loss so far: 3.146\n",
      "(Epoch 5, iter 400/787) Average loss so far: 3.139\n",
      "(Epoch 5, iter 450/787) Average loss so far: 3.141\n",
      "(Epoch 5, iter 500/787) Average loss so far: 3.121\n",
      "(Epoch 5, iter 550/787) Average loss so far: 3.120\n",
      "(Epoch 5, iter 600/787) Average loss so far: 3.127\n",
      "(Epoch 5, iter 650/787) Average loss so far: 3.111\n",
      "(Epoch 5, iter 700/787) Average loss so far: 3.113\n",
      "(Epoch 5, iter 750/787) Average loss so far: 3.111\n",
      "Average epoch loss: 3.129\n",
      "This epoch took 5.956571054458618 mins. Time remaining: 2.0 hrs 22.0 mins.\n"
     ]
    },
    {
     "name": "stderr",
     "output_type": "stream",
     "text": [
      "7it [00:00,  8.34it/s]\n"
     ]
    },
    {
     "name": "stdout",
     "output_type": "stream",
     "text": [
      "validation loss: 3.3043336187090193\n"
     ]
    },
    {
     "name": "stderr",
     "output_type": "stream",
     "text": [
      "100%|██████████| 7/7 [00:02<00:00,  2.46it/s]\n",
      "100%|██████████| 793/793 [00:01<00:00, 401.47it/s]\n"
     ]
    },
    {
     "name": "stdout",
     "output_type": "stream",
     "text": [
      "BLEU score: 0.029595775761603153, METEOR score: 0.1858161071099046\n",
      "Starting epoch 7/30, enc lr scheduler: [0.0009054634122155991], dec lr scheduler: [0.0009054634122155991]\n",
      "(Epoch 6, iter 50/787) Average loss so far: 3.067\n",
      "(Epoch 6, iter 100/787) Average loss so far: 3.064\n",
      "(Epoch 6, iter 150/787) Average loss so far: 3.049\n",
      "(Epoch 6, iter 200/787) Average loss so far: 3.051\n",
      "(Epoch 6, iter 250/787) Average loss so far: 3.078\n",
      "(Epoch 6, iter 300/787) Average loss so far: 3.066\n",
      "(Epoch 6, iter 350/787) Average loss so far: 3.067\n",
      "(Epoch 6, iter 400/787) Average loss so far: 3.046\n",
      "(Epoch 6, iter 450/787) Average loss so far: 3.054\n",
      "(Epoch 6, iter 500/787) Average loss so far: 3.038\n",
      "(Epoch 6, iter 550/787) Average loss so far: 3.039\n",
      "(Epoch 6, iter 600/787) Average loss so far: 3.050\n",
      "(Epoch 6, iter 650/787) Average loss so far: 3.060\n",
      "(Epoch 6, iter 700/787) Average loss so far: 3.054\n",
      "(Epoch 6, iter 750/787) Average loss so far: 3.032\n",
      "Average epoch loss: 3.054\n",
      "This epoch took 5.976559368769328 mins. Time remaining: 2.0 hrs 17.0 mins.\n"
     ]
    },
    {
     "name": "stderr",
     "output_type": "stream",
     "text": [
      "7it [00:00,  8.35it/s]\n"
     ]
    },
    {
     "name": "stdout",
     "output_type": "stream",
     "text": [
      "validation loss: 3.268099410193307\n"
     ]
    },
    {
     "name": "stderr",
     "output_type": "stream",
     "text": [
      "100%|██████████| 7/7 [00:03<00:00,  2.20it/s]\n",
      "100%|██████████| 793/793 [00:02<00:00, 323.56it/s]\n"
     ]
    },
    {
     "name": "stdout",
     "output_type": "stream",
     "text": [
      "BLEU score: 0.024870246390936355, METEOR score: 0.1775517379842907\n",
      "Starting epoch 8/30, enc lr scheduler: [0.0008728566886113102], dec lr scheduler: [0.0008728566886113102]\n",
      "(Epoch 7, iter 50/787) Average loss so far: 3.002\n",
      "(Epoch 7, iter 100/787) Average loss so far: 2.993\n",
      "(Epoch 7, iter 150/787) Average loss so far: 2.997\n",
      "(Epoch 7, iter 200/787) Average loss so far: 2.996\n",
      "(Epoch 7, iter 250/787) Average loss so far: 2.998\n",
      "(Epoch 7, iter 300/787) Average loss so far: 2.999\n",
      "(Epoch 7, iter 350/787) Average loss so far: 2.998\n",
      "(Epoch 7, iter 400/787) Average loss so far: 2.988\n",
      "(Epoch 7, iter 450/787) Average loss so far: 2.995\n",
      "(Epoch 7, iter 500/787) Average loss so far: 2.992\n",
      "(Epoch 7, iter 550/787) Average loss so far: 2.994\n",
      "(Epoch 7, iter 600/787) Average loss so far: 3.009\n",
      "(Epoch 7, iter 650/787) Average loss so far: 2.974\n",
      "(Epoch 7, iter 700/787) Average loss so far: 2.990\n",
      "(Epoch 7, iter 750/787) Average loss so far: 2.992\n",
      "Average epoch loss: 2.994\n",
      "This epoch took 5.975848956902822 mins. Time remaining: 2.0 hrs 11.0 mins.\n"
     ]
    },
    {
     "name": "stderr",
     "output_type": "stream",
     "text": [
      "7it [00:00,  8.45it/s]\n"
     ]
    },
    {
     "name": "stdout",
     "output_type": "stream",
     "text": [
      "validation loss: 3.2407847813197543\n"
     ]
    },
    {
     "name": "stderr",
     "output_type": "stream",
     "text": [
      "100%|██████████| 7/7 [00:03<00:00,  2.18it/s]\n",
      "100%|██████████| 793/793 [00:02<00:00, 335.07it/s]\n"
     ]
    },
    {
     "name": "stdout",
     "output_type": "stream",
     "text": [
      "BLEU score: 0.024665420986828435, METEOR score: 0.18374070954399746\n",
      "Starting epoch 9/30, enc lr scheduler: [0.0008362196501476349], dec lr scheduler: [0.0008362196501476349]\n",
      "(Epoch 8, iter 50/787) Average loss so far: 2.956\n",
      "(Epoch 8, iter 100/787) Average loss so far: 2.948\n",
      "(Epoch 8, iter 150/787) Average loss so far: 2.961\n",
      "(Epoch 8, iter 200/787) Average loss so far: 2.941\n",
      "(Epoch 8, iter 250/787) Average loss so far: 2.955\n",
      "(Epoch 8, iter 300/787) Average loss so far: 2.945\n",
      "(Epoch 8, iter 350/787) Average loss so far: 2.959\n",
      "(Epoch 8, iter 400/787) Average loss so far: 2.946\n",
      "(Epoch 8, iter 450/787) Average loss so far: 2.938\n",
      "(Epoch 8, iter 500/787) Average loss so far: 2.930\n",
      "(Epoch 8, iter 550/787) Average loss so far: 2.946\n",
      "(Epoch 8, iter 600/787) Average loss so far: 2.937\n",
      "(Epoch 8, iter 650/787) Average loss so far: 2.956\n",
      "(Epoch 8, iter 700/787) Average loss so far: 2.938\n",
      "(Epoch 8, iter 750/787) Average loss so far: 2.926\n",
      "Average epoch loss: 2.945\n",
      "This epoch took 5.916466542085012 mins. Time remaining: 2.0 hrs 4.0 mins.\n"
     ]
    },
    {
     "name": "stderr",
     "output_type": "stream",
     "text": [
      "7it [00:00,  8.38it/s]\n"
     ]
    },
    {
     "name": "stdout",
     "output_type": "stream",
     "text": [
      "validation loss: 3.2253596442086354\n"
     ]
    },
    {
     "name": "stderr",
     "output_type": "stream",
     "text": [
      "100%|██████████| 7/7 [00:02<00:00,  2.75it/s]\n",
      "100%|██████████| 793/793 [00:01<00:00, 526.72it/s]\n"
     ]
    },
    {
     "name": "stdout",
     "output_type": "stream",
     "text": [
      "BLEU score: 0.0382104543038602, METEOR score: 0.19038100657935783\n",
      "Starting epoch 10/30, enc lr scheduler: [0.0007959536998847742], dec lr scheduler: [0.0007959536998847742]\n",
      "(Epoch 9, iter 50/787) Average loss so far: 2.894\n",
      "(Epoch 9, iter 100/787) Average loss so far: 2.909\n",
      "(Epoch 9, iter 150/787) Average loss so far: 2.912\n",
      "(Epoch 9, iter 200/787) Average loss so far: 2.911\n",
      "(Epoch 9, iter 250/787) Average loss so far: 2.901\n",
      "(Epoch 9, iter 300/787) Average loss so far: 2.888\n",
      "(Epoch 9, iter 350/787) Average loss so far: 2.905\n",
      "(Epoch 9, iter 400/787) Average loss so far: 2.903\n",
      "(Epoch 9, iter 450/787) Average loss so far: 2.915\n",
      "(Epoch 9, iter 500/787) Average loss so far: 2.916\n",
      "(Epoch 9, iter 550/787) Average loss so far: 2.901\n",
      "(Epoch 9, iter 600/787) Average loss so far: 2.902\n",
      "(Epoch 9, iter 650/787) Average loss so far: 2.888\n",
      "(Epoch 9, iter 700/787) Average loss so far: 2.900\n",
      "(Epoch 9, iter 750/787) Average loss so far: 2.907\n",
      "Average epoch loss: 2.904\n",
      "This epoch took 5.962946979204814 mins. Time remaining: 1.0 hrs 59.0 mins.\n"
     ]
    },
    {
     "name": "stderr",
     "output_type": "stream",
     "text": [
      "7it [00:00,  8.39it/s]\n"
     ]
    },
    {
     "name": "stdout",
     "output_type": "stream",
     "text": [
      "validation loss: 3.2130907603672574\n"
     ]
    },
    {
     "name": "stderr",
     "output_type": "stream",
     "text": [
      "100%|██████████| 7/7 [00:02<00:00,  2.67it/s]\n",
      "100%|██████████| 793/793 [00:01<00:00, 569.24it/s]\n"
     ]
    },
    {
     "name": "stdout",
     "output_type": "stream",
     "text": [
      "BLEU score: 0.04252454242984992, METEOR score: 0.19856427989507028\n",
      "Starting epoch 11/30, enc lr scheduler: [0.0007525], dec lr scheduler: [0.0007525]\n",
      "(Epoch 10, iter 50/787) Average loss so far: 2.861\n",
      "(Epoch 10, iter 100/787) Average loss so far: 2.868\n",
      "(Epoch 10, iter 150/787) Average loss so far: 2.872\n",
      "(Epoch 10, iter 200/787) Average loss so far: 2.868\n",
      "(Epoch 10, iter 250/787) Average loss so far: 2.862\n",
      "(Epoch 10, iter 300/787) Average loss so far: 2.882\n",
      "(Epoch 10, iter 350/787) Average loss so far: 2.873\n",
      "(Epoch 10, iter 400/787) Average loss so far: 2.874\n",
      "(Epoch 10, iter 450/787) Average loss so far: 2.877\n",
      "(Epoch 10, iter 500/787) Average loss so far: 2.884\n",
      "(Epoch 10, iter 550/787) Average loss so far: 2.858\n",
      "(Epoch 10, iter 600/787) Average loss so far: 2.864\n",
      "(Epoch 10, iter 650/787) Average loss so far: 2.873\n",
      "(Epoch 10, iter 700/787) Average loss so far: 2.876\n",
      "(Epoch 10, iter 750/787) Average loss so far: 2.870\n",
      "Average epoch loss: 2.870\n",
      "This epoch took 5.9633493542671205 mins. Time remaining: 1.0 hrs 53.0 mins.\n"
     ]
    },
    {
     "name": "stderr",
     "output_type": "stream",
     "text": [
      "7it [00:00,  8.27it/s]\n"
     ]
    },
    {
     "name": "stdout",
     "output_type": "stream",
     "text": [
      "validation loss: 3.20478309903826\n"
     ]
    },
    {
     "name": "stderr",
     "output_type": "stream",
     "text": [
      "100%|██████████| 7/7 [00:02<00:00,  3.00it/s]\n",
      "100%|██████████| 793/793 [00:01<00:00, 693.53it/s]\n"
     ]
    },
    {
     "name": "stdout",
     "output_type": "stream",
     "text": [
      "BLEU score: 0.04374173844572283, METEOR score: 0.19134044687967858\n",
      "Starting epoch 12/30, enc lr scheduler: [0.0007063346383225212], dec lr scheduler: [0.0007063346383225212]\n",
      "(Epoch 11, iter 50/787) Average loss so far: 2.849\n",
      "(Epoch 11, iter 100/787) Average loss so far: 2.842\n",
      "(Epoch 11, iter 150/787) Average loss so far: 2.845\n",
      "(Epoch 11, iter 200/787) Average loss so far: 2.840\n",
      "(Epoch 11, iter 250/787) Average loss so far: 2.825\n",
      "(Epoch 11, iter 300/787) Average loss so far: 2.858\n",
      "(Epoch 11, iter 350/787) Average loss so far: 2.837\n",
      "(Epoch 11, iter 400/787) Average loss so far: 2.829\n",
      "(Epoch 11, iter 450/787) Average loss so far: 2.836\n",
      "(Epoch 11, iter 500/787) Average loss so far: 2.840\n",
      "(Epoch 11, iter 550/787) Average loss so far: 2.844\n",
      "(Epoch 11, iter 600/787) Average loss so far: 2.850\n",
      "(Epoch 11, iter 650/787) Average loss so far: 2.833\n",
      "(Epoch 11, iter 700/787) Average loss so far: 2.848\n",
      "(Epoch 11, iter 750/787) Average loss so far: 2.844\n",
      "Average epoch loss: 2.842\n",
      "This epoch took 5.965496921539307 mins. Time remaining: 1.0 hrs 47.0 mins.\n"
     ]
    },
    {
     "name": "stderr",
     "output_type": "stream",
     "text": [
      "7it [00:00,  8.35it/s]\n"
     ]
    },
    {
     "name": "stdout",
     "output_type": "stream",
     "text": [
      "validation loss: 3.197985989706857\n"
     ]
    },
    {
     "name": "stderr",
     "output_type": "stream",
     "text": [
      "100%|██████████| 7/7 [00:02<00:00,  2.95it/s]\n",
      "100%|██████████| 793/793 [00:01<00:00, 654.03it/s]\n"
     ]
    },
    {
     "name": "stdout",
     "output_type": "stream",
     "text": [
      "BLEU score: 0.04589529895972353, METEOR score: 0.1966180841918361\n",
      "Starting epoch 13/30, enc lr scheduler: [0.000657963412215599], dec lr scheduler: [0.000657963412215599]\n",
      "(Epoch 12, iter 50/787) Average loss so far: 2.813\n",
      "(Epoch 12, iter 100/787) Average loss so far: 2.823\n",
      "(Epoch 12, iter 150/787) Average loss so far: 2.817\n",
      "(Epoch 12, iter 200/787) Average loss so far: 2.818\n",
      "(Epoch 12, iter 250/787) Average loss so far: 2.804\n",
      "(Epoch 12, iter 300/787) Average loss so far: 2.821\n",
      "(Epoch 12, iter 350/787) Average loss so far: 2.820\n",
      "(Epoch 12, iter 400/787) Average loss so far: 2.824\n",
      "(Epoch 12, iter 450/787) Average loss so far: 2.837\n",
      "(Epoch 12, iter 500/787) Average loss so far: 2.799\n",
      "(Epoch 12, iter 550/787) Average loss so far: 2.822\n",
      "(Epoch 12, iter 600/787) Average loss so far: 2.821\n",
      "(Epoch 12, iter 650/787) Average loss so far: 2.810\n",
      "(Epoch 12, iter 700/787) Average loss so far: 2.827\n",
      "(Epoch 12, iter 750/787) Average loss so far: 2.812\n",
      "Average epoch loss: 2.817\n",
      "This epoch took 5.939353549480439 mins. Time remaining: 1.0 hrs 40.0 mins.\n"
     ]
    },
    {
     "name": "stderr",
     "output_type": "stream",
     "text": [
      "7it [00:00,  8.27it/s]\n"
     ]
    },
    {
     "name": "stdout",
     "output_type": "stream",
     "text": [
      "validation loss: 3.1950793266296387\n"
     ]
    },
    {
     "name": "stderr",
     "output_type": "stream",
     "text": [
      "100%|██████████| 7/7 [00:02<00:00,  2.84it/s]\n",
      "100%|██████████| 793/793 [00:01<00:00, 566.05it/s]\n"
     ]
    },
    {
     "name": "stdout",
     "output_type": "stream",
     "text": [
      "BLEU score: 0.042610497365320306, METEOR score: 0.19640161197240455\n",
      "Starting epoch 14/30, enc lr scheduler: [0.0006079162869547909], dec lr scheduler: [0.0006079162869547909]\n",
      "(Epoch 13, iter 50/787) Average loss so far: 2.796\n",
      "(Epoch 13, iter 100/787) Average loss so far: 2.800\n",
      "(Epoch 13, iter 150/787) Average loss so far: 2.797\n",
      "(Epoch 13, iter 200/787) Average loss so far: 2.792\n",
      "(Epoch 13, iter 250/787) Average loss so far: 2.801\n",
      "(Epoch 13, iter 300/787) Average loss so far: 2.789\n",
      "(Epoch 13, iter 350/787) Average loss so far: 2.798\n",
      "(Epoch 13, iter 400/787) Average loss so far: 2.793\n",
      "(Epoch 13, iter 450/787) Average loss so far: 2.792\n",
      "(Epoch 13, iter 500/787) Average loss so far: 2.802\n",
      "(Epoch 13, iter 550/787) Average loss so far: 2.808\n",
      "(Epoch 13, iter 600/787) Average loss so far: 2.802\n",
      "(Epoch 13, iter 650/787) Average loss so far: 2.785\n",
      "(Epoch 13, iter 700/787) Average loss so far: 2.791\n",
      "(Epoch 13, iter 750/787) Average loss so far: 2.772\n",
      "Average epoch loss: 2.795\n",
      "This epoch took 5.942754459381104 mins. Time remaining: 1.0 hrs 35.0 mins.\n"
     ]
    },
    {
     "name": "stderr",
     "output_type": "stream",
     "text": [
      "7it [00:00,  8.31it/s]\n"
     ]
    },
    {
     "name": "stdout",
     "output_type": "stream",
     "text": [
      "validation loss: 3.190805230821882\n"
     ]
    },
    {
     "name": "stderr",
     "output_type": "stream",
     "text": [
      "100%|██████████| 7/7 [00:01<00:00,  3.54it/s]\n",
      "100%|██████████| 793/793 [00:01<00:00, 774.35it/s]\n"
     ]
    },
    {
     "name": "stdout",
     "output_type": "stream",
     "text": [
      "BLEU score: 0.04117386932250176, METEOR score: 0.1918381125873577\n",
      "Starting epoch 15/30, enc lr scheduler: [0.0005567415893174886], dec lr scheduler: [0.0005567415893174886]\n",
      "(Epoch 14, iter 50/787) Average loss so far: 2.771\n",
      "(Epoch 14, iter 100/787) Average loss so far: 2.772\n",
      "(Epoch 14, iter 150/787) Average loss so far: 2.768\n",
      "(Epoch 14, iter 200/787) Average loss so far: 2.766\n",
      "(Epoch 14, iter 250/787) Average loss so far: 2.776\n",
      "(Epoch 14, iter 300/787) Average loss so far: 2.773\n",
      "(Epoch 14, iter 350/787) Average loss so far: 2.768\n",
      "(Epoch 14, iter 400/787) Average loss so far: 2.789\n",
      "(Epoch 14, iter 450/787) Average loss so far: 2.763\n",
      "(Epoch 14, iter 500/787) Average loss so far: 2.781\n",
      "(Epoch 14, iter 550/787) Average loss so far: 2.784\n",
      "(Epoch 14, iter 600/787) Average loss so far: 2.787\n",
      "(Epoch 14, iter 650/787) Average loss so far: 2.773\n",
      "(Epoch 14, iter 700/787) Average loss so far: 2.782\n",
      "(Epoch 14, iter 750/787) Average loss so far: 2.792\n",
      "Average epoch loss: 2.776\n",
      "This epoch took 5.934814552466075 mins. Time remaining: 1.0 hrs 29.0 mins.\n"
     ]
    },
    {
     "name": "stderr",
     "output_type": "stream",
     "text": [
      "7it [00:00,  8.31it/s]\n"
     ]
    },
    {
     "name": "stdout",
     "output_type": "stream",
     "text": [
      "validation loss: 3.191071476255144\n"
     ]
    },
    {
     "name": "stderr",
     "output_type": "stream",
     "text": [
      "100%|██████████| 7/7 [00:02<00:00,  2.97it/s]\n",
      "100%|██████████| 793/793 [00:01<00:00, 619.10it/s]\n"
     ]
    },
    {
     "name": "stdout",
     "output_type": "stream",
     "text": [
      "BLEU score: 0.045987255785282295, METEOR score: 0.19803943527851992\n",
      "Starting epoch 16/30, enc lr scheduler: [0.0005050000000000002], dec lr scheduler: [0.0005050000000000002]\n",
      "(Epoch 15, iter 50/787) Average loss so far: 2.756\n",
      "(Epoch 15, iter 100/787) Average loss so far: 2.755\n",
      "(Epoch 15, iter 150/787) Average loss so far: 2.756\n",
      "(Epoch 15, iter 200/787) Average loss so far: 2.764\n",
      "(Epoch 15, iter 250/787) Average loss so far: 2.748\n",
      "(Epoch 15, iter 300/787) Average loss so far: 2.737\n",
      "(Epoch 15, iter 350/787) Average loss so far: 2.749\n",
      "(Epoch 15, iter 400/787) Average loss so far: 2.763\n",
      "(Epoch 15, iter 450/787) Average loss so far: 2.753\n",
      "(Epoch 15, iter 500/787) Average loss so far: 2.776\n",
      "(Epoch 15, iter 550/787) Average loss so far: 2.766\n",
      "(Epoch 15, iter 600/787) Average loss so far: 2.768\n",
      "(Epoch 15, iter 650/787) Average loss so far: 2.773\n",
      "(Epoch 15, iter 700/787) Average loss so far: 2.767\n",
      "(Epoch 15, iter 750/787) Average loss so far: 2.761\n",
      "Average epoch loss: 2.760\n",
      "This epoch took 5.958962686856588 mins. Time remaining: 1.0 hrs 23.0 mins.\n"
     ]
    },
    {
     "name": "stderr",
     "output_type": "stream",
     "text": [
      "7it [00:00,  8.36it/s]\n"
     ]
    },
    {
     "name": "stdout",
     "output_type": "stream",
     "text": [
      "validation loss: 3.1885389941079274\n"
     ]
    },
    {
     "name": "stderr",
     "output_type": "stream",
     "text": [
      "100%|██████████| 7/7 [00:01<00:00,  3.75it/s]\n",
      "100%|██████████| 793/793 [00:01<00:00, 763.55it/s]\n"
     ]
    },
    {
     "name": "stdout",
     "output_type": "stream",
     "text": [
      "BLEU score: 0.039472464139260074, METEOR score: 0.1900444808031801\n",
      "Starting epoch 17/30, enc lr scheduler: [0.0004532584106825117], dec lr scheduler: [0.0004532584106825117]\n",
      "(Epoch 16, iter 50/787) Average loss so far: 2.728\n",
      "(Epoch 16, iter 100/787) Average loss so far: 2.737\n",
      "(Epoch 16, iter 150/787) Average loss so far: 2.737\n",
      "(Epoch 16, iter 200/787) Average loss so far: 2.738\n",
      "(Epoch 16, iter 250/787) Average loss so far: 2.746\n",
      "(Epoch 16, iter 300/787) Average loss so far: 2.736\n",
      "(Epoch 16, iter 350/787) Average loss so far: 2.753\n",
      "(Epoch 16, iter 400/787) Average loss so far: 2.752\n",
      "(Epoch 16, iter 450/787) Average loss so far: 2.745\n",
      "(Epoch 16, iter 500/787) Average loss so far: 2.738\n",
      "(Epoch 16, iter 550/787) Average loss so far: 2.760\n",
      "(Epoch 16, iter 600/787) Average loss so far: 2.751\n",
      "(Epoch 16, iter 650/787) Average loss so far: 2.750\n",
      "(Epoch 16, iter 700/787) Average loss so far: 2.748\n",
      "(Epoch 16, iter 750/787) Average loss so far: 2.753\n",
      "Average epoch loss: 2.745\n",
      "This epoch took 6.020829896132152 mins. Time remaining: 1.0 hrs 18.0 mins.\n"
     ]
    },
    {
     "name": "stderr",
     "output_type": "stream",
     "text": [
      "7it [00:00,  8.42it/s]\n"
     ]
    },
    {
     "name": "stdout",
     "output_type": "stream",
     "text": [
      "validation loss: 3.190322296960013\n"
     ]
    },
    {
     "name": "stderr",
     "output_type": "stream",
     "text": [
      "100%|██████████| 7/7 [00:02<00:00,  3.03it/s]\n",
      "100%|██████████| 793/793 [00:01<00:00, 657.50it/s]\n"
     ]
    },
    {
     "name": "stdout",
     "output_type": "stream",
     "text": [
      "BLEU score: 0.04504238384476892, METEOR score: 0.19752496817224274\n",
      "Starting epoch 18/30, enc lr scheduler: [0.00040208371304520916], dec lr scheduler: [0.00040208371304520916]\n",
      "(Epoch 17, iter 50/787) Average loss so far: 2.726\n",
      "(Epoch 17, iter 100/787) Average loss so far: 2.726\n",
      "(Epoch 17, iter 150/787) Average loss so far: 2.718\n",
      "(Epoch 17, iter 200/787) Average loss so far: 2.724\n",
      "(Epoch 17, iter 250/787) Average loss so far: 2.715\n",
      "(Epoch 17, iter 300/787) Average loss so far: 2.739\n",
      "(Epoch 17, iter 350/787) Average loss so far: 2.729\n",
      "(Epoch 17, iter 400/787) Average loss so far: 2.737\n",
      "(Epoch 17, iter 450/787) Average loss so far: 2.733\n",
      "(Epoch 17, iter 500/787) Average loss so far: 2.740\n",
      "(Epoch 17, iter 550/787) Average loss so far: 2.755\n",
      "(Epoch 17, iter 600/787) Average loss so far: 2.744\n",
      "(Epoch 17, iter 650/787) Average loss so far: 2.728\n",
      "(Epoch 17, iter 700/787) Average loss so far: 2.723\n",
      "(Epoch 17, iter 750/787) Average loss so far: 2.736\n",
      "Average epoch loss: 2.732\n",
      "This epoch took 6.014154775937398 mins. Time remaining: 1.0 hrs 12.0 mins.\n"
     ]
    },
    {
     "name": "stderr",
     "output_type": "stream",
     "text": [
      "7it [00:00,  8.38it/s]\n"
     ]
    },
    {
     "name": "stdout",
     "output_type": "stream",
     "text": [
      "validation loss: 3.1880320140293668\n"
     ]
    },
    {
     "name": "stderr",
     "output_type": "stream",
     "text": [
      "100%|██████████| 7/7 [00:02<00:00,  3.22it/s]\n",
      "100%|██████████| 793/793 [00:01<00:00, 660.58it/s]\n"
     ]
    },
    {
     "name": "stdout",
     "output_type": "stream",
     "text": [
      "BLEU score: 0.045373700729723125, METEOR score: 0.19635808499055457\n",
      "Starting epoch 19/30, enc lr scheduler: [0.00035203658778440114], dec lr scheduler: [0.00035203658778440114]\n",
      "(Epoch 18, iter 50/787) Average loss so far: 2.717\n",
      "(Epoch 18, iter 100/787) Average loss so far: 2.697\n",
      "(Epoch 18, iter 150/787) Average loss so far: 2.725\n",
      "(Epoch 18, iter 200/787) Average loss so far: 2.716\n",
      "(Epoch 18, iter 250/787) Average loss so far: 2.707\n",
      "(Epoch 18, iter 300/787) Average loss so far: 2.734\n",
      "(Epoch 18, iter 350/787) Average loss so far: 2.719\n",
      "(Epoch 18, iter 400/787) Average loss so far: 2.715\n",
      "(Epoch 18, iter 450/787) Average loss so far: 2.727\n",
      "(Epoch 18, iter 500/787) Average loss so far: 2.713\n",
      "(Epoch 18, iter 550/787) Average loss so far: 2.742\n",
      "(Epoch 18, iter 600/787) Average loss so far: 2.717\n",
      "(Epoch 18, iter 650/787) Average loss so far: 2.716\n",
      "(Epoch 18, iter 700/787) Average loss so far: 2.738\n",
      "(Epoch 18, iter 750/787) Average loss so far: 2.728\n",
      "Average epoch loss: 2.721\n",
      "This epoch took 6.0332143902778625 mins. Time remaining: 1.0 hrs 6.0 mins.\n"
     ]
    },
    {
     "name": "stderr",
     "output_type": "stream",
     "text": [
      "7it [00:00,  8.31it/s]\n"
     ]
    },
    {
     "name": "stdout",
     "output_type": "stream",
     "text": [
      "validation loss: 3.1870854582105363\n"
     ]
    },
    {
     "name": "stderr",
     "output_type": "stream",
     "text": [
      "100%|██████████| 7/7 [00:02<00:00,  3.22it/s]\n",
      "100%|██████████| 793/793 [00:01<00:00, 733.39it/s]\n"
     ]
    },
    {
     "name": "stdout",
     "output_type": "stream",
     "text": [
      "BLEU score: 0.04436411201089971, METEOR score: 0.19867751657974117\n",
      "Starting epoch 20/30, enc lr scheduler: [0.00030366536167747904], dec lr scheduler: [0.00030366536167747904]\n",
      "(Epoch 19, iter 50/787) Average loss so far: 2.706\n",
      "(Epoch 19, iter 100/787) Average loss so far: 2.711\n",
      "(Epoch 19, iter 150/787) Average loss so far: 2.708\n",
      "(Epoch 19, iter 200/787) Average loss so far: 2.707\n",
      "(Epoch 19, iter 250/787) Average loss so far: 2.707\n",
      "(Epoch 19, iter 300/787) Average loss so far: 2.711\n",
      "(Epoch 19, iter 350/787) Average loss so far: 2.696\n",
      "(Epoch 19, iter 400/787) Average loss so far: 2.702\n",
      "(Epoch 19, iter 450/787) Average loss so far: 2.721\n",
      "(Epoch 19, iter 500/787) Average loss so far: 2.712\n",
      "(Epoch 19, iter 550/787) Average loss so far: 2.713\n",
      "(Epoch 19, iter 600/787) Average loss so far: 2.713\n",
      "(Epoch 19, iter 650/787) Average loss so far: 2.717\n",
      "(Epoch 19, iter 700/787) Average loss so far: 2.725\n",
      "(Epoch 19, iter 750/787) Average loss so far: 2.714\n",
      "Average epoch loss: 2.711\n",
      "This epoch took 6.069462593396505 mins. Time remaining: 1.0 hrs 0.0 mins.\n"
     ]
    },
    {
     "name": "stderr",
     "output_type": "stream",
     "text": [
      "7it [00:00,  7.83it/s]\n"
     ]
    },
    {
     "name": "stdout",
     "output_type": "stream",
     "text": [
      "validation loss: 3.1880082402910506\n"
     ]
    },
    {
     "name": "stderr",
     "output_type": "stream",
     "text": [
      "100%|██████████| 7/7 [00:02<00:00,  2.81it/s]\n",
      "100%|██████████| 793/793 [00:01<00:00, 632.48it/s]\n"
     ]
    },
    {
     "name": "stdout",
     "output_type": "stream",
     "text": [
      "BLEU score: 0.0472837279646999, METEOR score: 0.2002107631916008\n",
      "Starting epoch 21/30, enc lr scheduler: [0.00025750000000000013], dec lr scheduler: [0.00025750000000000013]\n",
      "(Epoch 20, iter 50/787) Average loss so far: 2.690\n",
      "(Epoch 20, iter 100/787) Average loss so far: 2.689\n",
      "(Epoch 20, iter 150/787) Average loss so far: 2.699\n",
      "(Epoch 20, iter 200/787) Average loss so far: 2.695\n",
      "(Epoch 20, iter 250/787) Average loss so far: 2.702\n",
      "(Epoch 20, iter 300/787) Average loss so far: 2.697\n",
      "(Epoch 20, iter 350/787) Average loss so far: 2.718\n",
      "(Epoch 20, iter 400/787) Average loss so far: 2.697\n",
      "(Epoch 20, iter 450/787) Average loss so far: 2.714\n",
      "(Epoch 20, iter 500/787) Average loss so far: 2.712\n",
      "(Epoch 20, iter 550/787) Average loss so far: 2.702\n",
      "(Epoch 20, iter 600/787) Average loss so far: 2.698\n",
      "(Epoch 20, iter 650/787) Average loss so far: 2.717\n",
      "(Epoch 20, iter 700/787) Average loss so far: 2.711\n",
      "(Epoch 20, iter 750/787) Average loss so far: 2.709\n",
      "Average epoch loss: 2.703\n",
      "This epoch took 6.04076402982076 mins. Time remaining: 0.0 hrs 54.0 mins.\n"
     ]
    },
    {
     "name": "stderr",
     "output_type": "stream",
     "text": [
      "7it [00:00,  8.25it/s]\n"
     ]
    },
    {
     "name": "stdout",
     "output_type": "stream",
     "text": [
      "validation loss: 3.188002722603934\n"
     ]
    },
    {
     "name": "stderr",
     "output_type": "stream",
     "text": [
      "100%|██████████| 7/7 [00:02<00:00,  2.97it/s]\n",
      "100%|██████████| 793/793 [00:01<00:00, 700.04it/s]\n"
     ]
    },
    {
     "name": "stdout",
     "output_type": "stream",
     "text": [
      "BLEU score: 0.046293812487382985, METEOR score: 0.19752825008718805\n",
      "Starting epoch 22/30, enc lr scheduler: [0.00021404630011522585], dec lr scheduler: [0.00021404630011522585]\n",
      "(Epoch 21, iter 50/787) Average loss so far: 2.694\n",
      "(Epoch 21, iter 100/787) Average loss so far: 2.706\n",
      "(Epoch 21, iter 150/787) Average loss so far: 2.679\n",
      "(Epoch 21, iter 200/787) Average loss so far: 2.691\n",
      "(Epoch 21, iter 250/787) Average loss so far: 2.688\n",
      "(Epoch 21, iter 300/787) Average loss so far: 2.695\n",
      "(Epoch 21, iter 350/787) Average loss so far: 2.691\n",
      "(Epoch 21, iter 400/787) Average loss so far: 2.712\n",
      "(Epoch 21, iter 450/787) Average loss so far: 2.682\n",
      "(Epoch 21, iter 500/787) Average loss so far: 2.702\n",
      "(Epoch 21, iter 550/787) Average loss so far: 2.687\n",
      "(Epoch 21, iter 600/787) Average loss so far: 2.695\n",
      "(Epoch 21, iter 650/787) Average loss so far: 2.695\n",
      "(Epoch 21, iter 700/787) Average loss so far: 2.698\n",
      "(Epoch 21, iter 750/787) Average loss so far: 2.708\n",
      "Average epoch loss: 2.695\n",
      "This epoch took 6.00150508483251 mins. Time remaining: 0.0 hrs 48.0 mins.\n"
     ]
    },
    {
     "name": "stderr",
     "output_type": "stream",
     "text": [
      "7it [00:00,  8.35it/s]\n"
     ]
    },
    {
     "name": "stdout",
     "output_type": "stream",
     "text": [
      "validation loss: 3.190535000392369\n"
     ]
    },
    {
     "name": "stderr",
     "output_type": "stream",
     "text": [
      "100%|██████████| 7/7 [00:02<00:00,  3.29it/s]\n",
      "100%|██████████| 793/793 [00:01<00:00, 751.69it/s]\n"
     ]
    },
    {
     "name": "stdout",
     "output_type": "stream",
     "text": [
      "BLEU score: 0.04469983055676468, METEOR score: 0.19735370122639811\n",
      "Starting epoch 23/30, enc lr scheduler: [0.00017378034985236535], dec lr scheduler: [0.00017378034985236535]\n",
      "(Epoch 22, iter 50/787) Average loss so far: 2.677\n",
      "(Epoch 22, iter 100/787) Average loss so far: 2.690\n",
      "(Epoch 22, iter 150/787) Average loss so far: 2.684\n",
      "(Epoch 22, iter 200/787) Average loss so far: 2.692\n",
      "(Epoch 22, iter 250/787) Average loss so far: 2.683\n",
      "(Epoch 22, iter 300/787) Average loss so far: 2.682\n",
      "(Epoch 22, iter 350/787) Average loss so far: 2.693\n",
      "(Epoch 22, iter 400/787) Average loss so far: 2.699\n",
      "(Epoch 22, iter 450/787) Average loss so far: 2.694\n",
      "(Epoch 22, iter 500/787) Average loss so far: 2.678\n",
      "(Epoch 22, iter 550/787) Average loss so far: 2.692\n",
      "(Epoch 22, iter 600/787) Average loss so far: 2.682\n",
      "(Epoch 22, iter 650/787) Average loss so far: 2.681\n",
      "(Epoch 22, iter 700/787) Average loss so far: 2.692\n",
      "(Epoch 22, iter 750/787) Average loss so far: 2.701\n",
      "Average epoch loss: 2.689\n",
      "This epoch took 5.974960108598073 mins. Time remaining: 0.0 hrs 41.0 mins.\n"
     ]
    },
    {
     "name": "stderr",
     "output_type": "stream",
     "text": [
      "7it [00:00,  8.23it/s]\n"
     ]
    },
    {
     "name": "stdout",
     "output_type": "stream",
     "text": [
      "validation loss: 3.1892076901027133\n"
     ]
    },
    {
     "name": "stderr",
     "output_type": "stream",
     "text": [
      "100%|██████████| 7/7 [00:02<00:00,  3.18it/s]\n",
      "100%|██████████| 793/793 [00:01<00:00, 695.99it/s]\n"
     ]
    },
    {
     "name": "stdout",
     "output_type": "stream",
     "text": [
      "BLEU score: 0.044842831330928805, METEOR score: 0.19575345815276526\n",
      "Starting epoch 24/30, enc lr scheduler: [0.00013714331138868998], dec lr scheduler: [0.00013714331138868998]\n",
      "(Epoch 23, iter 50/787) Average loss so far: 2.671\n",
      "(Epoch 23, iter 100/787) Average loss so far: 2.682\n",
      "(Epoch 23, iter 150/787) Average loss so far: 2.683\n",
      "(Epoch 23, iter 200/787) Average loss so far: 2.668\n",
      "(Epoch 23, iter 250/787) Average loss so far: 2.684\n",
      "(Epoch 23, iter 300/787) Average loss so far: 2.681\n",
      "(Epoch 23, iter 350/787) Average loss so far: 2.674\n",
      "(Epoch 23, iter 400/787) Average loss so far: 2.688\n",
      "(Epoch 23, iter 450/787) Average loss so far: 2.690\n",
      "(Epoch 23, iter 500/787) Average loss so far: 2.687\n",
      "(Epoch 23, iter 550/787) Average loss so far: 2.682\n",
      "(Epoch 23, iter 600/787) Average loss so far: 2.701\n",
      "(Epoch 23, iter 650/787) Average loss so far: 2.692\n",
      "(Epoch 23, iter 700/787) Average loss so far: 2.691\n",
      "(Epoch 23, iter 750/787) Average loss so far: 2.677\n",
      "Average epoch loss: 2.683\n",
      "This epoch took 5.9614043712615965 mins. Time remaining: 0.0 hrs 35.0 mins.\n"
     ]
    },
    {
     "name": "stderr",
     "output_type": "stream",
     "text": [
      "7it [00:00,  8.54it/s]\n"
     ]
    },
    {
     "name": "stdout",
     "output_type": "stream",
     "text": [
      "validation loss: 3.1896793161119734\n"
     ]
    },
    {
     "name": "stderr",
     "output_type": "stream",
     "text": [
      "100%|██████████| 7/7 [00:02<00:00,  3.23it/s]\n",
      "100%|██████████| 793/793 [00:01<00:00, 697.41it/s]\n"
     ]
    },
    {
     "name": "stdout",
     "output_type": "stream",
     "text": [
      "BLEU score: 0.04446433657061311, METEOR score: 0.19553098270527547\n",
      "Starting epoch 25/30, enc lr scheduler: [0.00010453658778440108], dec lr scheduler: [0.00010453658778440108]\n",
      "(Epoch 24, iter 50/787) Average loss so far: 2.673\n",
      "(Epoch 24, iter 100/787) Average loss so far: 2.677\n",
      "(Epoch 24, iter 150/787) Average loss so far: 2.681\n",
      "(Epoch 24, iter 200/787) Average loss so far: 2.669\n",
      "(Epoch 24, iter 250/787) Average loss so far: 2.675\n",
      "(Epoch 24, iter 300/787) Average loss so far: 2.675\n",
      "(Epoch 24, iter 350/787) Average loss so far: 2.677\n",
      "(Epoch 24, iter 400/787) Average loss so far: 2.678\n",
      "(Epoch 24, iter 450/787) Average loss so far: 2.683\n",
      "(Epoch 24, iter 500/787) Average loss so far: 2.677\n",
      "(Epoch 24, iter 550/787) Average loss so far: 2.681\n",
      "(Epoch 24, iter 600/787) Average loss so far: 2.674\n",
      "(Epoch 24, iter 650/787) Average loss so far: 2.688\n",
      "(Epoch 24, iter 700/787) Average loss so far: 2.680\n",
      "(Epoch 24, iter 750/787) Average loss so far: 2.682\n",
      "Average epoch loss: 2.679\n",
      "This epoch took 5.857432734966278 mins. Time remaining: 0.0 hrs 29.0 mins.\n"
     ]
    },
    {
     "name": "stderr",
     "output_type": "stream",
     "text": [
      "7it [00:00,  8.59it/s]\n"
     ]
    },
    {
     "name": "stdout",
     "output_type": "stream",
     "text": [
      "validation loss: 3.1895811557769775\n"
     ]
    },
    {
     "name": "stderr",
     "output_type": "stream",
     "text": [
      "100%|██████████| 7/7 [00:02<00:00,  3.10it/s]\n",
      "100%|██████████| 793/793 [00:01<00:00, 672.54it/s]\n"
     ]
    },
    {
     "name": "stdout",
     "output_type": "stream",
     "text": [
      "BLEU score: 0.047831302586897266, METEOR score: 0.1988243943422679\n",
      "Starting epoch 26/30, enc lr scheduler: [7.631742512670285e-05], dec lr scheduler: [7.631742512670285e-05]\n",
      "(Epoch 25, iter 50/787) Average loss so far: 2.664\n",
      "(Epoch 25, iter 100/787) Average loss so far: 2.655\n",
      "(Epoch 25, iter 150/787) Average loss so far: 2.672\n",
      "(Epoch 25, iter 200/787) Average loss so far: 2.664\n",
      "(Epoch 25, iter 250/787) Average loss so far: 2.686\n",
      "(Epoch 25, iter 300/787) Average loss so far: 2.691\n",
      "(Epoch 25, iter 350/787) Average loss so far: 2.671\n",
      "(Epoch 25, iter 400/787) Average loss so far: 2.693\n",
      "(Epoch 25, iter 450/787) Average loss so far: 2.666\n",
      "(Epoch 25, iter 500/787) Average loss so far: 2.676\n",
      "(Epoch 25, iter 550/787) Average loss so far: 2.679\n",
      "(Epoch 25, iter 600/787) Average loss so far: 2.676\n",
      "(Epoch 25, iter 650/787) Average loss so far: 2.688\n",
      "(Epoch 25, iter 700/787) Average loss so far: 2.677\n",
      "(Epoch 25, iter 750/787) Average loss so far: 2.676\n",
      "Average epoch loss: 2.676\n",
      "This epoch took 5.903524959087372 mins. Time remaining: 0.0 hrs 23.0 mins.\n"
     ]
    },
    {
     "name": "stderr",
     "output_type": "stream",
     "text": [
      "7it [00:00,  8.29it/s]\n"
     ]
    },
    {
     "name": "stdout",
     "output_type": "stream",
     "text": [
      "validation loss: 3.191049098968506\n"
     ]
    },
    {
     "name": "stderr",
     "output_type": "stream",
     "text": [
      "100%|██████████| 7/7 [00:02<00:00,  3.08it/s]\n",
      "100%|██████████| 793/793 [00:01<00:00, 717.71it/s]\n"
     ]
    },
    {
     "name": "stdout",
     "output_type": "stream",
     "text": [
      "BLEU score: 0.045387576782303124, METEOR score: 0.19554948188506097\n",
      "Starting epoch 27/30, enc lr scheduler: [5.279499846691252e-05], dec lr scheduler: [5.279499846691252e-05]\n",
      "(Epoch 26, iter 50/787) Average loss so far: 2.678\n",
      "(Epoch 26, iter 100/787) Average loss so far: 2.663\n",
      "(Epoch 26, iter 150/787) Average loss so far: 2.672\n",
      "(Epoch 26, iter 200/787) Average loss so far: 2.686\n",
      "(Epoch 26, iter 250/787) Average loss so far: 2.678\n",
      "(Epoch 26, iter 300/787) Average loss so far: 2.668\n",
      "(Epoch 26, iter 350/787) Average loss so far: 2.687\n",
      "(Epoch 26, iter 400/787) Average loss so far: 2.667\n",
      "(Epoch 26, iter 450/787) Average loss so far: 2.661\n",
      "(Epoch 26, iter 500/787) Average loss so far: 2.681\n",
      "(Epoch 26, iter 550/787) Average loss so far: 2.689\n",
      "(Epoch 26, iter 600/787) Average loss so far: 2.655\n",
      "(Epoch 26, iter 650/787) Average loss so far: 2.680\n",
      "(Epoch 26, iter 700/787) Average loss so far: 2.657\n",
      "(Epoch 26, iter 750/787) Average loss so far: 2.667\n",
      "Average epoch loss: 2.672\n",
      "This epoch took 5.971899783611297 mins. Time remaining: 0.0 hrs 17.0 mins.\n"
     ]
    },
    {
     "name": "stderr",
     "output_type": "stream",
     "text": [
      "7it [00:00,  8.29it/s]\n"
     ]
    },
    {
     "name": "stdout",
     "output_type": "stream",
     "text": [
      "validation loss: 3.190984317234584\n"
     ]
    },
    {
     "name": "stderr",
     "output_type": "stream",
     "text": [
      "100%|██████████| 7/7 [00:02<00:00,  3.10it/s]\n",
      "100%|██████████| 793/793 [00:01<00:00, 678.46it/s]\n"
     ]
    },
    {
     "name": "stdout",
     "output_type": "stream",
     "text": [
      "BLEU score: 0.04477507155847262, METEOR score: 0.19652649610987258\n",
      "Starting epoch 28/30, enc lr scheduler: [3.4227024433899005e-05], dec lr scheduler: [3.4227024433899005e-05]\n",
      "(Epoch 27, iter 50/787) Average loss so far: 2.688\n",
      "(Epoch 27, iter 100/787) Average loss so far: 2.668\n",
      "(Epoch 27, iter 150/787) Average loss so far: 2.669\n",
      "(Epoch 27, iter 200/787) Average loss so far: 2.668\n",
      "(Epoch 27, iter 250/787) Average loss so far: 2.677\n",
      "(Epoch 27, iter 300/787) Average loss so far: 2.678\n",
      "(Epoch 27, iter 350/787) Average loss so far: 2.672\n",
      "(Epoch 27, iter 400/787) Average loss so far: 2.675\n",
      "(Epoch 27, iter 450/787) Average loss so far: 2.645\n",
      "(Epoch 27, iter 500/787) Average loss so far: 2.663\n",
      "(Epoch 27, iter 550/787) Average loss so far: 2.667\n",
      "(Epoch 27, iter 600/787) Average loss so far: 2.666\n",
      "(Epoch 27, iter 650/787) Average loss so far: 2.684\n",
      "(Epoch 27, iter 700/787) Average loss so far: 2.673\n",
      "(Epoch 27, iter 750/787) Average loss so far: 2.664\n",
      "Average epoch loss: 2.670\n",
      "This epoch took 5.924192730585734 mins. Time remaining: 0.0 hrs 11.0 mins.\n"
     ]
    },
    {
     "name": "stderr",
     "output_type": "stream",
     "text": [
      "7it [00:00,  8.23it/s]\n"
     ]
    },
    {
     "name": "stdout",
     "output_type": "stream",
     "text": [
      "validation loss: 3.191187177385603\n"
     ]
    },
    {
     "name": "stderr",
     "output_type": "stream",
     "text": [
      "100%|██████████| 7/7 [00:02<00:00,  3.29it/s]\n",
      "100%|██████████| 793/793 [00:01<00:00, 711.73it/s]\n"
     ]
    },
    {
     "name": "stdout",
     "output_type": "stream",
     "text": [
      "BLEU score: 0.04755797880330766, METEOR score: 0.20054605031876846\n",
      "Starting epoch 29/30, enc lr scheduler: [2.0816937636766188e-05], dec lr scheduler: [2.0816937636766188e-05]\n",
      "(Epoch 28, iter 50/787) Average loss so far: 2.658\n",
      "(Epoch 28, iter 100/787) Average loss so far: 2.680\n",
      "(Epoch 28, iter 150/787) Average loss so far: 2.687\n",
      "(Epoch 28, iter 200/787) Average loss so far: 2.667\n",
      "(Epoch 28, iter 250/787) Average loss so far: 2.670\n",
      "(Epoch 28, iter 300/787) Average loss so far: 2.676\n",
      "(Epoch 28, iter 350/787) Average loss so far: 2.678\n",
      "(Epoch 28, iter 400/787) Average loss so far: 2.680\n",
      "(Epoch 28, iter 450/787) Average loss so far: 2.667\n",
      "(Epoch 28, iter 500/787) Average loss so far: 2.670\n",
      "(Epoch 28, iter 550/787) Average loss so far: 2.669\n",
      "(Epoch 28, iter 600/787) Average loss so far: 2.635\n",
      "(Epoch 28, iter 650/787) Average loss so far: 2.672\n",
      "(Epoch 28, iter 700/787) Average loss so far: 2.669\n",
      "(Epoch 28, iter 750/787) Average loss so far: 2.660\n",
      "Average epoch loss: 2.669\n",
      "This epoch took 5.942501409848531 mins. Time remaining: 0.0 hrs 5.0 mins.\n"
     ]
    },
    {
     "name": "stderr",
     "output_type": "stream",
     "text": [
      "7it [00:00,  8.34it/s]\n"
     ]
    },
    {
     "name": "stdout",
     "output_type": "stream",
     "text": [
      "validation loss: 3.1912351676395962\n"
     ]
    },
    {
     "name": "stderr",
     "output_type": "stream",
     "text": [
      "100%|██████████| 7/7 [00:02<00:00,  3.14it/s]\n",
      "100%|██████████| 793/793 [00:01<00:00, 689.02it/s]\n"
     ]
    },
    {
     "name": "stdout",
     "output_type": "stream",
     "text": [
      "BLEU score: 0.04576639965453813, METEOR score: 0.19814575935905007\n",
      "Starting epoch 30/30, enc lr scheduler: [1.2711661792704668e-05], dec lr scheduler: [1.2711661792704668e-05]\n",
      "(Epoch 29, iter 50/787) Average loss so far: 2.674\n",
      "(Epoch 29, iter 100/787) Average loss so far: 2.674\n",
      "(Epoch 29, iter 150/787) Average loss so far: 2.675\n",
      "(Epoch 29, iter 200/787) Average loss so far: 2.647\n",
      "(Epoch 29, iter 250/787) Average loss so far: 2.673\n",
      "(Epoch 29, iter 300/787) Average loss so far: 2.653\n",
      "(Epoch 29, iter 350/787) Average loss so far: 2.662\n",
      "(Epoch 29, iter 400/787) Average loss so far: 2.661\n",
      "(Epoch 29, iter 450/787) Average loss so far: 2.664\n",
      "(Epoch 29, iter 500/787) Average loss so far: 2.695\n",
      "(Epoch 29, iter 550/787) Average loss so far: 2.670\n",
      "(Epoch 29, iter 600/787) Average loss so far: 2.660\n",
      "(Epoch 29, iter 650/787) Average loss so far: 2.679\n",
      "(Epoch 29, iter 700/787) Average loss so far: 2.666\n",
      "(Epoch 29, iter 750/787) Average loss so far: 2.656\n",
      "Average epoch loss: 2.668\n",
      "This epoch took 5.976911421616872 mins. Time remaining: 0.0 hrs 0.0 mins.\n"
     ]
    },
    {
     "name": "stderr",
     "output_type": "stream",
     "text": [
      "7it [00:00,  8.36it/s]\n"
     ]
    },
    {
     "name": "stdout",
     "output_type": "stream",
     "text": [
      "validation loss: 3.191310610089983\n"
     ]
    },
    {
     "name": "stderr",
     "output_type": "stream",
     "text": [
      "100%|██████████| 7/7 [00:02<00:00,  3.16it/s]\n",
      "100%|██████████| 793/793 [00:01<00:00, 697.13it/s]"
     ]
    },
    {
     "name": "stdout",
     "output_type": "stream",
     "text": [
      "BLEU score: 0.045667970073548995, METEOR score: 0.19664536921554326\n"
     ]
    },
    {
     "name": "stderr",
     "output_type": "stream",
     "text": [
      "\n"
     ]
    }
   ],
   "source": [
    "initial_lr=1e-3\n",
    "min_lr = 1e-5\n",
    "n_epochs = 30\n",
    "batch_size=128\n",
    "encoder_optimizer = optim.Adam(encoder.parameters(), lr=initial_lr)\n",
    "decoder_optimizer = optim.Adam(decoder.parameters(), lr=initial_lr)\n",
    "enc_scheduler = CosineAnnealingLR(encoder_optimizer, T_max=n_epochs, eta_min=min_lr)\n",
    "dec_scheduler = CosineAnnealingLR(decoder_optimizer, T_max=n_epochs, eta_min=min_lr)\n",
    "# enc_scheduler = MultiStepLR(encoder_optimizer, milestones=[15], gamma=0.1)\n",
    "# dec_scheduler = MultiStepLR(decoder_optimizer, milestones=[15], gamma=0.1)\n",
    "identifier=\"adam_without_intermediate_tags_with_val_wd0_lr1e-3\"\n",
    "epoch_losses, val_epoch_losses, log = train(encoder, decoder, encoder_optimizer, decoder_optimizer, train_ds, \n",
    "                     n_epochs=n_epochs, vocab=vocab, decoder_mode=\"basic\", batch_size=batch_size, \n",
    "                     enc_lr_scheduler=enc_scheduler, dec_lr_scheduler=dec_scheduler, \n",
    "                     dev_ds_val_loss = dev_ds_val_loss, dev_ds_val_met=dev_ds_val_met, identifier=identifier,\n",
    "                     verbose_iter_interval=50)\n",
    "\n",
    "save_log(identifier, log, encoder_optimizer, decoder_optimizer, enc_scheduler, dec_scheduler)"
   ]
  },
  {
   "cell_type": "markdown",
   "metadata": {},
   "source": [
    "## Encoder-Decoder (Attention)"
   ]
  },
  {
   "cell_type": "code",
   "execution_count": 11,
   "metadata": {},
   "outputs": [],
   "source": [
    "reset_rng()"
   ]
  },
  {
   "cell_type": "code",
   "execution_count": 12,
   "metadata": {},
   "outputs": [],
   "source": [
    "embedding_size=300\n",
    "encoder_attn = EncoderRNN(vocab.n_unique_words, embedding_size=embedding_size, hidden_size=HIDDEN_SIZE, padding_value=vocab.word2index(PAD_WORD)).to(DEVICE)\n",
    "# in the training script, decoder is always fed a non-end token and thus never needs to generate padding\n",
    "# also it should never generate \"<UNKNOWN>\"\n",
    "# decoder = DecoderRNN(embedding_size=embedding_size,hidden_size=HIDDEN_SIZE, output_size=vocab.n_unique_words-2).to(DEVICE)\n",
    "decoder_attn = AttnDecoderRNN(embedding_size, hidden_size=HIDDEN_SIZE, output_size=vocab.n_unique_words-1, padding_val=vocab.word2index(PAD_WORD), \n",
    "                              dropout=DROPOUT).to(DEVICE)"
   ]
  },
  {
   "cell_type": "code",
   "execution_count": 13,
   "metadata": {},
   "outputs": [
    {
     "name": "stdout",
     "output_type": "stream",
     "text": [
      "Starting epoch 1/30, enc lr scheduler: [0.001], dec lr scheduler: [0.001]\n",
      "(Epoch 0, iter 50/787) Average loss so far: 6.972\n",
      "(Epoch 0, iter 100/787) Average loss so far: 6.023\n",
      "(Epoch 0, iter 150/787) Average loss so far: 5.968\n",
      "(Epoch 0, iter 200/787) Average loss so far: 5.927\n",
      "(Epoch 0, iter 250/787) Average loss so far: 5.877\n",
      "(Epoch 0, iter 300/787) Average loss so far: 5.818\n",
      "(Epoch 0, iter 350/787) Average loss so far: 5.785\n",
      "(Epoch 0, iter 400/787) Average loss so far: 5.725\n",
      "(Epoch 0, iter 450/787) Average loss so far: 5.683\n",
      "(Epoch 0, iter 500/787) Average loss so far: 5.621\n",
      "(Epoch 0, iter 550/787) Average loss so far: 5.551\n",
      "(Epoch 0, iter 600/787) Average loss so far: 5.440\n",
      "(Epoch 0, iter 650/787) Average loss so far: 5.360\n",
      "(Epoch 0, iter 700/787) Average loss so far: 5.215\n",
      "(Epoch 0, iter 750/787) Average loss so far: 5.093\n",
      "Average epoch loss: 5.701\n",
      "This epoch took 8.194433637460072 mins. Time remaining: 3.0 hrs 57.0 mins.\n"
     ]
    },
    {
     "name": "stderr",
     "output_type": "stream",
     "text": [
      "7it [00:01,  5.45it/s]\n"
     ]
    },
    {
     "name": "stdout",
     "output_type": "stream",
     "text": [
      "validation loss: 4.93167952128819\n"
     ]
    },
    {
     "name": "stderr",
     "output_type": "stream",
     "text": [
      "100%|██████████| 7/7 [00:07<00:00,  1.13s/it]\n",
      "100%|██████████| 793/793 [00:08<00:00, 95.55it/s] \n"
     ]
    },
    {
     "name": "stdout",
     "output_type": "stream",
     "text": [
      "BLEU score: 0.002800126985071343, METEOR score: 0.08576382563509898\n",
      "Starting epoch 2/30, enc lr scheduler: [0.0009972883382072953], dec lr scheduler: [0.0009972883382072953]\n",
      "(Epoch 1, iter 50/787) Average loss so far: 4.863\n",
      "(Epoch 1, iter 100/787) Average loss so far: 4.706\n",
      "(Epoch 1, iter 150/787) Average loss so far: 4.641\n",
      "(Epoch 1, iter 200/787) Average loss so far: 4.523\n",
      "(Epoch 1, iter 250/787) Average loss so far: 4.437\n",
      "(Epoch 1, iter 300/787) Average loss so far: 4.366\n",
      "(Epoch 1, iter 350/787) Average loss so far: 4.295\n",
      "(Epoch 1, iter 400/787) Average loss so far: 4.248\n",
      "(Epoch 1, iter 450/787) Average loss so far: 4.186\n",
      "(Epoch 1, iter 500/787) Average loss so far: 4.133\n",
      "(Epoch 1, iter 550/787) Average loss so far: 4.082\n",
      "(Epoch 1, iter 600/787) Average loss so far: 4.041\n",
      "(Epoch 1, iter 650/787) Average loss so far: 4.004\n",
      "(Epoch 1, iter 700/787) Average loss so far: 3.956\n",
      "(Epoch 1, iter 750/787) Average loss so far: 3.932\n",
      "Average epoch loss: 4.277\n",
      "This epoch took 8.073306282361349 mins. Time remaining: 3.0 hrs 46.0 mins.\n"
     ]
    },
    {
     "name": "stderr",
     "output_type": "stream",
     "text": [
      "7it [00:01,  5.24it/s]\n"
     ]
    },
    {
     "name": "stdout",
     "output_type": "stream",
     "text": [
      "validation loss: 3.926896367754255\n"
     ]
    },
    {
     "name": "stderr",
     "output_type": "stream",
     "text": [
      "100%|██████████| 7/7 [00:07<00:00,  1.05s/it]\n",
      "100%|██████████| 793/793 [00:07<00:00, 112.04it/s]\n"
     ]
    },
    {
     "name": "stdout",
     "output_type": "stream",
     "text": [
      "BLEU score: 0.005528415216107959, METEOR score: 0.1087509998355728\n",
      "Starting epoch 3/30, enc lr scheduler: [0.0009891830623632338], dec lr scheduler: [0.0009891830623632338]\n",
      "(Epoch 2, iter 50/787) Average loss so far: 3.866\n",
      "(Epoch 2, iter 100/787) Average loss so far: 3.844\n",
      "(Epoch 2, iter 150/787) Average loss so far: 3.818\n",
      "(Epoch 2, iter 200/787) Average loss so far: 3.778\n",
      "(Epoch 2, iter 250/787) Average loss so far: 3.752\n",
      "(Epoch 2, iter 300/787) Average loss so far: 3.761\n",
      "(Epoch 2, iter 350/787) Average loss so far: 3.706\n",
      "(Epoch 2, iter 400/787) Average loss so far: 3.690\n",
      "(Epoch 2, iter 450/787) Average loss so far: 3.667\n",
      "(Epoch 2, iter 500/787) Average loss so far: 3.662\n",
      "(Epoch 2, iter 550/787) Average loss so far: 3.666\n",
      "(Epoch 2, iter 600/787) Average loss so far: 3.646\n",
      "(Epoch 2, iter 650/787) Average loss so far: 3.610\n",
      "(Epoch 2, iter 700/787) Average loss so far: 3.615\n",
      "(Epoch 2, iter 750/787) Average loss so far: 3.572\n",
      "Average epoch loss: 3.704\n",
      "This epoch took 8.144790331522623 mins. Time remaining: 3.0 hrs 39.0 mins.\n"
     ]
    },
    {
     "name": "stderr",
     "output_type": "stream",
     "text": [
      "7it [00:01,  5.53it/s]\n"
     ]
    },
    {
     "name": "stdout",
     "output_type": "stream",
     "text": [
      "validation loss: 3.6217985493796214\n"
     ]
    },
    {
     "name": "stderr",
     "output_type": "stream",
     "text": [
      "100%|██████████| 7/7 [00:04<00:00,  1.51it/s]\n",
      "100%|██████████| 793/793 [00:03<00:00, 240.20it/s]\n"
     ]
    },
    {
     "name": "stdout",
     "output_type": "stream",
     "text": [
      "BLEU score: 0.015059414822228353, METEOR score: 0.1608885573065793\n",
      "Starting epoch 4/30, enc lr scheduler: [0.0009757729755661011], dec lr scheduler: [0.0009757729755661011]\n",
      "(Epoch 3, iter 50/787) Average loss so far: 3.552\n",
      "(Epoch 3, iter 100/787) Average loss so far: 3.533\n",
      "(Epoch 3, iter 150/787) Average loss so far: 3.512\n",
      "(Epoch 3, iter 200/787) Average loss so far: 3.499\n",
      "(Epoch 3, iter 250/787) Average loss so far: 3.503\n",
      "(Epoch 3, iter 300/787) Average loss so far: 3.494\n",
      "(Epoch 3, iter 350/787) Average loss so far: 3.480\n",
      "(Epoch 3, iter 400/787) Average loss so far: 3.455\n",
      "(Epoch 3, iter 450/787) Average loss so far: 3.445\n",
      "(Epoch 3, iter 500/787) Average loss so far: 3.436\n",
      "(Epoch 3, iter 550/787) Average loss so far: 3.436\n",
      "(Epoch 3, iter 600/787) Average loss so far: 3.424\n",
      "(Epoch 3, iter 650/787) Average loss so far: 3.410\n",
      "(Epoch 3, iter 700/787) Average loss so far: 3.401\n",
      "(Epoch 3, iter 750/787) Average loss so far: 3.412\n",
      "Average epoch loss: 3.463\n",
      "This epoch took 8.090149772167205 mins. Time remaining: 3.0 hrs 30.0 mins.\n"
     ]
    },
    {
     "name": "stderr",
     "output_type": "stream",
     "text": [
      "7it [00:01,  5.57it/s]\n"
     ]
    },
    {
     "name": "stdout",
     "output_type": "stream",
     "text": [
      "validation loss: 3.4686967645372664\n"
     ]
    },
    {
     "name": "stderr",
     "output_type": "stream",
     "text": [
      "100%|██████████| 7/7 [00:03<00:00,  1.87it/s]\n",
      "100%|██████████| 793/793 [00:02<00:00, 350.55it/s]\n"
     ]
    },
    {
     "name": "stdout",
     "output_type": "stream",
     "text": [
      "BLEU score: 0.02478974721483497, METEOR score: 0.18132902088830255\n",
      "Starting epoch 5/30, enc lr scheduler: [0.0009572050015330874], dec lr scheduler: [0.0009572050015330874]\n",
      "(Epoch 4, iter 50/787) Average loss so far: 3.370\n",
      "(Epoch 4, iter 100/787) Average loss so far: 3.354\n",
      "(Epoch 4, iter 150/787) Average loss so far: 3.346\n",
      "(Epoch 4, iter 200/787) Average loss so far: 3.360\n",
      "(Epoch 4, iter 250/787) Average loss so far: 3.335\n",
      "(Epoch 4, iter 300/787) Average loss so far: 3.325\n",
      "(Epoch 4, iter 350/787) Average loss so far: 3.323\n",
      "(Epoch 4, iter 400/787) Average loss so far: 3.308\n",
      "(Epoch 4, iter 450/787) Average loss so far: 3.320\n",
      "(Epoch 4, iter 500/787) Average loss so far: 3.303\n",
      "(Epoch 4, iter 550/787) Average loss so far: 3.310\n",
      "(Epoch 4, iter 600/787) Average loss so far: 3.296\n",
      "(Epoch 4, iter 650/787) Average loss so far: 3.290\n",
      "(Epoch 4, iter 700/787) Average loss so far: 3.293\n",
      "(Epoch 4, iter 750/787) Average loss so far: 3.283\n",
      "Average epoch loss: 3.318\n",
      "This epoch took 8.103163651625316 mins. Time remaining: 3.0 hrs 22.0 mins.\n"
     ]
    },
    {
     "name": "stderr",
     "output_type": "stream",
     "text": [
      "7it [00:01,  5.50it/s]\n"
     ]
    },
    {
     "name": "stdout",
     "output_type": "stream",
     "text": [
      "validation loss: 3.376786708831787\n"
     ]
    },
    {
     "name": "stderr",
     "output_type": "stream",
     "text": [
      "100%|██████████| 7/7 [00:04<00:00,  1.44it/s]\n",
      "100%|██████████| 793/793 [00:03<00:00, 216.71it/s]\n"
     ]
    },
    {
     "name": "stdout",
     "output_type": "stream",
     "text": [
      "BLEU score: 0.016797911257019238, METEOR score: 0.17466288946573208\n",
      "Starting epoch 6/30, enc lr scheduler: [0.0009336825748732973], dec lr scheduler: [0.0009336825748732973]\n",
      "(Epoch 5, iter 50/787) Average loss so far: 3.233\n",
      "(Epoch 5, iter 100/787) Average loss so far: 3.250\n",
      "(Epoch 5, iter 150/787) Average loss so far: 3.227\n",
      "(Epoch 5, iter 200/787) Average loss so far: 3.236\n",
      "(Epoch 5, iter 250/787) Average loss so far: 3.215\n",
      "(Epoch 5, iter 300/787) Average loss so far: 3.229\n",
      "(Epoch 5, iter 350/787) Average loss so far: 3.227\n",
      "(Epoch 5, iter 400/787) Average loss so far: 3.229\n",
      "(Epoch 5, iter 450/787) Average loss so far: 3.212\n",
      "(Epoch 5, iter 500/787) Average loss so far: 3.217\n",
      "(Epoch 5, iter 550/787) Average loss so far: 3.221\n",
      "(Epoch 5, iter 600/787) Average loss so far: 3.205\n",
      "(Epoch 5, iter 650/787) Average loss so far: 3.199\n",
      "(Epoch 5, iter 700/787) Average loss so far: 3.194\n",
      "(Epoch 5, iter 750/787) Average loss so far: 3.184\n",
      "Average epoch loss: 3.217\n",
      "This epoch took 8.09989018837611 mins. Time remaining: 3.0 hrs 14.0 mins.\n"
     ]
    },
    {
     "name": "stderr",
     "output_type": "stream",
     "text": [
      "7it [00:01,  5.31it/s]\n"
     ]
    },
    {
     "name": "stdout",
     "output_type": "stream",
     "text": [
      "validation loss: 3.3135062967027937\n"
     ]
    },
    {
     "name": "stderr",
     "output_type": "stream",
     "text": [
      "100%|██████████| 7/7 [00:03<00:00,  1.87it/s]\n",
      "100%|██████████| 793/793 [00:02<00:00, 322.45it/s]\n"
     ]
    },
    {
     "name": "stdout",
     "output_type": "stream",
     "text": [
      "BLEU score: 0.026052313701649024, METEOR score: 0.1865945117369642\n",
      "Starting epoch 7/30, enc lr scheduler: [0.0009054634122155991], dec lr scheduler: [0.0009054634122155991]\n",
      "(Epoch 6, iter 50/787) Average loss so far: 3.171\n",
      "(Epoch 6, iter 100/787) Average loss so far: 3.163\n",
      "(Epoch 6, iter 150/787) Average loss so far: 3.161\n",
      "(Epoch 6, iter 200/787) Average loss so far: 3.149\n",
      "(Epoch 6, iter 250/787) Average loss so far: 3.141\n",
      "(Epoch 6, iter 300/787) Average loss so far: 3.143\n",
      "(Epoch 6, iter 350/787) Average loss so far: 3.139\n",
      "(Epoch 6, iter 400/787) Average loss so far: 3.145\n",
      "(Epoch 6, iter 450/787) Average loss so far: 3.148\n",
      "(Epoch 6, iter 500/787) Average loss so far: 3.133\n",
      "(Epoch 6, iter 550/787) Average loss so far: 3.126\n",
      "(Epoch 6, iter 600/787) Average loss so far: 3.146\n",
      "(Epoch 6, iter 650/787) Average loss so far: 3.121\n",
      "(Epoch 6, iter 700/787) Average loss so far: 3.131\n",
      "(Epoch 6, iter 750/787) Average loss so far: 3.117\n",
      "Average epoch loss: 3.141\n",
      "This epoch took 8.1756121357282 mins. Time remaining: 3.0 hrs 8.0 mins.\n"
     ]
    },
    {
     "name": "stderr",
     "output_type": "stream",
     "text": [
      "7it [00:01,  5.49it/s]\n"
     ]
    },
    {
     "name": "stdout",
     "output_type": "stream",
     "text": [
      "validation loss: 3.277291910988944\n"
     ]
    },
    {
     "name": "stderr",
     "output_type": "stream",
     "text": [
      "100%|██████████| 7/7 [00:03<00:00,  1.86it/s]\n",
      "100%|██████████| 793/793 [00:02<00:00, 339.68it/s]\n"
     ]
    },
    {
     "name": "stdout",
     "output_type": "stream",
     "text": [
      "BLEU score: 0.0272790639424669, METEOR score: 0.1936208372227744\n",
      "Starting epoch 8/30, enc lr scheduler: [0.0008728566886113102], dec lr scheduler: [0.0008728566886113102]\n",
      "(Epoch 7, iter 50/787) Average loss so far: 3.102\n",
      "(Epoch 7, iter 100/787) Average loss so far: 3.099\n",
      "(Epoch 7, iter 150/787) Average loss so far: 3.106\n",
      "(Epoch 7, iter 200/787) Average loss so far: 3.087\n",
      "(Epoch 7, iter 250/787) Average loss so far: 3.083\n",
      "(Epoch 7, iter 300/787) Average loss so far: 3.089\n",
      "(Epoch 7, iter 350/787) Average loss so far: 3.085\n",
      "(Epoch 7, iter 400/787) Average loss so far: 3.076\n",
      "(Epoch 7, iter 450/787) Average loss so far: 3.084\n",
      "(Epoch 7, iter 500/787) Average loss so far: 3.067\n",
      "(Epoch 7, iter 550/787) Average loss so far: 3.081\n",
      "(Epoch 7, iter 600/787) Average loss so far: 3.054\n",
      "(Epoch 7, iter 650/787) Average loss so far: 3.071\n",
      "(Epoch 7, iter 700/787) Average loss so far: 3.076\n",
      "(Epoch 7, iter 750/787) Average loss so far: 3.075\n",
      "Average epoch loss: 3.081\n",
      "This epoch took 8.089503169059753 mins. Time remaining: 2.0 hrs 57.0 mins.\n"
     ]
    },
    {
     "name": "stderr",
     "output_type": "stream",
     "text": [
      "7it [00:01,  5.51it/s]\n"
     ]
    },
    {
     "name": "stdout",
     "output_type": "stream",
     "text": [
      "validation loss: 3.2438402516501292\n"
     ]
    },
    {
     "name": "stderr",
     "output_type": "stream",
     "text": [
      "100%|██████████| 7/7 [00:03<00:00,  2.02it/s]\n",
      "100%|██████████| 793/793 [00:01<00:00, 431.65it/s]\n"
     ]
    },
    {
     "name": "stdout",
     "output_type": "stream",
     "text": [
      "BLEU score: 0.038146458721083895, METEOR score: 0.1998428588672739\n",
      "Starting epoch 9/30, enc lr scheduler: [0.0008362196501476349], dec lr scheduler: [0.0008362196501476349]\n",
      "(Epoch 8, iter 50/787) Average loss so far: 3.045\n",
      "(Epoch 8, iter 100/787) Average loss so far: 3.044\n",
      "(Epoch 8, iter 150/787) Average loss so far: 3.046\n",
      "(Epoch 8, iter 200/787) Average loss so far: 3.050\n",
      "(Epoch 8, iter 250/787) Average loss so far: 3.025\n",
      "(Epoch 8, iter 300/787) Average loss so far: 3.033\n",
      "(Epoch 8, iter 350/787) Average loss so far: 3.038\n",
      "(Epoch 8, iter 400/787) Average loss so far: 3.021\n",
      "(Epoch 8, iter 450/787) Average loss so far: 3.028\n",
      "(Epoch 8, iter 500/787) Average loss so far: 3.025\n",
      "(Epoch 8, iter 550/787) Average loss so far: 3.041\n",
      "(Epoch 8, iter 600/787) Average loss so far: 3.017\n",
      "(Epoch 8, iter 650/787) Average loss so far: 3.017\n",
      "(Epoch 8, iter 700/787) Average loss so far: 3.039\n",
      "(Epoch 8, iter 750/787) Average loss so far: 3.022\n",
      "Average epoch loss: 3.031\n",
      "This epoch took 8.09464071591695 mins. Time remaining: 2.0 hrs 49.0 mins.\n"
     ]
    },
    {
     "name": "stderr",
     "output_type": "stream",
     "text": [
      "7it [00:01,  5.53it/s]\n"
     ]
    },
    {
     "name": "stdout",
     "output_type": "stream",
     "text": [
      "validation loss: 3.2192379406520297\n"
     ]
    },
    {
     "name": "stderr",
     "output_type": "stream",
     "text": [
      "100%|██████████| 7/7 [00:03<00:00,  2.01it/s]\n",
      "100%|██████████| 793/793 [00:01<00:00, 409.40it/s]\n"
     ]
    },
    {
     "name": "stdout",
     "output_type": "stream",
     "text": [
      "BLEU score: 0.036190345080440604, METEOR score: 0.19858925888566942\n",
      "Starting epoch 10/30, enc lr scheduler: [0.0007959536998847742], dec lr scheduler: [0.0007959536998847742]\n",
      "(Epoch 9, iter 50/787) Average loss so far: 3.012\n",
      "(Epoch 9, iter 100/787) Average loss so far: 2.984\n",
      "(Epoch 9, iter 150/787) Average loss so far: 2.981\n",
      "(Epoch 9, iter 200/787) Average loss so far: 2.988\n",
      "(Epoch 9, iter 250/787) Average loss so far: 2.998\n",
      "(Epoch 9, iter 300/787) Average loss so far: 2.991\n",
      "(Epoch 9, iter 350/787) Average loss so far: 3.002\n",
      "(Epoch 9, iter 400/787) Average loss so far: 2.992\n",
      "(Epoch 9, iter 450/787) Average loss so far: 3.007\n",
      "(Epoch 9, iter 500/787) Average loss so far: 2.980\n",
      "(Epoch 9, iter 550/787) Average loss so far: 2.987\n",
      "(Epoch 9, iter 600/787) Average loss so far: 2.970\n",
      "(Epoch 9, iter 650/787) Average loss so far: 2.989\n",
      "(Epoch 9, iter 700/787) Average loss so far: 2.997\n",
      "(Epoch 9, iter 750/787) Average loss so far: 2.971\n",
      "Average epoch loss: 2.990\n",
      "This epoch took 8.119804537296295 mins. Time remaining: 2.0 hrs 42.0 mins.\n"
     ]
    },
    {
     "name": "stderr",
     "output_type": "stream",
     "text": [
      "7it [00:01,  5.47it/s]\n"
     ]
    },
    {
     "name": "stdout",
     "output_type": "stream",
     "text": [
      "validation loss: 3.2011922086988176\n"
     ]
    },
    {
     "name": "stderr",
     "output_type": "stream",
     "text": [
      "100%|██████████| 7/7 [00:03<00:00,  2.08it/s]\n",
      "100%|██████████| 793/793 [00:01<00:00, 448.70it/s]\n"
     ]
    },
    {
     "name": "stdout",
     "output_type": "stream",
     "text": [
      "BLEU score: 0.03947045191983198, METEOR score: 0.19917691253253444\n",
      "Starting epoch 11/30, enc lr scheduler: [0.0007525], dec lr scheduler: [0.0007525]\n",
      "(Epoch 10, iter 50/787) Average loss so far: 2.958\n",
      "(Epoch 10, iter 100/787) Average loss so far: 2.957\n",
      "(Epoch 10, iter 150/787) Average loss so far: 2.941\n",
      "(Epoch 10, iter 200/787) Average loss so far: 2.959\n",
      "(Epoch 10, iter 250/787) Average loss so far: 2.947\n",
      "(Epoch 10, iter 300/787) Average loss so far: 2.957\n",
      "(Epoch 10, iter 350/787) Average loss so far: 2.952\n",
      "(Epoch 10, iter 400/787) Average loss so far: 2.966\n",
      "(Epoch 10, iter 450/787) Average loss so far: 2.948\n",
      "(Epoch 10, iter 500/787) Average loss so far: 2.961\n",
      "(Epoch 10, iter 550/787) Average loss so far: 2.954\n",
      "(Epoch 10, iter 600/787) Average loss so far: 2.947\n",
      "(Epoch 10, iter 650/787) Average loss so far: 2.955\n",
      "(Epoch 10, iter 700/787) Average loss so far: 2.952\n",
      "(Epoch 10, iter 750/787) Average loss so far: 2.965\n",
      "Average epoch loss: 2.955\n",
      "This epoch took 8.114036385218302 mins. Time remaining: 2.0 hrs 34.0 mins.\n"
     ]
    },
    {
     "name": "stderr",
     "output_type": "stream",
     "text": [
      "7it [00:01,  5.57it/s]\n"
     ]
    },
    {
     "name": "stdout",
     "output_type": "stream",
     "text": [
      "validation loss: 3.1880315371922086\n"
     ]
    },
    {
     "name": "stderr",
     "output_type": "stream",
     "text": [
      "100%|██████████| 7/7 [00:03<00:00,  2.01it/s]\n",
      "100%|██████████| 793/793 [00:01<00:00, 432.08it/s]\n"
     ]
    },
    {
     "name": "stdout",
     "output_type": "stream",
     "text": [
      "BLEU score: 0.03707379676793246, METEOR score: 0.20066902120742106\n",
      "Starting epoch 12/30, enc lr scheduler: [0.0007063346383225212], dec lr scheduler: [0.0007063346383225212]\n",
      "(Epoch 11, iter 50/787) Average loss so far: 2.919\n",
      "(Epoch 11, iter 100/787) Average loss so far: 2.936\n",
      "(Epoch 11, iter 150/787) Average loss so far: 2.912\n",
      "(Epoch 11, iter 200/787) Average loss so far: 2.926\n",
      "(Epoch 11, iter 250/787) Average loss so far: 2.933\n",
      "(Epoch 11, iter 300/787) Average loss so far: 2.918\n",
      "(Epoch 11, iter 350/787) Average loss so far: 2.928\n",
      "(Epoch 11, iter 400/787) Average loss so far: 2.931\n",
      "(Epoch 11, iter 450/787) Average loss so far: 2.915\n",
      "(Epoch 11, iter 500/787) Average loss so far: 2.925\n",
      "(Epoch 11, iter 550/787) Average loss so far: 2.922\n",
      "(Epoch 11, iter 600/787) Average loss so far: 2.912\n",
      "(Epoch 11, iter 650/787) Average loss so far: 2.919\n",
      "(Epoch 11, iter 700/787) Average loss so far: 2.929\n",
      "(Epoch 11, iter 750/787) Average loss so far: 2.939\n",
      "Average epoch loss: 2.924\n",
      "This epoch took 8.10150664250056 mins. Time remaining: 2.0 hrs 25.0 mins.\n"
     ]
    },
    {
     "name": "stderr",
     "output_type": "stream",
     "text": [
      "7it [00:01,  5.54it/s]\n"
     ]
    },
    {
     "name": "stdout",
     "output_type": "stream",
     "text": [
      "validation loss: 3.1738901478903636\n"
     ]
    },
    {
     "name": "stderr",
     "output_type": "stream",
     "text": [
      "100%|██████████| 7/7 [00:03<00:00,  1.97it/s]\n",
      "100%|██████████| 793/793 [00:01<00:00, 420.49it/s]\n"
     ]
    },
    {
     "name": "stdout",
     "output_type": "stream",
     "text": [
      "BLEU score: 0.03867613565428751, METEOR score: 0.2017267310038669\n",
      "Starting epoch 13/30, enc lr scheduler: [0.000657963412215599], dec lr scheduler: [0.000657963412215599]\n",
      "(Epoch 12, iter 50/787) Average loss so far: 2.889\n",
      "(Epoch 12, iter 100/787) Average loss so far: 2.888\n",
      "(Epoch 12, iter 150/787) Average loss so far: 2.880\n",
      "(Epoch 12, iter 200/787) Average loss so far: 2.896\n",
      "(Epoch 12, iter 250/787) Average loss so far: 2.896\n",
      "(Epoch 12, iter 300/787) Average loss so far: 2.903\n",
      "(Epoch 12, iter 350/787) Average loss so far: 2.885\n",
      "(Epoch 12, iter 400/787) Average loss so far: 2.904\n",
      "(Epoch 12, iter 450/787) Average loss so far: 2.898\n",
      "(Epoch 12, iter 500/787) Average loss so far: 2.898\n",
      "(Epoch 12, iter 550/787) Average loss so far: 2.892\n",
      "(Epoch 12, iter 600/787) Average loss so far: 2.911\n",
      "(Epoch 12, iter 650/787) Average loss so far: 2.916\n",
      "(Epoch 12, iter 700/787) Average loss so far: 2.894\n",
      "(Epoch 12, iter 750/787) Average loss so far: 2.902\n",
      "Average epoch loss: 2.896\n",
      "This epoch took 8.079897010326386 mins. Time remaining: 2.0 hrs 17.0 mins.\n"
     ]
    },
    {
     "name": "stderr",
     "output_type": "stream",
     "text": [
      "7it [00:01,  5.26it/s]\n"
     ]
    },
    {
     "name": "stdout",
     "output_type": "stream",
     "text": [
      "validation loss: 3.1668037346431186\n"
     ]
    },
    {
     "name": "stderr",
     "output_type": "stream",
     "text": [
      "100%|██████████| 7/7 [00:03<00:00,  1.94it/s]\n",
      "100%|██████████| 793/793 [00:02<00:00, 390.27it/s]\n"
     ]
    },
    {
     "name": "stdout",
     "output_type": "stream",
     "text": [
      "BLEU score: 0.035783646119029455, METEOR score: 0.19836152461714607\n",
      "Starting epoch 14/30, enc lr scheduler: [0.0006079162869547909], dec lr scheduler: [0.0006079162869547909]\n",
      "(Epoch 13, iter 50/787) Average loss so far: 2.883\n",
      "(Epoch 13, iter 100/787) Average loss so far: 2.870\n",
      "(Epoch 13, iter 150/787) Average loss so far: 2.875\n",
      "(Epoch 13, iter 200/787) Average loss so far: 2.870\n",
      "(Epoch 13, iter 250/787) Average loss so far: 2.899\n",
      "(Epoch 13, iter 300/787) Average loss so far: 2.864\n",
      "(Epoch 13, iter 350/787) Average loss so far: 2.870\n",
      "(Epoch 13, iter 400/787) Average loss so far: 2.875\n",
      "(Epoch 13, iter 450/787) Average loss so far: 2.873\n",
      "(Epoch 13, iter 500/787) Average loss so far: 2.873\n",
      "(Epoch 13, iter 550/787) Average loss so far: 2.860\n",
      "(Epoch 13, iter 600/787) Average loss so far: 2.863\n",
      "(Epoch 13, iter 650/787) Average loss so far: 2.887\n",
      "(Epoch 13, iter 700/787) Average loss so far: 2.874\n",
      "(Epoch 13, iter 750/787) Average loss so far: 2.867\n",
      "Average epoch loss: 2.873\n",
      "This epoch took 8.058853403727214 mins. Time remaining: 2.0 hrs 8.0 mins.\n"
     ]
    },
    {
     "name": "stderr",
     "output_type": "stream",
     "text": [
      "7it [00:01,  5.44it/s]\n"
     ]
    },
    {
     "name": "stdout",
     "output_type": "stream",
     "text": [
      "validation loss: 3.1585819721221924\n"
     ]
    },
    {
     "name": "stderr",
     "output_type": "stream",
     "text": [
      "100%|██████████| 7/7 [00:03<00:00,  1.98it/s]\n",
      "100%|██████████| 793/793 [00:01<00:00, 447.37it/s]\n"
     ]
    },
    {
     "name": "stdout",
     "output_type": "stream",
     "text": [
      "BLEU score: 0.04004954169047118, METEOR score: 0.20343329001800056\n",
      "Starting epoch 15/30, enc lr scheduler: [0.0005567415893174886], dec lr scheduler: [0.0005567415893174886]\n",
      "(Epoch 14, iter 50/787) Average loss so far: 2.854\n",
      "(Epoch 14, iter 100/787) Average loss so far: 2.848\n",
      "(Epoch 14, iter 150/787) Average loss so far: 2.840\n",
      "(Epoch 14, iter 200/787) Average loss so far: 2.846\n",
      "(Epoch 14, iter 250/787) Average loss so far: 2.842\n",
      "(Epoch 14, iter 300/787) Average loss so far: 2.861\n",
      "(Epoch 14, iter 350/787) Average loss so far: 2.832\n",
      "(Epoch 14, iter 400/787) Average loss so far: 2.864\n",
      "(Epoch 14, iter 450/787) Average loss so far: 2.858\n",
      "(Epoch 14, iter 500/787) Average loss so far: 2.865\n",
      "(Epoch 14, iter 550/787) Average loss so far: 2.849\n",
      "(Epoch 14, iter 600/787) Average loss so far: 2.854\n",
      "(Epoch 14, iter 650/787) Average loss so far: 2.849\n",
      "(Epoch 14, iter 700/787) Average loss so far: 2.852\n",
      "(Epoch 14, iter 750/787) Average loss so far: 2.866\n",
      "Average epoch loss: 2.852\n",
      "This epoch took 8.125524540742239 mins. Time remaining: 2.0 hrs 1.0 mins.\n"
     ]
    },
    {
     "name": "stderr",
     "output_type": "stream",
     "text": [
      "7it [00:01,  5.75it/s]\n"
     ]
    },
    {
     "name": "stdout",
     "output_type": "stream",
     "text": [
      "validation loss: 3.157423734664917\n"
     ]
    },
    {
     "name": "stderr",
     "output_type": "stream",
     "text": [
      "100%|██████████| 7/7 [00:03<00:00,  2.14it/s]\n",
      "100%|██████████| 793/793 [00:01<00:00, 505.40it/s]\n"
     ]
    },
    {
     "name": "stdout",
     "output_type": "stream",
     "text": [
      "BLEU score: 0.04606436720940942, METEOR score: 0.2026929298648693\n",
      "Starting epoch 16/30, enc lr scheduler: [0.0005050000000000002], dec lr scheduler: [0.0005050000000000002]\n",
      "(Epoch 15, iter 50/787) Average loss so far: 2.824\n",
      "(Epoch 15, iter 100/787) Average loss so far: 2.823\n",
      "(Epoch 15, iter 150/787) Average loss so far: 2.835\n",
      "(Epoch 15, iter 200/787) Average loss so far: 2.824\n",
      "(Epoch 15, iter 250/787) Average loss so far: 2.828\n",
      "(Epoch 15, iter 300/787) Average loss so far: 2.832\n",
      "(Epoch 15, iter 350/787) Average loss so far: 2.837\n",
      "(Epoch 15, iter 400/787) Average loss so far: 2.820\n",
      "(Epoch 15, iter 450/787) Average loss so far: 2.829\n",
      "(Epoch 15, iter 500/787) Average loss so far: 2.846\n",
      "(Epoch 15, iter 550/787) Average loss so far: 2.845\n",
      "(Epoch 15, iter 600/787) Average loss so far: 2.843\n",
      "(Epoch 15, iter 650/787) Average loss so far: 2.838\n",
      "(Epoch 15, iter 700/787) Average loss so far: 2.838\n",
      "(Epoch 15, iter 750/787) Average loss so far: 2.839\n",
      "Average epoch loss: 2.833\n",
      "This epoch took 8.089334380626678 mins. Time remaining: 1.0 hrs 53.0 mins.\n"
     ]
    },
    {
     "name": "stderr",
     "output_type": "stream",
     "text": [
      "7it [00:01,  5.77it/s]\n"
     ]
    },
    {
     "name": "stdout",
     "output_type": "stream",
     "text": [
      "validation loss: 3.1507908276149204\n"
     ]
    },
    {
     "name": "stderr",
     "output_type": "stream",
     "text": [
      "100%|██████████| 7/7 [00:03<00:00,  2.12it/s]\n",
      "100%|██████████| 793/793 [00:01<00:00, 486.39it/s]\n"
     ]
    },
    {
     "name": "stdout",
     "output_type": "stream",
     "text": [
      "BLEU score: 0.04347215230255102, METEOR score: 0.20329518542651354\n",
      "Starting epoch 17/30, enc lr scheduler: [0.0004532584106825117], dec lr scheduler: [0.0004532584106825117]\n",
      "(Epoch 16, iter 50/787) Average loss so far: 2.810\n",
      "(Epoch 16, iter 100/787) Average loss so far: 2.807\n",
      "(Epoch 16, iter 150/787) Average loss so far: 2.817\n",
      "(Epoch 16, iter 200/787) Average loss so far: 2.800\n",
      "(Epoch 16, iter 250/787) Average loss so far: 2.812\n",
      "(Epoch 16, iter 300/787) Average loss so far: 2.820\n",
      "(Epoch 16, iter 350/787) Average loss so far: 2.824\n",
      "(Epoch 16, iter 400/787) Average loss so far: 2.830\n",
      "(Epoch 16, iter 450/787) Average loss so far: 2.818\n",
      "(Epoch 16, iter 500/787) Average loss so far: 2.829\n",
      "(Epoch 16, iter 550/787) Average loss so far: 2.807\n",
      "(Epoch 16, iter 600/787) Average loss so far: 2.812\n",
      "(Epoch 16, iter 650/787) Average loss so far: 2.816\n",
      "(Epoch 16, iter 700/787) Average loss so far: 2.799\n",
      "(Epoch 16, iter 750/787) Average loss so far: 2.830\n",
      "Average epoch loss: 2.816\n",
      "This epoch took 8.11363825003306 mins. Time remaining: 1.0 hrs 45.0 mins.\n"
     ]
    },
    {
     "name": "stderr",
     "output_type": "stream",
     "text": [
      "7it [00:01,  5.44it/s]\n"
     ]
    },
    {
     "name": "stdout",
     "output_type": "stream",
     "text": [
      "validation loss: 3.146672351019723\n"
     ]
    },
    {
     "name": "stderr",
     "output_type": "stream",
     "text": [
      "100%|██████████| 7/7 [00:03<00:00,  2.15it/s]\n",
      "100%|██████████| 793/793 [00:01<00:00, 494.13it/s]\n"
     ]
    },
    {
     "name": "stdout",
     "output_type": "stream",
     "text": [
      "BLEU score: 0.04394619733107649, METEOR score: 0.2021709564532238\n",
      "Starting epoch 18/30, enc lr scheduler: [0.00040208371304520916], dec lr scheduler: [0.00040208371304520916]\n",
      "(Epoch 17, iter 50/787) Average loss so far: 2.801\n",
      "(Epoch 17, iter 100/787) Average loss so far: 2.796\n",
      "(Epoch 17, iter 150/787) Average loss so far: 2.805\n",
      "(Epoch 17, iter 200/787) Average loss so far: 2.794\n",
      "(Epoch 17, iter 250/787) Average loss so far: 2.784\n",
      "(Epoch 17, iter 300/787) Average loss so far: 2.814\n",
      "(Epoch 17, iter 350/787) Average loss so far: 2.790\n",
      "(Epoch 17, iter 400/787) Average loss so far: 2.786\n",
      "(Epoch 17, iter 450/787) Average loss so far: 2.808\n",
      "(Epoch 17, iter 500/787) Average loss so far: 2.801\n",
      "(Epoch 17, iter 550/787) Average loss so far: 2.797\n",
      "(Epoch 17, iter 600/787) Average loss so far: 2.811\n",
      "(Epoch 17, iter 650/787) Average loss so far: 2.809\n",
      "(Epoch 17, iter 700/787) Average loss so far: 2.813\n",
      "(Epoch 17, iter 750/787) Average loss so far: 2.814\n",
      "Average epoch loss: 2.802\n",
      "This epoch took 8.12422217130661 mins. Time remaining: 1.0 hrs 37.0 mins.\n"
     ]
    },
    {
     "name": "stderr",
     "output_type": "stream",
     "text": [
      "7it [00:01,  5.54it/s]\n"
     ]
    },
    {
     "name": "stdout",
     "output_type": "stream",
     "text": [
      "validation loss: 3.144554853439331\n"
     ]
    },
    {
     "name": "stderr",
     "output_type": "stream",
     "text": [
      "100%|██████████| 7/7 [00:03<00:00,  2.18it/s]\n",
      "100%|██████████| 793/793 [00:01<00:00, 539.82it/s]\n"
     ]
    },
    {
     "name": "stdout",
     "output_type": "stream",
     "text": [
      "BLEU score: 0.050306488687707214, METEOR score: 0.2085596593048818\n",
      "Starting epoch 19/30, enc lr scheduler: [0.00035203658778440114], dec lr scheduler: [0.00035203658778440114]\n",
      "(Epoch 18, iter 50/787) Average loss so far: 2.776\n",
      "(Epoch 18, iter 100/787) Average loss so far: 2.779\n",
      "(Epoch 18, iter 150/787) Average loss so far: 2.778\n",
      "(Epoch 18, iter 200/787) Average loss so far: 2.786\n",
      "(Epoch 18, iter 250/787) Average loss so far: 2.788\n",
      "(Epoch 18, iter 300/787) Average loss so far: 2.771\n",
      "(Epoch 18, iter 350/787) Average loss so far: 2.792\n",
      "(Epoch 18, iter 400/787) Average loss so far: 2.808\n",
      "(Epoch 18, iter 450/787) Average loss so far: 2.795\n",
      "(Epoch 18, iter 500/787) Average loss so far: 2.784\n",
      "(Epoch 18, iter 550/787) Average loss so far: 2.794\n",
      "(Epoch 18, iter 600/787) Average loss so far: 2.780\n",
      "(Epoch 18, iter 650/787) Average loss so far: 2.786\n",
      "(Epoch 18, iter 700/787) Average loss so far: 2.799\n",
      "(Epoch 18, iter 750/787) Average loss so far: 2.798\n",
      "Average epoch loss: 2.788\n",
      "This epoch took 8.187793207168578 mins. Time remaining: 1.0 hrs 30.0 mins.\n"
     ]
    },
    {
     "name": "stderr",
     "output_type": "stream",
     "text": [
      "7it [00:01,  5.48it/s]\n"
     ]
    },
    {
     "name": "stdout",
     "output_type": "stream",
     "text": [
      "validation loss: 3.139380386897496\n"
     ]
    },
    {
     "name": "stderr",
     "output_type": "stream",
     "text": [
      "100%|██████████| 7/7 [00:03<00:00,  2.20it/s]\n",
      "100%|██████████| 793/793 [00:01<00:00, 524.64it/s]\n"
     ]
    },
    {
     "name": "stdout",
     "output_type": "stream",
     "text": [
      "BLEU score: 0.05073499908229344, METEOR score: 0.20909495784132945\n",
      "Starting epoch 20/30, enc lr scheduler: [0.00030366536167747904], dec lr scheduler: [0.00030366536167747904]\n",
      "(Epoch 19, iter 50/787) Average loss so far: 2.776\n",
      "(Epoch 19, iter 100/787) Average loss so far: 2.776\n",
      "(Epoch 19, iter 150/787) Average loss so far: 2.768\n",
      "(Epoch 19, iter 200/787) Average loss so far: 2.764\n",
      "(Epoch 19, iter 250/787) Average loss so far: 2.763\n",
      "(Epoch 19, iter 300/787) Average loss so far: 2.781\n",
      "(Epoch 19, iter 350/787) Average loss so far: 2.774\n",
      "(Epoch 19, iter 400/787) Average loss so far: 2.779\n",
      "(Epoch 19, iter 450/787) Average loss so far: 2.769\n",
      "(Epoch 19, iter 500/787) Average loss so far: 2.786\n",
      "(Epoch 19, iter 550/787) Average loss so far: 2.772\n",
      "(Epoch 19, iter 600/787) Average loss so far: 2.777\n",
      "(Epoch 19, iter 650/787) Average loss so far: 2.790\n",
      "(Epoch 19, iter 700/787) Average loss so far: 2.769\n",
      "(Epoch 19, iter 750/787) Average loss so far: 2.797\n",
      "Average epoch loss: 2.777\n",
      "This epoch took 8.119319772720337 mins. Time remaining: 1.0 hrs 21.0 mins.\n"
     ]
    },
    {
     "name": "stderr",
     "output_type": "stream",
     "text": [
      "7it [00:01,  5.18it/s]\n"
     ]
    },
    {
     "name": "stdout",
     "output_type": "stream",
     "text": [
      "validation loss: 3.1408518382481168\n"
     ]
    },
    {
     "name": "stderr",
     "output_type": "stream",
     "text": [
      "100%|██████████| 7/7 [00:03<00:00,  2.24it/s]\n",
      "100%|██████████| 793/793 [00:01<00:00, 574.52it/s]\n"
     ]
    },
    {
     "name": "stdout",
     "output_type": "stream",
     "text": [
      "BLEU score: 0.05228166600737611, METEOR score: 0.20709094525810967\n",
      "Starting epoch 21/30, enc lr scheduler: [0.00025750000000000013], dec lr scheduler: [0.00025750000000000013]\n",
      "(Epoch 20, iter 50/787) Average loss so far: 2.769\n",
      "(Epoch 20, iter 100/787) Average loss so far: 2.758\n",
      "(Epoch 20, iter 150/787) Average loss so far: 2.767\n",
      "(Epoch 20, iter 200/787) Average loss so far: 2.772\n",
      "(Epoch 20, iter 250/787) Average loss so far: 2.776\n",
      "(Epoch 20, iter 300/787) Average loss so far: 2.772\n",
      "(Epoch 20, iter 350/787) Average loss so far: 2.749\n",
      "(Epoch 20, iter 400/787) Average loss so far: 2.774\n",
      "(Epoch 20, iter 450/787) Average loss so far: 2.760\n",
      "(Epoch 20, iter 500/787) Average loss so far: 2.759\n",
      "(Epoch 20, iter 550/787) Average loss so far: 2.761\n",
      "(Epoch 20, iter 600/787) Average loss so far: 2.778\n",
      "(Epoch 20, iter 650/787) Average loss so far: 2.762\n",
      "(Epoch 20, iter 700/787) Average loss so far: 2.777\n",
      "(Epoch 20, iter 750/787) Average loss so far: 2.765\n",
      "Average epoch loss: 2.767\n",
      "This epoch took 8.181585311889648 mins. Time remaining: 1.0 hrs 13.0 mins.\n"
     ]
    },
    {
     "name": "stderr",
     "output_type": "stream",
     "text": [
      "7it [00:01,  5.42it/s]\n"
     ]
    },
    {
     "name": "stdout",
     "output_type": "stream",
     "text": [
      "validation loss: 3.1391042300633023\n"
     ]
    },
    {
     "name": "stderr",
     "output_type": "stream",
     "text": [
      "100%|██████████| 7/7 [00:02<00:00,  2.38it/s]\n",
      "100%|██████████| 793/793 [00:01<00:00, 609.62it/s]\n"
     ]
    },
    {
     "name": "stdout",
     "output_type": "stream",
     "text": [
      "BLEU score: 0.05379213235939195, METEOR score: 0.2088759308593728\n",
      "Starting epoch 22/30, enc lr scheduler: [0.00021404630011522585], dec lr scheduler: [0.00021404630011522585]\n",
      "(Epoch 21, iter 50/787) Average loss so far: 2.759\n",
      "(Epoch 21, iter 100/787) Average loss so far: 2.741\n",
      "(Epoch 21, iter 150/787) Average loss so far: 2.746\n",
      "(Epoch 21, iter 200/787) Average loss so far: 2.776\n",
      "(Epoch 21, iter 250/787) Average loss so far: 2.746\n",
      "(Epoch 21, iter 300/787) Average loss so far: 2.761\n",
      "(Epoch 21, iter 350/787) Average loss so far: 2.762\n",
      "(Epoch 21, iter 400/787) Average loss so far: 2.763\n",
      "(Epoch 21, iter 450/787) Average loss so far: 2.759\n",
      "(Epoch 21, iter 500/787) Average loss so far: 2.751\n",
      "(Epoch 21, iter 550/787) Average loss so far: 2.757\n",
      "(Epoch 21, iter 600/787) Average loss so far: 2.773\n",
      "(Epoch 21, iter 650/787) Average loss so far: 2.748\n",
      "(Epoch 21, iter 700/787) Average loss so far: 2.769\n",
      "(Epoch 21, iter 750/787) Average loss so far: 2.743\n",
      "Average epoch loss: 2.758\n",
      "This epoch took 8.174315893650055 mins. Time remaining: 1.0 hrs 5.0 mins.\n"
     ]
    },
    {
     "name": "stderr",
     "output_type": "stream",
     "text": [
      "7it [00:01,  5.51it/s]\n"
     ]
    },
    {
     "name": "stdout",
     "output_type": "stream",
     "text": [
      "validation loss: 3.1356898035321916\n"
     ]
    },
    {
     "name": "stderr",
     "output_type": "stream",
     "text": [
      "100%|██████████| 7/7 [00:03<00:00,  2.20it/s]\n",
      "100%|██████████| 793/793 [00:01<00:00, 558.30it/s]\n"
     ]
    },
    {
     "name": "stdout",
     "output_type": "stream",
     "text": [
      "BLEU score: 0.0521244945980193, METEOR score: 0.20665171059130683\n",
      "Starting epoch 23/30, enc lr scheduler: [0.00017378034985236535], dec lr scheduler: [0.00017378034985236535]\n",
      "(Epoch 22, iter 50/787) Average loss so far: 2.743\n",
      "(Epoch 22, iter 100/787) Average loss so far: 2.736\n",
      "(Epoch 22, iter 150/787) Average loss so far: 2.749\n",
      "(Epoch 22, iter 200/787) Average loss so far: 2.755\n",
      "(Epoch 22, iter 250/787) Average loss so far: 2.747\n",
      "(Epoch 22, iter 300/787) Average loss so far: 2.757\n",
      "(Epoch 22, iter 350/787) Average loss so far: 2.755\n",
      "(Epoch 22, iter 400/787) Average loss so far: 2.744\n",
      "(Epoch 22, iter 450/787) Average loss so far: 2.758\n",
      "(Epoch 22, iter 500/787) Average loss so far: 2.746\n",
      "(Epoch 22, iter 550/787) Average loss so far: 2.760\n",
      "(Epoch 22, iter 600/787) Average loss so far: 2.766\n",
      "(Epoch 22, iter 650/787) Average loss so far: 2.742\n",
      "(Epoch 22, iter 700/787) Average loss so far: 2.747\n",
      "(Epoch 22, iter 750/787) Average loss so far: 2.749\n",
      "Average epoch loss: 2.750\n",
      "This epoch took 7.989608466625214 mins. Time remaining: 0.0 hrs 55.0 mins.\n"
     ]
    },
    {
     "name": "stderr",
     "output_type": "stream",
     "text": [
      "7it [00:01,  5.36it/s]\n"
     ]
    },
    {
     "name": "stdout",
     "output_type": "stream",
     "text": [
      "validation loss: 3.1357997144971574\n"
     ]
    },
    {
     "name": "stderr",
     "output_type": "stream",
     "text": [
      "100%|██████████| 7/7 [00:02<00:00,  2.43it/s]\n",
      "100%|██████████| 793/793 [00:01<00:00, 591.51it/s]\n"
     ]
    },
    {
     "name": "stdout",
     "output_type": "stream",
     "text": [
      "BLEU score: 0.05242640382134315, METEOR score: 0.20686833056692383\n",
      "Starting epoch 24/30, enc lr scheduler: [0.00013714331138868998], dec lr scheduler: [0.00013714331138868998]\n",
      "(Epoch 23, iter 50/787) Average loss so far: 2.736\n",
      "(Epoch 23, iter 100/787) Average loss so far: 2.744\n",
      "(Epoch 23, iter 150/787) Average loss so far: 2.725\n",
      "(Epoch 23, iter 200/787) Average loss so far: 2.741\n",
      "(Epoch 23, iter 250/787) Average loss so far: 2.745\n",
      "(Epoch 23, iter 300/787) Average loss so far: 2.746\n",
      "(Epoch 23, iter 350/787) Average loss so far: 2.734\n",
      "(Epoch 23, iter 400/787) Average loss so far: 2.747\n",
      "(Epoch 23, iter 450/787) Average loss so far: 2.741\n",
      "(Epoch 23, iter 500/787) Average loss so far: 2.734\n",
      "(Epoch 23, iter 550/787) Average loss so far: 2.739\n",
      "(Epoch 23, iter 600/787) Average loss so far: 2.744\n",
      "(Epoch 23, iter 650/787) Average loss so far: 2.765\n",
      "(Epoch 23, iter 700/787) Average loss so far: 2.758\n",
      "(Epoch 23, iter 750/787) Average loss so far: 2.746\n",
      "Average epoch loss: 2.744\n",
      "This epoch took 8.09567631483078 mins. Time remaining: 0.0 hrs 48.0 mins.\n"
     ]
    },
    {
     "name": "stderr",
     "output_type": "stream",
     "text": [
      "7it [00:01,  5.40it/s]\n"
     ]
    },
    {
     "name": "stdout",
     "output_type": "stream",
     "text": [
      "validation loss: 3.135296242577689\n"
     ]
    },
    {
     "name": "stderr",
     "output_type": "stream",
     "text": [
      "100%|██████████| 7/7 [00:03<00:00,  2.24it/s]\n",
      "100%|██████████| 793/793 [00:01<00:00, 603.28it/s]\n"
     ]
    },
    {
     "name": "stdout",
     "output_type": "stream",
     "text": [
      "BLEU score: 0.051097938950738914, METEOR score: 0.20545257704474157\n",
      "Starting epoch 25/30, enc lr scheduler: [0.00010453658778440108], dec lr scheduler: [0.00010453658778440108]\n",
      "(Epoch 24, iter 50/787) Average loss so far: 2.748\n",
      "(Epoch 24, iter 100/787) Average loss so far: 2.726\n",
      "(Epoch 24, iter 150/787) Average loss so far: 2.731\n",
      "(Epoch 24, iter 200/787) Average loss so far: 2.757\n",
      "(Epoch 24, iter 250/787) Average loss so far: 2.718\n",
      "(Epoch 24, iter 300/787) Average loss so far: 2.734\n",
      "(Epoch 24, iter 350/787) Average loss so far: 2.749\n",
      "(Epoch 24, iter 400/787) Average loss so far: 2.745\n",
      "(Epoch 24, iter 450/787) Average loss so far: 2.738\n",
      "(Epoch 24, iter 500/787) Average loss so far: 2.742\n",
      "(Epoch 24, iter 550/787) Average loss so far: 2.754\n",
      "(Epoch 24, iter 600/787) Average loss so far: 2.740\n",
      "(Epoch 24, iter 650/787) Average loss so far: 2.746\n",
      "(Epoch 24, iter 700/787) Average loss so far: 2.731\n",
      "(Epoch 24, iter 750/787) Average loss so far: 2.722\n",
      "Average epoch loss: 2.738\n",
      "This epoch took 8.16293386220932 mins. Time remaining: 0.0 hrs 40.0 mins.\n"
     ]
    },
    {
     "name": "stderr",
     "output_type": "stream",
     "text": [
      "7it [00:01,  5.42it/s]\n"
     ]
    },
    {
     "name": "stdout",
     "output_type": "stream",
     "text": [
      "validation loss: 3.1331892013549805\n"
     ]
    },
    {
     "name": "stderr",
     "output_type": "stream",
     "text": [
      "100%|██████████| 7/7 [00:02<00:00,  2.39it/s]\n",
      "100%|██████████| 793/793 [00:01<00:00, 597.43it/s]\n"
     ]
    },
    {
     "name": "stdout",
     "output_type": "stream",
     "text": [
      "BLEU score: 0.05338881169928626, METEOR score: 0.20659685260841154\n",
      "Starting epoch 26/30, enc lr scheduler: [7.631742512670285e-05], dec lr scheduler: [7.631742512670285e-05]\n",
      "(Epoch 25, iter 50/787) Average loss so far: 2.725\n",
      "(Epoch 25, iter 100/787) Average loss so far: 2.720\n",
      "(Epoch 25, iter 150/787) Average loss so far: 2.750\n",
      "(Epoch 25, iter 200/787) Average loss so far: 2.731\n",
      "(Epoch 25, iter 250/787) Average loss so far: 2.725\n",
      "(Epoch 25, iter 300/787) Average loss so far: 2.717\n",
      "(Epoch 25, iter 350/787) Average loss so far: 2.742\n",
      "(Epoch 25, iter 400/787) Average loss so far: 2.735\n",
      "(Epoch 25, iter 450/787) Average loss so far: 2.736\n",
      "(Epoch 25, iter 500/787) Average loss so far: 2.735\n",
      "(Epoch 25, iter 550/787) Average loss so far: 2.738\n",
      "(Epoch 25, iter 600/787) Average loss so far: 2.737\n",
      "(Epoch 25, iter 650/787) Average loss so far: 2.732\n",
      "(Epoch 25, iter 700/787) Average loss so far: 2.749\n",
      "(Epoch 25, iter 750/787) Average loss so far: 2.738\n",
      "Average epoch loss: 2.734\n",
      "This epoch took 8.112463406721751 mins. Time remaining: 0.0 hrs 32.0 mins.\n"
     ]
    },
    {
     "name": "stderr",
     "output_type": "stream",
     "text": [
      "7it [00:01,  5.46it/s]\n"
     ]
    },
    {
     "name": "stdout",
     "output_type": "stream",
     "text": [
      "validation loss: 3.1343512194497243\n"
     ]
    },
    {
     "name": "stderr",
     "output_type": "stream",
     "text": [
      "100%|██████████| 7/7 [00:03<00:00,  2.24it/s]\n",
      "100%|██████████| 793/793 [00:01<00:00, 591.37it/s]\n"
     ]
    },
    {
     "name": "stdout",
     "output_type": "stream",
     "text": [
      "BLEU score: 0.05337146516245549, METEOR score: 0.20767647224625604\n",
      "Starting epoch 27/30, enc lr scheduler: [5.279499846691252e-05], dec lr scheduler: [5.279499846691252e-05]\n",
      "(Epoch 26, iter 50/787) Average loss so far: 2.724\n",
      "(Epoch 26, iter 100/787) Average loss so far: 2.720\n",
      "(Epoch 26, iter 150/787) Average loss so far: 2.706\n",
      "(Epoch 26, iter 200/787) Average loss so far: 2.737\n",
      "(Epoch 26, iter 250/787) Average loss so far: 2.737\n",
      "(Epoch 26, iter 300/787) Average loss so far: 2.726\n",
      "(Epoch 26, iter 350/787) Average loss so far: 2.739\n",
      "(Epoch 26, iter 400/787) Average loss so far: 2.741\n",
      "(Epoch 26, iter 450/787) Average loss so far: 2.735\n",
      "(Epoch 26, iter 500/787) Average loss so far: 2.735\n",
      "(Epoch 26, iter 550/787) Average loss so far: 2.734\n",
      "(Epoch 26, iter 600/787) Average loss so far: 2.735\n",
      "(Epoch 26, iter 650/787) Average loss so far: 2.728\n",
      "(Epoch 26, iter 700/787) Average loss so far: 2.725\n",
      "(Epoch 26, iter 750/787) Average loss so far: 2.726\n",
      "Average epoch loss: 2.730\n",
      "This epoch took 8.101639938354491 mins. Time remaining: 0.0 hrs 24.0 mins.\n"
     ]
    },
    {
     "name": "stderr",
     "output_type": "stream",
     "text": [
      "7it [00:01,  5.39it/s]\n"
     ]
    },
    {
     "name": "stdout",
     "output_type": "stream",
     "text": [
      "validation loss: 3.1328334467751637\n"
     ]
    },
    {
     "name": "stderr",
     "output_type": "stream",
     "text": [
      "100%|██████████| 7/7 [00:03<00:00,  2.24it/s]\n",
      "100%|██████████| 793/793 [00:01<00:00, 581.81it/s]\n"
     ]
    },
    {
     "name": "stdout",
     "output_type": "stream",
     "text": [
      "BLEU score: 0.05541456263767681, METEOR score: 0.21179274372666657\n",
      "Starting epoch 28/30, enc lr scheduler: [3.4227024433899005e-05], dec lr scheduler: [3.4227024433899005e-05]\n",
      "(Epoch 27, iter 50/787) Average loss so far: 2.747\n",
      "(Epoch 27, iter 100/787) Average loss so far: 2.725\n",
      "(Epoch 27, iter 150/787) Average loss so far: 2.725\n",
      "(Epoch 27, iter 200/787) Average loss so far: 2.721\n",
      "(Epoch 27, iter 250/787) Average loss so far: 2.731\n",
      "(Epoch 27, iter 300/787) Average loss so far: 2.723\n",
      "(Epoch 27, iter 350/787) Average loss so far: 2.726\n",
      "(Epoch 27, iter 400/787) Average loss so far: 2.718\n",
      "(Epoch 27, iter 450/787) Average loss so far: 2.734\n",
      "(Epoch 27, iter 500/787) Average loss so far: 2.741\n",
      "(Epoch 27, iter 550/787) Average loss so far: 2.731\n",
      "(Epoch 27, iter 600/787) Average loss so far: 2.729\n",
      "(Epoch 27, iter 650/787) Average loss so far: 2.714\n",
      "(Epoch 27, iter 700/787) Average loss so far: 2.731\n",
      "(Epoch 27, iter 750/787) Average loss so far: 2.726\n",
      "Average epoch loss: 2.728\n",
      "This epoch took 8.081586301326752 mins. Time remaining: 0.0 hrs 16.0 mins.\n"
     ]
    },
    {
     "name": "stderr",
     "output_type": "stream",
     "text": [
      "7it [00:01,  5.59it/s]\n"
     ]
    },
    {
     "name": "stdout",
     "output_type": "stream",
     "text": [
      "validation loss: 3.1330018043518066\n"
     ]
    },
    {
     "name": "stderr",
     "output_type": "stream",
     "text": [
      "100%|██████████| 7/7 [00:02<00:00,  2.40it/s]\n",
      "100%|██████████| 793/793 [00:01<00:00, 605.09it/s]\n"
     ]
    },
    {
     "name": "stdout",
     "output_type": "stream",
     "text": [
      "BLEU score: 0.05391199400984629, METEOR score: 0.20699247679832458\n",
      "Starting epoch 29/30, enc lr scheduler: [2.0816937636766188e-05], dec lr scheduler: [2.0816937636766188e-05]\n",
      "(Epoch 28, iter 50/787) Average loss so far: 2.733\n",
      "(Epoch 28, iter 100/787) Average loss so far: 2.710\n",
      "(Epoch 28, iter 150/787) Average loss so far: 2.729\n",
      "(Epoch 28, iter 200/787) Average loss so far: 2.698\n",
      "(Epoch 28, iter 250/787) Average loss so far: 2.733\n",
      "(Epoch 28, iter 300/787) Average loss so far: 2.728\n",
      "(Epoch 28, iter 350/787) Average loss so far: 2.734\n",
      "(Epoch 28, iter 400/787) Average loss so far: 2.728\n",
      "(Epoch 28, iter 450/787) Average loss so far: 2.732\n",
      "(Epoch 28, iter 500/787) Average loss so far: 2.728\n",
      "(Epoch 28, iter 550/787) Average loss so far: 2.732\n",
      "(Epoch 28, iter 600/787) Average loss so far: 2.721\n",
      "(Epoch 28, iter 650/787) Average loss so far: 2.731\n",
      "(Epoch 28, iter 700/787) Average loss so far: 2.728\n",
      "(Epoch 28, iter 750/787) Average loss so far: 2.726\n",
      "Average epoch loss: 2.726\n",
      "This epoch took 7.988488773504893 mins. Time remaining: 0.0 hrs 7.0 mins.\n"
     ]
    },
    {
     "name": "stderr",
     "output_type": "stream",
     "text": [
      "7it [00:01,  5.47it/s]\n"
     ]
    },
    {
     "name": "stdout",
     "output_type": "stream",
     "text": [
      "validation loss: 3.132430451256888\n"
     ]
    },
    {
     "name": "stderr",
     "output_type": "stream",
     "text": [
      "100%|██████████| 7/7 [00:03<00:00,  2.30it/s]\n",
      "100%|██████████| 793/793 [00:01<00:00, 598.63it/s]\n"
     ]
    },
    {
     "name": "stdout",
     "output_type": "stream",
     "text": [
      "BLEU score: 0.05513984026373013, METEOR score: 0.2094436932678814\n",
      "Starting epoch 30/30, enc lr scheduler: [1.2711661792704668e-05], dec lr scheduler: [1.2711661792704668e-05]\n",
      "(Epoch 29, iter 50/787) Average loss so far: 2.732\n",
      "(Epoch 29, iter 100/787) Average loss so far: 2.722\n",
      "(Epoch 29, iter 150/787) Average loss so far: 2.715\n",
      "(Epoch 29, iter 200/787) Average loss so far: 2.739\n",
      "(Epoch 29, iter 250/787) Average loss so far: 2.727\n",
      "(Epoch 29, iter 300/787) Average loss so far: 2.729\n",
      "(Epoch 29, iter 350/787) Average loss so far: 2.730\n",
      "(Epoch 29, iter 400/787) Average loss so far: 2.714\n",
      "(Epoch 29, iter 450/787) Average loss so far: 2.725\n",
      "(Epoch 29, iter 500/787) Average loss so far: 2.711\n",
      "(Epoch 29, iter 550/787) Average loss so far: 2.733\n",
      "(Epoch 29, iter 600/787) Average loss so far: 2.737\n",
      "(Epoch 29, iter 650/787) Average loss so far: 2.723\n",
      "(Epoch 29, iter 700/787) Average loss so far: 2.724\n",
      "(Epoch 29, iter 750/787) Average loss so far: 2.724\n",
      "Average epoch loss: 2.725\n",
      "This epoch took 7.996612278620402 mins. Time remaining: 0.0 hrs 0.0 mins.\n"
     ]
    },
    {
     "name": "stderr",
     "output_type": "stream",
     "text": [
      "7it [00:01,  5.51it/s]\n"
     ]
    },
    {
     "name": "stdout",
     "output_type": "stream",
     "text": [
      "validation loss: 3.1326404299054826\n"
     ]
    },
    {
     "name": "stderr",
     "output_type": "stream",
     "text": [
      "100%|██████████| 7/7 [00:02<00:00,  2.39it/s]\n",
      "100%|██████████| 793/793 [00:01<00:00, 595.70it/s]"
     ]
    },
    {
     "name": "stdout",
     "output_type": "stream",
     "text": [
      "BLEU score: 0.055078340546709854, METEOR score: 0.20826842611097787\n"
     ]
    },
    {
     "name": "stderr",
     "output_type": "stream",
     "text": [
      "\n"
     ]
    }
   ],
   "source": [
    "initial_lr=1e-3\n",
    "min_lr = 1e-5\n",
    "n_epochs = 30\n",
    "batch_size=128\n",
    "encoder_attn_optimizer = optim.Adam(encoder_attn.parameters(), lr=initial_lr)\n",
    "decoder_attn_optimizer = optim.Adam(decoder_attn.parameters(), lr=initial_lr)\n",
    "# enc_attn_scheduler = CosineAnnealingLR(encoder_attn_optimizer, T_max=n_epochs, eta_min=min_lr)\n",
    "# dec_attn_scheduler = CosineAnnealingLR(decoder_attn_optimizer, T_max=n_epochs, eta_min=min_lr)\n",
    "enc_attn_scheduler = CosineAnnealingLR(encoder_attn_optimizer, T_max=n_epochs, eta_min=min_lr)\n",
    "dec_attn_scheduler = CosineAnnealingLR(decoder_attn_optimizer, T_max=n_epochs, eta_min=min_lr)\n",
    "identifier=\"attn_adam_without_intermediate_tags_wd0_lr1e-3\"\n",
    "\n",
    "attn_epoch_losses, attn_val_epoch_losses, attn_log = train(\n",
    "    encoder_attn, decoder_attn, encoder_attn_optimizer, decoder_attn_optimizer, train_ds, \n",
    "    n_epochs=n_epochs, vocab=vocab, decoder_mode=\"attention\", batch_size=batch_size, \n",
    "    enc_lr_scheduler=enc_attn_scheduler, dec_lr_scheduler=dec_attn_scheduler, \n",
    "    dev_ds_val_loss = dev_ds_val_loss, dev_ds_val_met=dev_ds_val_met, identifier=identifier,\n",
    "    verbose_iter_interval=50)\n",
    "\n",
    "save_log(identifier, attn_log, encoder_attn_optimizer, decoder_attn_optimizer, \n",
    "         enc_attn_scheduler, dec_attn_scheduler)"
   ]
  },
  {
   "cell_type": "code",
   "execution_count": 14,
   "metadata": {},
   "outputs": [],
   "source": [
    "save_model(encoder_attn, decoder_attn, f\"{identifier}_last\")"
   ]
  },
  {
   "cell_type": "markdown",
   "metadata": {},
   "source": [
    "## Encoder-Decoder (Extension: pretrained embeddings)"
   ]
  },
  {
   "cell_type": "markdown",
   "metadata": {},
   "source": [
    "Please download [pretrained embeddings](https://huggingface.co/stanfordnlp/glove/resolve/main/glove.840B.300d.zip) and extract the contents to the project folder."
   ]
  },
  {
   "cell_type": "code",
   "execution_count": 14,
   "metadata": {},
   "outputs": [],
   "source": [
    "reset_rng()"
   ]
  },
  {
   "cell_type": "code",
   "execution_count": 13,
   "metadata": {},
   "outputs": [],
   "source": [
    "pretrained_embedding_dict = create_pretrained_embedding_dict(\"./glove.840B.300d.txt\")"
   ]
  },
  {
   "cell_type": "code",
   "execution_count": 14,
   "metadata": {},
   "outputs": [
    {
     "name": "stderr",
     "output_type": "stream",
     "text": [
      "100%|██████████| 44315/44315 [00:00<00:00, 371565.78it/s]\n"
     ]
    },
    {
     "name": "stdout",
     "output_type": "stream",
     "text": [
      "29462/44315 (0.665%) words have pretrained embeddings\n"
     ]
    },
    {
     "name": "stderr",
     "output_type": "stream",
     "text": [
      "100%|██████████| 44314/44314 [00:00<00:00, 357392.06it/s]\n"
     ]
    },
    {
     "name": "stdout",
     "output_type": "stream",
     "text": [
      "29462/44314 (0.665%) words have pretrained embeddings\n"
     ]
    }
   ],
   "source": [
    "embedding_size=300\n",
    "encoder_pretrained_embed = EncoderRNN(\n",
    "    input_size=vocab.n_unique_words, embedding_size=embedding_size, hidden_size=HIDDEN_SIZE, \n",
    "    padding_value=vocab.word2index(PAD_WORD), pretrained_embedding_dict=pretrained_embedding_dict, \n",
    "    vocab=vocab).to(DEVICE)\n",
    "# in the training script, decoder is always fed a non-end token and thus never needs to generate padding\n",
    "# also it should never generate \"<UNKNOWN>\"\n",
    "decoder_pretrained_embed = AttnDecoderRNN(\n",
    "    embedding_size=embedding_size,hidden_size=HIDDEN_SIZE, output_size=vocab.n_unique_words-1,\n",
    "    padding_val=vocab.word2index(PAD_WORD), dropout=DROPOUT, global_max_ing_len=MAX_INGR_LEN,\n",
    "    pretrained_embedding_dict=pretrained_embedding_dict, vocab=vocab).to(DEVICE)"
   ]
  },
  {
   "cell_type": "code",
   "execution_count": 18,
   "metadata": {},
   "outputs": [
    {
     "name": "stdout",
     "output_type": "stream",
     "text": [
      "Starting epoch 1/30, enc lr scheduler: [0.001], dec lr scheduler: [0.001]\n",
      "(Epoch 0, iter 50/787) Average loss so far: 6.968\n",
      "(Epoch 0, iter 100/787) Average loss so far: 6.040\n",
      "(Epoch 0, iter 150/787) Average loss so far: 5.995\n",
      "(Epoch 0, iter 200/787) Average loss so far: 5.955\n",
      "(Epoch 0, iter 250/787) Average loss so far: 5.910\n",
      "(Epoch 0, iter 300/787) Average loss so far: 5.859\n",
      "(Epoch 0, iter 350/787) Average loss so far: 5.839\n",
      "(Epoch 0, iter 400/787) Average loss so far: 5.759\n",
      "(Epoch 0, iter 450/787) Average loss so far: 5.627\n",
      "(Epoch 0, iter 500/787) Average loss so far: 5.404\n",
      "(Epoch 0, iter 550/787) Average loss so far: 5.209\n",
      "(Epoch 0, iter 600/787) Average loss so far: 5.001\n",
      "(Epoch 0, iter 650/787) Average loss so far: 4.851\n",
      "(Epoch 0, iter 700/787) Average loss so far: 4.692\n",
      "(Epoch 0, iter 750/787) Average loss so far: 4.582\n",
      "Average epoch loss: 5.528\n",
      "This epoch took 8.08877116839091 mins. Time remaining: 3.0 hrs 54.0 mins.\n"
     ]
    },
    {
     "name": "stderr",
     "output_type": "stream",
     "text": [
      "7it [00:01,  5.60it/s]\n"
     ]
    },
    {
     "name": "stdout",
     "output_type": "stream",
     "text": [
      "validation loss: 4.4685172353472025\n"
     ]
    },
    {
     "name": "stderr",
     "output_type": "stream",
     "text": [
      "100%|██████████| 7/7 [00:07<00:00,  1.12s/it]\n",
      "100%|██████████| 793/793 [00:09<00:00, 87.13it/s] \n"
     ]
    },
    {
     "name": "stdout",
     "output_type": "stream",
     "text": [
      "BLEU score: 0.0031624657072353694, METEOR score: 0.0796926100408187\n",
      "Starting epoch 2/30, enc lr scheduler: [0.0009972883382072953], dec lr scheduler: [0.0009972883382072953]\n",
      "(Epoch 1, iter 50/787) Average loss so far: 4.410\n",
      "(Epoch 1, iter 100/787) Average loss so far: 4.295\n",
      "(Epoch 1, iter 150/787) Average loss so far: 4.269\n",
      "(Epoch 1, iter 200/787) Average loss so far: 4.187\n",
      "(Epoch 1, iter 250/787) Average loss so far: 4.128\n",
      "(Epoch 1, iter 300/787) Average loss so far: 4.080\n",
      "(Epoch 1, iter 350/787) Average loss so far: 4.027\n",
      "(Epoch 1, iter 400/787) Average loss so far: 3.997\n",
      "(Epoch 1, iter 450/787) Average loss so far: 3.949\n",
      "(Epoch 1, iter 500/787) Average loss so far: 3.910\n",
      "(Epoch 1, iter 550/787) Average loss so far: 3.871\n",
      "(Epoch 1, iter 600/787) Average loss so far: 3.844\n",
      "(Epoch 1, iter 650/787) Average loss so far: 3.814\n",
      "(Epoch 1, iter 700/787) Average loss so far: 3.778\n",
      "(Epoch 1, iter 750/787) Average loss so far: 3.759\n",
      "Average epoch loss: 4.009\n",
      "This epoch took 8.075345408916473 mins. Time remaining: 3.0 hrs 46.0 mins.\n"
     ]
    },
    {
     "name": "stderr",
     "output_type": "stream",
     "text": [
      "7it [00:01,  5.45it/s]\n"
     ]
    },
    {
     "name": "stdout",
     "output_type": "stream",
     "text": [
      "validation loss: 3.7725216320582797\n"
     ]
    },
    {
     "name": "stderr",
     "output_type": "stream",
     "text": [
      "100%|██████████| 7/7 [00:06<00:00,  1.10it/s]\n",
      "100%|██████████| 793/793 [00:05<00:00, 144.78it/s]\n"
     ]
    },
    {
     "name": "stdout",
     "output_type": "stream",
     "text": [
      "BLEU score: 0.008172939091770137, METEOR score: 0.1373603160673997\n",
      "Starting epoch 3/30, enc lr scheduler: [0.0009891830623632338], dec lr scheduler: [0.0009891830623632338]\n",
      "(Epoch 2, iter 50/787) Average loss so far: 3.698\n",
      "(Epoch 2, iter 100/787) Average loss so far: 3.680\n",
      "(Epoch 2, iter 150/787) Average loss so far: 3.658\n",
      "(Epoch 2, iter 200/787) Average loss so far: 3.622\n",
      "(Epoch 2, iter 250/787) Average loss so far: 3.602\n",
      "(Epoch 2, iter 300/787) Average loss so far: 3.609\n",
      "(Epoch 2, iter 350/787) Average loss so far: 3.561\n",
      "(Epoch 2, iter 400/787) Average loss so far: 3.547\n",
      "(Epoch 2, iter 450/787) Average loss so far: 3.528\n",
      "(Epoch 2, iter 500/787) Average loss so far: 3.528\n",
      "(Epoch 2, iter 550/787) Average loss so far: 3.529\n",
      "(Epoch 2, iter 600/787) Average loss so far: 3.514\n",
      "(Epoch 2, iter 650/787) Average loss so far: 3.481\n",
      "(Epoch 2, iter 700/787) Average loss so far: 3.483\n",
      "(Epoch 2, iter 750/787) Average loss so far: 3.445\n",
      "Average epoch loss: 3.560\n",
      "This epoch took 8.12299534479777 mins. Time remaining: 3.0 hrs 39.0 mins.\n"
     ]
    },
    {
     "name": "stderr",
     "output_type": "stream",
     "text": [
      "7it [00:01,  5.61it/s]\n"
     ]
    },
    {
     "name": "stdout",
     "output_type": "stream",
     "text": [
      "validation loss: 3.5144453048706055\n"
     ]
    },
    {
     "name": "stderr",
     "output_type": "stream",
     "text": [
      "100%|██████████| 7/7 [00:04<00:00,  1.57it/s]\n",
      "100%|██████████| 793/793 [00:03<00:00, 259.34it/s]\n"
     ]
    },
    {
     "name": "stdout",
     "output_type": "stream",
     "text": [
      "BLEU score: 0.015654428117596996, METEOR score: 0.15914722051182856\n",
      "Starting epoch 4/30, enc lr scheduler: [0.0009757729755661011], dec lr scheduler: [0.0009757729755661011]\n",
      "(Epoch 3, iter 50/787) Average loss so far: 3.431\n",
      "(Epoch 3, iter 100/787) Average loss so far: 3.411\n",
      "(Epoch 3, iter 150/787) Average loss so far: 3.391\n",
      "(Epoch 3, iter 200/787) Average loss so far: 3.380\n",
      "(Epoch 3, iter 250/787) Average loss so far: 3.386\n",
      "(Epoch 3, iter 300/787) Average loss so far: 3.376\n",
      "(Epoch 3, iter 350/787) Average loss so far: 3.366\n",
      "(Epoch 3, iter 400/787) Average loss so far: 3.343\n",
      "(Epoch 3, iter 450/787) Average loss so far: 3.333\n",
      "(Epoch 3, iter 500/787) Average loss so far: 3.326\n",
      "(Epoch 3, iter 550/787) Average loss so far: 3.330\n",
      "(Epoch 3, iter 600/787) Average loss so far: 3.317\n",
      "(Epoch 3, iter 650/787) Average loss so far: 3.302\n",
      "(Epoch 3, iter 700/787) Average loss so far: 3.296\n",
      "(Epoch 3, iter 750/787) Average loss so far: 3.307\n",
      "Average epoch loss: 3.351\n",
      "This epoch took 8.083766424655915 mins. Time remaining: 3.0 hrs 30.0 mins.\n"
     ]
    },
    {
     "name": "stderr",
     "output_type": "stream",
     "text": [
      "7it [00:01,  5.69it/s]\n"
     ]
    },
    {
     "name": "stdout",
     "output_type": "stream",
     "text": [
      "validation loss: 3.3842404569898332\n"
     ]
    },
    {
     "name": "stderr",
     "output_type": "stream",
     "text": [
      "100%|██████████| 7/7 [00:03<00:00,  1.81it/s]\n",
      "100%|██████████| 793/793 [00:02<00:00, 321.84it/s]\n"
     ]
    },
    {
     "name": "stdout",
     "output_type": "stream",
     "text": [
      "BLEU score: 0.021776681776078183, METEOR score: 0.1731301206546595\n",
      "Starting epoch 5/30, enc lr scheduler: [0.0009572050015330874], dec lr scheduler: [0.0009572050015330874]\n",
      "(Epoch 4, iter 50/787) Average loss so far: 3.269\n",
      "(Epoch 4, iter 100/787) Average loss so far: 3.256\n",
      "(Epoch 4, iter 150/787) Average loss so far: 3.247\n",
      "(Epoch 4, iter 200/787) Average loss so far: 3.260\n",
      "(Epoch 4, iter 250/787) Average loss so far: 3.232\n",
      "(Epoch 4, iter 300/787) Average loss so far: 3.226\n",
      "(Epoch 4, iter 350/787) Average loss so far: 3.227\n",
      "(Epoch 4, iter 400/787) Average loss so far: 3.210\n",
      "(Epoch 4, iter 450/787) Average loss so far: 3.223\n",
      "(Epoch 4, iter 500/787) Average loss so far: 3.208\n",
      "(Epoch 4, iter 550/787) Average loss so far: 3.213\n",
      "(Epoch 4, iter 600/787) Average loss so far: 3.201\n",
      "(Epoch 4, iter 650/787) Average loss so far: 3.194\n",
      "(Epoch 4, iter 700/787) Average loss so far: 3.198\n",
      "(Epoch 4, iter 750/787) Average loss so far: 3.187\n",
      "Average epoch loss: 3.221\n",
      "This epoch took 8.08472265402476 mins. Time remaining: 3.0 hrs 22.0 mins.\n"
     ]
    },
    {
     "name": "stderr",
     "output_type": "stream",
     "text": [
      "7it [00:01,  5.71it/s]\n"
     ]
    },
    {
     "name": "stdout",
     "output_type": "stream",
     "text": [
      "validation loss: 3.299443074635097\n"
     ]
    },
    {
     "name": "stderr",
     "output_type": "stream",
     "text": [
      "100%|██████████| 7/7 [00:03<00:00,  1.91it/s]\n",
      "100%|██████████| 793/793 [00:02<00:00, 371.62it/s]\n"
     ]
    },
    {
     "name": "stdout",
     "output_type": "stream",
     "text": [
      "BLEU score: 0.029468622995135987, METEOR score: 0.18938801124897647\n",
      "Starting epoch 6/30, enc lr scheduler: [0.0009336825748732973], dec lr scheduler: [0.0009336825748732973]\n",
      "(Epoch 5, iter 50/787) Average loss so far: 3.146\n",
      "(Epoch 5, iter 100/787) Average loss so far: 3.159\n",
      "(Epoch 5, iter 150/787) Average loss so far: 3.138\n",
      "(Epoch 5, iter 200/787) Average loss so far: 3.145\n",
      "(Epoch 5, iter 250/787) Average loss so far: 3.128\n",
      "(Epoch 5, iter 300/787) Average loss so far: 3.140\n",
      "(Epoch 5, iter 350/787) Average loss so far: 3.138\n",
      "(Epoch 5, iter 400/787) Average loss so far: 3.138\n",
      "(Epoch 5, iter 450/787) Average loss so far: 3.124\n",
      "(Epoch 5, iter 500/787) Average loss so far: 3.125\n",
      "(Epoch 5, iter 550/787) Average loss so far: 3.129\n",
      "(Epoch 5, iter 600/787) Average loss so far: 3.115\n",
      "(Epoch 5, iter 650/787) Average loss so far: 3.108\n",
      "(Epoch 5, iter 700/787) Average loss so far: 3.107\n",
      "(Epoch 5, iter 750/787) Average loss so far: 3.096\n",
      "Average epoch loss: 3.128\n",
      "This epoch took 8.069037703673045 mins. Time remaining: 3.0 hrs 13.0 mins.\n"
     ]
    },
    {
     "name": "stderr",
     "output_type": "stream",
     "text": [
      "7it [00:01,  5.64it/s]\n"
     ]
    },
    {
     "name": "stdout",
     "output_type": "stream",
     "text": [
      "validation loss: 3.240325791495187\n"
     ]
    },
    {
     "name": "stderr",
     "output_type": "stream",
     "text": [
      "100%|██████████| 7/7 [00:03<00:00,  1.98it/s]\n",
      "100%|██████████| 793/793 [00:01<00:00, 407.38it/s]\n"
     ]
    },
    {
     "name": "stdout",
     "output_type": "stream",
     "text": [
      "BLEU score: 0.03311247830068684, METEOR score: 0.1885298967343268\n",
      "Starting epoch 7/30, enc lr scheduler: [0.0009054634122155991], dec lr scheduler: [0.0009054634122155991]\n",
      "(Epoch 6, iter 50/787) Average loss so far: 3.083\n",
      "(Epoch 6, iter 100/787) Average loss so far: 3.079\n",
      "(Epoch 6, iter 150/787) Average loss so far: 3.076\n",
      "(Epoch 6, iter 200/787) Average loss so far: 3.064\n",
      "(Epoch 6, iter 250/787) Average loss so far: 3.057\n",
      "(Epoch 6, iter 300/787) Average loss so far: 3.059\n",
      "(Epoch 6, iter 350/787) Average loss so far: 3.053\n",
      "(Epoch 6, iter 400/787) Average loss so far: 3.059\n",
      "(Epoch 6, iter 450/787) Average loss so far: 3.061\n",
      "(Epoch 6, iter 500/787) Average loss so far: 3.048\n",
      "(Epoch 6, iter 550/787) Average loss so far: 3.040\n",
      "(Epoch 6, iter 600/787) Average loss so far: 3.061\n",
      "(Epoch 6, iter 650/787) Average loss so far: 3.037\n",
      "(Epoch 6, iter 700/787) Average loss so far: 3.044\n",
      "(Epoch 6, iter 750/787) Average loss so far: 3.034\n",
      "Average epoch loss: 3.056\n",
      "This epoch took 8.02225666443507 mins. Time remaining: 3.0 hrs 4.0 mins.\n"
     ]
    },
    {
     "name": "stderr",
     "output_type": "stream",
     "text": [
      "7it [00:01,  5.65it/s]\n"
     ]
    },
    {
     "name": "stdout",
     "output_type": "stream",
     "text": [
      "validation loss: 3.198171922138759\n"
     ]
    },
    {
     "name": "stderr",
     "output_type": "stream",
     "text": [
      "100%|██████████| 7/7 [00:03<00:00,  1.87it/s]\n",
      "100%|██████████| 793/793 [00:02<00:00, 363.29it/s]\n"
     ]
    },
    {
     "name": "stdout",
     "output_type": "stream",
     "text": [
      "BLEU score: 0.029020290042606374, METEOR score: 0.18989639255673424\n",
      "Starting epoch 8/30, enc lr scheduler: [0.0008728566886113102], dec lr scheduler: [0.0008728566886113102]\n",
      "(Epoch 7, iter 50/787) Average loss so far: 3.021\n",
      "(Epoch 7, iter 100/787) Average loss so far: 3.015\n",
      "(Epoch 7, iter 150/787) Average loss so far: 3.023\n",
      "(Epoch 7, iter 200/787) Average loss so far: 3.006\n",
      "(Epoch 7, iter 250/787) Average loss so far: 3.001\n",
      "(Epoch 7, iter 300/787) Average loss so far: 3.006\n",
      "(Epoch 7, iter 350/787) Average loss so far: 3.002\n",
      "(Epoch 7, iter 400/787) Average loss so far: 2.992\n",
      "(Epoch 7, iter 450/787) Average loss so far: 3.000\n",
      "(Epoch 7, iter 500/787) Average loss so far: 2.984\n",
      "(Epoch 7, iter 550/787) Average loss so far: 2.998\n",
      "(Epoch 7, iter 600/787) Average loss so far: 2.974\n",
      "(Epoch 7, iter 650/787) Average loss so far: 2.990\n",
      "(Epoch 7, iter 700/787) Average loss so far: 2.993\n",
      "(Epoch 7, iter 750/787) Average loss so far: 2.989\n",
      "Average epoch loss: 2.999\n",
      "This epoch took 8.018091865380605 mins. Time remaining: 2.0 hrs 56.0 mins.\n"
     ]
    },
    {
     "name": "stderr",
     "output_type": "stream",
     "text": [
      "7it [00:01,  5.54it/s]\n"
     ]
    },
    {
     "name": "stdout",
     "output_type": "stream",
     "text": [
      "validation loss: 3.1683931010110036\n"
     ]
    },
    {
     "name": "stderr",
     "output_type": "stream",
     "text": [
      "100%|██████████| 7/7 [00:03<00:00,  2.00it/s]\n",
      "100%|██████████| 793/793 [00:01<00:00, 458.38it/s]\n"
     ]
    },
    {
     "name": "stdout",
     "output_type": "stream",
     "text": [
      "BLEU score: 0.040572019424333215, METEOR score: 0.20380746462583008\n",
      "Starting epoch 9/30, enc lr scheduler: [0.0008362196501476349], dec lr scheduler: [0.0008362196501476349]\n",
      "(Epoch 8, iter 50/787) Average loss so far: 2.965\n",
      "(Epoch 8, iter 100/787) Average loss so far: 2.963\n",
      "(Epoch 8, iter 150/787) Average loss so far: 2.964\n",
      "(Epoch 8, iter 200/787) Average loss so far: 2.969\n",
      "(Epoch 8, iter 250/787) Average loss so far: 2.949\n",
      "(Epoch 8, iter 300/787) Average loss so far: 2.951\n",
      "(Epoch 8, iter 350/787) Average loss so far: 2.958\n",
      "(Epoch 8, iter 400/787) Average loss so far: 2.944\n",
      "(Epoch 8, iter 450/787) Average loss so far: 2.949\n",
      "(Epoch 8, iter 500/787) Average loss so far: 2.945\n",
      "(Epoch 8, iter 550/787) Average loss so far: 2.958\n",
      "(Epoch 8, iter 600/787) Average loss so far: 2.933\n",
      "(Epoch 8, iter 650/787) Average loss so far: 2.937\n",
      "(Epoch 8, iter 700/787) Average loss so far: 2.957\n",
      "(Epoch 8, iter 750/787) Average loss so far: 2.939\n",
      "Average epoch loss: 2.951\n",
      "This epoch took 8.068367584546406 mins. Time remaining: 2.0 hrs 49.0 mins.\n"
     ]
    },
    {
     "name": "stderr",
     "output_type": "stream",
     "text": [
      "7it [00:01,  5.66it/s]\n"
     ]
    },
    {
     "name": "stdout",
     "output_type": "stream",
     "text": [
      "validation loss: 3.145275660923549\n"
     ]
    },
    {
     "name": "stderr",
     "output_type": "stream",
     "text": [
      "100%|██████████| 7/7 [00:03<00:00,  2.00it/s]\n",
      "100%|██████████| 793/793 [00:01<00:00, 420.62it/s]\n"
     ]
    },
    {
     "name": "stdout",
     "output_type": "stream",
     "text": [
      "BLEU score: 0.035724116920881344, METEOR score: 0.1954857121917429\n",
      "Starting epoch 10/30, enc lr scheduler: [0.0007959536998847742], dec lr scheduler: [0.0007959536998847742]\n",
      "(Epoch 9, iter 50/787) Average loss so far: 2.933\n",
      "(Epoch 9, iter 100/787) Average loss so far: 2.911\n",
      "(Epoch 9, iter 150/787) Average loss so far: 2.903\n",
      "(Epoch 9, iter 200/787) Average loss so far: 2.910\n",
      "(Epoch 9, iter 250/787) Average loss so far: 2.920\n",
      "(Epoch 9, iter 300/787) Average loss so far: 2.914\n",
      "(Epoch 9, iter 350/787) Average loss so far: 2.922\n",
      "(Epoch 9, iter 400/787) Average loss so far: 2.912\n",
      "(Epoch 9, iter 450/787) Average loss so far: 2.927\n",
      "(Epoch 9, iter 500/787) Average loss so far: 2.903\n",
      "(Epoch 9, iter 550/787) Average loss so far: 2.909\n",
      "(Epoch 9, iter 600/787) Average loss so far: 2.892\n",
      "(Epoch 9, iter 650/787) Average loss so far: 2.910\n",
      "(Epoch 9, iter 700/787) Average loss so far: 2.914\n",
      "(Epoch 9, iter 750/787) Average loss so far: 2.891\n",
      "Average epoch loss: 2.911\n",
      "This epoch took 8.082320443789165 mins. Time remaining: 2.0 hrs 41.0 mins.\n"
     ]
    },
    {
     "name": "stderr",
     "output_type": "stream",
     "text": [
      "7it [00:01,  5.57it/s]\n"
     ]
    },
    {
     "name": "stdout",
     "output_type": "stream",
     "text": [
      "validation loss: 3.127824068069458\n"
     ]
    },
    {
     "name": "stderr",
     "output_type": "stream",
     "text": [
      "100%|██████████| 7/7 [00:03<00:00,  2.11it/s]\n",
      "100%|██████████| 793/793 [00:01<00:00, 480.40it/s]\n"
     ]
    },
    {
     "name": "stdout",
     "output_type": "stream",
     "text": [
      "BLEU score: 0.039821027333439805, METEOR score: 0.1971742265366046\n",
      "Starting epoch 11/30, enc lr scheduler: [0.0007525], dec lr scheduler: [0.0007525]\n",
      "(Epoch 10, iter 50/787) Average loss so far: 2.885\n",
      "(Epoch 10, iter 100/787) Average loss so far: 2.880\n",
      "(Epoch 10, iter 150/787) Average loss so far: 2.865\n",
      "(Epoch 10, iter 200/787) Average loss so far: 2.880\n",
      "(Epoch 10, iter 250/787) Average loss so far: 2.870\n",
      "(Epoch 10, iter 300/787) Average loss so far: 2.883\n",
      "(Epoch 10, iter 350/787) Average loss so far: 2.875\n",
      "(Epoch 10, iter 400/787) Average loss so far: 2.885\n",
      "(Epoch 10, iter 450/787) Average loss so far: 2.871\n",
      "(Epoch 10, iter 500/787) Average loss so far: 2.883\n",
      "(Epoch 10, iter 550/787) Average loss so far: 2.876\n",
      "(Epoch 10, iter 600/787) Average loss so far: 2.870\n",
      "(Epoch 10, iter 650/787) Average loss so far: 2.877\n",
      "(Epoch 10, iter 700/787) Average loss so far: 2.873\n",
      "(Epoch 10, iter 750/787) Average loss so far: 2.885\n",
      "Average epoch loss: 2.877\n",
      "This epoch took 8.075558908780415 mins. Time remaining: 2.0 hrs 33.0 mins.\n"
     ]
    },
    {
     "name": "stderr",
     "output_type": "stream",
     "text": [
      "7it [00:01,  5.60it/s]\n"
     ]
    },
    {
     "name": "stdout",
     "output_type": "stream",
     "text": [
      "validation loss: 3.111717598778861\n"
     ]
    },
    {
     "name": "stderr",
     "output_type": "stream",
     "text": [
      "100%|██████████| 7/7 [00:03<00:00,  2.07it/s]\n",
      "100%|██████████| 793/793 [00:01<00:00, 485.53it/s]\n"
     ]
    },
    {
     "name": "stdout",
     "output_type": "stream",
     "text": [
      "BLEU score: 0.04188177528685199, METEOR score: 0.20008110559374\n",
      "Starting epoch 12/30, enc lr scheduler: [0.0007063346383225212], dec lr scheduler: [0.0007063346383225212]\n",
      "(Epoch 11, iter 50/787) Average loss so far: 2.845\n",
      "(Epoch 11, iter 100/787) Average loss so far: 2.858\n",
      "(Epoch 11, iter 150/787) Average loss so far: 2.841\n",
      "(Epoch 11, iter 200/787) Average loss so far: 2.848\n",
      "(Epoch 11, iter 250/787) Average loss so far: 2.858\n",
      "(Epoch 11, iter 300/787) Average loss so far: 2.844\n",
      "(Epoch 11, iter 350/787) Average loss so far: 2.851\n",
      "(Epoch 11, iter 400/787) Average loss so far: 2.857\n",
      "(Epoch 11, iter 450/787) Average loss so far: 2.842\n",
      "(Epoch 11, iter 500/787) Average loss so far: 2.851\n",
      "(Epoch 11, iter 550/787) Average loss so far: 2.847\n",
      "(Epoch 11, iter 600/787) Average loss so far: 2.832\n",
      "(Epoch 11, iter 650/787) Average loss so far: 2.844\n",
      "(Epoch 11, iter 700/787) Average loss so far: 2.852\n",
      "(Epoch 11, iter 750/787) Average loss so far: 2.860\n",
      "Average epoch loss: 2.848\n",
      "This epoch took 8.083603068192799 mins. Time remaining: 2.0 hrs 25.0 mins.\n"
     ]
    },
    {
     "name": "stderr",
     "output_type": "stream",
     "text": [
      "7it [00:01,  5.68it/s]\n"
     ]
    },
    {
     "name": "stdout",
     "output_type": "stream",
     "text": [
      "validation loss: 3.0999631881713867\n"
     ]
    },
    {
     "name": "stderr",
     "output_type": "stream",
     "text": [
      "100%|██████████| 7/7 [00:03<00:00,  2.11it/s]\n",
      "100%|██████████| 793/793 [00:01<00:00, 503.03it/s]\n"
     ]
    },
    {
     "name": "stdout",
     "output_type": "stream",
     "text": [
      "BLEU score: 0.044384897292243625, METEOR score: 0.20706484658028232\n",
      "Starting epoch 13/30, enc lr scheduler: [0.000657963412215599], dec lr scheduler: [0.000657963412215599]\n",
      "(Epoch 12, iter 50/787) Average loss so far: 2.819\n",
      "(Epoch 12, iter 100/787) Average loss so far: 2.815\n",
      "(Epoch 12, iter 150/787) Average loss so far: 2.809\n",
      "(Epoch 12, iter 200/787) Average loss so far: 2.823\n",
      "(Epoch 12, iter 250/787) Average loss so far: 2.823\n",
      "(Epoch 12, iter 300/787) Average loss so far: 2.830\n",
      "(Epoch 12, iter 350/787) Average loss so far: 2.808\n",
      "(Epoch 12, iter 400/787) Average loss so far: 2.828\n",
      "(Epoch 12, iter 450/787) Average loss so far: 2.822\n",
      "(Epoch 12, iter 500/787) Average loss so far: 2.823\n",
      "(Epoch 12, iter 550/787) Average loss so far: 2.818\n",
      "(Epoch 12, iter 600/787) Average loss so far: 2.833\n",
      "(Epoch 12, iter 650/787) Average loss so far: 2.837\n",
      "(Epoch 12, iter 700/787) Average loss so far: 2.817\n",
      "(Epoch 12, iter 750/787) Average loss so far: 2.824\n",
      "Average epoch loss: 2.821\n",
      "This epoch took 8.0355042497317 mins. Time remaining: 2.0 hrs 16.0 mins.\n"
     ]
    },
    {
     "name": "stderr",
     "output_type": "stream",
     "text": [
      "7it [00:01,  5.47it/s]\n"
     ]
    },
    {
     "name": "stdout",
     "output_type": "stream",
     "text": [
      "validation loss: 3.087609222957066\n"
     ]
    },
    {
     "name": "stderr",
     "output_type": "stream",
     "text": [
      "100%|██████████| 7/7 [00:03<00:00,  2.05it/s]\n",
      "100%|██████████| 793/793 [00:01<00:00, 459.58it/s]\n"
     ]
    },
    {
     "name": "stdout",
     "output_type": "stream",
     "text": [
      "BLEU score: 0.041033156261249384, METEOR score: 0.20340139642244925\n",
      "Starting epoch 14/30, enc lr scheduler: [0.0006079162869547909], dec lr scheduler: [0.0006079162869547909]\n",
      "(Epoch 13, iter 50/787) Average loss so far: 2.810\n",
      "(Epoch 13, iter 100/787) Average loss so far: 2.799\n",
      "(Epoch 13, iter 150/787) Average loss so far: 2.801\n",
      "(Epoch 13, iter 200/787) Average loss so far: 2.796\n",
      "(Epoch 13, iter 250/787) Average loss so far: 2.825\n",
      "(Epoch 13, iter 300/787) Average loss so far: 2.793\n",
      "(Epoch 13, iter 350/787) Average loss so far: 2.795\n",
      "(Epoch 13, iter 400/787) Average loss so far: 2.803\n",
      "(Epoch 13, iter 450/787) Average loss so far: 2.799\n",
      "(Epoch 13, iter 500/787) Average loss so far: 2.798\n",
      "(Epoch 13, iter 550/787) Average loss so far: 2.785\n",
      "(Epoch 13, iter 600/787) Average loss so far: 2.788\n",
      "(Epoch 13, iter 650/787) Average loss so far: 2.808\n",
      "(Epoch 13, iter 700/787) Average loss so far: 2.801\n",
      "(Epoch 13, iter 750/787) Average loss so far: 2.792\n",
      "Average epoch loss: 2.799\n",
      "This epoch took 8.045028154055277 mins. Time remaining: 2.0 hrs 8.0 mins.\n"
     ]
    },
    {
     "name": "stderr",
     "output_type": "stream",
     "text": [
      "7it [00:01,  5.56it/s]\n"
     ]
    },
    {
     "name": "stdout",
     "output_type": "stream",
     "text": [
      "validation loss: 3.080646344593593\n"
     ]
    },
    {
     "name": "stderr",
     "output_type": "stream",
     "text": [
      "100%|██████████| 7/7 [00:03<00:00,  2.14it/s]\n",
      "100%|██████████| 793/793 [00:01<00:00, 515.81it/s]\n"
     ]
    },
    {
     "name": "stdout",
     "output_type": "stream",
     "text": [
      "BLEU score: 0.046692676994029854, METEOR score: 0.20559286007764238\n",
      "Starting epoch 15/30, enc lr scheduler: [0.0005567415893174886], dec lr scheduler: [0.0005567415893174886]\n",
      "(Epoch 14, iter 50/787) Average loss so far: 2.781\n",
      "(Epoch 14, iter 100/787) Average loss so far: 2.776\n",
      "(Epoch 14, iter 150/787) Average loss so far: 2.767\n",
      "(Epoch 14, iter 200/787) Average loss so far: 2.774\n",
      "(Epoch 14, iter 250/787) Average loss so far: 2.769\n",
      "(Epoch 14, iter 300/787) Average loss so far: 2.789\n",
      "(Epoch 14, iter 350/787) Average loss so far: 2.760\n",
      "(Epoch 14, iter 400/787) Average loss so far: 2.791\n",
      "(Epoch 14, iter 450/787) Average loss so far: 2.784\n",
      "(Epoch 14, iter 500/787) Average loss so far: 2.793\n",
      "(Epoch 14, iter 550/787) Average loss so far: 2.776\n",
      "(Epoch 14, iter 600/787) Average loss so far: 2.781\n",
      "(Epoch 14, iter 650/787) Average loss so far: 2.773\n",
      "(Epoch 14, iter 700/787) Average loss so far: 2.780\n",
      "(Epoch 14, iter 750/787) Average loss so far: 2.788\n",
      "Average epoch loss: 2.779\n",
      "This epoch took 8.125079703330993 mins. Time remaining: 2.0 hrs 1.0 mins.\n"
     ]
    },
    {
     "name": "stderr",
     "output_type": "stream",
     "text": [
      "7it [00:01,  5.66it/s]\n"
     ]
    },
    {
     "name": "stdout",
     "output_type": "stream",
     "text": [
      "validation loss: 3.0746142183031355\n"
     ]
    },
    {
     "name": "stderr",
     "output_type": "stream",
     "text": [
      "100%|██████████| 7/7 [00:03<00:00,  2.15it/s]\n",
      "100%|██████████| 793/793 [00:01<00:00, 521.60it/s]\n"
     ]
    },
    {
     "name": "stdout",
     "output_type": "stream",
     "text": [
      "BLEU score: 0.046943470589521766, METEOR score: 0.20379152039697576\n",
      "Starting epoch 16/30, enc lr scheduler: [0.0005050000000000002], dec lr scheduler: [0.0005050000000000002]\n",
      "(Epoch 15, iter 50/787) Average loss so far: 2.756\n",
      "(Epoch 15, iter 100/787) Average loss so far: 2.753\n",
      "(Epoch 15, iter 150/787) Average loss so far: 2.763\n",
      "(Epoch 15, iter 200/787) Average loss so far: 2.755\n",
      "(Epoch 15, iter 250/787) Average loss so far: 2.757\n",
      "(Epoch 15, iter 300/787) Average loss so far: 2.760\n",
      "(Epoch 15, iter 350/787) Average loss so far: 2.764\n",
      "(Epoch 15, iter 400/787) Average loss so far: 2.747\n",
      "(Epoch 15, iter 450/787) Average loss so far: 2.753\n",
      "(Epoch 15, iter 500/787) Average loss so far: 2.772\n",
      "(Epoch 15, iter 550/787) Average loss so far: 2.772\n",
      "(Epoch 15, iter 600/787) Average loss so far: 2.770\n",
      "(Epoch 15, iter 650/787) Average loss so far: 2.764\n",
      "(Epoch 15, iter 700/787) Average loss so far: 2.764\n",
      "(Epoch 15, iter 750/787) Average loss so far: 2.762\n",
      "Average epoch loss: 2.760\n",
      "This epoch took 8.08417743841807 mins. Time remaining: 1.0 hrs 53.0 mins.\n"
     ]
    },
    {
     "name": "stderr",
     "output_type": "stream",
     "text": [
      "7it [00:01,  5.72it/s]\n"
     ]
    },
    {
     "name": "stdout",
     "output_type": "stream",
     "text": [
      "validation loss: 3.0693612098693848\n"
     ]
    },
    {
     "name": "stderr",
     "output_type": "stream",
     "text": [
      "100%|██████████| 7/7 [00:03<00:00,  2.08it/s]\n",
      "100%|██████████| 793/793 [00:01<00:00, 496.10it/s]\n"
     ]
    },
    {
     "name": "stdout",
     "output_type": "stream",
     "text": [
      "BLEU score: 0.04693823811822118, METEOR score: 0.21012783449843356\n",
      "Starting epoch 17/30, enc lr scheduler: [0.0004532584106825117], dec lr scheduler: [0.0004532584106825117]\n",
      "(Epoch 16, iter 50/787) Average loss so far: 2.741\n",
      "(Epoch 16, iter 100/787) Average loss so far: 2.739\n",
      "(Epoch 16, iter 150/787) Average loss so far: 2.747\n",
      "(Epoch 16, iter 200/787) Average loss so far: 2.731\n",
      "(Epoch 16, iter 250/787) Average loss so far: 2.741\n",
      "(Epoch 16, iter 300/787) Average loss so far: 2.748\n",
      "(Epoch 16, iter 350/787) Average loss so far: 2.753\n",
      "(Epoch 16, iter 400/787) Average loss so far: 2.756\n",
      "(Epoch 16, iter 450/787) Average loss so far: 2.745\n",
      "(Epoch 16, iter 500/787) Average loss so far: 2.757\n",
      "(Epoch 16, iter 550/787) Average loss so far: 2.734\n",
      "(Epoch 16, iter 600/787) Average loss so far: 2.740\n",
      "(Epoch 16, iter 650/787) Average loss so far: 2.744\n",
      "(Epoch 16, iter 700/787) Average loss so far: 2.728\n",
      "(Epoch 16, iter 750/787) Average loss so far: 2.755\n",
      "Average epoch loss: 2.745\n",
      "This epoch took 8.109484219551087 mins. Time remaining: 1.0 hrs 45.0 mins.\n"
     ]
    },
    {
     "name": "stderr",
     "output_type": "stream",
     "text": [
      "7it [00:01,  5.33it/s]\n"
     ]
    },
    {
     "name": "stdout",
     "output_type": "stream",
     "text": [
      "validation loss: 3.065413134438651\n"
     ]
    },
    {
     "name": "stderr",
     "output_type": "stream",
     "text": [
      "100%|██████████| 7/7 [00:03<00:00,  2.03it/s]\n",
      "100%|██████████| 793/793 [00:01<00:00, 503.49it/s]\n"
     ]
    },
    {
     "name": "stdout",
     "output_type": "stream",
     "text": [
      "BLEU score: 0.048756397533905496, METEOR score: 0.21361782160791687\n",
      "Starting epoch 18/30, enc lr scheduler: [0.00040208371304520916], dec lr scheduler: [0.00040208371304520916]\n",
      "(Epoch 17, iter 50/787) Average loss so far: 2.730\n",
      "(Epoch 17, iter 100/787) Average loss so far: 2.725\n",
      "(Epoch 17, iter 150/787) Average loss so far: 2.735\n",
      "(Epoch 17, iter 200/787) Average loss so far: 2.726\n",
      "(Epoch 17, iter 250/787) Average loss so far: 2.714\n",
      "(Epoch 17, iter 300/787) Average loss so far: 2.742\n",
      "(Epoch 17, iter 350/787) Average loss so far: 2.721\n",
      "(Epoch 17, iter 400/787) Average loss so far: 2.716\n",
      "(Epoch 17, iter 450/787) Average loss so far: 2.738\n",
      "(Epoch 17, iter 500/787) Average loss so far: 2.729\n",
      "(Epoch 17, iter 550/787) Average loss so far: 2.727\n",
      "(Epoch 17, iter 600/787) Average loss so far: 2.739\n",
      "(Epoch 17, iter 650/787) Average loss so far: 2.738\n",
      "(Epoch 17, iter 700/787) Average loss so far: 2.740\n",
      "(Epoch 17, iter 750/787) Average loss so far: 2.741\n",
      "Average epoch loss: 2.731\n",
      "This epoch took 8.125742689768474 mins. Time remaining: 1.0 hrs 37.0 mins.\n"
     ]
    },
    {
     "name": "stderr",
     "output_type": "stream",
     "text": [
      "7it [00:01,  5.55it/s]\n"
     ]
    },
    {
     "name": "stdout",
     "output_type": "stream",
     "text": [
      "validation loss: 3.061034543173654\n"
     ]
    },
    {
     "name": "stderr",
     "output_type": "stream",
     "text": [
      "100%|██████████| 7/7 [00:03<00:00,  2.17it/s]\n",
      "100%|██████████| 793/793 [00:01<00:00, 541.85it/s]\n"
     ]
    },
    {
     "name": "stdout",
     "output_type": "stream",
     "text": [
      "BLEU score: 0.05130481997908665, METEOR score: 0.21268616360288597\n",
      "Starting epoch 19/30, enc lr scheduler: [0.00035203658778440114], dec lr scheduler: [0.00035203658778440114]\n",
      "(Epoch 18, iter 50/787) Average loss so far: 2.706\n",
      "(Epoch 18, iter 100/787) Average loss so far: 2.712\n",
      "(Epoch 18, iter 150/787) Average loss so far: 2.709\n",
      "(Epoch 18, iter 200/787) Average loss so far: 2.718\n",
      "(Epoch 18, iter 250/787) Average loss so far: 2.717\n",
      "(Epoch 18, iter 300/787) Average loss so far: 2.702\n",
      "(Epoch 18, iter 350/787) Average loss so far: 2.721\n",
      "(Epoch 18, iter 400/787) Average loss so far: 2.737\n",
      "(Epoch 18, iter 450/787) Average loss so far: 2.725\n",
      "(Epoch 18, iter 500/787) Average loss so far: 2.715\n",
      "(Epoch 18, iter 550/787) Average loss so far: 2.726\n",
      "(Epoch 18, iter 600/787) Average loss so far: 2.708\n",
      "(Epoch 18, iter 650/787) Average loss so far: 2.715\n",
      "(Epoch 18, iter 700/787) Average loss so far: 2.727\n",
      "(Epoch 18, iter 750/787) Average loss so far: 2.723\n",
      "Average epoch loss: 2.718\n",
      "This epoch took 8.125829188028971 mins. Time remaining: 1.0 hrs 29.0 mins.\n"
     ]
    },
    {
     "name": "stderr",
     "output_type": "stream",
     "text": [
      "7it [00:01,  5.26it/s]\n"
     ]
    },
    {
     "name": "stdout",
     "output_type": "stream",
     "text": [
      "validation loss: 3.0552920273372104\n"
     ]
    },
    {
     "name": "stderr",
     "output_type": "stream",
     "text": [
      "100%|██████████| 7/7 [00:03<00:00,  2.28it/s]\n",
      "100%|██████████| 793/793 [00:01<00:00, 586.20it/s]\n"
     ]
    },
    {
     "name": "stdout",
     "output_type": "stream",
     "text": [
      "BLEU score: 0.05395021872522183, METEOR score: 0.21410343910120513\n",
      "Starting epoch 20/30, enc lr scheduler: [0.00030366536167747904], dec lr scheduler: [0.00030366536167747904]\n",
      "(Epoch 19, iter 50/787) Average loss so far: 2.709\n",
      "(Epoch 19, iter 100/787) Average loss so far: 2.710\n",
      "(Epoch 19, iter 150/787) Average loss so far: 2.699\n",
      "(Epoch 19, iter 200/787) Average loss so far: 2.694\n",
      "(Epoch 19, iter 250/787) Average loss so far: 2.694\n",
      "(Epoch 19, iter 300/787) Average loss so far: 2.711\n",
      "(Epoch 19, iter 350/787) Average loss so far: 2.704\n",
      "(Epoch 19, iter 400/787) Average loss so far: 2.708\n",
      "(Epoch 19, iter 450/787) Average loss so far: 2.699\n",
      "(Epoch 19, iter 500/787) Average loss so far: 2.716\n",
      "(Epoch 19, iter 550/787) Average loss so far: 2.701\n",
      "(Epoch 19, iter 600/787) Average loss so far: 2.707\n",
      "(Epoch 19, iter 650/787) Average loss so far: 2.717\n",
      "(Epoch 19, iter 700/787) Average loss so far: 2.700\n",
      "(Epoch 19, iter 750/787) Average loss so far: 2.728\n",
      "Average epoch loss: 2.707\n",
      "This epoch took 8.068328471978505 mins. Time remaining: 1.0 hrs 20.0 mins.\n"
     ]
    },
    {
     "name": "stderr",
     "output_type": "stream",
     "text": [
      "7it [00:01,  5.48it/s]\n"
     ]
    },
    {
     "name": "stdout",
     "output_type": "stream",
     "text": [
      "validation loss: 3.0541302817208424\n"
     ]
    },
    {
     "name": "stderr",
     "output_type": "stream",
     "text": [
      "100%|██████████| 7/7 [00:02<00:00,  2.45it/s]\n",
      "100%|██████████| 793/793 [00:01<00:00, 657.10it/s]\n"
     ]
    },
    {
     "name": "stdout",
     "output_type": "stream",
     "text": [
      "BLEU score: 0.05167331114826218, METEOR score: 0.2028060241888733\n",
      "Starting epoch 21/30, enc lr scheduler: [0.00025750000000000013], dec lr scheduler: [0.00025750000000000013]\n",
      "(Epoch 20, iter 50/787) Average loss so far: 2.700\n",
      "(Epoch 20, iter 100/787) Average loss so far: 2.687\n",
      "(Epoch 20, iter 150/787) Average loss so far: 2.699\n",
      "(Epoch 20, iter 200/787) Average loss so far: 2.703\n",
      "(Epoch 20, iter 250/787) Average loss so far: 2.706\n",
      "(Epoch 20, iter 300/787) Average loss so far: 2.704\n",
      "(Epoch 20, iter 350/787) Average loss so far: 2.679\n",
      "(Epoch 20, iter 400/787) Average loss so far: 2.706\n",
      "(Epoch 20, iter 450/787) Average loss so far: 2.690\n",
      "(Epoch 20, iter 500/787) Average loss so far: 2.689\n",
      "(Epoch 20, iter 550/787) Average loss so far: 2.693\n",
      "(Epoch 20, iter 600/787) Average loss so far: 2.709\n",
      "(Epoch 20, iter 650/787) Average loss so far: 2.693\n",
      "(Epoch 20, iter 700/787) Average loss so far: 2.706\n",
      "(Epoch 20, iter 750/787) Average loss so far: 2.695\n",
      "Average epoch loss: 2.698\n",
      "This epoch took 7.947717535495758 mins. Time remaining: 1.0 hrs 11.0 mins.\n"
     ]
    },
    {
     "name": "stderr",
     "output_type": "stream",
     "text": [
      "7it [00:01,  5.96it/s]\n"
     ]
    },
    {
     "name": "stdout",
     "output_type": "stream",
     "text": [
      "validation loss: 3.0529042993273054\n"
     ]
    },
    {
     "name": "stderr",
     "output_type": "stream",
     "text": [
      "100%|██████████| 7/7 [00:02<00:00,  2.36it/s]\n",
      "100%|██████████| 793/793 [00:01<00:00, 604.51it/s]\n"
     ]
    },
    {
     "name": "stdout",
     "output_type": "stream",
     "text": [
      "BLEU score: 0.05473522071477695, METEOR score: 0.2107675382802335\n",
      "Starting epoch 22/30, enc lr scheduler: [0.00021404630011522585], dec lr scheduler: [0.00021404630011522585]\n",
      "(Epoch 21, iter 50/787) Average loss so far: 2.690\n",
      "(Epoch 21, iter 100/787) Average loss so far: 2.674\n",
      "(Epoch 21, iter 150/787) Average loss so far: 2.676\n",
      "(Epoch 21, iter 200/787) Average loss so far: 2.707\n",
      "(Epoch 21, iter 250/787) Average loss so far: 2.681\n",
      "(Epoch 21, iter 300/787) Average loss so far: 2.691\n",
      "(Epoch 21, iter 350/787) Average loss so far: 2.691\n",
      "(Epoch 21, iter 400/787) Average loss so far: 2.695\n",
      "(Epoch 21, iter 450/787) Average loss so far: 2.690\n",
      "(Epoch 21, iter 500/787) Average loss so far: 2.681\n",
      "(Epoch 21, iter 550/787) Average loss so far: 2.690\n",
      "(Epoch 21, iter 600/787) Average loss so far: 2.704\n",
      "(Epoch 21, iter 650/787) Average loss so far: 2.679\n",
      "(Epoch 21, iter 700/787) Average loss so far: 2.699\n",
      "(Epoch 21, iter 750/787) Average loss so far: 2.675\n",
      "Average epoch loss: 2.689\n",
      "This epoch took 7.528370042641957 mins. Time remaining: 1.0 hrs 0.0 mins.\n"
     ]
    },
    {
     "name": "stderr",
     "output_type": "stream",
     "text": [
      "7it [00:01,  6.14it/s]\n"
     ]
    },
    {
     "name": "stdout",
     "output_type": "stream",
     "text": [
      "validation loss: 3.0493842533656528\n"
     ]
    },
    {
     "name": "stderr",
     "output_type": "stream",
     "text": [
      "100%|██████████| 7/7 [00:03<00:00,  2.28it/s]\n",
      "100%|██████████| 793/793 [00:01<00:00, 541.32it/s]\n"
     ]
    },
    {
     "name": "stdout",
     "output_type": "stream",
     "text": [
      "BLEU score: 0.05105392764669949, METEOR score: 0.2156661550691742\n",
      "Starting epoch 23/30, enc lr scheduler: [0.00017378034985236535], dec lr scheduler: [0.00017378034985236535]\n",
      "(Epoch 22, iter 50/787) Average loss so far: 2.676\n",
      "(Epoch 22, iter 100/787) Average loss so far: 2.671\n",
      "(Epoch 22, iter 150/787) Average loss so far: 2.682\n",
      "(Epoch 22, iter 200/787) Average loss so far: 2.685\n",
      "(Epoch 22, iter 250/787) Average loss so far: 2.676\n",
      "(Epoch 22, iter 300/787) Average loss so far: 2.687\n",
      "(Epoch 22, iter 350/787) Average loss so far: 2.687\n",
      "(Epoch 22, iter 400/787) Average loss so far: 2.676\n",
      "(Epoch 22, iter 450/787) Average loss so far: 2.688\n",
      "(Epoch 22, iter 500/787) Average loss so far: 2.678\n",
      "(Epoch 22, iter 550/787) Average loss so far: 2.694\n",
      "(Epoch 22, iter 600/787) Average loss so far: 2.698\n",
      "(Epoch 22, iter 650/787) Average loss so far: 2.673\n",
      "(Epoch 22, iter 700/787) Average loss so far: 2.676\n",
      "(Epoch 22, iter 750/787) Average loss so far: 2.681\n",
      "Average epoch loss: 2.682\n",
      "This epoch took 7.5065172235171 mins. Time remaining: 0.0 hrs 52.0 mins.\n"
     ]
    },
    {
     "name": "stderr",
     "output_type": "stream",
     "text": [
      "7it [00:01,  5.96it/s]\n"
     ]
    },
    {
     "name": "stdout",
     "output_type": "stream",
     "text": [
      "validation loss: 3.0472822529929027\n"
     ]
    },
    {
     "name": "stderr",
     "output_type": "stream",
     "text": [
      "100%|██████████| 7/7 [00:02<00:00,  2.37it/s]\n",
      "100%|██████████| 793/793 [00:01<00:00, 605.43it/s]\n"
     ]
    },
    {
     "name": "stdout",
     "output_type": "stream",
     "text": [
      "BLEU score: 0.05496028256787088, METEOR score: 0.21032837797650386\n",
      "Starting epoch 24/30, enc lr scheduler: [0.00013714331138868998], dec lr scheduler: [0.00013714331138868998]\n",
      "(Epoch 23, iter 50/787) Average loss so far: 2.669\n",
      "(Epoch 23, iter 100/787) Average loss so far: 2.674\n",
      "(Epoch 23, iter 150/787) Average loss so far: 2.658\n",
      "(Epoch 23, iter 200/787) Average loss so far: 2.672\n",
      "(Epoch 23, iter 250/787) Average loss so far: 2.679\n",
      "(Epoch 23, iter 300/787) Average loss so far: 2.678\n",
      "(Epoch 23, iter 350/787) Average loss so far: 2.670\n",
      "(Epoch 23, iter 400/787) Average loss so far: 2.677\n",
      "(Epoch 23, iter 450/787) Average loss so far: 2.673\n",
      "(Epoch 23, iter 500/787) Average loss so far: 2.668\n",
      "(Epoch 23, iter 550/787) Average loss so far: 2.670\n",
      "(Epoch 23, iter 600/787) Average loss so far: 2.674\n",
      "(Epoch 23, iter 650/787) Average loss so far: 2.698\n",
      "(Epoch 23, iter 700/787) Average loss so far: 2.690\n",
      "(Epoch 23, iter 750/787) Average loss so far: 2.678\n",
      "Average epoch loss: 2.676\n",
      "This epoch took 7.4704957167307535 mins. Time remaining: 0.0 hrs 44.0 mins.\n"
     ]
    },
    {
     "name": "stderr",
     "output_type": "stream",
     "text": [
      "7it [00:01,  6.00it/s]\n"
     ]
    },
    {
     "name": "stdout",
     "output_type": "stream",
     "text": [
      "validation loss: 3.0462141377585277\n"
     ]
    },
    {
     "name": "stderr",
     "output_type": "stream",
     "text": [
      "100%|██████████| 7/7 [00:02<00:00,  2.35it/s]\n",
      "100%|██████████| 793/793 [00:01<00:00, 610.16it/s]\n"
     ]
    },
    {
     "name": "stdout",
     "output_type": "stream",
     "text": [
      "BLEU score: 0.05558312256170381, METEOR score: 0.21142443556612248\n",
      "Starting epoch 25/30, enc lr scheduler: [0.00010453658778440108], dec lr scheduler: [0.00010453658778440108]\n",
      "(Epoch 24, iter 50/787) Average loss so far: 2.682\n",
      "(Epoch 24, iter 100/787) Average loss so far: 2.661\n",
      "(Epoch 24, iter 150/787) Average loss so far: 2.664\n",
      "(Epoch 24, iter 200/787) Average loss so far: 2.688\n",
      "(Epoch 24, iter 250/787) Average loss so far: 2.652\n",
      "(Epoch 24, iter 300/787) Average loss so far: 2.666\n",
      "(Epoch 24, iter 350/787) Average loss so far: 2.681\n",
      "(Epoch 24, iter 400/787) Average loss so far: 2.678\n",
      "(Epoch 24, iter 450/787) Average loss so far: 2.669\n",
      "(Epoch 24, iter 500/787) Average loss so far: 2.676\n",
      "(Epoch 24, iter 550/787) Average loss so far: 2.685\n",
      "(Epoch 24, iter 600/787) Average loss so far: 2.672\n",
      "(Epoch 24, iter 650/787) Average loss so far: 2.678\n",
      "(Epoch 24, iter 700/787) Average loss so far: 2.666\n",
      "(Epoch 24, iter 750/787) Average loss so far: 2.655\n",
      "Average epoch loss: 2.671\n",
      "This epoch took 7.541735696792602 mins. Time remaining: 0.0 hrs 37.0 mins.\n"
     ]
    },
    {
     "name": "stderr",
     "output_type": "stream",
     "text": [
      "7it [00:01,  5.94it/s]\n"
     ]
    },
    {
     "name": "stdout",
     "output_type": "stream",
     "text": [
      "validation loss: 3.0450666631971086\n"
     ]
    },
    {
     "name": "stderr",
     "output_type": "stream",
     "text": [
      "100%|██████████| 7/7 [00:03<00:00,  2.32it/s]\n",
      "100%|██████████| 793/793 [00:01<00:00, 580.66it/s]\n"
     ]
    },
    {
     "name": "stdout",
     "output_type": "stream",
     "text": [
      "BLEU score: 0.054168369543141096, METEOR score: 0.2190973874735378\n",
      "Starting epoch 26/30, enc lr scheduler: [7.631742512670285e-05], dec lr scheduler: [7.631742512670285e-05]\n",
      "(Epoch 25, iter 50/787) Average loss so far: 2.660\n",
      "(Epoch 25, iter 100/787) Average loss so far: 2.655\n",
      "(Epoch 25, iter 150/787) Average loss so far: 2.682\n",
      "(Epoch 25, iter 200/787) Average loss so far: 2.663\n",
      "(Epoch 25, iter 250/787) Average loss so far: 2.658\n",
      "(Epoch 25, iter 300/787) Average loss so far: 2.653\n",
      "(Epoch 25, iter 350/787) Average loss so far: 2.674\n",
      "(Epoch 25, iter 400/787) Average loss so far: 2.667\n",
      "(Epoch 25, iter 450/787) Average loss so far: 2.669\n",
      "(Epoch 25, iter 500/787) Average loss so far: 2.668\n",
      "(Epoch 25, iter 550/787) Average loss so far: 2.671\n",
      "(Epoch 25, iter 600/787) Average loss so far: 2.666\n",
      "(Epoch 25, iter 650/787) Average loss so far: 2.666\n",
      "(Epoch 25, iter 700/787) Average loss so far: 2.679\n",
      "(Epoch 25, iter 750/787) Average loss so far: 2.669\n",
      "Average epoch loss: 2.667\n",
      "This epoch took 7.473872991402944 mins. Time remaining: 0.0 hrs 29.0 mins.\n"
     ]
    },
    {
     "name": "stderr",
     "output_type": "stream",
     "text": [
      "7it [00:01,  6.05it/s]\n"
     ]
    },
    {
     "name": "stdout",
     "output_type": "stream",
     "text": [
      "validation loss: 3.0444539955684116\n"
     ]
    },
    {
     "name": "stderr",
     "output_type": "stream",
     "text": [
      "100%|██████████| 7/7 [00:02<00:00,  2.53it/s]\n",
      "100%|██████████| 793/793 [00:01<00:00, 609.17it/s]\n"
     ]
    },
    {
     "name": "stdout",
     "output_type": "stream",
     "text": [
      "BLEU score: 0.05549097705999941, METEOR score: 0.2134507586141872\n",
      "Starting epoch 27/30, enc lr scheduler: [5.279499846691252e-05], dec lr scheduler: [5.279499846691252e-05]\n",
      "(Epoch 26, iter 50/787) Average loss so far: 2.655\n",
      "(Epoch 26, iter 100/787) Average loss so far: 2.655\n",
      "(Epoch 26, iter 150/787) Average loss so far: 2.641\n",
      "(Epoch 26, iter 200/787) Average loss so far: 2.668\n",
      "(Epoch 26, iter 250/787) Average loss so far: 2.671\n",
      "(Epoch 26, iter 300/787) Average loss so far: 2.661\n",
      "(Epoch 26, iter 350/787) Average loss so far: 2.672\n",
      "(Epoch 26, iter 400/787) Average loss so far: 2.673\n",
      "(Epoch 26, iter 450/787) Average loss so far: 2.667\n",
      "(Epoch 26, iter 500/787) Average loss so far: 2.671\n",
      "(Epoch 26, iter 550/787) Average loss so far: 2.665\n",
      "(Epoch 26, iter 600/787) Average loss so far: 2.668\n",
      "(Epoch 26, iter 650/787) Average loss so far: 2.661\n",
      "(Epoch 26, iter 700/787) Average loss so far: 2.657\n",
      "(Epoch 26, iter 750/787) Average loss so far: 2.660\n",
      "Average epoch loss: 2.663\n",
      "This epoch took 7.426502378781636 mins. Time remaining: 0.0 hrs 22.0 mins.\n"
     ]
    },
    {
     "name": "stderr",
     "output_type": "stream",
     "text": [
      "7it [00:01,  6.26it/s]\n"
     ]
    },
    {
     "name": "stdout",
     "output_type": "stream",
     "text": [
      "validation loss: 3.0439279760633196\n"
     ]
    },
    {
     "name": "stderr",
     "output_type": "stream",
     "text": [
      "100%|██████████| 7/7 [00:02<00:00,  2.39it/s]\n",
      "100%|██████████| 793/793 [00:01<00:00, 605.29it/s]\n"
     ]
    },
    {
     "name": "stdout",
     "output_type": "stream",
     "text": [
      "BLEU score: 0.05676168975713699, METEOR score: 0.2139917855970703\n",
      "Starting epoch 28/30, enc lr scheduler: [3.4227024433899005e-05], dec lr scheduler: [3.4227024433899005e-05]\n",
      "(Epoch 27, iter 50/787) Average loss so far: 2.679\n",
      "(Epoch 27, iter 100/787) Average loss so far: 2.660\n",
      "(Epoch 27, iter 150/787) Average loss so far: 2.659\n",
      "(Epoch 27, iter 200/787) Average loss so far: 2.654\n",
      "(Epoch 27, iter 250/787) Average loss so far: 2.664\n",
      "(Epoch 27, iter 300/787) Average loss so far: 2.655\n",
      "(Epoch 27, iter 350/787) Average loss so far: 2.660\n",
      "(Epoch 27, iter 400/787) Average loss so far: 2.650\n",
      "(Epoch 27, iter 450/787) Average loss so far: 2.669\n",
      "(Epoch 27, iter 500/787) Average loss so far: 2.670\n",
      "(Epoch 27, iter 550/787) Average loss so far: 2.664\n",
      "(Epoch 27, iter 600/787) Average loss so far: 2.660\n",
      "(Epoch 27, iter 650/787) Average loss so far: 2.650\n",
      "(Epoch 27, iter 700/787) Average loss so far: 2.664\n",
      "(Epoch 27, iter 750/787) Average loss so far: 2.661\n",
      "Average epoch loss: 2.661\n",
      "This epoch took 7.4591632843017575 mins. Time remaining: 0.0 hrs 14.0 mins.\n"
     ]
    },
    {
     "name": "stderr",
     "output_type": "stream",
     "text": [
      "7it [00:01,  6.13it/s]\n"
     ]
    },
    {
     "name": "stdout",
     "output_type": "stream",
     "text": [
      "validation loss: 3.0432401725224087\n"
     ]
    },
    {
     "name": "stderr",
     "output_type": "stream",
     "text": [
      "100%|██████████| 7/7 [00:02<00:00,  2.35it/s]\n",
      "100%|██████████| 793/793 [00:01<00:00, 595.50it/s]\n"
     ]
    },
    {
     "name": "stdout",
     "output_type": "stream",
     "text": [
      "BLEU score: 0.05472410622862404, METEOR score: 0.2129614425943201\n",
      "Starting epoch 29/30, enc lr scheduler: [2.0816937636766188e-05], dec lr scheduler: [2.0816937636766188e-05]\n",
      "(Epoch 28, iter 50/787) Average loss so far: 2.666\n",
      "(Epoch 28, iter 100/787) Average loss so far: 2.647\n",
      "(Epoch 28, iter 150/787) Average loss so far: 2.662\n",
      "(Epoch 28, iter 200/787) Average loss so far: 2.633\n",
      "(Epoch 28, iter 250/787) Average loss so far: 2.664\n",
      "(Epoch 28, iter 300/787) Average loss so far: 2.664\n",
      "(Epoch 28, iter 350/787) Average loss so far: 2.668\n",
      "(Epoch 28, iter 400/787) Average loss so far: 2.659\n",
      "(Epoch 28, iter 450/787) Average loss so far: 2.665\n",
      "(Epoch 28, iter 500/787) Average loss so far: 2.660\n",
      "(Epoch 28, iter 550/787) Average loss so far: 2.663\n",
      "(Epoch 28, iter 600/787) Average loss so far: 2.655\n",
      "(Epoch 28, iter 650/787) Average loss so far: 2.662\n",
      "(Epoch 28, iter 700/787) Average loss so far: 2.662\n",
      "(Epoch 28, iter 750/787) Average loss so far: 2.661\n",
      "Average epoch loss: 2.660\n",
      "This epoch took 7.44647292693456 mins. Time remaining: 0.0 hrs 7.0 mins.\n"
     ]
    },
    {
     "name": "stderr",
     "output_type": "stream",
     "text": [
      "7it [00:01,  5.94it/s]\n"
     ]
    },
    {
     "name": "stdout",
     "output_type": "stream",
     "text": [
      "validation loss: 3.0424865995134627\n"
     ]
    },
    {
     "name": "stderr",
     "output_type": "stream",
     "text": [
      "100%|██████████| 7/7 [00:02<00:00,  2.34it/s]\n",
      "100%|██████████| 793/793 [00:01<00:00, 588.28it/s]\n"
     ]
    },
    {
     "name": "stdout",
     "output_type": "stream",
     "text": [
      "BLEU score: 0.054989968499987295, METEOR score: 0.21584912823420402\n",
      "Starting epoch 30/30, enc lr scheduler: [1.2711661792704668e-05], dec lr scheduler: [1.2711661792704668e-05]\n",
      "(Epoch 29, iter 50/787) Average loss so far: 2.667\n",
      "(Epoch 29, iter 100/787) Average loss so far: 2.655\n",
      "(Epoch 29, iter 150/787) Average loss so far: 2.648\n",
      "(Epoch 29, iter 200/787) Average loss so far: 2.672\n",
      "(Epoch 29, iter 250/787) Average loss so far: 2.658\n",
      "(Epoch 29, iter 300/787) Average loss so far: 2.662\n",
      "(Epoch 29, iter 350/787) Average loss so far: 2.664\n",
      "(Epoch 29, iter 400/787) Average loss so far: 2.649\n",
      "(Epoch 29, iter 450/787) Average loss so far: 2.657\n",
      "(Epoch 29, iter 500/787) Average loss so far: 2.646\n",
      "(Epoch 29, iter 550/787) Average loss so far: 2.667\n",
      "(Epoch 29, iter 600/787) Average loss so far: 2.670\n",
      "(Epoch 29, iter 650/787) Average loss so far: 2.655\n",
      "(Epoch 29, iter 700/787) Average loss so far: 2.656\n",
      "(Epoch 29, iter 750/787) Average loss so far: 2.661\n",
      "Average epoch loss: 2.658\n",
      "This epoch took 7.4700422565142315 mins. Time remaining: 0.0 hrs 0.0 mins.\n"
     ]
    },
    {
     "name": "stderr",
     "output_type": "stream",
     "text": [
      "7it [00:01,  6.06it/s]\n"
     ]
    },
    {
     "name": "stdout",
     "output_type": "stream",
     "text": [
      "validation loss: 3.0425445352281844\n"
     ]
    },
    {
     "name": "stderr",
     "output_type": "stream",
     "text": [
      "100%|██████████| 7/7 [00:02<00:00,  2.39it/s]\n",
      "100%|██████████| 793/793 [00:01<00:00, 619.58it/s]\n"
     ]
    },
    {
     "name": "stdout",
     "output_type": "stream",
     "text": [
      "BLEU score: 0.057802547829115924, METEOR score: 0.21431412239195574\n"
     ]
    }
   ],
   "source": [
    "initial_lr=1e-3\n",
    "min_lr = 1e-5\n",
    "n_epochs = 30\n",
    "batch_size=128\n",
    "encoder_pretrained_embed_optimizer = optim.Adam(encoder_pretrained_embed.parameters(), lr=initial_lr)\n",
    "decoder_pretrained_embed_optimizer = optim.Adam(decoder_pretrained_embed.parameters(), lr=initial_lr)\n",
    "# enc_scheduler = CosineAnnealingLR(encoder_pretrained_embed_optimizer, T_max=n_epochs, eta_min=min_lr)\n",
    "# dec_scheduler = CosineAnnealingLR(decoder_pretrained_embed_optimizer, T_max=n_epochs, eta_min=min_lr)\n",
    "enc_pretrained_embed_scheduler = CosineAnnealingLR(encoder_pretrained_embed_optimizer, T_max=n_epochs, eta_min=min_lr)\n",
    "dec_pretrained_embed_scheduler = CosineAnnealingLR(decoder_pretrained_embed_optimizer, T_max=n_epochs, eta_min=min_lr)\n",
    "identifier=\"pretrained_emb_attn_adam_without_intermediate_tags_wd0_lr1e-3\"\n",
    "\n",
    "pre_epoch_losses, pre_val_epoch_losses, pre_log = train(\n",
    "    encoder_pretrained_embed, decoder_pretrained_embed, encoder_pretrained_embed_optimizer, decoder_pretrained_embed_optimizer, \n",
    "    train_ds, n_epochs=n_epochs, vocab=vocab, decoder_mode=\"attention\", batch_size=batch_size, \n",
    "    enc_lr_scheduler=enc_pretrained_embed_scheduler, dec_lr_scheduler=dec_pretrained_embed_scheduler, \n",
    "    dev_ds_val_loss = dev_ds_val_loss, dev_ds_val_met=dev_ds_val_met, identifier=identifier,\n",
    "    verbose_iter_interval=50)\n",
    "\n",
    "save_log(identifier, pre_log, encoder_pretrained_embed_optimizer, decoder_pretrained_embed_optimizer, \n",
    "         enc_pretrained_embed_scheduler, dec_pretrained_embed_scheduler)"
   ]
  },
  {
   "cell_type": "markdown",
   "metadata": {},
   "source": [
    "## Extension 4: Multi-Layer Encoder-Decoder + Neurologic Decoding"
   ]
  },
  {
   "cell_type": "code",
   "execution_count": 24,
   "metadata": {},
   "outputs": [],
   "source": [
    "reset_rng()"
   ]
  },
  {
   "cell_type": "code",
   "execution_count": 15,
   "metadata": {},
   "outputs": [],
   "source": [
    "embedding_size=300\n",
    "num_layers=3\n",
    "encoder_multilayer_attn = EncoderRNN(vocab.n_unique_words, embedding_size=embedding_size, hidden_size=HIDDEN_SIZE, \n",
    "                          padding_value=vocab.word2index(PAD_WORD), num_lstm_layers=num_layers).to(DEVICE)\n",
    "# in the training script, decoder is always fed a non-end token and thus never needs to generate padding\n",
    "# also it should never generate \"<UNKNOWN>\"\n",
    "# decoder = DecoderRNN(embedding_size=embedding_size,hidden_size=HIDDEN_SIZE, output_size=vocab.n_unique_words-2).to(DEVICE)\n",
    "decoder_multilayer_attn = AttnDecoderRNN(embedding_size, hidden_size=HIDDEN_SIZE, output_size=vocab.n_unique_words-1, \n",
    "                              padding_val=vocab.word2index(PAD_WORD), dropout=DROPOUT, num_lstm_layers=num_layers).to(DEVICE)"
   ]
  },
  {
   "cell_type": "code",
   "execution_count": 26,
   "metadata": {},
   "outputs": [
    {
     "name": "stdout",
     "output_type": "stream",
     "text": [
      "Starting epoch 1/30, enc lr scheduler: [0.001], dec lr scheduler: [0.001]\n",
      "(Epoch 0, iter 50/787) Average loss so far: 6.988\n",
      "(Epoch 0, iter 100/787) Average loss so far: 6.058\n",
      "(Epoch 0, iter 150/787) Average loss so far: 6.035\n",
      "(Epoch 0, iter 200/787) Average loss so far: 6.032\n",
      "(Epoch 0, iter 250/787) Average loss so far: 6.019\n",
      "(Epoch 0, iter 300/787) Average loss so far: 6.011\n",
      "(Epoch 0, iter 350/787) Average loss so far: 6.015\n",
      "(Epoch 0, iter 400/787) Average loss so far: 6.006\n",
      "(Epoch 0, iter 450/787) Average loss so far: 6.002\n",
      "(Epoch 0, iter 500/787) Average loss so far: 5.990\n",
      "(Epoch 0, iter 550/787) Average loss so far: 5.972\n",
      "(Epoch 0, iter 600/787) Average loss so far: 5.961\n",
      "(Epoch 0, iter 650/787) Average loss so far: 5.934\n",
      "(Epoch 0, iter 700/787) Average loss so far: 5.930\n",
      "(Epoch 0, iter 750/787) Average loss so far: 5.931\n",
      "Average epoch loss: 6.053\n",
      "This epoch took 8.784394307931263 mins. Time remaining: 4.0 hrs 14.0 mins.\n"
     ]
    },
    {
     "name": "stderr",
     "output_type": "stream",
     "text": [
      "7it [00:01,  5.15it/s]\n"
     ]
    },
    {
     "name": "stdout",
     "output_type": "stream",
     "text": [
      "validation loss: 5.933405944279262\n"
     ]
    },
    {
     "name": "stderr",
     "output_type": "stream",
     "text": [
      "100%|██████████| 7/7 [00:08<00:00,  1.15s/it]\n",
      "/home/junn/miniconda3/envs/nlp/lib/python3.9/site-packages/nltk/translate/bleu_score.py:552: UserWarning: \n",
      "The hypothesis contains 0 counts of 4-gram overlaps.\n",
      "Therefore the BLEU score evaluates to 0, independently of\n",
      "how many N-gram overlaps of lower order it contains.\n",
      "Consider using lower n-gram order or use SmoothingFunction()\n",
      "  warnings.warn(_msg)\n",
      "100%|██████████| 793/793 [00:06<00:00, 114.02it/s]\n"
     ]
    },
    {
     "name": "stdout",
     "output_type": "stream",
     "text": [
      "BLEU score: 5.8211892454135815e-80, METEOR score: 0.034986121334209475\n",
      "Starting epoch 2/30, enc lr scheduler: [0.0009972883382072953], dec lr scheduler: [0.0009972883382072953]\n",
      "(Epoch 1, iter 50/787) Average loss so far: 5.916\n",
      "(Epoch 1, iter 100/787) Average loss so far: 5.902\n",
      "(Epoch 1, iter 150/787) Average loss so far: 5.896\n",
      "(Epoch 1, iter 200/787) Average loss so far: 5.880\n",
      "(Epoch 1, iter 250/787) Average loss so far: 5.882\n",
      "(Epoch 1, iter 300/787) Average loss so far: 5.891\n",
      "(Epoch 1, iter 350/787) Average loss so far: 5.881\n",
      "(Epoch 1, iter 400/787) Average loss so far: 5.874\n",
      "(Epoch 1, iter 450/787) Average loss so far: 5.868\n",
      "(Epoch 1, iter 500/787) Average loss so far: 5.830\n",
      "(Epoch 1, iter 550/787) Average loss so far: 5.730\n",
      "(Epoch 1, iter 600/787) Average loss so far: 5.635\n",
      "(Epoch 1, iter 650/787) Average loss so far: 5.547\n",
      "(Epoch 1, iter 700/787) Average loss so far: 5.400\n",
      "(Epoch 1, iter 750/787) Average loss so far: 5.205\n",
      "Average epoch loss: 5.724\n",
      "This epoch took 8.680376549561819 mins. Time remaining: 4.0 hrs 3.0 mins.\n"
     ]
    },
    {
     "name": "stderr",
     "output_type": "stream",
     "text": [
      "7it [00:01,  5.27it/s]\n"
     ]
    },
    {
     "name": "stdout",
     "output_type": "stream",
     "text": [
      "validation loss: 5.041280337742397\n"
     ]
    },
    {
     "name": "stderr",
     "output_type": "stream",
     "text": [
      "100%|██████████| 7/7 [00:07<00:00,  1.08s/it]\n",
      "100%|██████████| 793/793 [00:06<00:00, 114.85it/s]\n"
     ]
    },
    {
     "name": "stdout",
     "output_type": "stream",
     "text": [
      "BLEU score: 0.003278639860407049, METEOR score: 0.08561562097555378\n",
      "Starting epoch 3/30, enc lr scheduler: [0.0009891830623632338], dec lr scheduler: [0.0009891830623632338]\n",
      "(Epoch 2, iter 50/787) Average loss so far: 4.912\n",
      "(Epoch 2, iter 100/787) Average loss so far: 4.751\n",
      "(Epoch 2, iter 150/787) Average loss so far: 4.599\n",
      "(Epoch 2, iter 200/787) Average loss so far: 4.489\n",
      "(Epoch 2, iter 250/787) Average loss so far: 4.364\n",
      "(Epoch 2, iter 300/787) Average loss so far: 4.268\n",
      "(Epoch 2, iter 350/787) Average loss so far: 4.199\n",
      "(Epoch 2, iter 400/787) Average loss so far: 4.150\n",
      "(Epoch 2, iter 450/787) Average loss so far: 4.090\n",
      "(Epoch 2, iter 500/787) Average loss so far: 4.023\n",
      "(Epoch 2, iter 550/787) Average loss so far: 3.958\n",
      "(Epoch 2, iter 600/787) Average loss so far: 3.944\n",
      "(Epoch 2, iter 650/787) Average loss so far: 3.891\n",
      "(Epoch 2, iter 700/787) Average loss so far: 3.854\n",
      "(Epoch 2, iter 750/787) Average loss so far: 3.827\n",
      "Average epoch loss: 4.201\n",
      "This epoch took 8.660929580529531 mins. Time remaining: 3.0 hrs 53.0 mins.\n"
     ]
    },
    {
     "name": "stderr",
     "output_type": "stream",
     "text": [
      "7it [00:01,  5.22it/s]\n"
     ]
    },
    {
     "name": "stdout",
     "output_type": "stream",
     "text": [
      "validation loss: 3.8312723296029225\n"
     ]
    },
    {
     "name": "stderr",
     "output_type": "stream",
     "text": [
      "100%|██████████| 7/7 [00:06<00:00,  1.14it/s]\n",
      "100%|██████████| 793/793 [00:05<00:00, 150.06it/s]\n"
     ]
    },
    {
     "name": "stdout",
     "output_type": "stream",
     "text": [
      "BLEU score: 0.009649228203172842, METEOR score: 0.15070114988789704\n",
      "Starting epoch 4/30, enc lr scheduler: [0.0009757729755661011], dec lr scheduler: [0.0009757729755661011]\n",
      "(Epoch 3, iter 50/787) Average loss so far: 3.738\n",
      "(Epoch 3, iter 100/787) Average loss so far: 3.721\n",
      "(Epoch 3, iter 150/787) Average loss so far: 3.697\n",
      "(Epoch 3, iter 200/787) Average loss so far: 3.681\n",
      "(Epoch 3, iter 250/787) Average loss so far: 3.687\n",
      "(Epoch 3, iter 300/787) Average loss so far: 3.624\n",
      "(Epoch 3, iter 350/787) Average loss so far: 3.616\n",
      "(Epoch 3, iter 400/787) Average loss so far: 3.585\n",
      "(Epoch 3, iter 450/787) Average loss so far: 3.555\n",
      "(Epoch 3, iter 500/787) Average loss so far: 3.548\n",
      "(Epoch 3, iter 550/787) Average loss so far: 3.543\n",
      "(Epoch 3, iter 600/787) Average loss so far: 3.546\n",
      "(Epoch 3, iter 650/787) Average loss so far: 3.513\n",
      "(Epoch 3, iter 700/787) Average loss so far: 3.485\n",
      "(Epoch 3, iter 750/787) Average loss so far: 3.485\n",
      "Average epoch loss: 3.596\n",
      "This epoch took 8.700705035527546 mins. Time remaining: 3.0 hrs 46.0 mins.\n"
     ]
    },
    {
     "name": "stderr",
     "output_type": "stream",
     "text": [
      "7it [00:01,  5.06it/s]\n"
     ]
    },
    {
     "name": "stdout",
     "output_type": "stream",
     "text": [
      "validation loss: 3.5433250835963657\n"
     ]
    },
    {
     "name": "stderr",
     "output_type": "stream",
     "text": [
      "100%|██████████| 7/7 [00:04<00:00,  1.49it/s]\n",
      "100%|██████████| 793/793 [00:03<00:00, 237.64it/s]\n"
     ]
    },
    {
     "name": "stdout",
     "output_type": "stream",
     "text": [
      "BLEU score: 0.01680922041802637, METEOR score: 0.17252114463959134\n",
      "Starting epoch 5/30, enc lr scheduler: [0.0009572050015330874], dec lr scheduler: [0.0009572050015330874]\n",
      "(Epoch 4, iter 50/787) Average loss so far: 3.437\n",
      "(Epoch 4, iter 100/787) Average loss so far: 3.421\n",
      "(Epoch 4, iter 150/787) Average loss so far: 3.419\n",
      "(Epoch 4, iter 200/787) Average loss so far: 3.411\n",
      "(Epoch 4, iter 250/787) Average loss so far: 3.377\n",
      "(Epoch 4, iter 300/787) Average loss so far: 3.361\n",
      "(Epoch 4, iter 350/787) Average loss so far: 3.362\n",
      "(Epoch 4, iter 400/787) Average loss so far: 3.337\n",
      "(Epoch 4, iter 450/787) Average loss so far: 3.360\n",
      "(Epoch 4, iter 500/787) Average loss so far: 3.334\n",
      "(Epoch 4, iter 550/787) Average loss so far: 3.319\n",
      "(Epoch 4, iter 600/787) Average loss so far: 3.328\n",
      "(Epoch 4, iter 650/787) Average loss so far: 3.312\n",
      "(Epoch 4, iter 700/787) Average loss so far: 3.283\n",
      "(Epoch 4, iter 750/787) Average loss so far: 3.285\n",
      "Average epoch loss: 3.354\n",
      "This epoch took 8.66706737279892 mins. Time remaining: 3.0 hrs 36.0 mins.\n"
     ]
    },
    {
     "name": "stderr",
     "output_type": "stream",
     "text": [
      "7it [00:01,  5.22it/s]\n"
     ]
    },
    {
     "name": "stdout",
     "output_type": "stream",
     "text": [
      "validation loss: 3.3929422923496793\n"
     ]
    },
    {
     "name": "stderr",
     "output_type": "stream",
     "text": [
      "100%|██████████| 7/7 [00:04<00:00,  1.69it/s]\n",
      "100%|██████████| 793/793 [00:02<00:00, 300.09it/s]\n"
     ]
    },
    {
     "name": "stdout",
     "output_type": "stream",
     "text": [
      "BLEU score: 0.02410393818638161, METEOR score: 0.18903294738920962\n",
      "Starting epoch 6/30, enc lr scheduler: [0.0009336825748732973], dec lr scheduler: [0.0009336825748732973]\n",
      "(Epoch 5, iter 50/787) Average loss so far: 3.268\n",
      "(Epoch 5, iter 100/787) Average loss so far: 3.238\n",
      "(Epoch 5, iter 150/787) Average loss so far: 3.226\n",
      "(Epoch 5, iter 200/787) Average loss so far: 3.217\n",
      "(Epoch 5, iter 250/787) Average loss so far: 3.211\n",
      "(Epoch 5, iter 300/787) Average loss so far: 3.213\n",
      "(Epoch 5, iter 350/787) Average loss so far: 3.203\n",
      "(Epoch 5, iter 400/787) Average loss so far: 3.193\n",
      "(Epoch 5, iter 450/787) Average loss so far: 3.200\n",
      "(Epoch 5, iter 500/787) Average loss so far: 3.213\n",
      "(Epoch 5, iter 550/787) Average loss so far: 3.187\n",
      "(Epoch 5, iter 600/787) Average loss so far: 3.182\n",
      "(Epoch 5, iter 650/787) Average loss so far: 3.167\n",
      "(Epoch 5, iter 700/787) Average loss so far: 3.176\n",
      "(Epoch 5, iter 750/787) Average loss so far: 3.172\n",
      "Average epoch loss: 3.202\n",
      "This epoch took 8.660624651114146 mins. Time remaining: 3.0 hrs 27.0 mins.\n"
     ]
    },
    {
     "name": "stderr",
     "output_type": "stream",
     "text": [
      "7it [00:01,  5.19it/s]\n"
     ]
    },
    {
     "name": "stdout",
     "output_type": "stream",
     "text": [
      "validation loss: 3.2941173825945174\n"
     ]
    },
    {
     "name": "stderr",
     "output_type": "stream",
     "text": [
      "100%|██████████| 7/7 [00:04<00:00,  1.53it/s]\n",
      "100%|██████████| 793/793 [00:03<00:00, 240.61it/s]\n"
     ]
    },
    {
     "name": "stdout",
     "output_type": "stream",
     "text": [
      "BLEU score: 0.01932799321202002, METEOR score: 0.18168938969894916\n",
      "Starting epoch 7/30, enc lr scheduler: [0.0009054634122155991], dec lr scheduler: [0.0009054634122155991]\n",
      "(Epoch 6, iter 50/787) Average loss so far: 3.107\n",
      "(Epoch 6, iter 100/787) Average loss so far: 3.130\n",
      "(Epoch 6, iter 150/787) Average loss so far: 3.095\n",
      "(Epoch 6, iter 200/787) Average loss so far: 3.118\n",
      "(Epoch 6, iter 250/787) Average loss so far: 3.103\n",
      "(Epoch 6, iter 300/787) Average loss so far: 3.102\n",
      "(Epoch 6, iter 350/787) Average loss so far: 3.094\n",
      "(Epoch 6, iter 400/787) Average loss so far: 3.105\n",
      "(Epoch 6, iter 450/787) Average loss so far: 3.091\n",
      "(Epoch 6, iter 500/787) Average loss so far: 3.089\n",
      "(Epoch 6, iter 550/787) Average loss so far: 3.082\n",
      "(Epoch 6, iter 600/787) Average loss so far: 3.077\n",
      "(Epoch 6, iter 650/787) Average loss so far: 3.076\n",
      "(Epoch 6, iter 700/787) Average loss so far: 3.068\n",
      "(Epoch 6, iter 750/787) Average loss so far: 3.063\n",
      "Average epoch loss: 3.091\n",
      "This epoch took 8.661432000001271 mins. Time remaining: 3.0 hrs 19.0 mins.\n"
     ]
    },
    {
     "name": "stderr",
     "output_type": "stream",
     "text": [
      "7it [00:01,  5.31it/s]\n"
     ]
    },
    {
     "name": "stdout",
     "output_type": "stream",
     "text": [
      "validation loss: 3.220607246671404\n"
     ]
    },
    {
     "name": "stderr",
     "output_type": "stream",
     "text": [
      "100%|██████████| 7/7 [00:03<00:00,  1.91it/s]\n",
      "100%|██████████| 793/793 [00:01<00:00, 416.84it/s]\n"
     ]
    },
    {
     "name": "stdout",
     "output_type": "stream",
     "text": [
      "BLEU score: 0.034996658118198035, METEOR score: 0.19608702213958482\n",
      "Starting epoch 8/30, enc lr scheduler: [0.0008728566886113102], dec lr scheduler: [0.0008728566886113102]\n",
      "(Epoch 7, iter 50/787) Average loss so far: 3.020\n",
      "(Epoch 7, iter 100/787) Average loss so far: 3.023\n",
      "(Epoch 7, iter 150/787) Average loss so far: 3.018\n",
      "(Epoch 7, iter 200/787) Average loss so far: 3.026\n",
      "(Epoch 7, iter 250/787) Average loss so far: 3.011\n",
      "(Epoch 7, iter 300/787) Average loss so far: 3.009\n",
      "(Epoch 7, iter 350/787) Average loss so far: 3.006\n",
      "(Epoch 7, iter 400/787) Average loss so far: 3.008\n",
      "(Epoch 7, iter 450/787) Average loss so far: 3.012\n",
      "(Epoch 7, iter 500/787) Average loss so far: 3.002\n",
      "(Epoch 7, iter 550/787) Average loss so far: 3.000\n",
      "(Epoch 7, iter 600/787) Average loss so far: 2.995\n",
      "(Epoch 7, iter 650/787) Average loss so far: 2.978\n",
      "(Epoch 7, iter 700/787) Average loss so far: 2.987\n",
      "(Epoch 7, iter 750/787) Average loss so far: 2.994\n",
      "Average epoch loss: 3.005\n",
      "This epoch took 8.668269244829814 mins. Time remaining: 3.0 hrs 10.0 mins.\n"
     ]
    },
    {
     "name": "stderr",
     "output_type": "stream",
     "text": [
      "7it [00:01,  5.30it/s]\n"
     ]
    },
    {
     "name": "stdout",
     "output_type": "stream",
     "text": [
      "validation loss: 3.1842188835144043\n"
     ]
    },
    {
     "name": "stderr",
     "output_type": "stream",
     "text": [
      "100%|██████████| 7/7 [00:03<00:00,  1.98it/s]\n",
      "100%|██████████| 793/793 [00:01<00:00, 460.40it/s]\n"
     ]
    },
    {
     "name": "stdout",
     "output_type": "stream",
     "text": [
      "BLEU score: 0.04036306790727657, METEOR score: 0.20022729874967282\n",
      "Starting epoch 9/30, enc lr scheduler: [0.0008362196501476349], dec lr scheduler: [0.0008362196501476349]\n",
      "(Epoch 8, iter 50/787) Average loss so far: 2.934\n",
      "(Epoch 8, iter 100/787) Average loss so far: 2.937\n",
      "(Epoch 8, iter 150/787) Average loss so far: 2.937\n",
      "(Epoch 8, iter 200/787) Average loss so far: 2.949\n",
      "(Epoch 8, iter 250/787) Average loss so far: 2.949\n",
      "(Epoch 8, iter 300/787) Average loss so far: 2.938\n",
      "(Epoch 8, iter 350/787) Average loss so far: 2.934\n",
      "(Epoch 8, iter 400/787) Average loss so far: 2.917\n",
      "(Epoch 8, iter 450/787) Average loss so far: 2.927\n",
      "(Epoch 8, iter 500/787) Average loss so far: 2.950\n",
      "(Epoch 8, iter 550/787) Average loss so far: 2.952\n",
      "(Epoch 8, iter 600/787) Average loss so far: 2.941\n",
      "(Epoch 8, iter 650/787) Average loss so far: 2.934\n",
      "(Epoch 8, iter 700/787) Average loss so far: 2.926\n",
      "(Epoch 8, iter 750/787) Average loss so far: 2.933\n",
      "Average epoch loss: 2.936\n",
      "This epoch took 8.682707707087198 mins. Time remaining: 3.0 hrs 2.0 mins.\n"
     ]
    },
    {
     "name": "stderr",
     "output_type": "stream",
     "text": [
      "7it [00:01,  5.38it/s]\n"
     ]
    },
    {
     "name": "stdout",
     "output_type": "stream",
     "text": [
      "validation loss: 3.14445652280535\n"
     ]
    },
    {
     "name": "stderr",
     "output_type": "stream",
     "text": [
      "100%|██████████| 7/7 [00:03<00:00,  2.11it/s]\n",
      "100%|██████████| 793/793 [00:01<00:00, 543.89it/s]\n"
     ]
    },
    {
     "name": "stdout",
     "output_type": "stream",
     "text": [
      "BLEU score: 0.04614282375504496, METEOR score: 0.19953643331690282\n",
      "Starting epoch 10/30, enc lr scheduler: [0.0007959536998847742], dec lr scheduler: [0.0007959536998847742]\n",
      "(Epoch 9, iter 50/787) Average loss so far: 2.881\n",
      "(Epoch 9, iter 100/787) Average loss so far: 2.873\n",
      "(Epoch 9, iter 150/787) Average loss so far: 2.894\n",
      "(Epoch 9, iter 200/787) Average loss so far: 2.899\n",
      "(Epoch 9, iter 250/787) Average loss so far: 2.899\n",
      "(Epoch 9, iter 300/787) Average loss so far: 2.882\n",
      "(Epoch 9, iter 350/787) Average loss so far: 2.858\n",
      "(Epoch 9, iter 400/787) Average loss so far: 2.883\n",
      "(Epoch 9, iter 450/787) Average loss so far: 2.864\n",
      "(Epoch 9, iter 500/787) Average loss so far: 2.867\n",
      "(Epoch 9, iter 550/787) Average loss so far: 2.876\n",
      "(Epoch 9, iter 600/787) Average loss so far: 2.872\n",
      "(Epoch 9, iter 650/787) Average loss so far: 2.900\n",
      "(Epoch 9, iter 700/787) Average loss so far: 2.871\n",
      "(Epoch 9, iter 750/787) Average loss so far: 2.870\n",
      "Average epoch loss: 2.879\n",
      "This epoch took 8.667925226688386 mins. Time remaining: 2.0 hrs 53.0 mins.\n"
     ]
    },
    {
     "name": "stderr",
     "output_type": "stream",
     "text": [
      "7it [00:01,  5.29it/s]\n"
     ]
    },
    {
     "name": "stdout",
     "output_type": "stream",
     "text": [
      "validation loss: 3.120482785361154\n"
     ]
    },
    {
     "name": "stderr",
     "output_type": "stream",
     "text": [
      "100%|██████████| 7/7 [00:03<00:00,  2.12it/s]\n",
      "100%|██████████| 793/793 [00:01<00:00, 558.82it/s]\n"
     ]
    },
    {
     "name": "stdout",
     "output_type": "stream",
     "text": [
      "BLEU score: 0.047825885570907486, METEOR score: 0.205678013742886\n",
      "Starting epoch 11/30, enc lr scheduler: [0.0007525], dec lr scheduler: [0.0007525]\n",
      "(Epoch 10, iter 50/787) Average loss so far: 2.819\n",
      "(Epoch 10, iter 100/787) Average loss so far: 2.829\n",
      "(Epoch 10, iter 150/787) Average loss so far: 2.827\n",
      "(Epoch 10, iter 200/787) Average loss so far: 2.831\n",
      "(Epoch 10, iter 250/787) Average loss so far: 2.829\n",
      "(Epoch 10, iter 300/787) Average loss so far: 2.839\n",
      "(Epoch 10, iter 350/787) Average loss so far: 2.841\n",
      "(Epoch 10, iter 400/787) Average loss so far: 2.835\n",
      "(Epoch 10, iter 450/787) Average loss so far: 2.823\n",
      "(Epoch 10, iter 500/787) Average loss so far: 2.816\n",
      "(Epoch 10, iter 550/787) Average loss so far: 2.818\n",
      "(Epoch 10, iter 600/787) Average loss so far: 2.836\n",
      "(Epoch 10, iter 650/787) Average loss so far: 2.844\n",
      "(Epoch 10, iter 700/787) Average loss so far: 2.833\n",
      "(Epoch 10, iter 750/787) Average loss so far: 2.826\n",
      "Average epoch loss: 2.829\n",
      "This epoch took 8.670869362354278 mins. Time remaining: 2.0 hrs 44.0 mins.\n"
     ]
    },
    {
     "name": "stderr",
     "output_type": "stream",
     "text": [
      "7it [00:01,  5.27it/s]\n"
     ]
    },
    {
     "name": "stdout",
     "output_type": "stream",
     "text": [
      "validation loss: 3.101747683116368\n"
     ]
    },
    {
     "name": "stderr",
     "output_type": "stream",
     "text": [
      "100%|██████████| 7/7 [00:02<00:00,  2.34it/s]\n",
      "100%|██████████| 793/793 [00:01<00:00, 617.97it/s]\n"
     ]
    },
    {
     "name": "stdout",
     "output_type": "stream",
     "text": [
      "BLEU score: 0.051791655004959615, METEOR score: 0.20470572480986682\n",
      "Starting epoch 12/30, enc lr scheduler: [0.0007063346383225212], dec lr scheduler: [0.0007063346383225212]\n",
      "(Epoch 11, iter 50/787) Average loss so far: 2.805\n",
      "(Epoch 11, iter 100/787) Average loss so far: 2.796\n",
      "(Epoch 11, iter 150/787) Average loss so far: 2.791\n",
      "(Epoch 11, iter 200/787) Average loss so far: 2.791\n",
      "(Epoch 11, iter 250/787) Average loss so far: 2.781\n",
      "(Epoch 11, iter 300/787) Average loss so far: 2.795\n",
      "(Epoch 11, iter 350/787) Average loss so far: 2.779\n",
      "(Epoch 11, iter 400/787) Average loss so far: 2.771\n",
      "(Epoch 11, iter 450/787) Average loss so far: 2.784\n",
      "(Epoch 11, iter 500/787) Average loss so far: 2.782\n",
      "(Epoch 11, iter 550/787) Average loss so far: 2.787\n",
      "(Epoch 11, iter 600/787) Average loss so far: 2.787\n",
      "(Epoch 11, iter 650/787) Average loss so far: 2.784\n",
      "(Epoch 11, iter 700/787) Average loss so far: 2.785\n",
      "(Epoch 11, iter 750/787) Average loss so far: 2.784\n",
      "Average epoch loss: 2.786\n",
      "This epoch took 8.654789272944132 mins. Time remaining: 2.0 hrs 35.0 mins.\n"
     ]
    },
    {
     "name": "stderr",
     "output_type": "stream",
     "text": [
      "7it [00:01,  5.30it/s]\n"
     ]
    },
    {
     "name": "stdout",
     "output_type": "stream",
     "text": [
      "validation loss: 3.090313128062657\n"
     ]
    },
    {
     "name": "stderr",
     "output_type": "stream",
     "text": [
      "100%|██████████| 7/7 [00:02<00:00,  2.36it/s]\n",
      "100%|██████████| 793/793 [00:01<00:00, 648.16it/s]\n"
     ]
    },
    {
     "name": "stdout",
     "output_type": "stream",
     "text": [
      "BLEU score: 0.05567891393706685, METEOR score: 0.21062660135719127\n",
      "Starting epoch 13/30, enc lr scheduler: [0.000657963412215599], dec lr scheduler: [0.000657963412215599]\n",
      "(Epoch 12, iter 50/787) Average loss so far: 2.742\n",
      "(Epoch 12, iter 100/787) Average loss so far: 2.729\n",
      "(Epoch 12, iter 150/787) Average loss so far: 2.754\n",
      "(Epoch 12, iter 200/787) Average loss so far: 2.751\n",
      "(Epoch 12, iter 250/787) Average loss so far: 2.738\n",
      "(Epoch 12, iter 300/787) Average loss so far: 2.758\n",
      "(Epoch 12, iter 350/787) Average loss so far: 2.751\n",
      "(Epoch 12, iter 400/787) Average loss so far: 2.749\n",
      "(Epoch 12, iter 450/787) Average loss so far: 2.746\n",
      "(Epoch 12, iter 500/787) Average loss so far: 2.754\n",
      "(Epoch 12, iter 550/787) Average loss so far: 2.743\n",
      "(Epoch 12, iter 600/787) Average loss so far: 2.757\n",
      "(Epoch 12, iter 650/787) Average loss so far: 2.753\n",
      "(Epoch 12, iter 700/787) Average loss so far: 2.768\n",
      "(Epoch 12, iter 750/787) Average loss so far: 2.748\n",
      "Average epoch loss: 2.749\n",
      "This epoch took 8.67595762014389 mins. Time remaining: 2.0 hrs 27.0 mins.\n"
     ]
    },
    {
     "name": "stderr",
     "output_type": "stream",
     "text": [
      "7it [00:01,  5.21it/s]\n"
     ]
    },
    {
     "name": "stdout",
     "output_type": "stream",
     "text": [
      "validation loss: 3.078939846583775\n"
     ]
    },
    {
     "name": "stderr",
     "output_type": "stream",
     "text": [
      "100%|██████████| 7/7 [00:03<00:00,  2.16it/s]\n",
      "100%|██████████| 793/793 [00:01<00:00, 640.63it/s]\n"
     ]
    },
    {
     "name": "stdout",
     "output_type": "stream",
     "text": [
      "BLEU score: 0.05447397472432387, METEOR score: 0.20767725983235402\n",
      "Starting epoch 14/30, enc lr scheduler: [0.0006079162869547909], dec lr scheduler: [0.0006079162869547909]\n",
      "(Epoch 13, iter 50/787) Average loss so far: 2.712\n",
      "(Epoch 13, iter 100/787) Average loss so far: 2.701\n",
      "(Epoch 13, iter 150/787) Average loss so far: 2.727\n",
      "(Epoch 13, iter 200/787) Average loss so far: 2.724\n",
      "(Epoch 13, iter 250/787) Average loss so far: 2.723\n",
      "(Epoch 13, iter 300/787) Average loss so far: 2.716\n",
      "(Epoch 13, iter 350/787) Average loss so far: 2.729\n",
      "(Epoch 13, iter 400/787) Average loss so far: 2.720\n",
      "(Epoch 13, iter 450/787) Average loss so far: 2.703\n",
      "(Epoch 13, iter 500/787) Average loss so far: 2.726\n",
      "(Epoch 13, iter 550/787) Average loss so far: 2.717\n",
      "(Epoch 13, iter 600/787) Average loss so far: 2.694\n",
      "(Epoch 13, iter 650/787) Average loss so far: 2.711\n",
      "(Epoch 13, iter 700/787) Average loss so far: 2.699\n",
      "(Epoch 13, iter 750/787) Average loss so far: 2.720\n",
      "Average epoch loss: 2.715\n",
      "This epoch took 8.702299817403157 mins. Time remaining: 2.0 hrs 19.0 mins.\n"
     ]
    },
    {
     "name": "stderr",
     "output_type": "stream",
     "text": [
      "7it [00:01,  5.30it/s]\n"
     ]
    },
    {
     "name": "stdout",
     "output_type": "stream",
     "text": [
      "validation loss: 3.0758470467158725\n"
     ]
    },
    {
     "name": "stderr",
     "output_type": "stream",
     "text": [
      "100%|██████████| 7/7 [00:03<00:00,  2.31it/s]\n",
      "100%|██████████| 793/793 [00:01<00:00, 655.92it/s]\n"
     ]
    },
    {
     "name": "stdout",
     "output_type": "stream",
     "text": [
      "BLEU score: 0.05610531776640169, METEOR score: 0.2134749913995397\n",
      "Starting epoch 15/30, enc lr scheduler: [0.0005567415893174886], dec lr scheduler: [0.0005567415893174886]\n",
      "(Epoch 14, iter 50/787) Average loss so far: 2.683\n",
      "(Epoch 14, iter 100/787) Average loss so far: 2.684\n",
      "(Epoch 14, iter 150/787) Average loss so far: 2.682\n",
      "(Epoch 14, iter 200/787) Average loss so far: 2.683\n",
      "(Epoch 14, iter 250/787) Average loss so far: 2.675\n",
      "(Epoch 14, iter 300/787) Average loss so far: 2.713\n",
      "(Epoch 14, iter 350/787) Average loss so far: 2.683\n",
      "(Epoch 14, iter 400/787) Average loss so far: 2.698\n",
      "(Epoch 14, iter 450/787) Average loss so far: 2.701\n",
      "(Epoch 14, iter 500/787) Average loss so far: 2.686\n",
      "(Epoch 14, iter 550/787) Average loss so far: 2.683\n",
      "(Epoch 14, iter 600/787) Average loss so far: 2.664\n",
      "(Epoch 14, iter 650/787) Average loss so far: 2.689\n",
      "(Epoch 14, iter 700/787) Average loss so far: 2.686\n",
      "(Epoch 14, iter 750/787) Average loss so far: 2.683\n",
      "Average epoch loss: 2.686\n",
      "This epoch took 8.699237219492595 mins. Time remaining: 2.0 hrs 10.0 mins.\n"
     ]
    },
    {
     "name": "stderr",
     "output_type": "stream",
     "text": [
      "7it [00:01,  5.34it/s]\n"
     ]
    },
    {
     "name": "stdout",
     "output_type": "stream",
     "text": [
      "validation loss: 3.067518813269479\n"
     ]
    },
    {
     "name": "stderr",
     "output_type": "stream",
     "text": [
      "100%|██████████| 7/7 [00:02<00:00,  2.48it/s]\n",
      "100%|██████████| 793/793 [00:01<00:00, 718.04it/s]\n"
     ]
    },
    {
     "name": "stdout",
     "output_type": "stream",
     "text": [
      "BLEU score: 0.05618418002695732, METEOR score: 0.2173668475571425\n",
      "Starting epoch 16/30, enc lr scheduler: [0.0005050000000000002], dec lr scheduler: [0.0005050000000000002]\n",
      "(Epoch 15, iter 50/787) Average loss so far: 2.676\n",
      "(Epoch 15, iter 100/787) Average loss so far: 2.648\n",
      "(Epoch 15, iter 150/787) Average loss so far: 2.659\n",
      "(Epoch 15, iter 200/787) Average loss so far: 2.662\n",
      "(Epoch 15, iter 250/787) Average loss so far: 2.662\n",
      "(Epoch 15, iter 300/787) Average loss so far: 2.658\n",
      "(Epoch 15, iter 350/787) Average loss so far: 2.671\n",
      "(Epoch 15, iter 400/787) Average loss so far: 2.657\n",
      "(Epoch 15, iter 450/787) Average loss so far: 2.644\n",
      "(Epoch 15, iter 500/787) Average loss so far: 2.656\n",
      "(Epoch 15, iter 550/787) Average loss so far: 2.664\n",
      "(Epoch 15, iter 600/787) Average loss so far: 2.657\n",
      "(Epoch 15, iter 650/787) Average loss so far: 2.666\n",
      "(Epoch 15, iter 700/787) Average loss so far: 2.645\n",
      "(Epoch 15, iter 750/787) Average loss so far: 2.655\n",
      "Average epoch loss: 2.659\n",
      "This epoch took 8.666933755079905 mins. Time remaining: 2.0 hrs 1.0 mins.\n"
     ]
    },
    {
     "name": "stderr",
     "output_type": "stream",
     "text": [
      "7it [00:01,  5.05it/s]\n"
     ]
    },
    {
     "name": "stdout",
     "output_type": "stream",
     "text": [
      "validation loss: 3.0657551969800676\n"
     ]
    },
    {
     "name": "stderr",
     "output_type": "stream",
     "text": [
      "100%|██████████| 7/7 [00:02<00:00,  2.42it/s]\n",
      "100%|██████████| 793/793 [00:01<00:00, 717.99it/s]\n"
     ]
    },
    {
     "name": "stdout",
     "output_type": "stream",
     "text": [
      "BLEU score: 0.05615294677876267, METEOR score: 0.2133591944674418\n",
      "Starting epoch 17/30, enc lr scheduler: [0.0004532584106825117], dec lr scheduler: [0.0004532584106825117]\n",
      "(Epoch 16, iter 50/787) Average loss so far: 2.639\n",
      "(Epoch 16, iter 100/787) Average loss so far: 2.630\n",
      "(Epoch 16, iter 150/787) Average loss so far: 2.627\n",
      "(Epoch 16, iter 200/787) Average loss so far: 2.626\n",
      "(Epoch 16, iter 250/787) Average loss so far: 2.629\n",
      "(Epoch 16, iter 300/787) Average loss so far: 2.650\n",
      "(Epoch 16, iter 350/787) Average loss so far: 2.658\n",
      "(Epoch 16, iter 400/787) Average loss so far: 2.633\n",
      "(Epoch 16, iter 450/787) Average loss so far: 2.648\n",
      "(Epoch 16, iter 500/787) Average loss so far: 2.617\n",
      "(Epoch 16, iter 550/787) Average loss so far: 2.637\n",
      "(Epoch 16, iter 600/787) Average loss so far: 2.631\n",
      "(Epoch 16, iter 650/787) Average loss so far: 2.639\n",
      "(Epoch 16, iter 700/787) Average loss so far: 2.638\n",
      "(Epoch 16, iter 750/787) Average loss so far: 2.647\n",
      "Average epoch loss: 2.636\n",
      "This epoch took 8.688865876197815 mins. Time remaining: 1.0 hrs 52.0 mins.\n"
     ]
    },
    {
     "name": "stderr",
     "output_type": "stream",
     "text": [
      "7it [00:01,  5.22it/s]\n"
     ]
    },
    {
     "name": "stdout",
     "output_type": "stream",
     "text": [
      "validation loss: 3.0647445065634593\n"
     ]
    },
    {
     "name": "stderr",
     "output_type": "stream",
     "text": [
      "100%|██████████| 7/7 [00:02<00:00,  2.72it/s]\n",
      "100%|██████████| 793/793 [00:00<00:00, 797.12it/s]\n"
     ]
    },
    {
     "name": "stdout",
     "output_type": "stream",
     "text": [
      "BLEU score: 0.05162445812511413, METEOR score: 0.2073657691543935\n",
      "Starting epoch 18/30, enc lr scheduler: [0.00040208371304520916], dec lr scheduler: [0.00040208371304520916]\n",
      "(Epoch 17, iter 50/787) Average loss so far: 2.605\n",
      "(Epoch 17, iter 100/787) Average loss so far: 2.604\n",
      "(Epoch 17, iter 150/787) Average loss so far: 2.611\n",
      "(Epoch 17, iter 200/787) Average loss so far: 2.609\n",
      "(Epoch 17, iter 250/787) Average loss so far: 2.625\n",
      "(Epoch 17, iter 300/787) Average loss so far: 2.628\n",
      "(Epoch 17, iter 350/787) Average loss so far: 2.601\n",
      "(Epoch 17, iter 400/787) Average loss so far: 2.615\n",
      "(Epoch 17, iter 450/787) Average loss so far: 2.599\n",
      "(Epoch 17, iter 500/787) Average loss so far: 2.617\n",
      "(Epoch 17, iter 550/787) Average loss so far: 2.613\n",
      "(Epoch 17, iter 600/787) Average loss so far: 2.625\n",
      "(Epoch 17, iter 650/787) Average loss so far: 2.611\n",
      "(Epoch 17, iter 700/787) Average loss so far: 2.633\n",
      "(Epoch 17, iter 750/787) Average loss so far: 2.617\n",
      "Average epoch loss: 2.615\n",
      "This epoch took 8.66599006652832 mins. Time remaining: 1.0 hrs 43.0 mins.\n"
     ]
    },
    {
     "name": "stderr",
     "output_type": "stream",
     "text": [
      "7it [00:01,  5.27it/s]\n"
     ]
    },
    {
     "name": "stdout",
     "output_type": "stream",
     "text": [
      "validation loss: 3.062435899462019\n"
     ]
    },
    {
     "name": "stderr",
     "output_type": "stream",
     "text": [
      "100%|██████████| 7/7 [00:02<00:00,  2.50it/s]\n",
      "100%|██████████| 793/793 [00:01<00:00, 737.56it/s]\n"
     ]
    },
    {
     "name": "stdout",
     "output_type": "stream",
     "text": [
      "BLEU score: 0.05444598116058762, METEOR score: 0.21361483967861572\n",
      "Starting epoch 19/30, enc lr scheduler: [0.00035203658778440114], dec lr scheduler: [0.00035203658778440114]\n",
      "(Epoch 18, iter 50/787) Average loss so far: 2.583\n",
      "(Epoch 18, iter 100/787) Average loss so far: 2.577\n",
      "(Epoch 18, iter 150/787) Average loss so far: 2.597\n",
      "(Epoch 18, iter 200/787) Average loss so far: 2.593\n",
      "(Epoch 18, iter 250/787) Average loss so far: 2.596\n",
      "(Epoch 18, iter 300/787) Average loss so far: 2.615\n",
      "(Epoch 18, iter 350/787) Average loss so far: 2.590\n",
      "(Epoch 18, iter 400/787) Average loss so far: 2.584\n",
      "(Epoch 18, iter 450/787) Average loss so far: 2.598\n",
      "(Epoch 18, iter 500/787) Average loss so far: 2.606\n",
      "(Epoch 18, iter 550/787) Average loss so far: 2.591\n",
      "(Epoch 18, iter 600/787) Average loss so far: 2.604\n",
      "(Epoch 18, iter 650/787) Average loss so far: 2.588\n",
      "(Epoch 18, iter 700/787) Average loss so far: 2.603\n",
      "(Epoch 18, iter 750/787) Average loss so far: 2.613\n",
      "Average epoch loss: 2.596\n",
      "This epoch took 8.652748115857442 mins. Time remaining: 1.0 hrs 35.0 mins.\n"
     ]
    },
    {
     "name": "stderr",
     "output_type": "stream",
     "text": [
      "7it [00:01,  5.30it/s]\n"
     ]
    },
    {
     "name": "stdout",
     "output_type": "stream",
     "text": [
      "validation loss: 3.0591438157217845\n"
     ]
    },
    {
     "name": "stderr",
     "output_type": "stream",
     "text": [
      "100%|██████████| 7/7 [00:02<00:00,  2.38it/s]\n",
      "100%|██████████| 793/793 [00:01<00:00, 758.33it/s]\n"
     ]
    },
    {
     "name": "stdout",
     "output_type": "stream",
     "text": [
      "BLEU score: 0.05424589140761788, METEOR score: 0.21430080632880433\n",
      "Starting epoch 20/30, enc lr scheduler: [0.00030366536167747904], dec lr scheduler: [0.00030366536167747904]\n",
      "(Epoch 19, iter 50/787) Average loss so far: 2.582\n",
      "(Epoch 19, iter 100/787) Average loss so far: 2.569\n",
      "(Epoch 19, iter 150/787) Average loss so far: 2.571\n",
      "(Epoch 19, iter 200/787) Average loss so far: 2.587\n",
      "(Epoch 19, iter 250/787) Average loss so far: 2.571\n",
      "(Epoch 19, iter 300/787) Average loss so far: 2.579\n",
      "(Epoch 19, iter 350/787) Average loss so far: 2.584\n",
      "(Epoch 19, iter 400/787) Average loss so far: 2.580\n",
      "(Epoch 19, iter 450/787) Average loss so far: 2.582\n",
      "(Epoch 19, iter 500/787) Average loss so far: 2.583\n",
      "(Epoch 19, iter 550/787) Average loss so far: 2.581\n",
      "(Epoch 19, iter 600/787) Average loss so far: 2.582\n",
      "(Epoch 19, iter 650/787) Average loss so far: 2.563\n",
      "(Epoch 19, iter 700/787) Average loss so far: 2.587\n",
      "(Epoch 19, iter 750/787) Average loss so far: 2.584\n",
      "Average epoch loss: 2.580\n",
      "This epoch took 8.676026181379955 mins. Time remaining: 1.0 hrs 26.0 mins.\n"
     ]
    },
    {
     "name": "stderr",
     "output_type": "stream",
     "text": [
      "7it [00:01,  5.19it/s]\n"
     ]
    },
    {
     "name": "stdout",
     "output_type": "stream",
     "text": [
      "validation loss: 3.0615645817347934\n"
     ]
    },
    {
     "name": "stderr",
     "output_type": "stream",
     "text": [
      "100%|██████████| 7/7 [00:02<00:00,  2.65it/s]\n",
      "100%|██████████| 793/793 [00:00<00:00, 795.05it/s]\n"
     ]
    },
    {
     "name": "stdout",
     "output_type": "stream",
     "text": [
      "BLEU score: 0.05251383464691767, METEOR score: 0.2116644609179294\n",
      "Starting epoch 21/30, enc lr scheduler: [0.00025750000000000013], dec lr scheduler: [0.00025750000000000013]\n",
      "(Epoch 20, iter 50/787) Average loss so far: 2.563\n",
      "(Epoch 20, iter 100/787) Average loss so far: 2.560\n",
      "(Epoch 20, iter 150/787) Average loss so far: 2.569\n",
      "(Epoch 20, iter 200/787) Average loss so far: 2.559\n",
      "(Epoch 20, iter 250/787) Average loss so far: 2.561\n",
      "(Epoch 20, iter 300/787) Average loss so far: 2.551\n",
      "(Epoch 20, iter 350/787) Average loss so far: 2.561\n",
      "(Epoch 20, iter 400/787) Average loss so far: 2.556\n",
      "(Epoch 20, iter 450/787) Average loss so far: 2.571\n",
      "(Epoch 20, iter 500/787) Average loss so far: 2.571\n",
      "(Epoch 20, iter 550/787) Average loss so far: 2.564\n",
      "(Epoch 20, iter 600/787) Average loss so far: 2.581\n",
      "(Epoch 20, iter 650/787) Average loss so far: 2.567\n",
      "(Epoch 20, iter 700/787) Average loss so far: 2.577\n",
      "(Epoch 20, iter 750/787) Average loss so far: 2.566\n",
      "Average epoch loss: 2.565\n",
      "This epoch took 8.658537669976551 mins. Time remaining: 1.0 hrs 17.0 mins.\n"
     ]
    },
    {
     "name": "stderr",
     "output_type": "stream",
     "text": [
      "7it [00:01,  5.25it/s]\n"
     ]
    },
    {
     "name": "stdout",
     "output_type": "stream",
     "text": [
      "validation loss: 3.0620672702789307\n"
     ]
    },
    {
     "name": "stderr",
     "output_type": "stream",
     "text": [
      "100%|██████████| 7/7 [00:02<00:00,  2.73it/s]\n",
      "100%|██████████| 793/793 [00:01<00:00, 774.12it/s]\n"
     ]
    },
    {
     "name": "stdout",
     "output_type": "stream",
     "text": [
      "BLEU score: 0.05325391809008416, METEOR score: 0.21406562669861987\n",
      "Starting epoch 22/30, enc lr scheduler: [0.00021404630011522585], dec lr scheduler: [0.00021404630011522585]\n",
      "(Epoch 21, iter 50/787) Average loss so far: 2.539\n",
      "(Epoch 21, iter 100/787) Average loss so far: 2.549\n",
      "(Epoch 21, iter 150/787) Average loss so far: 2.547\n",
      "(Epoch 21, iter 200/787) Average loss so far: 2.550\n",
      "(Epoch 21, iter 250/787) Average loss so far: 2.555\n",
      "(Epoch 21, iter 300/787) Average loss so far: 2.554\n",
      "(Epoch 21, iter 350/787) Average loss so far: 2.556\n",
      "(Epoch 21, iter 400/787) Average loss so far: 2.543\n",
      "(Epoch 21, iter 450/787) Average loss so far: 2.542\n",
      "(Epoch 21, iter 500/787) Average loss so far: 2.563\n",
      "(Epoch 21, iter 550/787) Average loss so far: 2.551\n",
      "(Epoch 21, iter 600/787) Average loss so far: 2.551\n",
      "(Epoch 21, iter 650/787) Average loss so far: 2.552\n",
      "(Epoch 21, iter 700/787) Average loss so far: 2.554\n",
      "(Epoch 21, iter 750/787) Average loss so far: 2.568\n",
      "Average epoch loss: 2.552\n",
      "This epoch took 8.670958431561788 mins. Time remaining: 1.0 hrs 9.0 mins.\n"
     ]
    },
    {
     "name": "stderr",
     "output_type": "stream",
     "text": [
      "7it [00:01,  5.22it/s]\n"
     ]
    },
    {
     "name": "stdout",
     "output_type": "stream",
     "text": [
      "validation loss: 3.0650003296988353\n"
     ]
    },
    {
     "name": "stderr",
     "output_type": "stream",
     "text": [
      "100%|██████████| 7/7 [00:02<00:00,  2.71it/s]\n",
      "100%|██████████| 793/793 [00:01<00:00, 792.15it/s]\n"
     ]
    },
    {
     "name": "stdout",
     "output_type": "stream",
     "text": [
      "BLEU score: 0.05365965581686292, METEOR score: 0.21241248063528498\n",
      "Starting epoch 23/30, enc lr scheduler: [0.00017378034985236535], dec lr scheduler: [0.00017378034985236535]\n",
      "(Epoch 22, iter 50/787) Average loss so far: 2.535\n",
      "(Epoch 22, iter 100/787) Average loss so far: 2.549\n",
      "(Epoch 22, iter 150/787) Average loss so far: 2.538\n",
      "(Epoch 22, iter 200/787) Average loss so far: 2.552\n",
      "(Epoch 22, iter 250/787) Average loss so far: 2.555\n",
      "(Epoch 22, iter 300/787) Average loss so far: 2.536\n",
      "(Epoch 22, iter 350/787) Average loss so far: 2.558\n",
      "(Epoch 22, iter 400/787) Average loss so far: 2.551\n",
      "(Epoch 22, iter 450/787) Average loss so far: 2.554\n",
      "(Epoch 22, iter 500/787) Average loss so far: 2.525\n",
      "(Epoch 22, iter 550/787) Average loss so far: 2.539\n",
      "(Epoch 22, iter 600/787) Average loss so far: 2.538\n",
      "(Epoch 22, iter 650/787) Average loss so far: 2.521\n",
      "(Epoch 22, iter 700/787) Average loss so far: 2.532\n",
      "(Epoch 22, iter 750/787) Average loss so far: 2.527\n",
      "Average epoch loss: 2.541\n",
      "This epoch took 8.694250969092051 mins. Time remaining: 1.0 hrs 0.0 mins.\n"
     ]
    },
    {
     "name": "stderr",
     "output_type": "stream",
     "text": [
      "7it [00:01,  5.24it/s]\n"
     ]
    },
    {
     "name": "stdout",
     "output_type": "stream",
     "text": [
      "validation loss: 3.064901147569929\n"
     ]
    },
    {
     "name": "stderr",
     "output_type": "stream",
     "text": [
      "100%|██████████| 7/7 [00:02<00:00,  2.53it/s]\n",
      "100%|██████████| 793/793 [00:01<00:00, 751.96it/s]\n"
     ]
    },
    {
     "name": "stdout",
     "output_type": "stream",
     "text": [
      "BLEU score: 0.05429019863071828, METEOR score: 0.2108751834143225\n",
      "Starting epoch 24/30, enc lr scheduler: [0.00013714331138868998], dec lr scheduler: [0.00013714331138868998]\n",
      "(Epoch 23, iter 50/787) Average loss so far: 2.534\n",
      "(Epoch 23, iter 100/787) Average loss so far: 2.524\n",
      "(Epoch 23, iter 150/787) Average loss so far: 2.534\n",
      "(Epoch 23, iter 200/787) Average loss so far: 2.544\n",
      "(Epoch 23, iter 250/787) Average loss so far: 2.528\n",
      "(Epoch 23, iter 300/787) Average loss so far: 2.532\n",
      "(Epoch 23, iter 350/787) Average loss so far: 2.524\n",
      "(Epoch 23, iter 400/787) Average loss so far: 2.545\n",
      "(Epoch 23, iter 450/787) Average loss so far: 2.529\n",
      "(Epoch 23, iter 500/787) Average loss so far: 2.531\n",
      "(Epoch 23, iter 550/787) Average loss so far: 2.525\n",
      "(Epoch 23, iter 600/787) Average loss so far: 2.529\n",
      "(Epoch 23, iter 650/787) Average loss so far: 2.528\n",
      "(Epoch 23, iter 700/787) Average loss so far: 2.537\n",
      "(Epoch 23, iter 750/787) Average loss so far: 2.539\n",
      "Average epoch loss: 2.532\n",
      "This epoch took 8.65880027214686 mins. Time remaining: 0.0 hrs 51.0 mins.\n"
     ]
    },
    {
     "name": "stderr",
     "output_type": "stream",
     "text": [
      "7it [00:01,  5.12it/s]\n"
     ]
    },
    {
     "name": "stdout",
     "output_type": "stream",
     "text": [
      "validation loss: 3.0661655834742954\n"
     ]
    },
    {
     "name": "stderr",
     "output_type": "stream",
     "text": [
      "100%|██████████| 7/7 [00:02<00:00,  2.60it/s]\n",
      "100%|██████████| 793/793 [00:01<00:00, 733.89it/s]\n"
     ]
    },
    {
     "name": "stdout",
     "output_type": "stream",
     "text": [
      "BLEU score: 0.05508513737660636, METEOR score: 0.21475239961444473\n",
      "Starting epoch 25/30, enc lr scheduler: [0.00010453658778440108], dec lr scheduler: [0.00010453658778440108]\n",
      "(Epoch 24, iter 50/787) Average loss so far: 2.527\n",
      "(Epoch 24, iter 100/787) Average loss so far: 2.526\n",
      "(Epoch 24, iter 150/787) Average loss so far: 2.524\n",
      "(Epoch 24, iter 200/787) Average loss so far: 2.541\n",
      "(Epoch 24, iter 250/787) Average loss so far: 2.518\n",
      "(Epoch 24, iter 300/787) Average loss so far: 2.529\n",
      "(Epoch 24, iter 350/787) Average loss so far: 2.522\n",
      "(Epoch 24, iter 400/787) Average loss so far: 2.517\n",
      "(Epoch 24, iter 450/787) Average loss so far: 2.510\n",
      "(Epoch 24, iter 500/787) Average loss so far: 2.528\n",
      "(Epoch 24, iter 550/787) Average loss so far: 2.537\n",
      "(Epoch 24, iter 600/787) Average loss so far: 2.520\n",
      "(Epoch 24, iter 650/787) Average loss so far: 2.530\n",
      "(Epoch 24, iter 700/787) Average loss so far: 2.523\n",
      "(Epoch 24, iter 750/787) Average loss so far: 2.518\n",
      "Average epoch loss: 2.524\n",
      "This epoch took 8.660960761706034 mins. Time remaining: 0.0 hrs 43.0 mins.\n"
     ]
    },
    {
     "name": "stderr",
     "output_type": "stream",
     "text": [
      "7it [00:01,  5.27it/s]\n"
     ]
    },
    {
     "name": "stdout",
     "output_type": "stream",
     "text": [
      "validation loss: 3.06569732938494\n"
     ]
    },
    {
     "name": "stderr",
     "output_type": "stream",
     "text": [
      "100%|██████████| 7/7 [00:02<00:00,  2.73it/s]\n",
      "100%|██████████| 793/793 [00:01<00:00, 781.48it/s]\n"
     ]
    },
    {
     "name": "stdout",
     "output_type": "stream",
     "text": [
      "BLEU score: 0.05240369931105146, METEOR score: 0.21010115919574035\n",
      "Starting epoch 26/30, enc lr scheduler: [7.631742512670285e-05], dec lr scheduler: [7.631742512670285e-05]\n",
      "(Epoch 25, iter 50/787) Average loss so far: 2.519\n",
      "(Epoch 25, iter 100/787) Average loss so far: 2.513\n",
      "(Epoch 25, iter 150/787) Average loss so far: 2.532\n",
      "(Epoch 25, iter 200/787) Average loss so far: 2.528\n",
      "(Epoch 25, iter 250/787) Average loss so far: 2.509\n",
      "(Epoch 25, iter 300/787) Average loss so far: 2.518\n",
      "(Epoch 25, iter 350/787) Average loss so far: 2.528\n",
      "(Epoch 25, iter 400/787) Average loss so far: 2.508\n",
      "(Epoch 25, iter 450/787) Average loss so far: 2.514\n",
      "(Epoch 25, iter 500/787) Average loss so far: 2.526\n",
      "(Epoch 25, iter 550/787) Average loss so far: 2.500\n",
      "(Epoch 25, iter 600/787) Average loss so far: 2.517\n",
      "(Epoch 25, iter 650/787) Average loss so far: 2.523\n",
      "(Epoch 25, iter 700/787) Average loss so far: 2.510\n",
      "(Epoch 25, iter 750/787) Average loss so far: 2.519\n",
      "Average epoch loss: 2.518\n",
      "This epoch took 8.69899574915568 mins. Time remaining: 0.0 hrs 34.0 mins.\n"
     ]
    },
    {
     "name": "stderr",
     "output_type": "stream",
     "text": [
      "7it [00:01,  5.42it/s]\n"
     ]
    },
    {
     "name": "stdout",
     "output_type": "stream",
     "text": [
      "validation loss: 3.066434485571725\n"
     ]
    },
    {
     "name": "stderr",
     "output_type": "stream",
     "text": [
      "100%|██████████| 7/7 [00:02<00:00,  2.52it/s]\n",
      "100%|██████████| 793/793 [00:01<00:00, 770.50it/s]\n"
     ]
    },
    {
     "name": "stdout",
     "output_type": "stream",
     "text": [
      "BLEU score: 0.053463804062823625, METEOR score: 0.21029893221004417\n",
      "Starting epoch 27/30, enc lr scheduler: [5.279499846691252e-05], dec lr scheduler: [5.279499846691252e-05]\n",
      "(Epoch 26, iter 50/787) Average loss so far: 2.511\n",
      "(Epoch 26, iter 100/787) Average loss so far: 2.507\n",
      "(Epoch 26, iter 150/787) Average loss so far: 2.510\n",
      "(Epoch 26, iter 200/787) Average loss so far: 2.510\n",
      "(Epoch 26, iter 250/787) Average loss so far: 2.525\n",
      "(Epoch 26, iter 300/787) Average loss so far: 2.518\n",
      "(Epoch 26, iter 350/787) Average loss so far: 2.520\n",
      "(Epoch 26, iter 400/787) Average loss so far: 2.511\n",
      "(Epoch 26, iter 450/787) Average loss so far: 2.507\n",
      "(Epoch 26, iter 500/787) Average loss so far: 2.520\n",
      "(Epoch 26, iter 550/787) Average loss so far: 2.494\n",
      "(Epoch 26, iter 600/787) Average loss so far: 2.519\n",
      "(Epoch 26, iter 650/787) Average loss so far: 2.506\n",
      "(Epoch 26, iter 700/787) Average loss so far: 2.524\n",
      "(Epoch 26, iter 750/787) Average loss so far: 2.526\n",
      "Average epoch loss: 2.513\n",
      "This epoch took 8.690738725662232 mins. Time remaining: 0.0 hrs 26.0 mins.\n"
     ]
    },
    {
     "name": "stderr",
     "output_type": "stream",
     "text": [
      "7it [00:01,  4.92it/s]\n"
     ]
    },
    {
     "name": "stdout",
     "output_type": "stream",
     "text": [
      "validation loss: 3.0676874773842946\n"
     ]
    },
    {
     "name": "stderr",
     "output_type": "stream",
     "text": [
      "100%|██████████| 7/7 [00:02<00:00,  2.45it/s]\n",
      "100%|██████████| 793/793 [00:01<00:00, 761.40it/s]\n"
     ]
    },
    {
     "name": "stdout",
     "output_type": "stream",
     "text": [
      "BLEU score: 0.05483833839420476, METEOR score: 0.21259949218767468\n",
      "Starting epoch 28/30, enc lr scheduler: [3.4227024433899005e-05], dec lr scheduler: [3.4227024433899005e-05]\n",
      "(Epoch 27, iter 50/787) Average loss so far: 2.514\n",
      "(Epoch 27, iter 100/787) Average loss so far: 2.506\n",
      "(Epoch 27, iter 150/787) Average loss so far: 2.513\n",
      "(Epoch 27, iter 200/787) Average loss so far: 2.510\n",
      "(Epoch 27, iter 250/787) Average loss so far: 2.520\n",
      "(Epoch 27, iter 300/787) Average loss so far: 2.524\n",
      "(Epoch 27, iter 350/787) Average loss so far: 2.502\n",
      "(Epoch 27, iter 400/787) Average loss so far: 2.503\n",
      "(Epoch 27, iter 450/787) Average loss so far: 2.507\n",
      "(Epoch 27, iter 500/787) Average loss so far: 2.508\n",
      "(Epoch 27, iter 550/787) Average loss so far: 2.498\n",
      "(Epoch 27, iter 600/787) Average loss so far: 2.507\n",
      "(Epoch 27, iter 650/787) Average loss so far: 2.519\n",
      "(Epoch 27, iter 700/787) Average loss so far: 2.508\n",
      "(Epoch 27, iter 750/787) Average loss so far: 2.507\n",
      "Average epoch loss: 2.510\n",
      "This epoch took 8.739509677886963 mins. Time remaining: 0.0 hrs 17.0 mins.\n"
     ]
    },
    {
     "name": "stderr",
     "output_type": "stream",
     "text": [
      "7it [00:01,  5.33it/s]\n"
     ]
    },
    {
     "name": "stdout",
     "output_type": "stream",
     "text": [
      "validation loss: 3.068269661494664\n"
     ]
    },
    {
     "name": "stderr",
     "output_type": "stream",
     "text": [
      "100%|██████████| 7/7 [00:02<00:00,  2.37it/s]\n",
      "100%|██████████| 793/793 [00:01<00:00, 730.91it/s]\n"
     ]
    },
    {
     "name": "stdout",
     "output_type": "stream",
     "text": [
      "BLEU score: 0.05357286007825388, METEOR score: 0.21187169877005785\n",
      "Starting epoch 29/30, enc lr scheduler: [2.0816937636766188e-05], dec lr scheduler: [2.0816937636766188e-05]\n",
      "(Epoch 28, iter 50/787) Average loss so far: 2.503\n",
      "(Epoch 28, iter 100/787) Average loss so far: 2.517\n",
      "(Epoch 28, iter 150/787) Average loss so far: 2.502\n",
      "(Epoch 28, iter 200/787) Average loss so far: 2.504\n",
      "(Epoch 28, iter 250/787) Average loss so far: 2.514\n",
      "(Epoch 28, iter 300/787) Average loss so far: 2.506\n",
      "(Epoch 28, iter 350/787) Average loss so far: 2.518\n",
      "(Epoch 28, iter 400/787) Average loss so far: 2.496\n",
      "(Epoch 28, iter 450/787) Average loss so far: 2.508\n",
      "(Epoch 28, iter 500/787) Average loss so far: 2.511\n",
      "(Epoch 28, iter 550/787) Average loss so far: 2.514\n",
      "(Epoch 28, iter 600/787) Average loss so far: 2.509\n",
      "(Epoch 28, iter 650/787) Average loss so far: 2.483\n",
      "(Epoch 28, iter 700/787) Average loss so far: 2.515\n",
      "(Epoch 28, iter 750/787) Average loss so far: 2.511\n",
      "Average epoch loss: 2.507\n",
      "This epoch took 8.664481910069783 mins. Time remaining: 0.0 hrs 8.0 mins.\n"
     ]
    },
    {
     "name": "stderr",
     "output_type": "stream",
     "text": [
      "7it [00:01,  5.29it/s]\n"
     ]
    },
    {
     "name": "stdout",
     "output_type": "stream",
     "text": [
      "validation loss: 3.0683638708932057\n"
     ]
    },
    {
     "name": "stderr",
     "output_type": "stream",
     "text": [
      "100%|██████████| 7/7 [00:02<00:00,  2.39it/s]\n",
      "100%|██████████| 793/793 [00:01<00:00, 760.32it/s]\n"
     ]
    },
    {
     "name": "stdout",
     "output_type": "stream",
     "text": [
      "BLEU score: 0.053924556203878635, METEOR score: 0.2136804902885653\n",
      "Starting epoch 30/30, enc lr scheduler: [1.2711661792704668e-05], dec lr scheduler: [1.2711661792704668e-05]\n",
      "(Epoch 29, iter 50/787) Average loss so far: 2.496\n",
      "(Epoch 29, iter 100/787) Average loss so far: 2.494\n",
      "(Epoch 29, iter 150/787) Average loss so far: 2.521\n",
      "(Epoch 29, iter 200/787) Average loss so far: 2.511\n",
      "(Epoch 29, iter 250/787) Average loss so far: 2.510\n",
      "(Epoch 29, iter 300/787) Average loss so far: 2.511\n",
      "(Epoch 29, iter 350/787) Average loss so far: 2.505\n",
      "(Epoch 29, iter 400/787) Average loss so far: 2.493\n",
      "(Epoch 29, iter 450/787) Average loss so far: 2.497\n",
      "(Epoch 29, iter 500/787) Average loss so far: 2.521\n",
      "(Epoch 29, iter 550/787) Average loss so far: 2.491\n",
      "(Epoch 29, iter 600/787) Average loss so far: 2.503\n",
      "(Epoch 29, iter 650/787) Average loss so far: 2.506\n",
      "(Epoch 29, iter 700/787) Average loss so far: 2.509\n",
      "(Epoch 29, iter 750/787) Average loss so far: 2.515\n",
      "Average epoch loss: 2.506\n",
      "This epoch took 8.694341178735097 mins. Time remaining: 0.0 hrs 0.0 mins.\n"
     ]
    },
    {
     "name": "stderr",
     "output_type": "stream",
     "text": [
      "7it [00:01,  5.22it/s]\n"
     ]
    },
    {
     "name": "stdout",
     "output_type": "stream",
     "text": [
      "validation loss: 3.0682195595332553\n"
     ]
    },
    {
     "name": "stderr",
     "output_type": "stream",
     "text": [
      "100%|██████████| 7/7 [00:02<00:00,  2.51it/s]\n",
      "100%|██████████| 793/793 [00:01<00:00, 777.01it/s]"
     ]
    },
    {
     "name": "stdout",
     "output_type": "stream",
     "text": [
      "BLEU score: 0.05360497700665978, METEOR score: 0.21295206921320584\n"
     ]
    },
    {
     "name": "stderr",
     "output_type": "stream",
     "text": [
      "\n"
     ]
    }
   ],
   "source": [
    "initial_lr=1e-3\n",
    "min_lr = 1e-5\n",
    "n_epochs = 30\n",
    "batch_size=128\n",
    "encoder_multilayer_attn_optimizer = optim.Adam(encoder_multilayer_attn.parameters(), lr=initial_lr)\n",
    "decoder_multilayer_attn_optimizer = optim.Adam(decoder_multilayer_attn.parameters(), lr=initial_lr)\n",
    "enc_multilayer_attn_scheduler = CosineAnnealingLR(encoder_multilayer_attn_optimizer, T_max=n_epochs, eta_min=min_lr)\n",
    "dec_multilayer_attn_scheduler = CosineAnnealingLR(decoder_multilayer_attn_optimizer, T_max=n_epochs, eta_min=min_lr)\n",
    "identifier=\"multilayer_attn_adam_without_intermediate_tags_wd0_lr1e-3\"\n",
    "\n",
    "multilayer_attn_epoch_losses, multilayer_attn_val_epoch_losses, multilayer_attn_log = train(\n",
    "    encoder_multilayer_attn, decoder_multilayer_attn, encoder_multilayer_attn_optimizer, decoder_multilayer_attn_optimizer, train_ds, \n",
    "    n_epochs=n_epochs, vocab=vocab, decoder_mode=\"attention\", batch_size=batch_size, \n",
    "    enc_lr_scheduler=enc_multilayer_attn_scheduler, dec_lr_scheduler=dec_multilayer_attn_scheduler, \n",
    "    dev_ds_val_loss = dev_ds_val_loss, dev_ds_val_met=dev_ds_val_met, identifier=identifier,\n",
    "    verbose_iter_interval=50)\n",
    "\n",
    "save_log(identifier, multilayer_attn_log, encoder_multilayer_attn_optimizer, decoder_multilayer_attn_optimizer, \n",
    "         enc_multilayer_attn_scheduler, dec_multilayer_attn_scheduler)"
   ]
  },
  {
   "cell_type": "markdown",
   "metadata": {},
   "source": [
    "---"
   ]
  },
  {
   "cell_type": "markdown",
   "metadata": {},
   "source": [
    "## Evaluation"
   ]
  },
  {
   "cell_type": "code",
   "execution_count": 16,
   "metadata": {},
   "outputs": [],
   "source": [
    "all_ingredients_lst = get_all_ingredients(\"./ingredient_set.json\")"
   ]
  },
  {
   "cell_type": "markdown",
   "metadata": {},
   "source": [
    "### Without attention"
   ]
  },
  {
   "cell_type": "code",
   "execution_count": 16,
   "metadata": {},
   "outputs": [],
   "source": [
    "load_model(encoder, decoder, \"adam_without_intermediate_tags_with_val_wd0_lr1e-3_ep_24\")"
   ]
  },
  {
   "cell_type": "code",
   "execution_count": 17,
   "metadata": {},
   "outputs": [
    {
     "name": "stderr",
     "output_type": "stream",
     "text": [
      "  0%|          | 0/7 [00:00<?, ?it/s]"
     ]
    },
    {
     "name": "stderr",
     "output_type": "stream",
     "text": [
      "100%|██████████| 7/7 [00:05<00:00,  1.30it/s]\n"
     ]
    }
   ],
   "source": [
    "all_decoder_outs, all_gt_recipes, all_gt_ingredients = eval(\n",
    "    encoder, decoder, test_ds, vocab, batch_size=128, decoder_mode=\"basic\",\n",
    "    max_recipe_len=MAX_RECIPE_LEN)"
   ]
  },
  {
   "cell_type": "code",
   "execution_count": 18,
   "metadata": {},
   "outputs": [
    {
     "data": {
      "text/plain": [
       "0.04449619754164479"
      ]
     },
     "execution_count": 18,
     "metadata": {},
     "output_type": "execute_result"
    }
   ],
   "source": [
    "calc_bleu(all_gt_recipes, all_decoder_outs)"
   ]
  },
  {
   "cell_type": "code",
   "execution_count": 19,
   "metadata": {},
   "outputs": [
    {
     "name": "stderr",
     "output_type": "stream",
     "text": [
      "  0%|          | 0/774 [00:00<?, ?it/s]"
     ]
    },
    {
     "name": "stderr",
     "output_type": "stream",
     "text": [
      "100%|██████████| 774/774 [00:03<00:00, 209.73it/s]\n"
     ]
    },
    {
     "data": {
      "text/plain": [
       "0.20156387133765763"
      ]
     },
     "execution_count": 19,
     "metadata": {},
     "output_type": "execute_result"
    }
   ],
   "source": [
    "calc_meteor(all_gt_recipes, all_decoder_outs, split_gt=False)"
   ]
  },
  {
   "cell_type": "code",
   "execution_count": 21,
   "metadata": {},
   "outputs": [
    {
     "name": "stderr",
     "output_type": "stream",
     "text": [
      "774it [00:00, 1141.23it/s]"
     ]
    },
    {
     "name": "stdout",
     "output_type": "stream",
     "text": [
      "Avg. % given ingredients: 25.563%\n",
      "Avg. number of extra ingredients: 2.978\n"
     ]
    },
    {
     "name": "stderr",
     "output_type": "stream",
     "text": [
      "\n"
     ]
    }
   ],
   "source": [
    "convert_eval_out_to_get_ingredient_metrics(all_decoder_outs, all_gt_ingredients,\n",
    "                                           vocab, all_ingredients_lst)"
   ]
  },
  {
   "cell_type": "markdown",
   "metadata": {},
   "source": [
    "### With attention"
   ]
  },
  {
   "cell_type": "code",
   "execution_count": 45,
   "metadata": {},
   "outputs": [],
   "source": [
    "load_model(encoder_attn, decoder_attn, \"attn_adam_without_intermediate_tags_wd0_lr1e-3_ep_26\")"
   ]
  },
  {
   "cell_type": "code",
   "execution_count": 46,
   "metadata": {},
   "outputs": [
    {
     "name": "stderr",
     "output_type": "stream",
     "text": [
      "  0%|          | 0/7 [00:00<?, ?it/s]"
     ]
    },
    {
     "name": "stderr",
     "output_type": "stream",
     "text": [
      "100%|██████████| 7/7 [00:06<00:00,  1.04it/s]\n"
     ]
    }
   ],
   "source": [
    "all_decoder_outs, all_gt_recipes, all_gt_ingredients = eval(\n",
    "    encoder_attn, decoder_attn, test_ds, vocab, batch_size=128, decoder_mode=\"attention\",\n",
    "    max_recipe_len=MAX_RECIPE_LEN)"
   ]
  },
  {
   "cell_type": "code",
   "execution_count": 47,
   "metadata": {},
   "outputs": [
    {
     "data": {
      "text/plain": [
       "0.04975297680717382"
      ]
     },
     "execution_count": 47,
     "metadata": {},
     "output_type": "execute_result"
    }
   ],
   "source": [
    "calc_bleu(all_gt_recipes, all_decoder_outs)"
   ]
  },
  {
   "cell_type": "code",
   "execution_count": 48,
   "metadata": {},
   "outputs": [
    {
     "name": "stderr",
     "output_type": "stream",
     "text": [
      "  0%|          | 0/774 [00:00<?, ?it/s]"
     ]
    },
    {
     "name": "stderr",
     "output_type": "stream",
     "text": [
      "100%|██████████| 774/774 [00:02<00:00, 292.46it/s]\n"
     ]
    },
    {
     "data": {
      "text/plain": [
       "0.20857380991725616"
      ]
     },
     "execution_count": 48,
     "metadata": {},
     "output_type": "execute_result"
    }
   ],
   "source": [
    "calc_meteor(all_gt_recipes, all_decoder_outs, split_gt=False)"
   ]
  },
  {
   "cell_type": "code",
   "execution_count": 26,
   "metadata": {},
   "outputs": [
    {
     "name": "stderr",
     "output_type": "stream",
     "text": [
      "774it [00:00, 1107.21it/s]"
     ]
    },
    {
     "name": "stdout",
     "output_type": "stream",
     "text": [
      "Avg. % given ingredients: 33.453%\n",
      "Avg. number of extra ingredients: 2.295\n"
     ]
    },
    {
     "name": "stderr",
     "output_type": "stream",
     "text": [
      "\n"
     ]
    }
   ],
   "source": [
    "convert_eval_out_to_get_ingredient_metrics(all_decoder_outs, all_gt_ingredients,\n",
    "                                           vocab, all_ingredients_lst)"
   ]
  },
  {
   "cell_type": "markdown",
   "metadata": {},
   "source": [
    "## Attention + pretrained embeddings"
   ]
  },
  {
   "cell_type": "code",
   "execution_count": 49,
   "metadata": {},
   "outputs": [],
   "source": [
    "load_model(encoder_pretrained_embed, decoder_pretrained_embed, \n",
    "           \"pretrained_emb_attn_adam_without_intermediate_tags_wd0_lr1e-3_ep_29\")"
   ]
  },
  {
   "cell_type": "code",
   "execution_count": 56,
   "metadata": {},
   "outputs": [
    {
     "name": "stderr",
     "output_type": "stream",
     "text": [
      "  0%|          | 0/7 [00:00<?, ?it/s]"
     ]
    },
    {
     "name": "stderr",
     "output_type": "stream",
     "text": [
      "100%|██████████| 7/7 [00:07<00:00,  1.04s/it]\n"
     ]
    }
   ],
   "source": [
    "all_decoder_outs, all_gt_recipes, all_gt_ingredients = eval(\n",
    "    encoder_pretrained_embed, decoder_pretrained_embed, test_ds, vocab, batch_size=128, \n",
    "    decoder_mode=\"attention\", max_recipe_len=MAX_RECIPE_LEN)"
   ]
  },
  {
   "cell_type": "code",
   "execution_count": 57,
   "metadata": {},
   "outputs": [
    {
     "data": {
      "text/plain": [
       "0.05573056259570414"
      ]
     },
     "execution_count": 57,
     "metadata": {},
     "output_type": "execute_result"
    }
   ],
   "source": [
    "calc_bleu(all_gt_recipes, all_decoder_outs)"
   ]
  },
  {
   "cell_type": "code",
   "execution_count": 58,
   "metadata": {},
   "outputs": [
    {
     "name": "stderr",
     "output_type": "stream",
     "text": [
      "100%|██████████| 774/774 [00:02<00:00, 289.11it/s]\n"
     ]
    },
    {
     "data": {
      "text/plain": [
       "0.20985559115168426"
      ]
     },
     "execution_count": 58,
     "metadata": {},
     "output_type": "execute_result"
    }
   ],
   "source": [
    "calc_meteor(all_gt_recipes, all_decoder_outs, split_gt=False)"
   ]
  },
  {
   "cell_type": "code",
   "execution_count": 36,
   "metadata": {},
   "outputs": [
    {
     "name": "stderr",
     "output_type": "stream",
     "text": [
      "774it [00:00, 1054.15it/s]"
     ]
    },
    {
     "name": "stdout",
     "output_type": "stream",
     "text": [
      "Avg. % given ingredients: 31.074%\n",
      "Avg. number of extra ingredients: 2.104\n"
     ]
    },
    {
     "name": "stderr",
     "output_type": "stream",
     "text": [
      "\n"
     ]
    }
   ],
   "source": [
    "convert_eval_out_to_get_ingredient_metrics(all_decoder_outs, all_gt_ingredients,\n",
    "                                           vocab, all_ingredients_lst)"
   ]
  },
  {
   "cell_type": "markdown",
   "metadata": {},
   "source": [
    "## Attention + Multilayer + Neurologic Decoding"
   ]
  },
  {
   "cell_type": "markdown",
   "metadata": {},
   "source": [
    "### Without Neurologic Decoding"
   ]
  },
  {
   "cell_type": "code",
   "execution_count": 22,
   "metadata": {},
   "outputs": [
    {
     "ename": "FileNotFoundError",
     "evalue": "[Errno 2] No such file or directory: 'saved_models/encoder_multilayer_attn_adam_without_intermediate_tags_wd0_lr1e-3_ep_14.pth'",
     "output_type": "error",
     "traceback": [
      "\u001b[0;31m---------------------------------------------------------------------------\u001b[0m",
      "\u001b[0;31mFileNotFoundError\u001b[0m                         Traceback (most recent call last)",
      "Cell \u001b[0;32mIn[22], line 1\u001b[0m\n\u001b[0;32m----> 1\u001b[0m \u001b[43mload_model\u001b[49m\u001b[43m(\u001b[49m\u001b[43mencoder_multilayer_attn\u001b[49m\u001b[43m,\u001b[49m\u001b[43m \u001b[49m\u001b[43mdecoder_multilayer_attn\u001b[49m\u001b[43m,\u001b[49m\u001b[43m \u001b[49m\u001b[38;5;124;43m\"\u001b[39;49m\u001b[38;5;124;43mmultilayer_attn_adam_without_intermediate_tags_wd0_lr1e-3_ep_14\u001b[39;49m\u001b[38;5;124;43m\"\u001b[39;49m\u001b[43m)\u001b[49m\n",
      "File \u001b[0;32m/media/student/HDD 2/Michelle/NLP/neural-recipe-generator/utils.py:32\u001b[0m, in \u001b[0;36mload_model\u001b[0;34m(encoder, decoder, identifier)\u001b[0m\n\u001b[1;32m     29\u001b[0m encpath \u001b[38;5;241m=\u001b[39m os\u001b[38;5;241m.\u001b[39mpath\u001b[38;5;241m.\u001b[39mjoin(\u001b[38;5;124m\"\u001b[39m\u001b[38;5;124msaved_models\u001b[39m\u001b[38;5;124m\"\u001b[39m, \u001b[38;5;124mf\u001b[39m\u001b[38;5;124m\"\u001b[39m\u001b[38;5;124mencoder_\u001b[39m\u001b[38;5;132;01m{\u001b[39;00midentifier\u001b[38;5;132;01m}\u001b[39;00m\u001b[38;5;124m.pth\u001b[39m\u001b[38;5;124m\"\u001b[39m)\n\u001b[1;32m     30\u001b[0m decpath \u001b[38;5;241m=\u001b[39m os\u001b[38;5;241m.\u001b[39mpath\u001b[38;5;241m.\u001b[39mjoin(\u001b[38;5;124m\"\u001b[39m\u001b[38;5;124msaved_models\u001b[39m\u001b[38;5;124m\"\u001b[39m, \u001b[38;5;124mf\u001b[39m\u001b[38;5;124m\"\u001b[39m\u001b[38;5;124mdecoder_\u001b[39m\u001b[38;5;132;01m{\u001b[39;00midentifier\u001b[38;5;132;01m}\u001b[39;00m\u001b[38;5;124m.pth\u001b[39m\u001b[38;5;124m\"\u001b[39m)\n\u001b[0;32m---> 32\u001b[0m encoder\u001b[38;5;241m.\u001b[39mload_state_dict(\u001b[43mtorch\u001b[49m\u001b[38;5;241;43m.\u001b[39;49m\u001b[43mload\u001b[49m\u001b[43m(\u001b[49m\u001b[43mencpath\u001b[49m\u001b[43m)\u001b[49m)\n\u001b[1;32m     33\u001b[0m decoder\u001b[38;5;241m.\u001b[39mload_state_dict(torch\u001b[38;5;241m.\u001b[39mload(decpath))\n",
      "File \u001b[0;32m~/anaconda3/envs/nlp/lib/python3.9/site-packages/torch/serialization.py:771\u001b[0m, in \u001b[0;36mload\u001b[0;34m(f, map_location, pickle_module, weights_only, **pickle_load_args)\u001b[0m\n\u001b[1;32m    768\u001b[0m \u001b[38;5;28;01mif\u001b[39;00m \u001b[38;5;124m'\u001b[39m\u001b[38;5;124mencoding\u001b[39m\u001b[38;5;124m'\u001b[39m \u001b[38;5;129;01mnot\u001b[39;00m \u001b[38;5;129;01min\u001b[39;00m pickle_load_args\u001b[38;5;241m.\u001b[39mkeys():\n\u001b[1;32m    769\u001b[0m     pickle_load_args[\u001b[38;5;124m'\u001b[39m\u001b[38;5;124mencoding\u001b[39m\u001b[38;5;124m'\u001b[39m] \u001b[38;5;241m=\u001b[39m \u001b[38;5;124m'\u001b[39m\u001b[38;5;124mutf-8\u001b[39m\u001b[38;5;124m'\u001b[39m\n\u001b[0;32m--> 771\u001b[0m \u001b[38;5;28;01mwith\u001b[39;00m \u001b[43m_open_file_like\u001b[49m\u001b[43m(\u001b[49m\u001b[43mf\u001b[49m\u001b[43m,\u001b[49m\u001b[43m \u001b[49m\u001b[38;5;124;43m'\u001b[39;49m\u001b[38;5;124;43mrb\u001b[39;49m\u001b[38;5;124;43m'\u001b[39;49m\u001b[43m)\u001b[49m \u001b[38;5;28;01mas\u001b[39;00m opened_file:\n\u001b[1;32m    772\u001b[0m     \u001b[38;5;28;01mif\u001b[39;00m _is_zipfile(opened_file):\n\u001b[1;32m    773\u001b[0m         \u001b[38;5;66;03m# The zipfile reader is going to advance the current file position.\u001b[39;00m\n\u001b[1;32m    774\u001b[0m         \u001b[38;5;66;03m# If we want to actually tail call to torch.jit.load, we need to\u001b[39;00m\n\u001b[1;32m    775\u001b[0m         \u001b[38;5;66;03m# reset back to the original position.\u001b[39;00m\n\u001b[1;32m    776\u001b[0m         orig_position \u001b[38;5;241m=\u001b[39m opened_file\u001b[38;5;241m.\u001b[39mtell()\n",
      "File \u001b[0;32m~/anaconda3/envs/nlp/lib/python3.9/site-packages/torch/serialization.py:270\u001b[0m, in \u001b[0;36m_open_file_like\u001b[0;34m(name_or_buffer, mode)\u001b[0m\n\u001b[1;32m    268\u001b[0m \u001b[38;5;28;01mdef\u001b[39;00m \u001b[38;5;21m_open_file_like\u001b[39m(name_or_buffer, mode):\n\u001b[1;32m    269\u001b[0m     \u001b[38;5;28;01mif\u001b[39;00m _is_path(name_or_buffer):\n\u001b[0;32m--> 270\u001b[0m         \u001b[38;5;28;01mreturn\u001b[39;00m \u001b[43m_open_file\u001b[49m\u001b[43m(\u001b[49m\u001b[43mname_or_buffer\u001b[49m\u001b[43m,\u001b[49m\u001b[43m \u001b[49m\u001b[43mmode\u001b[49m\u001b[43m)\u001b[49m\n\u001b[1;32m    271\u001b[0m     \u001b[38;5;28;01melse\u001b[39;00m:\n\u001b[1;32m    272\u001b[0m         \u001b[38;5;28;01mif\u001b[39;00m \u001b[38;5;124m'\u001b[39m\u001b[38;5;124mw\u001b[39m\u001b[38;5;124m'\u001b[39m \u001b[38;5;129;01min\u001b[39;00m mode:\n",
      "File \u001b[0;32m~/anaconda3/envs/nlp/lib/python3.9/site-packages/torch/serialization.py:251\u001b[0m, in \u001b[0;36m_open_file.__init__\u001b[0;34m(self, name, mode)\u001b[0m\n\u001b[1;32m    250\u001b[0m \u001b[38;5;28;01mdef\u001b[39;00m \u001b[38;5;21m__init__\u001b[39m(\u001b[38;5;28mself\u001b[39m, name, mode):\n\u001b[0;32m--> 251\u001b[0m     \u001b[38;5;28msuper\u001b[39m(_open_file, \u001b[38;5;28mself\u001b[39m)\u001b[38;5;241m.\u001b[39m\u001b[38;5;21m__init__\u001b[39m(\u001b[38;5;28;43mopen\u001b[39;49m\u001b[43m(\u001b[49m\u001b[43mname\u001b[49m\u001b[43m,\u001b[49m\u001b[43m \u001b[49m\u001b[43mmode\u001b[49m\u001b[43m)\u001b[49m)\n",
      "\u001b[0;31mFileNotFoundError\u001b[0m: [Errno 2] No such file or directory: 'saved_models/encoder_multilayer_attn_adam_without_intermediate_tags_wd0_lr1e-3_ep_14.pth'"
     ]
    }
   ],
   "source": [
    "load_model(encoder_multilayer_attn, decoder_multilayer_attn, \"multilayer_attn_adam_without_intermediate_tags_wd0_lr1e-3_ep_14\")"
   ]
  },
  {
   "cell_type": "code",
   "execution_count": 38,
   "metadata": {},
   "outputs": [
    {
     "name": "stderr",
     "output_type": "stream",
     "text": [
      "100%|██████████| 7/7 [00:02<00:00,  2.64it/s]\n"
     ]
    }
   ],
   "source": [
    "all_decoder_outs_multi, all_gt_recipes_multi, all_gt_ingredients_multi = eval(\n",
    "    encoder_multilayer_attn, decoder_multilayer_attn, test_ds, vocab, batch_size=128, decoder_mode=\"attention\",\n",
    "    max_recipe_len=MAX_RECIPE_LEN)"
   ]
  },
  {
   "cell_type": "code",
   "execution_count": 39,
   "metadata": {},
   "outputs": [
    {
     "data": {
      "text/plain": [
       "0.053654397203939004"
      ]
     },
     "execution_count": 39,
     "metadata": {},
     "output_type": "execute_result"
    }
   ],
   "source": [
    "calc_bleu(all_decoder_outs_multi, all_gt_recipes_multi)"
   ]
  },
  {
   "cell_type": "code",
   "execution_count": 40,
   "metadata": {},
   "outputs": [
    {
     "name": "stderr",
     "output_type": "stream",
     "text": [
      "100%|██████████| 774/774 [00:01<00:00, 724.46it/s]\n"
     ]
    },
    {
     "data": {
      "text/plain": [
       "0.21415571426435778"
      ]
     },
     "execution_count": 40,
     "metadata": {},
     "output_type": "execute_result"
    }
   ],
   "source": [
    "calc_meteor(all_gt_recipes_multi, all_decoder_outs_multi, split_gt=False)"
   ]
  },
  {
   "cell_type": "code",
   "execution_count": 41,
   "metadata": {},
   "outputs": [
    {
     "name": "stderr",
     "output_type": "stream",
     "text": [
      "774it [00:00, 1134.83it/s]"
     ]
    },
    {
     "name": "stdout",
     "output_type": "stream",
     "text": [
      "Avg. % given ingredients: 32.267%\n",
      "Avg. number of extra ingredients: 2.223\n"
     ]
    },
    {
     "name": "stderr",
     "output_type": "stream",
     "text": [
      "\n"
     ]
    }
   ],
   "source": [
    "convert_eval_out_to_get_ingredient_metrics(all_decoder_outs_multi, all_gt_ingredients_multi,\n",
    "                                           vocab, all_ingredients_lst)"
   ]
  },
  {
   "cell_type": "markdown",
   "metadata": {},
   "source": [
    "### With Neurologic Decoding"
   ]
  },
  {
   "cell_type": "markdown",
   "metadata": {},
   "source": [
    "! WARNING: this code takes around 20-30 mins to run"
   ]
  },
  {
   "cell_type": "code",
   "execution_count": 46,
   "metadata": {},
   "outputs": [
    {
     "name": "stderr",
     "output_type": "stream",
     "text": [
      "100%|██████████| 774/774 [16:36<00:00,  1.29s/it]\n"
     ]
    }
   ],
   "source": [
    "k=3\n",
    "alpha=50 # likelihood\n",
    "beta = 2 # num constraints satisfied\n",
    "neg_constraint_penalty, likelihood_penalty, low_irr_satisfaction_penalty = 10, 0.5, 0.5\n",
    "lam = 5.0\n",
    "\n",
    "all_decoder_outs, all_gt_recipes, all_gt_ings = eval_neuro_decoding(\n",
    "    encoder_multilayer_attn, decoder_multilayer_attn, test_ds, vocab, all_ingredients_lst, k=k, alpha=alpha, beta=beta, \n",
    "    neg_constraint_penalty=neg_constraint_penalty, likelihood_penalty=likelihood_penalty, \n",
    "    low_irr_satisfaction_penalty=low_irr_satisfaction_penalty, lam=lam)\n"
   ]
  },
  {
   "cell_type": "code",
   "execution_count": 47,
   "metadata": {},
   "outputs": [
    {
     "data": {
      "text/plain": [
       "0.05810241560787664"
      ]
     },
     "execution_count": 47,
     "metadata": {},
     "output_type": "execute_result"
    }
   ],
   "source": [
    "calc_bleu(all_gt_recipes, all_decoder_outs)"
   ]
  },
  {
   "cell_type": "code",
   "execution_count": 48,
   "metadata": {},
   "outputs": [
    {
     "name": "stderr",
     "output_type": "stream",
     "text": [
      "100%|██████████| 774/774 [00:01<00:00, 712.33it/s]\n"
     ]
    },
    {
     "data": {
      "text/plain": [
       "0.23339527798724602"
      ]
     },
     "execution_count": 48,
     "metadata": {},
     "output_type": "execute_result"
    }
   ],
   "source": [
    "calc_meteor(all_gt_recipes, all_decoder_outs, split_gt=False)"
   ]
  },
  {
   "cell_type": "code",
   "execution_count": 49,
   "metadata": {},
   "outputs": [
    {
     "name": "stderr",
     "output_type": "stream",
     "text": [
      "774it [00:00, 1072.67it/s]"
     ]
    },
    {
     "name": "stdout",
     "output_type": "stream",
     "text": [
      "Avg. % given ingredients: 79.462%\n",
      "Avg. number of extra ingredients: 0.274\n"
     ]
    },
    {
     "name": "stderr",
     "output_type": "stream",
     "text": [
      "\n"
     ]
    }
   ],
   "source": [
    "convert_eval_out_to_get_ingredient_metrics(all_decoder_outs, all_gt_ings,\n",
    "                                           vocab, all_ingredients_lst, skip_ing_processing=True)"
   ]
  },
  {
   "cell_type": "markdown",
   "metadata": {},
   "source": [
    "---"
   ]
  },
  {
   "cell_type": "markdown",
   "metadata": {},
   "source": [
    "## Metric Sample"
   ]
  },
  {
   "cell_type": "code",
   "execution_count": 51,
   "metadata": {},
   "outputs": [],
   "source": [
    "all_ings = get_all_ingredients(\"./ingredient_set.json\")\n",
    "all_ings_regex = get_ingredients_regex(all_ings)\n",
    "metric_sample_ings, metric_sample_gold_recipe, metric_sample_generated_recipe = \\\n",
    "    load_metric_sample(\"./metric_sample.txt\")"
   ]
  },
  {
   "cell_type": "code",
   "execution_count": 52,
   "metadata": {},
   "outputs": [
    {
     "name": "stdout",
     "output_type": "stream",
     "text": [
      "=====Input ingredients in text=====\n",
      "['lemon juice', 'orange juice', 'water', 'sugar', 'strawberries']\n",
      "\n",
      "=====All ingredients in text===== \n",
      "['lemon juice', 'orange juice', 'water', 'cantaloupe', 'vanilla ice cream', 'sugar', 'strawberries']\n",
      "\n",
      "proportion of input ingredients: 1.0\n",
      "number of extra ingredients: 2\n"
     ]
    }
   ],
   "source": [
    "prop_inp_ings, n_extra_ings = get_prop_input_num_extra_ingredients_m(\n",
    "    metric_sample_ings, metric_sample_generated_recipe, all_ings_regex, verbose=True)\n",
    "print(f\"\\nproportion of input ingredients: {prop_inp_ings}\\nnumber of extra ingredients: {n_extra_ings}\")"
   ]
  },
  {
   "cell_type": "code",
   "execution_count": 55,
   "metadata": {},
   "outputs": [
    {
     "name": "stderr",
     "output_type": "stream",
     "text": [
      "  0%|          | 0/1 [00:00<?, ?it/s]"
     ]
    },
    {
     "name": "stderr",
     "output_type": "stream",
     "text": [
      "100%|██████████| 1/1 [00:00<00:00, 458.90it/s]"
     ]
    },
    {
     "name": "stdout",
     "output_type": "stream",
     "text": [
      "BLEU score: 0.2757364975156813, METEOR score: 0.5479209577754892\n"
     ]
    },
    {
     "name": "stderr",
     "output_type": "stream",
     "text": [
      "\n"
     ]
    }
   ],
   "source": [
    "bleu_score = calc_bleu([metric_sample_gold_recipe], [metric_sample_generated_recipe], split_gt=True, split_gen=True)\n",
    "meteor_score = calc_meteor([metric_sample_gold_recipe], [metric_sample_generated_recipe], split_gt=True, split_gen=True)\n",
    "print(f\"BLEU score: {bleu_score}, METEOR score: {meteor_score}\")"
   ]
  },
  {
   "cell_type": "markdown",
   "metadata": {},
   "source": [
    "---"
   ]
  },
  {
   "cell_type": "markdown",
   "metadata": {},
   "source": [
    "# Qualitative Evaluation"
   ]
  },
  {
   "cell_type": "code",
   "execution_count": 29,
   "metadata": {},
   "outputs": [],
   "source": [
    "ingredients_sample_orig = \"2 c sugar, 1/4 c lemon juice, 1 c water, 1/3 c orange juice, 8 c strawberries\""
   ]
  },
  {
   "cell_type": "markdown",
   "metadata": {},
   "source": [
    "perform relevant preprocessing steps (note: these operations are taken from `preprocess_data` and is the same preprocessing done on the dataset)"
   ]
  },
  {
   "cell_type": "code",
   "execution_count": null,
   "metadata": {},
   "outputs": [],
   "source": [
    "def prepare_qual_ingredients()"
   ]
  },
  {
   "cell_type": "code",
   "execution_count": 30,
   "metadata": {},
   "outputs": [],
   "source": [
    "ingredients_sample = re.sub(\"([^0-9a-zA-Z.'\\\"/ ])\", r\" \\1 \", ingredients_sample_orig)\n",
    "ingredients_sample = '<INGREDIENT_START> ' + ingredients_sample + ' <INGREDIENT_END>'\n",
    "ingredients_sample = re.sub('[ ]{2,}', \" \", ingredients_sample)"
   ]
  },
  {
   "cell_type": "code",
   "execution_count": 32,
   "metadata": {},
   "outputs": [
    {
     "data": {
      "text/plain": [
       "'<INGREDIENT_START> 2 c sugar , 1/4 c lemon juice , 1 c water , 1/3 c orange juice , 8 c strawberries <INGREDIENT_END>'"
      ]
     },
     "execution_count": 32,
     "metadata": {},
     "output_type": "execute_result"
    }
   ],
   "source": [
    "ingredients_sample"
   ]
  },
  {
   "cell_type": "code",
   "execution_count": 37,
   "metadata": {},
   "outputs": [],
   "source": [
    "ingredients_sample_idxs = torch.tensor([vocab.word2index(w) for w in ingredients_sample.split(\" \")],\n",
    "                                       dtype=torch.long, device=DEVICE)\n",
    "# convert to batch form with batch size 1 as model is expecting batched input\n",
    "ingredients_sample_idxs = ingredients_sample_idxs[None] "
   ]
  },
  {
   "cell_type": "code",
   "execution_count": 38,
   "metadata": {},
   "outputs": [
    {
     "data": {
      "text/plain": [
       "tensor([[   0,   22,   12,   16,   78,   32,   12,  641,  900,   78,   17,   12,\n",
       "          311,   78,  235,   12,  791,  900,   78,  385,   12, 1218,    1]],\n",
       "       device='cuda:0')"
      ]
     },
     "execution_count": 38,
     "metadata": {},
     "output_type": "execute_result"
    }
   ],
   "source": [
    "ingredients_sample_idxs"
   ]
  },
  {
   "cell_type": "code",
   "execution_count": 39,
   "metadata": {},
   "outputs": [],
   "source": [
    "ingr_lens = torch.tensor([len(x) for x in ingredients_sample_idxs], dtype=torch.long, device=DEVICE)"
   ]
  },
  {
   "cell_type": "code",
   "execution_count": 40,
   "metadata": {},
   "outputs": [
    {
     "data": {
      "text/plain": [
       "tensor([23], device='cuda:0')"
      ]
     },
     "execution_count": 40,
     "metadata": {},
     "output_type": "execute_result"
    }
   ],
   "source": [
    "ingr_lens"
   ]
  },
  {
   "cell_type": "code",
   "execution_count": 41,
   "metadata": {},
   "outputs": [],
   "source": [
    "qual_res_basic = get_predictions_iter(ingredients_sample_idxs, ingr_lens, encoder, decoder,\n",
    "                                        vocab)"
   ]
  },
  {
   "cell_type": "code",
   "execution_count": 43,
   "metadata": {},
   "outputs": [
    {
     "data": {
      "text/plain": [
       "'<RECIPE_START> combine sugar , cornstarch and water in a saucepan bring to a boil , stirring constantly boil for 1 minute remove from heat and stir in lemon juice and lemon juice pour into a large bowl and stir in the orange juice and lemon juice pour into a large bowl and stir in the orange juice and lemon juice pour into a large bowl and chill <RECIPE_END>'"
      ]
     },
     "execution_count": 43,
     "metadata": {},
     "output_type": "execute_result"
    }
   ],
   "source": [
    "' '.join(qual_res_basic[0])"
   ]
  },
  {
   "cell_type": "code",
   "execution_count": 60,
   "metadata": {},
   "outputs": [],
   "source": [
    "qual_res_attn = get_predictions_iter(ingredients_sample_idxs, ingr_lens, encoder_attn, decoder_attn,\n",
    "                                    vocab, decoder_mode=\"attention\")"
   ]
  },
  {
   "cell_type": "code",
   "execution_count": 62,
   "metadata": {},
   "outputs": [
    {
     "data": {
      "text/plain": [
       "'<RECIPE_START> combine sugar , water , lemon juice and salt in a saucepan bring to a boil , stirring constantly boil for 5 minutes , stirring constantly remove from heat and stir in lemon juice and pour into a sterilized jars seal and store in refrigerator <RECIPE_END>'"
      ]
     },
     "execution_count": 62,
     "metadata": {},
     "output_type": "execute_result"
    }
   ],
   "source": [
    "' '.join(qual_res_attn[0])"
   ]
  },
  {
   "cell_type": "code",
   "execution_count": 63,
   "metadata": {},
   "outputs": [],
   "source": [
    "qual_res_attn_pre_embed = get_predictions_iter(\n",
    "    ingredients_sample_idxs, ingr_lens, encoder_pretrained_embed, decoder_pretrained_embed,\n",
    "    vocab, decoder_mode=\"attention\")"
   ]
  },
  {
   "cell_type": "code",
   "execution_count": 65,
   "metadata": {},
   "outputs": [
    {
     "data": {
      "text/plain": [
       "'<RECIPE_START> combine sugar , water , and lemon juice in a saucepan bring to a boil over medium heat , stirring constantly , until sugar dissolves remove from heat and cool to room temperature add vanilla and mix well chill <RECIPE_END>'"
      ]
     },
     "execution_count": 65,
     "metadata": {},
     "output_type": "execute_result"
    }
   ],
   "source": [
    "' '.join(qual_res_attn_pre_embed[0])"
   ]
  }
 ],
 "metadata": {
  "kernelspec": {
   "display_name": "nlp",
   "language": "python",
   "name": "python3"
  },
  "language_info": {
   "codemirror_mode": {
    "name": "ipython",
    "version": 3
   },
   "file_extension": ".py",
   "mimetype": "text/x-python",
   "name": "python",
   "nbconvert_exporter": "python",
   "pygments_lexer": "ipython3",
   "version": "3.9.19"
  }
 },
 "nbformat": 4,
 "nbformat_minor": 2
}
