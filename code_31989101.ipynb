{
 "cells": [
  {
   "cell_type": "markdown",
   "metadata": {},
   "source": [
    "**Name**: Michelle Adeline\n",
    "\n",
    "**Student ID**: 31989101"
   ]
  },
  {
   "cell_type": "markdown",
   "metadata": {},
   "source": [
    "### Download required packages"
   ]
  },
  {
   "cell_type": "code",
   "execution_count": 1,
   "metadata": {},
   "outputs": [],
   "source": [
    "# !pip3 install torch numpy matplotlib pandas tqdm"
   ]
  },
  {
   "cell_type": "code",
   "execution_count": 1,
   "metadata": {},
   "outputs": [
    {
     "name": "stderr",
     "output_type": "stream",
     "text": [
      "--2024-05-20 11:51:36--  https://raw.githubusercontent.com/williamLyh/RecipeWithPlans/main/ingredient_set.json\n",
      "Resolving raw.githubusercontent.com (raw.githubusercontent.com)... 2606:50c0:8000::154, 2606:50c0:8003::154, 2606:50c0:8002::154, ...\n",
      "Connecting to raw.githubusercontent.com (raw.githubusercontent.com)|2606:50c0:8000::154|:443... connected.\n",
      "HTTP request sent, awaiting response... 200 OK\n",
      "Length: 16759 (16K) [text/plain]\n",
      "Saving to: 'ingredient_set.json'\n",
      "\n",
      "     0K .......... ......                                     100% 1.50M=0.01s\n",
      "\n",
      "2024-05-20 11:51:37 (1.50 MB/s) - 'ingredient_set.json' saved [16759/16759]\n",
      "\n"
     ]
    }
   ],
   "source": []
  },
  {
   "cell_type": "markdown",
   "metadata": {},
   "source": [
    "### Imports and Constants"
   ]
  },
  {
   "cell_type": "code",
   "execution_count": 1,
   "metadata": {},
   "outputs": [
    {
     "name": "stdout",
     "output_type": "stream",
     "text": [
      "Using device: cpu\n"
     ]
    }
   ],
   "source": [
    "import os\n",
    "import random\n",
    "import numpy as np\n",
    "import pandas as pd\n",
    "import matplotlib.pyplot as plt\n",
    "import torch\n",
    "from torch import nn, optim\n",
    "import torch.nn.functional as F\n",
    "from torch.utils.data import Dataset, DataLoader\n",
    "from torch.nn.utils.rnn import pad_sequence, pack_padded_sequence, pad_packed_sequence\n",
    "from tqdm import tqdm\n",
    "\n",
    "SEED = 31989101\n",
    "HIDDEN_SIZE = 256\n",
    "TEACHER_FORCING_RATIO = 1.0\n",
    "DROPOUT_RATE = 0.1\n",
    "MAX_INGR_LEN = 150\n",
    "DEVICE = torch.device(\"cuda\" if torch.cuda.is_available() else \"cpu\")\n",
    "\n",
    "## ensuring reproducibility\n",
    "torch.manual_seed(SEED)\n",
    "np.random.seed(SEED)\n",
    "random.seed(SEED)\n",
    "\n",
    "print(f\"Using device: {DEVICE}\")"
   ]
  },
  {
   "cell_type": "code",
   "execution_count": 2,
   "metadata": {},
   "outputs": [],
   "source": [
    "# to easily read ingredients and instructions\n",
    "pd.set_option('display.max_colwidth', 2000)"
   ]
  },
  {
   "cell_type": "markdown",
   "metadata": {},
   "source": [
    "# Data Loading and Preprocessing"
   ]
  },
  {
   "cell_type": "code",
   "execution_count": 3,
   "metadata": {},
   "outputs": [],
   "source": [
    "data_root = \"./Cooking_Dataset\""
   ]
  },
  {
   "cell_type": "code",
   "execution_count": 4,
   "metadata": {},
   "outputs": [],
   "source": [
    "train = pd.read_csv(os.path.join(data_root, \"train.csv\"), usecols=['Ingredients', 'Recipe'])\n",
    "dev = pd.read_csv(os.path.join(data_root, \"dev.csv\"), usecols=['Ingredients', 'Recipe'])\n",
    "test = pd.read_csv(os.path.join(data_root, \"test.csv\"), usecols=['Ingredients', 'Recipe'])"
   ]
  },
  {
   "cell_type": "code",
   "execution_count": 5,
   "metadata": {},
   "outputs": [
    {
     "data": {
      "text/html": [
       "<div>\n",
       "<style scoped>\n",
       "    .dataframe tbody tr th:only-of-type {\n",
       "        vertical-align: middle;\n",
       "    }\n",
       "\n",
       "    .dataframe tbody tr th {\n",
       "        vertical-align: top;\n",
       "    }\n",
       "\n",
       "    .dataframe thead th {\n",
       "        text-align: right;\n",
       "    }\n",
       "</style>\n",
       "<table border=\"1\" class=\"dataframe\">\n",
       "  <thead>\n",
       "    <tr style=\"text-align: right;\">\n",
       "      <th></th>\n",
       "      <th>Ingredients</th>\n",
       "      <th>Recipe</th>\n",
       "    </tr>\n",
       "  </thead>\n",
       "  <tbody>\n",
       "    <tr>\n",
       "      <th>0</th>\n",
       "      <td>6 tb butter or margarine - softened\\t3/4 c  c and h powdered sugar\\t1 c  all-purpose flour\\t1 tb milk\\t2    eggs\\t1 c  c and h granulated sugar\\t1/2 c  cocoa\\t2 tb flour\\t1/2 ts baking powder\\t1/2 ts salt\\t1 ts vanilla\\t1/4 ts almond extract (optional)\\t1 c  chopped almonds or pecans</td>\n",
       "      <td>cream together butter and powdered sugar . blend in 1 cup flour and milk . spread evenly in bottom of ungreased 9-inch square pan . bake in 350 degree oven 10 to 12 minutes . beat eggs slightly ; combine dry ingredients and add to eggs . blend in vanilla and almond extract ; fold in almonds . spread over hot baked layer ; return to oven and bake 20 minutes longer . cool ; while warm , cut into 24 bars .</td>\n",
       "    </tr>\n",
       "    <tr>\n",
       "      <th>1</th>\n",
       "      <td>1 c  vanilla wafer cookies, finely crushed\\t1 c  confectioner's sugar\\t2 tb cocoa\\t1 c  pecans, finely chopped\\t2 tb corn syrup\\t1/2 c  bourbon</td>\n",
       "      <td>combine dry ingredients and mix well . add corn syrup and bourbon and mix well . if too moist add a few cookie crumbs , if too dry add a little more bourbon . shape into small balls and roll in fruit sugar or fonely chopped pecans . store in an airtight container . also good made with dark rum .</td>\n",
       "    </tr>\n",
       "    <tr>\n",
       "      <th>2</th>\n",
       "      <td>1 c  all-purpose flour\\t1/2 c  sugar\\t2 ts baking powder\\t1/2 ts salt\\t2 tb unsweetened cocoa powder\\t1 1/2 c  all-bran? cereal\\t3/4 c  skim milk\\t2    egg whites\\t1/4 c  vegetable oil\\t1 c  sliced ripe banana; (about 1\\tvegetable cooking spray</td>\n",
       "      <td>kellogg 's all-bran 1 . stir together flour , sugar , baking powder , salt , and cocoa powder . set aside . in large mixing bowl , combine all-bran cereal and milk . let stand 5 minutes or until cereal softens . add egg whites and oil . beat well . stir in bananas . add flour mixture stirring only until combined . portion batte evenly into twelve 2-1/2 inch muffin-pan cups coated with cooking spray . bake at 400 f. about 25 minutes or until lightly browned . serve warm .</td>\n",
       "    </tr>\n",
       "    <tr>\n",
       "      <th>3</th>\n",
       "      <td>5 1/2 c  flour\\t1    cake compressed yeast\\tor 1  cake dry yeast\\t2 c  milk, scalded and cooled\\t1/2 ts salt\\t1/2 c  cocoa\\t1/4 c  shortening\\t2    eggs, well beaten\\t1/2 c  sugar</td>\n",
       "      <td>soften yeast and dissolve 1 tablespoon sugar in lukewarm milk . add 3 cups flour and beat until smooth . cover and set aside to rise in a warm place until light . add shortening and sugar , which have been creamed together , eggs , cocoa , salt , and remainder of flour or enough to make a soft dough . knead lightly and place in well-oiled bowl . cover and set in a warm place until double in bulk about 2 hours . form into loaves . place in well-oiled bread pans , filling them 1/2 full . cover and let rise again until double in bulk . bake in hot oven -lrb- 425 f -rrb- 40 50 minutes . 2 loaves .</td>\n",
       "    </tr>\n",
       "    <tr>\n",
       "      <th>4</th>\n",
       "      <td>bread -- to fill dish 2/3\\tful\\t2 c  skim milk\\t2/3 c  sugar\\t2    eggs -- or 4 egg whites\\t2 tb cocoa\\t1 ts vanilla</td>\n",
       "      <td>into a greased casserole dish break up enough bread to fill it 2/3 full . over this pour 2/3 cup sugar , 2 heaping tbsp cocoa that have been mixed together . toss all together lightly -lrb- to coat the bread -rrb- . to 2 cups of milk add 2 well beaten eggs and 1 tsp vanilla . pour this over the bread and it should just cover the pieces . bake at 350 fo r about 45 minutes .</td>\n",
       "    </tr>\n",
       "  </tbody>\n",
       "</table>\n",
       "</div>"
      ],
      "text/plain": [
       "                                                                                                                                                                                                                                                                                    Ingredients  \\\n",
       "0  6 tb butter or margarine - softened\\t3/4 c  c and h powdered sugar\\t1 c  all-purpose flour\\t1 tb milk\\t2    eggs\\t1 c  c and h granulated sugar\\t1/2 c  cocoa\\t2 tb flour\\t1/2 ts baking powder\\t1/2 ts salt\\t1 ts vanilla\\t1/4 ts almond extract (optional)\\t1 c  chopped almonds or pecans   \n",
       "1                                                                                                                                               1 c  vanilla wafer cookies, finely crushed\\t1 c  confectioner's sugar\\t2 tb cocoa\\t1 c  pecans, finely chopped\\t2 tb corn syrup\\t1/2 c  bourbon   \n",
       "2                                          1 c  all-purpose flour\\t1/2 c  sugar\\t2 ts baking powder\\t1/2 ts salt\\t2 tb unsweetened cocoa powder\\t1 1/2 c  all-bran? cereal\\t3/4 c  skim milk\\t2    egg whites\\t1/4 c  vegetable oil\\t1 c  sliced ripe banana; (about 1\\tvegetable cooking spray   \n",
       "3                                                                                                           5 1/2 c  flour\\t1    cake compressed yeast\\tor 1  cake dry yeast\\t2 c  milk, scalded and cooled\\t1/2 ts salt\\t1/2 c  cocoa\\t1/4 c  shortening\\t2    eggs, well beaten\\t1/2 c  sugar   \n",
       "4                                                                                                                                                                          bread -- to fill dish 2/3\\tful\\t2 c  skim milk\\t2/3 c  sugar\\t2    eggs -- or 4 egg whites\\t2 tb cocoa\\t1 ts vanilla   \n",
       "\n",
       "                                                                                                                                                                                                                                                                                                                                                                                                                                                                                                                                                                                                                      Recipe  \n",
       "0                                                                                                                                                                                                    cream together butter and powdered sugar . blend in 1 cup flour and milk . spread evenly in bottom of ungreased 9-inch square pan . bake in 350 degree oven 10 to 12 minutes . beat eggs slightly ; combine dry ingredients and add to eggs . blend in vanilla and almond extract ; fold in almonds . spread over hot baked layer ; return to oven and bake 20 minutes longer . cool ; while warm , cut into 24 bars .   \n",
       "1                                                                                                                                                                                                                                                                                                                  combine dry ingredients and mix well . add corn syrup and bourbon and mix well . if too moist add a few cookie crumbs , if too dry add a little more bourbon . shape into small balls and roll in fruit sugar or fonely chopped pecans . store in an airtight container . also good made with dark rum .   \n",
       "2                                                                                                                               kellogg 's all-bran 1 . stir together flour , sugar , baking powder , salt , and cocoa powder . set aside . in large mixing bowl , combine all-bran cereal and milk . let stand 5 minutes or until cereal softens . add egg whites and oil . beat well . stir in bananas . add flour mixture stirring only until combined . portion batte evenly into twelve 2-1/2 inch muffin-pan cups coated with cooking spray . bake at 400 f. about 25 minutes or until lightly browned . serve warm .   \n",
       "3  soften yeast and dissolve 1 tablespoon sugar in lukewarm milk . add 3 cups flour and beat until smooth . cover and set aside to rise in a warm place until light . add shortening and sugar , which have been creamed together , eggs , cocoa , salt , and remainder of flour or enough to make a soft dough . knead lightly and place in well-oiled bowl . cover and set in a warm place until double in bulk about 2 hours . form into loaves . place in well-oiled bread pans , filling them 1/2 full . cover and let rise again until double in bulk . bake in hot oven -lrb- 425 f -rrb- 40 50 minutes . 2 loaves .   \n",
       "4                                                                                                                                                                                                                                   into a greased casserole dish break up enough bread to fill it 2/3 full . over this pour 2/3 cup sugar , 2 heaping tbsp cocoa that have been mixed together . toss all together lightly -lrb- to coat the bread -rrb- . to 2 cups of milk add 2 well beaten eggs and 1 tsp vanilla . pour this over the bread and it should just cover the pieces . bake at 350 fo r about 45 minutes .   "
      ]
     },
     "execution_count": 5,
     "metadata": {},
     "output_type": "execute_result"
    }
   ],
   "source": [
    "train.head()"
   ]
  },
  {
   "cell_type": "markdown",
   "metadata": {},
   "source": [
    "`dev` and `test` are all lowercase already. `train` supposedly has 2 rows containing non-lowercase letters. Let's investigate them"
   ]
  },
  {
   "cell_type": "markdown",
   "metadata": {},
   "source": [
    "Only 2 rows in Ingredients have non lowercase letters but upon investigation, both are invalid rows so can simply remove them."
   ]
  },
  {
   "cell_type": "code",
   "execution_count": 6,
   "metadata": {},
   "outputs": [],
   "source": [
    "def check_all_lowercase(df):\n",
    "    ingrnonlower = (~df.Ingredients.dropna().str.islower()).sum()\n",
    "    recipenonlower = (~df.Recipe.dropna().str.islower()).sum()\n",
    "    print(f\"Number of rows with a non-lowercase letter:\\nIngredients: {ingrnonlower}\\nRecipe: {recipenonlower}\")"
   ]
  },
  {
   "cell_type": "code",
   "execution_count": 7,
   "metadata": {},
   "outputs": [
    {
     "name": "stdout",
     "output_type": "stream",
     "text": [
      "Number of rows with a non-lowercase letter:\n",
      "Ingredients: 2\n",
      "Recipe: 0\n"
     ]
    }
   ],
   "source": [
    "check_all_lowercase(train)"
   ]
  },
  {
   "cell_type": "code",
   "execution_count": 8,
   "metadata": {},
   "outputs": [
    {
     "name": "stdout",
     "output_type": "stream",
     "text": [
      "Number of rows with a non-lowercase letter:\n",
      "Ingredients: 0\n",
      "Recipe: 0\n"
     ]
    }
   ],
   "source": [
    "check_all_lowercase(dev)"
   ]
  },
  {
   "cell_type": "code",
   "execution_count": 9,
   "metadata": {},
   "outputs": [
    {
     "name": "stdout",
     "output_type": "stream",
     "text": [
      "Number of rows with a non-lowercase letter:\n",
      "Ingredients: 0\n",
      "Recipe: 0\n"
     ]
    }
   ],
   "source": [
    "check_all_lowercase(test)"
   ]
  },
  {
   "cell_type": "markdown",
   "metadata": {},
   "source": [
    "We can see that the only two rows with non-lowercase letters have invalid Ingredients lists so we can simply filter them out."
   ]
  },
  {
   "cell_type": "code",
   "execution_count": 10,
   "metadata": {},
   "outputs": [
    {
     "data": {
      "text/html": [
       "<div>\n",
       "<style scoped>\n",
       "    .dataframe tbody tr th:only-of-type {\n",
       "        vertical-align: middle;\n",
       "    }\n",
       "\n",
       "    .dataframe tbody tr th {\n",
       "        vertical-align: top;\n",
       "    }\n",
       "\n",
       "    .dataframe thead th {\n",
       "        text-align: right;\n",
       "    }\n",
       "</style>\n",
       "<table border=\"1\" class=\"dataframe\">\n",
       "  <thead>\n",
       "    <tr style=\"text-align: right;\">\n",
       "      <th></th>\n",
       "      <th>Ingredients</th>\n",
       "      <th>Recipe</th>\n",
       "    </tr>\n",
       "  </thead>\n",
       "  <tbody>\n",
       "    <tr>\n",
       "      <th>7415</th>\n",
       "      <td>=-=-=-=-=-=-=-=-=-=-=-=-=-=-\\t--=-=-=-=-=-= =-=-=-=-=-=-=-=-=-=-=-=-=-=</td>\n",
       "      <td>follow these 20 `` wellness '' facts and you have a better chance of living a longer and healthier life . michaelangelo was carving the rondanini just before he died at 89 . verdi finished his opera falstaff at 80 . but among non-smokers the risk of one form of lung cancer , adenocarcinoma , increases with the amount of saturated consumed daily . according to the `` new england journal of medicine '' women who have a female physician are twice as likely to receive pap smears . air bags increase the chance of surviving a frontal collision 29 % . about half of adult pedestrians killed in traffic accidents have been drinking . and more than a third were legally drunk . even a two-inch heel increases the pressure to 57 % . half a cantaloupe contains nearly double the amount of vitamin c than an orange . wild animals normally do n't get fat , and their meat is only slightly marbled . try increased fiber and prunes for constipation . researchers believe prunes contain a substance that stimulates intestinal contractions . but if you have asthma , they 're a special hazard . but because it 's `` low-fat '' does n't mean you can eat all you want . so high in calories . growing up is optional</td>\n",
       "    </tr>\n",
       "    <tr>\n",
       "      <th>11772</th>\n",
       "      <td>..........................</td>\n",
       "      <td>though it 's been around a long time , there 's something almost quintessentially american about the sandwich . after all it was the gambling table that prompted the fourth earl of sandwich -lrb- 1718-1792 -rrb- to have his food served to him between two slices of bread so he would n't have to interrupt his gaming to eat . actually though people were munching on various foods stuffed between slabs of bread long before the earl came into the picture .</td>\n",
       "    </tr>\n",
       "  </tbody>\n",
       "</table>\n",
       "</div>"
      ],
      "text/plain": [
       "                                                                   Ingredients  \\\n",
       "7415   =-=-=-=-=-=-=-=-=-=-=-=-=-=-\\t--=-=-=-=-=-= =-=-=-=-=-=-=-=-=-=-=-=-=-=   \n",
       "11772                                               ..........................   \n",
       "\n",
       "                                                                                                                                                                                                                                                                                                                                                                                                                                                                                                                                                                                                                                                                                                                                                                                                                                                                                                                                                                                                                                                                                                                                                                                                                                                   Recipe  \n",
       "7415   follow these 20 `` wellness '' facts and you have a better chance of living a longer and healthier life . michaelangelo was carving the rondanini just before he died at 89 . verdi finished his opera falstaff at 80 . but among non-smokers the risk of one form of lung cancer , adenocarcinoma , increases with the amount of saturated consumed daily . according to the `` new england journal of medicine '' women who have a female physician are twice as likely to receive pap smears . air bags increase the chance of surviving a frontal collision 29 % . about half of adult pedestrians killed in traffic accidents have been drinking . and more than a third were legally drunk . even a two-inch heel increases the pressure to 57 % . half a cantaloupe contains nearly double the amount of vitamin c than an orange . wild animals normally do n't get fat , and their meat is only slightly marbled . try increased fiber and prunes for constipation . researchers believe prunes contain a substance that stimulates intestinal contractions . but if you have asthma , they 're a special hazard . but because it 's `` low-fat '' does n't mean you can eat all you want . so high in calories . growing up is optional   \n",
       "11772                                                                                                                                                                                                                                                                                                                                                                                                                                                                                                                                                                                                                                                                                                                                                                             though it 's been around a long time , there 's something almost quintessentially american about the sandwich . after all it was the gambling table that prompted the fourth earl of sandwich -lrb- 1718-1792 -rrb- to have his food served to him between two slices of bread so he would n't have to interrupt his gaming to eat . actually though people were munching on various foods stuffed between slabs of bread long before the earl came into the picture .   "
      ]
     },
     "execution_count": 10,
     "metadata": {},
     "output_type": "execute_result"
    }
   ],
   "source": [
    "train[~train.Ingredients.str.islower()]"
   ]
  },
  {
   "cell_type": "markdown",
   "metadata": {},
   "source": [
    "make sure to:\n",
    "- remove brackets\n",
    "- make all lowercase\n",
    "- add spaces around non-words (punctuations, numbers, etc.)\n",
    "- remove >1 space (only leave behind 1 space), \n",
    "- remove leading and trailing whitespace\n",
    "- add tags\n",
    "- remove cases where <INGREDIENT>[0 or more whitespace]<INGREDIENT>, or <INGREDIENT>[0 or more whitespace]<INGREDIENT_END>, or <RECIPE_STEP>[0 or more whitespace]<RECIPE_STEP>, or <RECIPE_STEP>[0 or more whitespace]<RECIPE_END>.\n",
    "- filter instructions more than length X (find percentile len), or less than 3 words.\n",
    "- remove those with <1 ingredient\n",
    "\n",
    "\n",
    "maybe try removing punctuation all together. (but in the sample there is punctuation hmmm)"
   ]
  },
  {
   "cell_type": "code",
   "execution_count": 11,
   "metadata": {},
   "outputs": [],
   "source": [
    "def replace(df, patterns, replacements, columns, regex=False):\n",
    "    # patterns: List[str]\n",
    "    # replacements: List[str]\n",
    "    # columns: List[str]\n",
    "    if type(replacements) == str:\n",
    "        replacements = [replacements] * len(patterns)\n",
    "    if type(columns) == str:\n",
    "        columns = [columns] * len(patterns)\n",
    "\n",
    "    for pat, rep, col in zip(patterns, replacements, columns):\n",
    "        df[col] = df[col].str.replace(pat, rep, regex=regex)\n",
    "\n",
    "\n",
    "def add_tags(df):\n",
    "    assert 'Ingredients' in df.columns and 'Recipe' in df.columns\n",
    "\n",
    "    replace(df, ['\\t'], ' <INGREDIENT> ', 'Ingredients')\n",
    "    df.Ingredients = '<INGREDIENT_START> ' + df.Ingredients + ' <INGREDIENT_END>'\n",
    "\n",
    "    replace(df, ['.', ';'], ' <RECIPE_STEP> ', 'Recipe')\n",
    "    df.Recipe = '<RECIPE_START> ' + df.Recipe + ' <RECIPE_END>'\n",
    "\n",
    "def preprocess_data(orig_df, max_ingr_len=150, max_recipe_len=600, min_recipe_len=5, min_ingredients=1):\n",
    "    df = orig_df.copy() # ensure original data is not mutated (mostly for verification purposes)\n",
    "\n",
    "    ## drop NA\n",
    "    df = df.dropna()\n",
    "\n",
    "    ## keep only rows with all lowercase (Recipe column is all lowercase already)\n",
    "    df = df[df.Ingredients.str.islower()]\n",
    "\n",
    "    ## replace brackets with space\n",
    "    replace(df, ['[()]'], ' ', ['Ingredients', 'Recipe'], regex=True)\n",
    "\n",
    "    ## add spaces around non-words (exclude whitespace, apostrophe, period (treated separately below))\n",
    "    replace(df, [\"([^0-9a-zA-Z.'\\\"/ ])\"]*2, r\" \\1 \", ['Ingredients', 'Recipe'], regex=True)\n",
    "    # add spaces around periods (excluding decimal places)\n",
    "    replace(df, [r\"\\.(?!\\d)\"]*2, r\" . \", ['Ingredients', 'Recipe'], regex=True)\n",
    "\n",
    "    ## add tags for ingredients and recipes\n",
    "    add_tags(df)\n",
    "\n",
    "    ## replace >1 whitespace with a single space\n",
    "    replace(df, ['[ ]{2,}']*2, \" \", ['Ingredients', 'Recipe'], regex=True)\n",
    "\n",
    "    ## remove leading and trailing whitespace\n",
    "    df.Ingredients = df.Ingredients.str.strip()\n",
    "    df.Recipe = df.Recipe.str.strip()\n",
    "\n",
    "    ## remove consecutive tags, for ex. <INGREDIENT>[0 or more whitespace]<INGREDIENT>\n",
    "    replace(df, [\"<INGREDIENT>[ \\t\\n]*([ \\t\\n]*<INGREDIENT>)+\", \"<RECIPE_STEP>[ \\t\\n]*([ \\t\\n]*<RECIPE_STEP>)+\"], \n",
    "    [\"<INGREDIENT>\", \"<RECIPE_STEP>\"], [\"Ingredients\", \"Recipe\"], regex=True)\n",
    "\n",
    "    ## filter out recipes and ingredients above/below limit\n",
    "    recipe_lens = df.Recipe.apply(lambda r: len(r.split()))\n",
    "    df = df[(recipe_lens > min_recipe_len) & (recipe_lens < max_recipe_len)]\n",
    "    df = df[df.Ingredients.apply(lambda i: len(i.split())) < max_ingr_len]\n",
    "\n",
    "    ## filter out those with <1 ingredients\n",
    "    df = df[df.Ingredients.str.count('<INGREDIENT>') >= min_ingredients]\n",
    "\n",
    "    print(f\"Number of data samples before preprocessing: {len(orig_df)}\\n\"\n",
    "          f\"Number of data samples after preprocessing: {len(df)} ({len(df) * 100/len(orig_df):.3f}%)\")\n",
    "\n",
    "    return df"
   ]
  },
  {
   "cell_type": "code",
   "execution_count": 12,
   "metadata": {},
   "outputs": [
    {
     "name": "stdout",
     "output_type": "stream",
     "text": [
      "Number of data samples before preprocessing: 101340\n",
      "Number of data samples after preprocessing: 99036 (97.726%)\n"
     ]
    }
   ],
   "source": [
    "df = preprocess_data(train)"
   ]
  },
  {
   "cell_type": "markdown",
   "metadata": {},
   "source": [
    "#### Preprocess testing (remove later)"
   ]
  },
  {
   "cell_type": "code",
   "execution_count": null,
   "metadata": {},
   "outputs": [],
   "source": [
    "df = train.copy()"
   ]
  },
  {
   "cell_type": "code",
   "execution_count": null,
   "metadata": {},
   "outputs": [],
   "source": [
    "df = df.dropna()"
   ]
  },
  {
   "cell_type": "code",
   "execution_count": null,
   "metadata": {},
   "outputs": [],
   "source": [
    "df = df[df.Ingredients.apply(lambda i: len(i.split())) < 150]"
   ]
  },
  {
   "cell_type": "code",
   "execution_count": null,
   "metadata": {},
   "outputs": [
    {
     "data": {
      "text/plain": [
       "661"
      ]
     },
     "execution_count": 263,
     "metadata": {},
     "output_type": "execute_result"
    }
   ],
   "source": [
    "(df.Ingredients.apply(lambda i: len(i.split())) >= 150).sum()"
   ]
  },
  {
   "cell_type": "code",
   "execution_count": null,
   "metadata": {},
   "outputs": [],
   "source": [
    "df = df[df.Ingredients.str.islower()]"
   ]
  },
  {
   "cell_type": "code",
   "execution_count": null,
   "metadata": {},
   "outputs": [],
   "source": [
    "replace(df, ['[()]'], ' ', ['Ingredients', 'Recipe'], regex=True)"
   ]
  },
  {
   "cell_type": "code",
   "execution_count": null,
   "metadata": {},
   "outputs": [],
   "source": [
    "replace(df, [\"([^0-9a-zA-Z.'\\\"/ ])\"]*2, r\" \\1 \", ['Ingredients', 'Recipe'], regex=True)"
   ]
  },
  {
   "cell_type": "code",
   "execution_count": null,
   "metadata": {},
   "outputs": [],
   "source": [
    "replace(df, [r\"\\.(?!\\d)\"]*2, r\" . \", ['Ingredients', 'Recipe'], regex=True)"
   ]
  },
  {
   "cell_type": "code",
   "execution_count": null,
   "metadata": {},
   "outputs": [],
   "source": [
    "add_tags(df)"
   ]
  },
  {
   "cell_type": "code",
   "execution_count": null,
   "metadata": {},
   "outputs": [],
   "source": [
    "replace(df, ['[ ]{2,}']*2, \" \", ['Ingredients', 'Recipe'], regex=True)"
   ]
  },
  {
   "cell_type": "code",
   "execution_count": null,
   "metadata": {},
   "outputs": [],
   "source": [
    "df.Ingredients = df.Ingredients.str.strip()\n",
    "df.Recipe = df.Recipe.str.strip()"
   ]
  },
  {
   "cell_type": "code",
   "execution_count": null,
   "metadata": {},
   "outputs": [],
   "source": [
    "replace(df, [\"<INGREDIENT>[ \\t\\n]*([ \\t\\n]*<INGREDIENT>)+\", \"<RECIPE_STEP>[ \\t\\n]*([ \\t\\n]*<RECIPE_STEP>)+\"], \n",
    "    [\"<INGREDIENT>\", \"<RECIPE_STEP>\"], [\"Ingredients\", \"Recipe\"], regex=True)"
   ]
  },
  {
   "cell_type": "code",
   "execution_count": null,
   "metadata": {},
   "outputs": [],
   "source": [
    "min_len, max_len = 20, 2000\n",
    "df = df[(df.Recipe.str.len() >= min_len) & (df.Recipe.str.len() <= max_len)]"
   ]
  },
  {
   "cell_type": "code",
   "execution_count": null,
   "metadata": {},
   "outputs": [
    {
     "data": {
      "text/plain": [
       "(98524, 2)"
      ]
     },
     "execution_count": 205,
     "metadata": {},
     "output_type": "execute_result"
    }
   ],
   "source": [
    "df[df.Ingredients.str.count('<INGREDIENT>') >= 1].shape"
   ]
  },
  {
   "cell_type": "code",
   "execution_count": null,
   "metadata": {},
   "outputs": [
    {
     "data": {
      "text/plain": [
       "99697"
      ]
     },
     "execution_count": 200,
     "metadata": {},
     "output_type": "execute_result"
    }
   ],
   "source": [
    "len(df)"
   ]
  },
  {
   "cell_type": "code",
   "execution_count": null,
   "metadata": {},
   "outputs": [
    {
     "data": {
      "text/plain": [
       "101340"
      ]
     },
     "execution_count": 195,
     "metadata": {},
     "output_type": "execute_result"
    }
   ],
   "source": [
    "len(train)"
   ]
  },
  {
   "cell_type": "code",
   "execution_count": null,
   "metadata": {},
   "outputs": [
    {
     "data": {
      "text/html": [
       "<div>\n",
       "<style scoped>\n",
       "    .dataframe tbody tr th:only-of-type {\n",
       "        vertical-align: middle;\n",
       "    }\n",
       "\n",
       "    .dataframe tbody tr th {\n",
       "        vertical-align: top;\n",
       "    }\n",
       "\n",
       "    .dataframe thead th {\n",
       "        text-align: right;\n",
       "    }\n",
       "</style>\n",
       "<table border=\"1\" class=\"dataframe\">\n",
       "  <thead>\n",
       "    <tr style=\"text-align: right;\">\n",
       "      <th></th>\n",
       "      <th>Ingredients</th>\n",
       "      <th>Recipe</th>\n",
       "    </tr>\n",
       "  </thead>\n",
       "  <tbody>\n",
       "    <tr>\n",
       "      <th>0</th>\n",
       "      <td>&lt;INGREDIENT_START&gt; 6 tb butter or margarine - softened &lt;INGREDIENT&gt; 3/4 c c and h powdered sugar &lt;INGREDIENT&gt; 1 c all - purpose flour &lt;INGREDIENT&gt; 1 tb milk &lt;INGREDIENT&gt; 2 eggs &lt;INGREDIENT&gt; 1 c c and h granulated sugar &lt;INGREDIENT&gt; 1/2 c cocoa &lt;INGREDIENT&gt; 2 tb flour &lt;INGREDIENT&gt; 1/2 ts baking powder &lt;INGREDIENT&gt; 1/2 ts salt &lt;INGREDIENT&gt; 1 ts vanilla &lt;INGREDIENT&gt; 1/4 ts almond extract optional &lt;INGREDIENT&gt; 1 c chopped almonds or pecans &lt;INGREDIENT_END&gt;</td>\n",
       "      <td>&lt;RECIPE_START&gt; cream together butter and powdered sugar &lt;RECIPE_STEP&gt; blend in 1 cup flour and milk &lt;RECIPE_STEP&gt; spread evenly in bottom of ungreased 9 - inch square pan &lt;RECIPE_STEP&gt; bake in 350 degree oven 10 to 12 minutes &lt;RECIPE_STEP&gt; beat eggs slightly &lt;RECIPE_STEP&gt; combine dry ingredients and add to eggs &lt;RECIPE_STEP&gt; blend in vanilla and almond extract &lt;RECIPE_STEP&gt; fold in almonds &lt;RECIPE_STEP&gt; spread over hot baked layer &lt;RECIPE_STEP&gt; return to oven and bake 20 minutes longer &lt;RECIPE_STEP&gt; cool &lt;RECIPE_STEP&gt; while warm , cut into 24 bars &lt;RECIPE_STEP&gt; &lt;RECIPE_END&gt;</td>\n",
       "    </tr>\n",
       "    <tr>\n",
       "      <th>1</th>\n",
       "      <td>&lt;INGREDIENT_START&gt; 1 c vanilla wafer cookies , finely crushed &lt;INGREDIENT&gt; 1 c confectioner's sugar &lt;INGREDIENT&gt; 2 tb cocoa &lt;INGREDIENT&gt; 1 c pecans , finely chopped &lt;INGREDIENT&gt; 2 tb corn syrup &lt;INGREDIENT&gt; 1/2 c bourbon &lt;INGREDIENT_END&gt;</td>\n",
       "      <td>&lt;RECIPE_START&gt; combine dry ingredients and mix well &lt;RECIPE_STEP&gt; add corn syrup and bourbon and mix well &lt;RECIPE_STEP&gt; if too moist add a few cookie crumbs , if too dry add a little more bourbon &lt;RECIPE_STEP&gt; shape into small balls and roll in fruit sugar or fonely chopped pecans &lt;RECIPE_STEP&gt; store in an airtight container &lt;RECIPE_STEP&gt; also good made with dark rum &lt;RECIPE_STEP&gt; &lt;RECIPE_END&gt;</td>\n",
       "    </tr>\n",
       "    <tr>\n",
       "      <th>2</th>\n",
       "      <td>&lt;INGREDIENT_START&gt; 1 c all - purpose flour &lt;INGREDIENT&gt; 1/2 c sugar &lt;INGREDIENT&gt; 2 ts baking powder &lt;INGREDIENT&gt; 1/2 ts salt &lt;INGREDIENT&gt; 2 tb unsweetened cocoa powder &lt;INGREDIENT&gt; 1 1/2 c all - bran ? cereal &lt;INGREDIENT&gt; 3/4 c skim milk &lt;INGREDIENT&gt; 2 egg whites &lt;INGREDIENT&gt; 1/4 c vegetable oil &lt;INGREDIENT&gt; 1 c sliced ripe banana ; about 1 &lt;INGREDIENT&gt; vegetable cooking spray &lt;INGREDIENT_END&gt;</td>\n",
       "      <td>&lt;RECIPE_START&gt; kellogg 's all - bran 1 &lt;RECIPE_STEP&gt; stir together flour , sugar , baking powder , salt , and cocoa powder &lt;RECIPE_STEP&gt; set aside &lt;RECIPE_STEP&gt; in large mixing bowl , combine all - bran cereal and milk &lt;RECIPE_STEP&gt; let stand 5 minutes or until cereal softens &lt;RECIPE_STEP&gt; add egg whites and oil &lt;RECIPE_STEP&gt; beat well &lt;RECIPE_STEP&gt; stir in bananas &lt;RECIPE_STEP&gt; add flour mixture stirring only until combined &lt;RECIPE_STEP&gt; portion batte evenly into twelve 2 - 1/2 inch muffin - pan cups coated with cooking spray &lt;RECIPE_STEP&gt; bake at 400 f &lt;RECIPE_STEP&gt; about 25 minutes or until lightly browned &lt;RECIPE_STEP&gt; serve warm &lt;RECIPE_STEP&gt; &lt;RECIPE_END&gt;</td>\n",
       "    </tr>\n",
       "    <tr>\n",
       "      <th>3</th>\n",
       "      <td>&lt;INGREDIENT_START&gt; 5 1/2 c flour &lt;INGREDIENT&gt; 1 cake compressed yeast &lt;INGREDIENT&gt; or 1 cake dry yeast &lt;INGREDIENT&gt; 2 c milk , scalded and cooled &lt;INGREDIENT&gt; 1/2 ts salt &lt;INGREDIENT&gt; 1/2 c cocoa &lt;INGREDIENT&gt; 1/4 c shortening &lt;INGREDIENT&gt; 2 eggs , well beaten &lt;INGREDIENT&gt; 1/2 c sugar &lt;INGREDIENT_END&gt;</td>\n",
       "      <td>&lt;RECIPE_START&gt; soften yeast and dissolve 1 tablespoon sugar in lukewarm milk &lt;RECIPE_STEP&gt; add 3 cups flour and beat until smooth &lt;RECIPE_STEP&gt; cover and set aside to rise in a warm place until light &lt;RECIPE_STEP&gt; add shortening and sugar , which have been creamed together , eggs , cocoa , salt , and remainder of flour or enough to make a soft dough &lt;RECIPE_STEP&gt; knead lightly and place in well - oiled bowl &lt;RECIPE_STEP&gt; cover and set in a warm place until double in bulk about 2 hours &lt;RECIPE_STEP&gt; form into loaves &lt;RECIPE_STEP&gt; place in well - oiled bread pans , filling them 1/2 full &lt;RECIPE_STEP&gt; cover and let rise again until double in bulk &lt;RECIPE_STEP&gt; bake in hot oven - lrb - 425 f - rrb - 40 50 minutes &lt;RECIPE_STEP&gt; 2 loaves &lt;RECIPE_STEP&gt; &lt;RECIPE_END&gt;</td>\n",
       "    </tr>\n",
       "    <tr>\n",
       "      <th>4</th>\n",
       "      <td>&lt;INGREDIENT_START&gt; bread - - to fill dish 2/3 &lt;INGREDIENT&gt; ful &lt;INGREDIENT&gt; 2 c skim milk &lt;INGREDIENT&gt; 2/3 c sugar &lt;INGREDIENT&gt; 2 eggs - - or 4 egg whites &lt;INGREDIENT&gt; 2 tb cocoa &lt;INGREDIENT&gt; 1 ts vanilla &lt;INGREDIENT_END&gt;</td>\n",
       "      <td>&lt;RECIPE_START&gt; into a greased casserole dish break up enough bread to fill it 2/3 full &lt;RECIPE_STEP&gt; over this pour 2/3 cup sugar , 2 heaping tbsp cocoa that have been mixed together &lt;RECIPE_STEP&gt; toss all together lightly - lrb - to coat the bread - rrb - &lt;RECIPE_STEP&gt; to 2 cups of milk add 2 well beaten eggs and 1 tsp vanilla &lt;RECIPE_STEP&gt; pour this over the bread and it should just cover the pieces &lt;RECIPE_STEP&gt; bake at 350 fo r about 45 minutes &lt;RECIPE_STEP&gt; &lt;RECIPE_END&gt;</td>\n",
       "    </tr>\n",
       "    <tr>\n",
       "      <th>...</th>\n",
       "      <td>...</td>\n",
       "      <td>...</td>\n",
       "    </tr>\n",
       "    <tr>\n",
       "      <th>101335</th>\n",
       "      <td>&lt;INGREDIENT_START&gt; 6 oz smoked bacon or pancetta , cut into 1/2\" dice &lt;INGREDIENT&gt; 4 tb olive oil &lt;INGREDIENT&gt; 6 oz fresh shiitake mushrooms , sliced &lt;INGREDIENT&gt; 1 lb asparagus , cut into 2\" piece &lt;INGREDIENT&gt; 12 oz fresh fettucine &lt;INGREDIENT&gt; 1 tb fresh thyme , finely chopped &lt;INGREDIENT&gt; 2 tb fresh oregano , finely chopped &lt;INGREDIENT&gt; salt to taste &lt;INGREDIENT&gt; pepper to taste &lt;INGREDIENT_END&gt;</td>\n",
       "      <td>&lt;RECIPE_START&gt; saute bacon in skillet until crisp , remove to a plate &lt;RECIPE_STEP&gt; drain off excess fat , then add olive oil to the skillet and cook the mushrooms until softened &lt;RECIPE_STEP&gt; lightly blanch the asparagus &lt;RECIPE_STEP&gt; cook the pasta briefly in boiling salted water &lt;RECIPE_STEP&gt; drain the noodles and toos with the asparagus , bacon , shiitake and fresh herbs &lt;RECIPE_STEP&gt; season with salt and pepper &lt;RECIPE_STEP&gt; 35 grams total fat &lt;RECIPE_STEP&gt; - lrb - 9 &lt;RECIPE_STEP&gt; 9 grams saturated fat - rrb - &lt;RECIPE_STEP&gt; 175 &lt;RECIPE_STEP&gt; 5 milligrams cholesterol &lt;RECIPE_STEP&gt; 709 &lt;RECIPE_STEP&gt; 7 milligrams sodium &lt;RECIPE_STEP&gt; &lt;RECIPE_END&gt;</td>\n",
       "    </tr>\n",
       "    <tr>\n",
       "      <th>101336</th>\n",
       "      <td>&lt;INGREDIENT_START&gt; 2 ts sesame oil &lt;INGREDIENT&gt; 1 lb halibut or lean fish steaks , cut into l - inch pieces &lt;INGREDIENT&gt; 1 md onion , thinly sliced &lt;INGREDIENT&gt; 3 cloves garlic , finely chopped &lt;INGREDIENT&gt; 1 ts finely chopped gingerroot &lt;INGREDIENT&gt; 1 pk 10 ounces frozen asparagus cuts , thawed and drained &lt;INGREDIENT&gt; 1 cn 4 ounces sliced mushrooms , drained &lt;INGREDIENT&gt; 1 md tomato , cut into thin wedges &lt;INGREDIENT&gt; 2 tb soy sauce &lt;INGREDIENT&gt; 1 tb lemon juice &lt;INGREDIENT_END&gt;</td>\n",
       "      <td>&lt;RECIPE_START&gt; heat oil in 10 - inch nonstick skillet over medium - high heat &lt;RECIPE_STEP&gt; add fish , onion , garlic , gingerroot and asparagus &lt;RECIPE_STEP&gt; stir - fry 2 to 3 minutes or until fish almost flakes with fork &lt;RECIPE_STEP&gt; carefully stir in remaining ingredients &lt;RECIPE_STEP&gt; heat through &lt;RECIPE_STEP&gt; serve with additional soy sauce if desired &lt;RECIPE_STEP&gt; 4 servings &lt;RECIPE_STEP&gt; nutrition information per serving 1 serving percent of u &lt;RECIPE_STEP&gt; s &lt;RECIPE_STEP&gt; rda &lt;RECIPE_END&gt;</td>\n",
       "    </tr>\n",
       "    <tr>\n",
       "      <th>101337</th>\n",
       "      <td>&lt;INGREDIENT_START&gt; apple , artichoke , asparagus , vocado , string bean , beet , roccoli , russels spourts , cabbage , arrot , cauliflower , celery , orn , cucumber , ggplant , grape , lettuce , nion , parsnip , pea , peach , ear , pepper , lum , potato , radish , aspberry , squash , tomato , atermelon &lt;INGREDIENT_END&gt;</td>\n",
       "      <td>&lt;RECIPE_START&gt; in the name of sportsmanship , let 's consider one more way to look at fruits and vegetables &lt;RECIPE_STEP&gt; artichoke , asparagus , avocado , bean , beet , broccoli , brussels sprouts , cabbage , carrot , cauliflower , celery , corn , cucumber , eggplant , lettuce , onion , parsnip , pea , pepper , potato , radish , squash , and tomato are vegetables , all the others are fruits &lt;RECIPE_STEP&gt; fine with us &lt;RECIPE_STEP&gt; and , deep in our hearts , we suspect that 's the best way to play , according to hoyle &lt;RECIPE_STEP&gt; &lt;RECIPE_END&gt;</td>\n",
       "    </tr>\n",
       "    <tr>\n",
       "      <th>101338</th>\n",
       "      <td>&lt;INGREDIENT_START&gt; herb vinaigrette see below &lt;INGREDIENT&gt; truffle juice vinaigrette see below &lt;INGREDIENT&gt; 32 asparagus tips &lt;INGREDIENT&gt; 50 g chanterelles cleaned &lt;INGREDIENT&gt; 12 qt breasts &lt;INGREDIENT&gt; 1 or 2 uncooked yellow zucchini sliced into 48 very thin circles &lt;INGREDIENT&gt; 1 lg tomato brunoised &lt;INGREDIENT&gt; 15 g frisee lettuce cleaned &lt;INGREDIENT&gt; 12 italian parsley leaves &lt;INGREDIENT&gt; 30 g truffle sliced into 12 very thin circles &lt;INGREDIENT&gt; butter &lt;INGREDIENT&gt; seasoning - salt , pepper , chicken stock &lt;INGREDIENT&gt; white wine &lt;INGREDIENT_END&gt;</td>\n",
       "      <td>&lt;RECIPE_START&gt; little dabs of food artfully arranged here and there on a plate , sometimes connected by skeins of sauces &lt;RECIPE_STEP&gt; expensive too &lt;RECIPE_STEP&gt; patrick lin - lrb - the regent hotel - rrb - make herb vinaigrette from onion , chives , italian parsley , parsley and a pinch of tarragon , all finely chopped together &lt;RECIPE_STEP&gt; - lrb - keep some chopped herbs aside to use in chanterelles preparation see below &lt;RECIPE_STEP&gt; - rrb - add salt , pepper , walnut oil , sherry and vinegar , according to taste &lt;RECIPE_STEP&gt; make truffle juice vinaigrette from bottled truffle juice , salt , olive oil and vinegar &lt;RECIPE_STEP&gt; lightly salt chanterelles and saute over a low flame in butter , with a drop of white wine , a few drops of chicken stock , and a mixture of the same herbs that were used to make herb vinaigrette - lrb - see above - rrb - &lt;RECIPE_STEP&gt; reduce sauteed mixture completely , and then marinate chanterelles in herb vinaigrette for 30 minutes &lt;RECIPE_STEP&gt; clean quail breasts and season with salt and pepper &lt;RECIPE_STEP&gt; create central garnish by arranging a wheel of eleven overlapping yellow zucchini slices , placing a small heap of tomato brunoise on one central slice &lt;RECIPE_STEP&gt; place asparagus tips pointing outwards from centre &lt;RECIPE_STEP&gt; create three distinct islands of chanterelles topped with frisee lettuce and italian parsley &lt;RECIPE_STEP&gt; place three truffle slices between chanterelle islands and lay one quail breast on each &lt;RECIPE_STEP&gt; pour a little truffle juice vinaigrette over quails and central garnish , and a little herb vinaigrette over lettuce &lt;RECIPE_STEP&gt; &lt;RECIPE_END&gt;</td>\n",
       "    </tr>\n",
       "    <tr>\n",
       "      <th>101339</th>\n",
       "      <td>&lt;INGREDIENT_START&gt; 2 lb asparagus , peeled &lt;INGREDIENT&gt; 1/2 c olive oil &lt;INGREDIENT&gt; 1/4 c white wine vinegar &lt;INGREDIENT&gt; 1/2 ts dijon mustard &lt;INGREDIENT&gt; 1 lg clove garlic , crushed &lt;INGREDIENT&gt; salt and ground pepper &lt;INGREDIENT&gt; 1 ts worcestershire sauce &lt;INGREDIENT&gt; ds tabasco sauce &lt;INGREDIENT&gt; 1/2 c chopped onion &lt;INGREDIENT&gt; 1/2 c chopped fresh parsley &lt;INGREDIENT&gt; 1/2 c parmesan cheese &lt;INGREDIENT&gt; 3 tb pine nuts , toasted see below &lt;INGREDIENT_END&gt;</td>\n",
       "      <td>&lt;RECIPE_START&gt; steam the asparagus spears for 5 minutes &lt;RECIPE_STEP&gt; drain well and place in a serving dish &lt;RECIPE_STEP&gt; in a bowl , whisk together the oil , vinegar , dijon , garlic , salt , pepper , worcestershire , tabasco , onion , parsley , and parmesan &lt;RECIPE_STEP&gt; stir in the pine nuts &lt;RECIPE_STEP&gt; pour the vinaigrette over the asparagus &lt;RECIPE_STEP&gt; cover and let marinate in the refrigerator 6 to 8 hours or overnight &lt;RECIPE_STEP&gt; serve chilled with the marinade spooned over the spears &lt;RECIPE_STEP&gt; 6 portions mature asparagus &lt;RECIPE_STEP&gt; spread nuts out on a cookie sheet and bake in a 350f degree oven for 5 to 10 minutes until golden &lt;RECIPE_STEP&gt; different sizes and types of nuts toast at varying times &lt;RECIPE_STEP&gt; &lt;RECIPE_END&gt;</td>\n",
       "    </tr>\n",
       "  </tbody>\n",
       "</table>\n",
       "<p>99697 rows × 2 columns</p>\n",
       "</div>"
      ],
      "text/plain": [
       "                                                                                                                                                                                                                                                                                                                                                                                                                                                                                                                                                                            Ingredients  \\\n",
       "0                                                                                                              <INGREDIENT_START> 6 tb butter or margarine - softened <INGREDIENT> 3/4 c c and h powdered sugar <INGREDIENT> 1 c all - purpose flour <INGREDIENT> 1 tb milk <INGREDIENT> 2 eggs <INGREDIENT> 1 c c and h granulated sugar <INGREDIENT> 1/2 c cocoa <INGREDIENT> 2 tb flour <INGREDIENT> 1/2 ts baking powder <INGREDIENT> 1/2 ts salt <INGREDIENT> 1 ts vanilla <INGREDIENT> 1/4 ts almond extract optional <INGREDIENT> 1 c chopped almonds or pecans <INGREDIENT_END>   \n",
       "1                                                                                                                                                                                                                                                                                                                                         <INGREDIENT_START> 1 c vanilla wafer cookies , finely crushed <INGREDIENT> 1 c confectioner's sugar <INGREDIENT> 2 tb cocoa <INGREDIENT> 1 c pecans , finely chopped <INGREDIENT> 2 tb corn syrup <INGREDIENT> 1/2 c bourbon <INGREDIENT_END>   \n",
       "2                                                                                                                                                                          <INGREDIENT_START> 1 c all - purpose flour <INGREDIENT> 1/2 c sugar <INGREDIENT> 2 ts baking powder <INGREDIENT> 1/2 ts salt <INGREDIENT> 2 tb unsweetened cocoa powder <INGREDIENT> 1 1/2 c all - bran ? cereal <INGREDIENT> 3/4 c skim milk <INGREDIENT> 2 egg whites <INGREDIENT> 1/4 c vegetable oil <INGREDIENT> 1 c sliced ripe banana ; about 1 <INGREDIENT> vegetable cooking spray <INGREDIENT_END>   \n",
       "3                                                                                                                                                                                                                                                                         <INGREDIENT_START> 5 1/2 c flour <INGREDIENT> 1 cake compressed yeast <INGREDIENT> or 1 cake dry yeast <INGREDIENT> 2 c milk , scalded and cooled <INGREDIENT> 1/2 ts salt <INGREDIENT> 1/2 c cocoa <INGREDIENT> 1/4 c shortening <INGREDIENT> 2 eggs , well beaten <INGREDIENT> 1/2 c sugar <INGREDIENT_END>   \n",
       "4                                                                                                                                                                                                                                                                                                                                                         <INGREDIENT_START> bread - - to fill dish 2/3 <INGREDIENT> ful <INGREDIENT> 2 c skim milk <INGREDIENT> 2/3 c sugar <INGREDIENT> 2 eggs - - or 4 egg whites <INGREDIENT> 2 tb cocoa <INGREDIENT> 1 ts vanilla <INGREDIENT_END>   \n",
       "...                                                                                                                                                                                                                                                                                                                                                                                                                                                                                                                                                                                 ...   \n",
       "101335                                                                                                                                                                <INGREDIENT_START> 6 oz smoked bacon or pancetta , cut into 1/2\" dice <INGREDIENT> 4 tb olive oil <INGREDIENT> 6 oz fresh shiitake mushrooms , sliced <INGREDIENT> 1 lb asparagus , cut into 2\" piece <INGREDIENT> 12 oz fresh fettucine <INGREDIENT> 1 tb fresh thyme , finely chopped <INGREDIENT> 2 tb fresh oregano , finely chopped <INGREDIENT> salt to taste <INGREDIENT> pepper to taste <INGREDIENT_END>   \n",
       "101336                                                                            <INGREDIENT_START> 2 ts sesame oil <INGREDIENT> 1 lb halibut or lean fish steaks , cut into l - inch pieces <INGREDIENT> 1 md onion , thinly sliced <INGREDIENT> 3 cloves garlic , finely chopped <INGREDIENT> 1 ts finely chopped gingerroot <INGREDIENT> 1 pk 10 ounces frozen asparagus cuts , thawed and drained <INGREDIENT> 1 cn 4 ounces sliced mushrooms , drained <INGREDIENT> 1 md tomato , cut into thin wedges <INGREDIENT> 2 tb soy sauce <INGREDIENT> 1 tb lemon juice <INGREDIENT_END>   \n",
       "101337                                                                                                                                                                                                                                                 <INGREDIENT_START> apple , artichoke , asparagus , vocado , string bean , beet , roccoli , russels spourts , cabbage , arrot , cauliflower , celery , orn , cucumber , ggplant , grape , lettuce , nion , parsnip , pea , peach , ear , pepper , lum , potato , radish , aspberry , squash , tomato , atermelon <INGREDIENT_END>   \n",
       "101338  <INGREDIENT_START> herb vinaigrette see below <INGREDIENT> truffle juice vinaigrette see below <INGREDIENT> 32 asparagus tips <INGREDIENT> 50 g chanterelles cleaned <INGREDIENT> 12 qt breasts <INGREDIENT> 1 or 2 uncooked yellow zucchini sliced into 48 very thin circles <INGREDIENT> 1 lg tomato brunoised <INGREDIENT> 15 g frisee lettuce cleaned <INGREDIENT> 12 italian parsley leaves <INGREDIENT> 30 g truffle sliced into 12 very thin circles <INGREDIENT> butter <INGREDIENT> seasoning - salt , pepper , chicken stock <INGREDIENT> white wine <INGREDIENT_END>   \n",
       "101339                                                                                                  <INGREDIENT_START> 2 lb asparagus , peeled <INGREDIENT> 1/2 c olive oil <INGREDIENT> 1/4 c white wine vinegar <INGREDIENT> 1/2 ts dijon mustard <INGREDIENT> 1 lg clove garlic , crushed <INGREDIENT> salt and ground pepper <INGREDIENT> 1 ts worcestershire sauce <INGREDIENT> ds tabasco sauce <INGREDIENT> 1/2 c chopped onion <INGREDIENT> 1/2 c chopped fresh parsley <INGREDIENT> 1/2 c parmesan cheese <INGREDIENT> 3 tb pine nuts , toasted see below <INGREDIENT_END>   \n",
       "\n",
       "                                                                                                                                                                                                                                                                                                                                                                                                                                                                                                                                                                                                                                                                                                                                                                                                                                                                                                                                                                                                                                                                                                                                                                                                                                                                                                                                                                                                                                                                                                                                                                                                                                                                                                            Recipe  \n",
       "0                                                                                                                                                                                                                                                                                                                                                                                                                                                                                                                                                                                                                                                                                                                                                                                                                                                                                                                                                                                                                                                                                                             <RECIPE_START> cream together butter and powdered sugar <RECIPE_STEP> blend in 1 cup flour and milk <RECIPE_STEP> spread evenly in bottom of ungreased 9 - inch square pan <RECIPE_STEP> bake in 350 degree oven 10 to 12 minutes <RECIPE_STEP> beat eggs slightly <RECIPE_STEP> combine dry ingredients and add to eggs <RECIPE_STEP> blend in vanilla and almond extract <RECIPE_STEP> fold in almonds <RECIPE_STEP> spread over hot baked layer <RECIPE_STEP> return to oven and bake 20 minutes longer <RECIPE_STEP> cool <RECIPE_STEP> while warm , cut into 24 bars <RECIPE_STEP> <RECIPE_END>  \n",
       "1                                                                                                                                                                                                                                                                                                                                                                                                                                                                                                                                                                                                                                                                                                                                                                                                                                                                                                                                                                                                                                                                                                                                                                                                                                                                                                     <RECIPE_START> combine dry ingredients and mix well <RECIPE_STEP> add corn syrup and bourbon and mix well <RECIPE_STEP> if too moist add a few cookie crumbs , if too dry add a little more bourbon <RECIPE_STEP> shape into small balls and roll in fruit sugar or fonely chopped pecans <RECIPE_STEP> store in an airtight container <RECIPE_STEP> also good made with dark rum <RECIPE_STEP> <RECIPE_END>  \n",
       "2                                                                                                                                                                                                                                                                                                                                                                                                                                                                                                                                                                                                                                                                                                                                                                                                                                                                                                                                                                                                                     <RECIPE_START> kellogg 's all - bran 1 <RECIPE_STEP> stir together flour , sugar , baking powder , salt , and cocoa powder <RECIPE_STEP> set aside <RECIPE_STEP> in large mixing bowl , combine all - bran cereal and milk <RECIPE_STEP> let stand 5 minutes or until cereal softens <RECIPE_STEP> add egg whites and oil <RECIPE_STEP> beat well <RECIPE_STEP> stir in bananas <RECIPE_STEP> add flour mixture stirring only until combined <RECIPE_STEP> portion batte evenly into twelve 2 - 1/2 inch muffin - pan cups coated with cooking spray <RECIPE_STEP> bake at 400 f <RECIPE_STEP> about 25 minutes or until lightly browned <RECIPE_STEP> serve warm <RECIPE_STEP> <RECIPE_END>  \n",
       "3                                                                                                                                                                                                                                                                                                                                                                                                                                                                                                                                                                                                                                                                                                                                                                                                                                                                                                                 <RECIPE_START> soften yeast and dissolve 1 tablespoon sugar in lukewarm milk <RECIPE_STEP> add 3 cups flour and beat until smooth <RECIPE_STEP> cover and set aside to rise in a warm place until light <RECIPE_STEP> add shortening and sugar , which have been creamed together , eggs , cocoa , salt , and remainder of flour or enough to make a soft dough <RECIPE_STEP> knead lightly and place in well - oiled bowl <RECIPE_STEP> cover and set in a warm place until double in bulk about 2 hours <RECIPE_STEP> form into loaves <RECIPE_STEP> place in well - oiled bread pans , filling them 1/2 full <RECIPE_STEP> cover and let rise again until double in bulk <RECIPE_STEP> bake in hot oven - lrb - 425 f - rrb - 40 50 minutes <RECIPE_STEP> 2 loaves <RECIPE_STEP> <RECIPE_END>  \n",
       "4                                                                                                                                                                                                                                                                                                                                                                                                                                                                                                                                                                                                                                                                                                                                                                                                                                                                                                                                                                                                                                                                                                                                                                                                                  <RECIPE_START> into a greased casserole dish break up enough bread to fill it 2/3 full <RECIPE_STEP> over this pour 2/3 cup sugar , 2 heaping tbsp cocoa that have been mixed together <RECIPE_STEP> toss all together lightly - lrb - to coat the bread - rrb - <RECIPE_STEP> to 2 cups of milk add 2 well beaten eggs and 1 tsp vanilla <RECIPE_STEP> pour this over the bread and it should just cover the pieces <RECIPE_STEP> bake at 350 fo r about 45 minutes <RECIPE_STEP> <RECIPE_END>  \n",
       "...                                                                                                                                                                                                                                                                                                                                                                                                                                                                                                                                                                                                                                                                                                                                                                                                                                                                                                                                                                                                                                                                                                                                                                                                                                                                                                                                                                                                                                                                                                                                                                                                                                                                                                            ...  \n",
       "101335                                                                                                                                                                                                                                                                                                                                                                                                                                                                                                                                                                                                                                                                                                                                                                                                                                                                                                                                                                                                                            <RECIPE_START> saute bacon in skillet until crisp , remove to a plate <RECIPE_STEP> drain off excess fat , then add olive oil to the skillet and cook the mushrooms until softened <RECIPE_STEP> lightly blanch the asparagus <RECIPE_STEP> cook the pasta briefly in boiling salted water <RECIPE_STEP> drain the noodles and toos with the asparagus , bacon , shiitake and fresh herbs <RECIPE_STEP> season with salt and pepper <RECIPE_STEP> 35 grams total fat <RECIPE_STEP> - lrb - 9 <RECIPE_STEP> 9 grams saturated fat - rrb - <RECIPE_STEP> 175 <RECIPE_STEP> 5 milligrams cholesterol <RECIPE_STEP> 709 <RECIPE_STEP> 7 milligrams sodium <RECIPE_STEP> <RECIPE_END>  \n",
       "101336                                                                                                                                                                                                                                                                                                                                                                                                                                                                                                                                                                                                                                                                                                                                                                                                                                                                                                                                                                                                                                                                                                                                                                                     <RECIPE_START> heat oil in 10 - inch nonstick skillet over medium - high heat <RECIPE_STEP> add fish , onion , garlic , gingerroot and asparagus <RECIPE_STEP> stir - fry 2 to 3 minutes or until fish almost flakes with fork <RECIPE_STEP> carefully stir in remaining ingredients <RECIPE_STEP> heat through <RECIPE_STEP> serve with additional soy sauce if desired <RECIPE_STEP> 4 servings <RECIPE_STEP> nutrition information per serving 1 serving percent of u <RECIPE_STEP> s <RECIPE_STEP> rda <RECIPE_END>  \n",
       "101337                                                                                                                                                                                                                                                                                                                                                                                                                                                                                                                                                                                                                                                                                                                                                                                                                                                                                                                                                                                                                                                                                                                                      <RECIPE_START> in the name of sportsmanship , let 's consider one more way to look at fruits and vegetables <RECIPE_STEP> artichoke , asparagus , avocado , bean , beet , broccoli , brussels sprouts , cabbage , carrot , cauliflower , celery , corn , cucumber , eggplant , lettuce , onion , parsnip , pea , pepper , potato , radish , squash , and tomato are vegetables , all the others are fruits <RECIPE_STEP> fine with us <RECIPE_STEP> and , deep in our hearts , we suspect that 's the best way to play , according to hoyle <RECIPE_STEP> <RECIPE_END>  \n",
       "101338  <RECIPE_START> little dabs of food artfully arranged here and there on a plate , sometimes connected by skeins of sauces <RECIPE_STEP> expensive too <RECIPE_STEP> patrick lin - lrb - the regent hotel - rrb - make herb vinaigrette from onion , chives , italian parsley , parsley and a pinch of tarragon , all finely chopped together <RECIPE_STEP> - lrb - keep some chopped herbs aside to use in chanterelles preparation see below <RECIPE_STEP> - rrb - add salt , pepper , walnut oil , sherry and vinegar , according to taste <RECIPE_STEP> make truffle juice vinaigrette from bottled truffle juice , salt , olive oil and vinegar <RECIPE_STEP> lightly salt chanterelles and saute over a low flame in butter , with a drop of white wine , a few drops of chicken stock , and a mixture of the same herbs that were used to make herb vinaigrette - lrb - see above - rrb - <RECIPE_STEP> reduce sauteed mixture completely , and then marinate chanterelles in herb vinaigrette for 30 minutes <RECIPE_STEP> clean quail breasts and season with salt and pepper <RECIPE_STEP> create central garnish by arranging a wheel of eleven overlapping yellow zucchini slices , placing a small heap of tomato brunoise on one central slice <RECIPE_STEP> place asparagus tips pointing outwards from centre <RECIPE_STEP> create three distinct islands of chanterelles topped with frisee lettuce and italian parsley <RECIPE_STEP> place three truffle slices between chanterelle islands and lay one quail breast on each <RECIPE_STEP> pour a little truffle juice vinaigrette over quails and central garnish , and a little herb vinaigrette over lettuce <RECIPE_STEP> <RECIPE_END>  \n",
       "101339                                                                                                                                                                                                                                                                                                                                                                                                                                                                                                                                                                                                                                                                                                                                                                                                                                                                                                                         <RECIPE_START> steam the asparagus spears for 5 minutes <RECIPE_STEP> drain well and place in a serving dish <RECIPE_STEP> in a bowl , whisk together the oil , vinegar , dijon , garlic , salt , pepper , worcestershire , tabasco , onion , parsley , and parmesan <RECIPE_STEP> stir in the pine nuts <RECIPE_STEP> pour the vinaigrette over the asparagus <RECIPE_STEP> cover and let marinate in the refrigerator 6 to 8 hours or overnight <RECIPE_STEP> serve chilled with the marinade spooned over the spears <RECIPE_STEP> 6 portions mature asparagus <RECIPE_STEP> spread nuts out on a cookie sheet and bake in a 350f degree oven for 5 to 10 minutes until golden <RECIPE_STEP> different sizes and types of nuts toast at varying times <RECIPE_STEP> <RECIPE_END>  \n",
       "\n",
       "[99697 rows x 2 columns]"
      ]
     },
     "execution_count": 201,
     "metadata": {},
     "output_type": "execute_result"
    }
   ],
   "source": [
    "df"
   ]
  },
  {
   "cell_type": "code",
   "execution_count": null,
   "metadata": {},
   "outputs": [
    {
     "data": {
      "text/html": [
       "<div>\n",
       "<style scoped>\n",
       "    .dataframe tbody tr th:only-of-type {\n",
       "        vertical-align: middle;\n",
       "    }\n",
       "\n",
       "    .dataframe tbody tr th {\n",
       "        vertical-align: top;\n",
       "    }\n",
       "\n",
       "    .dataframe thead th {\n",
       "        text-align: right;\n",
       "    }\n",
       "</style>\n",
       "<table border=\"1\" class=\"dataframe\">\n",
       "  <thead>\n",
       "    <tr style=\"text-align: right;\">\n",
       "      <th></th>\n",
       "      <th>Ingredients</th>\n",
       "      <th>Recipe</th>\n",
       "    </tr>\n",
       "  </thead>\n",
       "  <tbody>\n",
       "    <tr>\n",
       "      <th>0</th>\n",
       "      <td>&lt;INGREDIENT_START&gt; 6 tb butter or margarine  -  softened  &lt;INGREDIENT&gt;  3/4 c  c and h powdered sugar  &lt;INGREDIENT&gt;  1 c  all - purpose flour  &lt;INGREDIENT&gt;  1 tb milk  &lt;INGREDIENT&gt;  2    eggs  &lt;INGREDIENT&gt;  1 c  c and h granulated sugar  &lt;INGREDIENT&gt;  1/2 c  cocoa  &lt;INGREDIENT&gt;  2 tb flour  &lt;INGREDIENT&gt;  1/2 ts baking powder  &lt;INGREDIENT&gt;  1/2 ts salt  &lt;INGREDIENT&gt;  1 ts vanilla  &lt;INGREDIENT&gt;  1/4 ts almond extract  optional   &lt;INGREDIENT&gt;  1 c  chopped almonds or pecans &lt;INGREDIENT_END&gt;</td>\n",
       "      <td>&lt;RECIPE_START&gt; cream together butter and powdered sugar   &lt;RECIPE_STEP&gt;   blend in 1 cup flour and milk   &lt;RECIPE_STEP&gt;   spread evenly in bottom of ungreased 9 - inch square pan   &lt;RECIPE_STEP&gt;   bake in 350 degree oven 10 to 12 minutes   &lt;RECIPE_STEP&gt;   beat eggs slightly   &lt;RECIPE_STEP&gt;   combine dry ingredients and add to eggs   &lt;RECIPE_STEP&gt;   blend in vanilla and almond extract   &lt;RECIPE_STEP&gt;   fold in almonds   &lt;RECIPE_STEP&gt;   spread over hot baked layer   &lt;RECIPE_STEP&gt;   return to o...</td>\n",
       "    </tr>\n",
       "    <tr>\n",
       "      <th>1</th>\n",
       "      <td>&lt;INGREDIENT_START&gt; 1 c  vanilla wafer cookies ,  finely crushed  &lt;INGREDIENT&gt;  1 c  confectioner's sugar  &lt;INGREDIENT&gt;  2 tb cocoa  &lt;INGREDIENT&gt;  1 c  pecans ,  finely chopped  &lt;INGREDIENT&gt;  2 tb corn syrup  &lt;INGREDIENT&gt;  1/2 c  bourbon &lt;INGREDIENT_END&gt;</td>\n",
       "      <td>&lt;RECIPE_START&gt; combine dry ingredients and mix well   &lt;RECIPE_STEP&gt;   add corn syrup and bourbon and mix well   &lt;RECIPE_STEP&gt;   if too moist add a few cookie crumbs  ,  if too dry add a little more bourbon   &lt;RECIPE_STEP&gt;   shape into small balls and roll in fruit sugar or fonely chopped pecans   &lt;RECIPE_STEP&gt;   store in an airtight container   &lt;RECIPE_STEP&gt;   also good made with dark rum   &lt;RECIPE_STEP&gt;    &lt;RECIPE_END&gt;</td>\n",
       "    </tr>\n",
       "    <tr>\n",
       "      <th>2</th>\n",
       "      <td>&lt;INGREDIENT_START&gt; 1 c  all - purpose flour  &lt;INGREDIENT&gt;  1/2 c  sugar  &lt;INGREDIENT&gt;  2 ts baking powder  &lt;INGREDIENT&gt;  1/2 ts salt  &lt;INGREDIENT&gt;  2 tb unsweetened cocoa powder  &lt;INGREDIENT&gt;  1 1/2 c  all - bran ?  cereal  &lt;INGREDIENT&gt;  3/4 c  skim milk  &lt;INGREDIENT&gt;  2    egg whites  &lt;INGREDIENT&gt;  1/4 c  vegetable oil  &lt;INGREDIENT&gt;  1 c  sliced ripe banana ;   about 1  &lt;INGREDIENT&gt;  vegetable cooking spray &lt;INGREDIENT_END&gt;</td>\n",
       "      <td>&lt;RECIPE_START&gt; kellogg 's all - bran 1   &lt;RECIPE_STEP&gt;   stir together flour  ,  sugar  ,  baking powder  ,  salt  ,  and cocoa powder   &lt;RECIPE_STEP&gt;   set aside   &lt;RECIPE_STEP&gt;   in large mixing bowl  ,  combine all - bran cereal and milk   &lt;RECIPE_STEP&gt;   let stand 5 minutes or until cereal softens   &lt;RECIPE_STEP&gt;   add egg whites and oil   &lt;RECIPE_STEP&gt;   beat well   &lt;RECIPE_STEP&gt;   stir in bananas   &lt;RECIPE_STEP&gt;   add flour mixture stirring only until combined   &lt;RECIPE_STEP&gt;   portion...</td>\n",
       "    </tr>\n",
       "    <tr>\n",
       "      <th>3</th>\n",
       "      <td>&lt;INGREDIENT_START&gt; 5 1/2 c  flour  &lt;INGREDIENT&gt;  1    cake compressed yeast  &lt;INGREDIENT&gt;  or 1  cake dry yeast  &lt;INGREDIENT&gt;  2 c  milk ,  scalded and cooled  &lt;INGREDIENT&gt;  1/2 ts salt  &lt;INGREDIENT&gt;  1/2 c  cocoa  &lt;INGREDIENT&gt;  1/4 c  shortening  &lt;INGREDIENT&gt;  2    eggs ,  well beaten  &lt;INGREDIENT&gt;  1/2 c  sugar &lt;INGREDIENT_END&gt;</td>\n",
       "      <td>&lt;RECIPE_START&gt; soften yeast and dissolve 1 tablespoon sugar in lukewarm milk   &lt;RECIPE_STEP&gt;   add 3 cups flour and beat until smooth   &lt;RECIPE_STEP&gt;   cover and set aside to rise in a warm place until light   &lt;RECIPE_STEP&gt;   add shortening and sugar  ,  which have been creamed together  ,  eggs  ,  cocoa  ,  salt  ,  and remainder of flour or enough to make a soft dough   &lt;RECIPE_STEP&gt;   knead lightly and place in well - oiled bowl   &lt;RECIPE_STEP&gt;   cover and set in a warm place until doubl...</td>\n",
       "    </tr>\n",
       "    <tr>\n",
       "      <th>4</th>\n",
       "      <td>&lt;INGREDIENT_START&gt; bread  -  -  to fill dish 2/3  &lt;INGREDIENT&gt;  ful  &lt;INGREDIENT&gt;  2 c  skim milk  &lt;INGREDIENT&gt;  2/3 c  sugar  &lt;INGREDIENT&gt;  2    eggs  -  -  or 4 egg whites  &lt;INGREDIENT&gt;  2 tb cocoa  &lt;INGREDIENT&gt;  1 ts vanilla &lt;INGREDIENT_END&gt;</td>\n",
       "      <td>&lt;RECIPE_START&gt; into a greased casserole dish break up enough bread to fill it 2/3 full   &lt;RECIPE_STEP&gt;   over this pour 2/3 cup sugar  ,  2 heaping tbsp cocoa that have been mixed together   &lt;RECIPE_STEP&gt;   toss all together lightly  - lrb -  to coat the bread  - rrb -    &lt;RECIPE_STEP&gt;   to 2 cups of milk add 2 well beaten eggs and 1 tsp vanilla   &lt;RECIPE_STEP&gt;   pour this over the bread and it should just cover the pieces   &lt;RECIPE_STEP&gt;   bake at 350 fo r about 45 minutes   &lt;RECIPE_STEP&gt;  ...</td>\n",
       "    </tr>\n",
       "  </tbody>\n",
       "</table>\n",
       "</div>"
      ],
      "text/plain": [
       "                                                                                                                                                                                                                                                                                                                                                                                                                                                                                                    Ingredients  \\\n",
       "0  <INGREDIENT_START> 6 tb butter or margarine  -  softened  <INGREDIENT>  3/4 c  c and h powdered sugar  <INGREDIENT>  1 c  all - purpose flour  <INGREDIENT>  1 tb milk  <INGREDIENT>  2    eggs  <INGREDIENT>  1 c  c and h granulated sugar  <INGREDIENT>  1/2 c  cocoa  <INGREDIENT>  2 tb flour  <INGREDIENT>  1/2 ts baking powder  <INGREDIENT>  1/2 ts salt  <INGREDIENT>  1 ts vanilla  <INGREDIENT>  1/4 ts almond extract  optional   <INGREDIENT>  1 c  chopped almonds or pecans <INGREDIENT_END>   \n",
       "1                                                                                                                                                                                                                                                 <INGREDIENT_START> 1 c  vanilla wafer cookies ,  finely crushed  <INGREDIENT>  1 c  confectioner's sugar  <INGREDIENT>  2 tb cocoa  <INGREDIENT>  1 c  pecans ,  finely chopped  <INGREDIENT>  2 tb corn syrup  <INGREDIENT>  1/2 c  bourbon <INGREDIENT_END>   \n",
       "2                                                                  <INGREDIENT_START> 1 c  all - purpose flour  <INGREDIENT>  1/2 c  sugar  <INGREDIENT>  2 ts baking powder  <INGREDIENT>  1/2 ts salt  <INGREDIENT>  2 tb unsweetened cocoa powder  <INGREDIENT>  1 1/2 c  all - bran ?  cereal  <INGREDIENT>  3/4 c  skim milk  <INGREDIENT>  2    egg whites  <INGREDIENT>  1/4 c  vegetable oil  <INGREDIENT>  1 c  sliced ripe banana ;   about 1  <INGREDIENT>  vegetable cooking spray <INGREDIENT_END>   \n",
       "3                                                                                                                                                                   <INGREDIENT_START> 5 1/2 c  flour  <INGREDIENT>  1    cake compressed yeast  <INGREDIENT>  or 1  cake dry yeast  <INGREDIENT>  2 c  milk ,  scalded and cooled  <INGREDIENT>  1/2 ts salt  <INGREDIENT>  1/2 c  cocoa  <INGREDIENT>  1/4 c  shortening  <INGREDIENT>  2    eggs ,  well beaten  <INGREDIENT>  1/2 c  sugar <INGREDIENT_END>   \n",
       "4                                                                                                                                                                                                                                                          <INGREDIENT_START> bread  -  -  to fill dish 2/3  <INGREDIENT>  ful  <INGREDIENT>  2 c  skim milk  <INGREDIENT>  2/3 c  sugar  <INGREDIENT>  2    eggs  -  -  or 4 egg whites  <INGREDIENT>  2 tb cocoa  <INGREDIENT>  1 ts vanilla <INGREDIENT_END>   \n",
       "\n",
       "                                                                                                                                                                                                                                                                                                                                                                                                                                                                                                                Recipe  \n",
       "0  <RECIPE_START> cream together butter and powdered sugar   <RECIPE_STEP>   blend in 1 cup flour and milk   <RECIPE_STEP>   spread evenly in bottom of ungreased 9 - inch square pan   <RECIPE_STEP>   bake in 350 degree oven 10 to 12 minutes   <RECIPE_STEP>   beat eggs slightly   <RECIPE_STEP>   combine dry ingredients and add to eggs   <RECIPE_STEP>   blend in vanilla and almond extract   <RECIPE_STEP>   fold in almonds   <RECIPE_STEP>   spread over hot baked layer   <RECIPE_STEP>   return to o...  \n",
       "1                                                                              <RECIPE_START> combine dry ingredients and mix well   <RECIPE_STEP>   add corn syrup and bourbon and mix well   <RECIPE_STEP>   if too moist add a few cookie crumbs  ,  if too dry add a little more bourbon   <RECIPE_STEP>   shape into small balls and roll in fruit sugar or fonely chopped pecans   <RECIPE_STEP>   store in an airtight container   <RECIPE_STEP>   also good made with dark rum   <RECIPE_STEP>    <RECIPE_END>  \n",
       "2  <RECIPE_START> kellogg 's all - bran 1   <RECIPE_STEP>   stir together flour  ,  sugar  ,  baking powder  ,  salt  ,  and cocoa powder   <RECIPE_STEP>   set aside   <RECIPE_STEP>   in large mixing bowl  ,  combine all - bran cereal and milk   <RECIPE_STEP>   let stand 5 minutes or until cereal softens   <RECIPE_STEP>   add egg whites and oil   <RECIPE_STEP>   beat well   <RECIPE_STEP>   stir in bananas   <RECIPE_STEP>   add flour mixture stirring only until combined   <RECIPE_STEP>   portion...  \n",
       "3  <RECIPE_START> soften yeast and dissolve 1 tablespoon sugar in lukewarm milk   <RECIPE_STEP>   add 3 cups flour and beat until smooth   <RECIPE_STEP>   cover and set aside to rise in a warm place until light   <RECIPE_STEP>   add shortening and sugar  ,  which have been creamed together  ,  eggs  ,  cocoa  ,  salt  ,  and remainder of flour or enough to make a soft dough   <RECIPE_STEP>   knead lightly and place in well - oiled bowl   <RECIPE_STEP>   cover and set in a warm place until doubl...  \n",
       "4  <RECIPE_START> into a greased casserole dish break up enough bread to fill it 2/3 full   <RECIPE_STEP>   over this pour 2/3 cup sugar  ,  2 heaping tbsp cocoa that have been mixed together   <RECIPE_STEP>   toss all together lightly  - lrb -  to coat the bread  - rrb -    <RECIPE_STEP>   to 2 cups of milk add 2 well beaten eggs and 1 tsp vanilla   <RECIPE_STEP>   pour this over the bread and it should just cover the pieces   <RECIPE_STEP>   bake at 350 fo r about 45 minutes   <RECIPE_STEP>  ...  "
      ]
     },
     "execution_count": 144,
     "metadata": {},
     "output_type": "execute_result"
    }
   ],
   "source": [
    "df[:5]"
   ]
  },
  {
   "cell_type": "code",
   "execution_count": null,
   "metadata": {},
   "outputs": [
    {
     "data": {
      "text/html": [
       "<div>\n",
       "<style scoped>\n",
       "    .dataframe tbody tr th:only-of-type {\n",
       "        vertical-align: middle;\n",
       "    }\n",
       "\n",
       "    .dataframe tbody tr th {\n",
       "        vertical-align: top;\n",
       "    }\n",
       "\n",
       "    .dataframe thead th {\n",
       "        text-align: right;\n",
       "    }\n",
       "</style>\n",
       "<table border=\"1\" class=\"dataframe\">\n",
       "  <thead>\n",
       "    <tr style=\"text-align: right;\">\n",
       "      <th></th>\n",
       "      <th>Ingredients</th>\n",
       "      <th>Recipe</th>\n",
       "    </tr>\n",
       "  </thead>\n",
       "  <tbody>\n",
       "    <tr>\n",
       "      <th>0</th>\n",
       "      <td>6 tb butter or margarine  -  softened \\t 3/4 c  c and h powdered sugar \\t 1 c  all - purpose flour \\t 1 tb milk \\t 2    eggs \\t 1 c  c and h granulated sugar \\t 1/2 c  cocoa \\t 2 tb flour \\t 1/2 ts baking powder \\t 1/2 ts salt \\t 1 ts vanilla \\t 1/4 ts almond extract  optional  \\t 1 c  chopped almonds or pecans</td>\n",
       "      <td>cream together butter and powdered sugar  .  blend in 1 cup flour and milk  .  spread evenly in bottom of ungreased 9 - inch square pan  .  bake in 350 degree oven 10 to 12 minutes  .  beat eggs slightly  ;  combine dry ingredients and add to eggs  .  blend in vanilla and almond extract  ;  fold in almonds  .  spread over hot baked layer  ;  return to oven and bake 20 minutes longer  .  cool  ;  while warm  ,  cut into 24 bars  .</td>\n",
       "    </tr>\n",
       "    <tr>\n",
       "      <th>1</th>\n",
       "      <td>1 c  vanilla wafer cookies ,  finely crushed \\t 1 c  confectioner's sugar \\t 2 tb cocoa \\t 1 c  pecans ,  finely chopped \\t 2 tb corn syrup \\t 1/2 c  bourbon</td>\n",
       "      <td>combine dry ingredients and mix well  .  add corn syrup and bourbon and mix well  .  if too moist add a few cookie crumbs  ,  if too dry add a little more bourbon  .  shape into small balls and roll in fruit sugar or fonely chopped pecans  .  store in an airtight container  .  also good made with dark rum  .</td>\n",
       "    </tr>\n",
       "    <tr>\n",
       "      <th>2</th>\n",
       "      <td>1 c  all - purpose flour \\t 1/2 c  sugar \\t 2 ts baking powder \\t 1/2 ts salt \\t 2 tb unsweetened cocoa powder \\t 1 1/2 c  all - bran ?  cereal \\t 3/4 c  skim milk \\t 2    egg whites \\t 1/4 c  vegetable oil \\t 1 c  sliced ripe banana ;   about 1 \\t vegetable cooking spray</td>\n",
       "      <td>kellogg 's all - bran 1  .  stir together flour  ,  sugar  ,  baking powder  ,  salt  ,  and cocoa powder  .  set aside  .  in large mixing bowl  ,  combine all - bran cereal and milk  .  let stand 5 minutes or until cereal softens  .  add egg whites and oil  .  beat well  .  stir in bananas  .  add flour mixture stirring only until combined  .  portion batte evenly into twelve 2 - 1/2 inch muffin - pan cups coated with cooking spray  .  bake at 400 f .  about 25 minutes or until lightly bro...</td>\n",
       "    </tr>\n",
       "    <tr>\n",
       "      <th>3</th>\n",
       "      <td>5 1/2 c  flour \\t 1    cake compressed yeast \\t or 1  cake dry yeast \\t 2 c  milk ,  scalded and cooled \\t 1/2 ts salt \\t 1/2 c  cocoa \\t 1/4 c  shortening \\t 2    eggs ,  well beaten \\t 1/2 c  sugar</td>\n",
       "      <td>soften yeast and dissolve 1 tablespoon sugar in lukewarm milk  .  add 3 cups flour and beat until smooth  .  cover and set aside to rise in a warm place until light  .  add shortening and sugar  ,  which have been creamed together  ,  eggs  ,  cocoa  ,  salt  ,  and remainder of flour or enough to make a soft dough  .  knead lightly and place in well - oiled bowl  .  cover and set in a warm place until double in bulk about 2 hours  .  form into loaves  .  place in well - oiled bread pans  , ...</td>\n",
       "    </tr>\n",
       "    <tr>\n",
       "      <th>4</th>\n",
       "      <td>bread  -  -  to fill dish 2/3 \\t ful \\t 2 c  skim milk \\t 2/3 c  sugar \\t 2    eggs  -  -  or 4 egg whites \\t 2 tb cocoa \\t 1 ts vanilla</td>\n",
       "      <td>into a greased casserole dish break up enough bread to fill it 2/3 full  .  over this pour 2/3 cup sugar  ,  2 heaping tbsp cocoa that have been mixed together  .  toss all together lightly  - lrb -  to coat the bread  - rrb -   .  to 2 cups of milk add 2 well beaten eggs and 1 tsp vanilla  .  pour this over the bread and it should just cover the pieces  .  bake at 350 fo r about 45 minutes  .</td>\n",
       "    </tr>\n",
       "    <tr>\n",
       "      <th>5</th>\n",
       "      <td>4    egg whites \\t 1/3 c  oil \\t 1/4 c  nonfat yogurt \\t 1 ts vanilla \\t 1 1/3 c  sugar \\t 1/2 c  cocoa powder \\t 1 1/4 c  flour \\t 1/4 ts salt \\t 1 tb confectioners sugar</td>\n",
       "      <td>heat oven to 350 degrees  .  oil bottom of 9 - inch square pan  .  place egg whites in a large bowl  .  beat until slightly frothy  .  add oil  ,  yogurt and vanilla  ,  mix well  .  add sugar and cocoa  ,  mix well  .  add flour and salt  .  mix until blended  .  pour into pan  .  bake at 360 degrees for 26 - 28 minutes  .  avoid over baking  .  dust with confectioners sugar  .</td>\n",
       "    </tr>\n",
       "    <tr>\n",
       "      <th>6</th>\n",
       "      <td>2/3 c  sifted all - purpose flour \\t 1/3 c  cocoa \\t 1/2 ts baking powder \\t 1/2 ts salt \\t 2    eggs ;  unbeaten \\t 1 c  c &amp; h golden brown sugar \\t 1 ts vanilla \\t 1/3 c  salad oil \\t 1 c  coarsely chopped nuts</td>\n",
       "      <td>sift together flour  ,  cocoa  ,  baking powder  ,  and salt  ;  set aside  .  in mixing bowl slightly beat the eggs  .  gradually stir in sugar  .  add vanilla and oil and mix well  .  stir in flour - cocoa mixture  ,  then nuts  .  spread in greased shallow 11x7 or 9 - inch square pan  .  bake at 350 degrees for 22 to 25 minutes  .  cool in pan  ,  then cut in bars  ,  squares  ,  or diamonds  .</td>\n",
       "    </tr>\n",
       "    <tr>\n",
       "      <th>7</th>\n",
       "      <td>1 c  melted butter or margarine \\t 2    eggs \\t 2 c  brown sugar \\t 6 tb cocoa \\t 1 1/2 c  flour \\t 1 ts baking powder \\t 1 ts vanilla</td>\n",
       "      <td>mix sugar and cocoa together  .  add butter  - lrb -  or margarine  - rrb -  and eggs  .  mix well  .  add the rest of the ingredients  .  bake at 350 for 25 minutes  .</td>\n",
       "    </tr>\n",
       "    <tr>\n",
       "      <th>8</th>\n",
       "      <td>1 2/3 c  all - purpose flour \\t 1 1/2 c  sugar \\t 1/2 c  hershey cocoa \\t 1 1/2 ts baking soda \\t 1/2 ts baking powder \\t 1 ts salt \\t 2    eggs \\t 1/2 c  shortening \\t 1 1/3 c  buttermilk or sour milk  \\t 1 ts vanilla \\t chocolate glaze  recipe foll ws</td>\n",
       "      <td>heat oven to 350 degrees  .  generously grease and flour 12 cup bundt pan  .  in large mixer bowl  ,  blend flour  ,  sugar  ,  cocoa  ,  baking soda  ,  baking powder and salt  ;  add remaining ingredients except chocolate glaze  .  beat on low speed 1 minute  ,  scraping bowl constantly  .  beat on high speed 3 minutes  ,  scraping bowl occasionally  .  pour into prepared pan  .  bake 50 to 55 minutes or until wooden toothpick inserted in center comes out clean  .  cool 10 minutes  ;  remo...</td>\n",
       "    </tr>\n",
       "    <tr>\n",
       "      <th>9</th>\n",
       "      <td>1/2 c  cocoa \\t 1/2 c  boiling water \\t 3/4 c   1 1/2 sticks  margerine  @  \\t room temperature \\t liquid sugar substitue equal \\t to 1/2 cup sugar \\t 2 ts vinilla ;  \\t 3    large egg whites ;  @  rm temp ;  \\t 1/2 ts cream of tartar \\t 1/3 c  sugar \\t 2 1/2 c  cake flour \\t 1 ts baking soda \\t 2 ts baking powder \\t 1/4 ts salt \\t 1/2 ts cinnamon \\t 1 c  cool water</td>\n",
       "      <td>mix together cocoa and boiling water to blend and set aside to cool to room temperature  .  cream margarine at medium speed until light and fluffy  .  add sweetener and vanilla to creamed misture  ,  along with cooled cocoa mixture  .  mix at medium speed until well blended  .  beat egg whites at medium speed until foamy  .  add cream of tartar and beat at high speed  ,  gradually adding sugar  ,  to form a meringue  .  set aside for alter use  .  stir together flour  ,  soda  ,  baking powd...</td>\n",
       "    </tr>\n",
       "    <tr>\n",
       "      <th>10</th>\n",
       "      <td>16 oz cream cheese ;  softened \\t 3/4 c  sugar ;  plus .  .  .  \\t 2 tb sugar ;   divided  \\t 1/2 c  hershey's cocoa \\t 2 ts vanilla extract ;  divided \\t 2    eggs \\t 1 c  dairy sour cream \\t graham crust  recipe follows  \\t fresh fruit ,  sliced</td>\n",
       "      <td>heat oven to 375 degrees fahrenheit  .  in large mixer bowl  ,  beat cream cheese  ,  3/4 cup sugar  ,  cocoa and 1 teaspoon vanilla until well blended  .  add eggs  ;  blend well  .  pour batter into prepared graham crust  .  bake 20 minutes  .  remove from oven  ;  cool 15 minutes  .  increase oven temperature to 425 degrees fahrenheit  .  in small bowl  ,  stir together sour cream  ,  remaining 2 tablespoons sugar and remaining 1 teaspoon vanilla until smooth  ;  spread evenly over top of...</td>\n",
       "    </tr>\n",
       "    <tr>\n",
       "      <th>11</th>\n",
       "      <td>3/4 c  boiling water \\t 1/2 c  cocoa \\t 1 1/2 c  flour  -  -  sifted \\t 1 3/4 c  sugar \\t 1 1/2 tb baking powder \\t 1/2 tb salt \\t 1/2 c  oil \\t 1 ts vanilla \\t 1/2 ts almond extract \\t 1 c  egg whites  -  -  7 - 8 \\t 1/2 ts cream of tartar</td>\n",
       "      <td>blend cocoa and water and cool  .  mix flour  .  baking powder and salt  .  beat yolks with half of sugar  .  in another bowl  ,  beats whites wi th cream of tartar  ,  gradually adding rest of sugar till stiff peaks form  .  fold in yolk mixture and dry ings  .  spoon into ungreased t ube pan  .  bake about 65 min  .  at 325f  .  invert to cool  .</td>\n",
       "    </tr>\n",
       "    <tr>\n",
       "      <th>12</th>\n",
       "      <td>8 lg eggs \\t 1/4 c  water \\t 1/4 c  vegetable oil \\t 1 2/3 c  unsifted cake flour \\t 1/2 c  unsweetened cocoa \\t 1 c  sugar \\t 1 1/2 ts baking soda \\t 1/2 ts salt \\t 1 ts vanilla \\t 1/2 ts cream oftartar \\t 1 c  heavy cream \\t 2 tb confectioners' sugar \\t 1/2 ts vanilla \\t 2 tb unsweetened cocoa \\t 1/4 c  seedless raspberry preserves \\t frosting  opt ,  recipe below</td>\n",
       "      <td>separate eggs one hour before preparing cake  ,  if possible  .  allow whites to sit  ,  covered  ,  at room temperature for 1 hour  .  put 4 yolks in a cup  ;</td>\n",
       "    </tr>\n",
       "    <tr>\n",
       "      <th>13</th>\n",
       "      <td>3 tb butter or margarine \\t 3 tb hershey's cocoa \\t 2/3 c  powdered sugar \\t 1 tb milk \\t 1/4 ts vanilla extract \\t 1 3/4 c  all - purpose flour \\t 1 1/2 c  granulated sugar \\t 2/3 c  hershey's cocoa \\t 1 1/2 ts baking soda \\t 1 ts salt \\t 1 1/2 c  dairy sour cream \\t 1/2 c  butter or margarine  -  softened \\t 2    eggs \\t 1 ts vanilla extract \\t 1/2 c  chopped nuts \\t powdered sugar  optional</td>\n",
       "      <td>heat oven to 350 f .  grease and flour 13x9x2 - inch baking pan  .  prepare crater filling  .  in large bowl  ,  stir together flour  ,  sugar  ,  cocoa  ,  baking soda and salt  .  add sour cream  ,  butter  ,  eggs and vanilla  ;  blend on low speed  .  beat on medium speed of electric mixer 3 minutes  ,  scraping bowl occasionally  .  pour batter into prepared pan  .  drop half teaspoonfuls of filling 1 inch apart over top of batter  .  with fork  ,  marble filling lightly over batter  . ...</td>\n",
       "    </tr>\n",
       "    <tr>\n",
       "      <th>14</th>\n",
       "      <td>3    egg whites \\t 1 c  light brown sugar \\t 2 tb vegetable oil \\t 1 ts vanilla \\t 1 c  whole wheat flour \\t 1/2 c  cocoa \\t 1 ts baking powder \\t 1 ds nutmeg</td>\n",
       "      <td>preheat the oven to 325 degrees  .  beat the egg whites with an electric mixer until stiff  .  gradually beat in the sugar  ,  oil  ,  and vanilla  .  in a small mixing bowl  ,  combine the remaining ingredients  .  work into the whipped egg white mixture to form a stiff dough  .  drop by rounded teaspoonfuls onto a nonstick baking sheet  .  bake for 10 minutes  ,  or until the tops of the cookies feel set  .  cool on a rack  ,  then store in an airtight container  .</td>\n",
       "    </tr>\n",
       "    <tr>\n",
       "      <th>15</th>\n",
       "      <td>2 c  cold espresso blend coffee \\t 2 c  cold cocoa  2 - 3 heaping teaspoons of unsweetened cocoa to 1 cup of milk  \\t 1 ts vanilla extract \\t 1 c  sweetened whipped cream</td>\n",
       "      <td>combine cold coffee  ,  cocoa and vanilla  .  pour over ice in tall glasses  .  top each with 2 tablespoons of whipped cream  .  15.5 grams total fat  ;</td>\n",
       "    </tr>\n",
       "    <tr>\n",
       "      <th>16</th>\n",
       "      <td>2 tb cocoa \\t 2 tb butter \\t 3 tb milk \\t 3 c  confectioners' sugar ,  sifted \\t 1 ts vanilla extract</td>\n",
       "      <td>combine cocoa  ,  milk and butter in a medium - sized  ,  heat resistant  ,  non - metallic bowl  .  heat  ,  uncovered  ,  in microwave oven 11/2 minutes or until butter is melted  .  gradually add confectioners ' sugar and beat with electric mixer till smooth  .  stir in vanilla  .  fills and frosts two 8 - inch layers  .  if consistency is too thick  ,  add 1 to 2 tablespoons more milk as you are beating in confectioners ' sugar  .</td>\n",
       "    </tr>\n",
       "    <tr>\n",
       "      <th>17</th>\n",
       "      <td>2/3 c  cocoa \\t 3 c  sugar \\t 1 1/2 c  heavy cream or non - dairy \\t liquid cream substitute \\t 1/4 c  butter \\t 1 ts vanilla</td>\n",
       "      <td>combine cocoa  ,  sugar  ,  salt  ,  and heavy cream in a large saucepan  .  bring to a rolling boil  ;  then reduce heat to medium and cook to 234 degrees f .  without stirring  .  remove from heat and add butter and vanilla  .  cool to lukewarm  - lrb -  about 110 degrees f .   - rrb -   .  beat by hand or with mixer until fudge thickens and loses some of its gloss  .  quickly spread fudge in lightly buttered 8 - inch square pan  .  when cool  ,  cut into squares  .</td>\n",
       "    </tr>\n",
       "    <tr>\n",
       "      <th>18</th>\n",
       "      <td>3/4 c  butter \\t 1 1/2 c  sugar \\t 3    eggs \\t 1 1/2 tb vanilla \\t 2 1/4 c  cake flour  -  -  sifted \\t 1/2 c  cocoa \\t 3 tb baking powder \\t 1 c  milk \\t fudge frosting -  -  -  -  -  \\t 6 tb cocoa \\t 3 c  sugar \\t 3 tb light corn syrup \\t 1/4 ts salt \\t 1 c  milk \\t 1/3 c  butter \\t 1 ts vanilla</td>\n",
       "      <td>cream butter and sugar until light  .  add eggs  ,  one at a time  ,  beating well after each addition  .  add vanilla and mix til blended  .  sift dry ingredients together  .  add to creamed mixture alternately with milk  ,  beating after each addition until blended  .  bake in 2 greased and floured 9x1 1/2 - inch pans at 350f for 25 minutes  .  butter sides of a heavy 3 - quart saucepan  .  combine cocoa  ,  sugar  ,  corn syrup  ,  salt  ,  and milk  .  cook ans stir over low heat til sug...</td>\n",
       "    </tr>\n",
       "    <tr>\n",
       "      <th>19</th>\n",
       "      <td>1/2 c  butter or margarine \\t 1/2 c  hershey's cocoa ;  or .  .  .  hershey's european style cocoa \\t 3 2/3 c  powdered sugar \\t 1/3 c  milk \\t 1 ts vanilla extract</td>\n",
       "      <td>in small saucepan over low heat  ,  melt butter  .  add cocoa  ;  stir constantly just until mixture begins to boil  .  remove from heat  ;  pour into small mixer bowl  .  add powdered sugar alternately with milk  ,  beating to spreading consistency  .  blend in vanilla  .  spread frosting while warm  .  about 2 - 1/4 cups frosting  .  add 1 tablespoon finely crushed peppermint candy to frosting mixture  .  hershey 's is a registered trademark of hershey foods corporation  .</td>\n",
       "    </tr>\n",
       "  </tbody>\n",
       "</table>\n",
       "</div>"
      ],
      "text/plain": [
       "                                                                                                                                                                                                                                                                                                                                                                                                      Ingredients  \\\n",
       "0                                                                                        6 tb butter or margarine  -  softened \\t 3/4 c  c and h powdered sugar \\t 1 c  all - purpose flour \\t 1 tb milk \\t 2    eggs \\t 1 c  c and h granulated sugar \\t 1/2 c  cocoa \\t 2 tb flour \\t 1/2 ts baking powder \\t 1/2 ts salt \\t 1 ts vanilla \\t 1/4 ts almond extract  optional  \\t 1 c  chopped almonds or pecans   \n",
       "1                                                                                                                                                                                                                                                   1 c  vanilla wafer cookies ,  finely crushed \\t 1 c  confectioner's sugar \\t 2 tb cocoa \\t 1 c  pecans ,  finely chopped \\t 2 tb corn syrup \\t 1/2 c  bourbon   \n",
       "2                                                                                                                                1 c  all - purpose flour \\t 1/2 c  sugar \\t 2 ts baking powder \\t 1/2 ts salt \\t 2 tb unsweetened cocoa powder \\t 1 1/2 c  all - bran ?  cereal \\t 3/4 c  skim milk \\t 2    egg whites \\t 1/4 c  vegetable oil \\t 1 c  sliced ripe banana ;   about 1 \\t vegetable cooking spray   \n",
       "3                                                                                                                                                                                                         5 1/2 c  flour \\t 1    cake compressed yeast \\t or 1  cake dry yeast \\t 2 c  milk ,  scalded and cooled \\t 1/2 ts salt \\t 1/2 c  cocoa \\t 1/4 c  shortening \\t 2    eggs ,  well beaten \\t 1/2 c  sugar   \n",
       "4                                                                                                                                                                                                                                                                        bread  -  -  to fill dish 2/3 \\t ful \\t 2 c  skim milk \\t 2/3 c  sugar \\t 2    eggs  -  -  or 4 egg whites \\t 2 tb cocoa \\t 1 ts vanilla   \n",
       "5                                                                                                                                                                                                                                     4    egg whites \\t 1/3 c  oil \\t 1/4 c  nonfat yogurt \\t 1 ts vanilla \\t 1 1/3 c  sugar \\t 1/2 c  cocoa powder \\t 1 1/4 c  flour \\t 1/4 ts salt \\t 1 tb confectioners sugar   \n",
       "6                                                                                                                                                                                            2/3 c  sifted all - purpose flour \\t 1/3 c  cocoa \\t 1/2 ts baking powder \\t 1/2 ts salt \\t 2    eggs ;  unbeaten \\t 1 c  c & h golden brown sugar \\t 1 ts vanilla \\t 1/3 c  salad oil \\t 1 c  coarsely chopped nuts   \n",
       "7                                                                                                                                                                                                                                                                          1 c  melted butter or margarine \\t 2    eggs \\t 2 c  brown sugar \\t 6 tb cocoa \\t 1 1/2 c  flour \\t 1 ts baking powder \\t 1 ts vanilla   \n",
       "8                                                                                                                                                  1 2/3 c  all - purpose flour \\t 1 1/2 c  sugar \\t 1/2 c  hershey cocoa \\t 1 1/2 ts baking soda \\t 1/2 ts baking powder \\t 1 ts salt \\t 2    eggs \\t 1/2 c  shortening \\t 1 1/3 c  buttermilk or sour milk  \\t 1 ts vanilla \\t chocolate glaze  recipe foll ws    \n",
       "9                                1/2 c  cocoa \\t 1/2 c  boiling water \\t 3/4 c   1 1/2 sticks  margerine  @  \\t room temperature \\t liquid sugar substitue equal \\t to 1/2 cup sugar \\t 2 ts vinilla ;  \\t 3    large egg whites ;  @  rm temp ;  \\t 1/2 ts cream of tartar \\t 1/3 c  sugar \\t 2 1/2 c  cake flour \\t 1 ts baking soda \\t 2 ts baking powder \\t 1/4 ts salt \\t 1/2 ts cinnamon \\t 1 c  cool water   \n",
       "10                                                                                                                                                        16 oz cream cheese ;  softened \\t 3/4 c  sugar ;  plus .  .  .  \\t 2 tb sugar ;   divided  \\t 1/2 c  hershey's cocoa \\t 2 ts vanilla extract ;  divided \\t 2    eggs \\t 1 c  dairy sour cream \\t graham crust  recipe follows  \\t fresh fruit ,  sliced   \n",
       "11                                                                                                                                                               3/4 c  boiling water \\t 1/2 c  cocoa \\t 1 1/2 c  flour  -  -  sifted \\t 1 3/4 c  sugar \\t 1 1/2 tb baking powder \\t 1/2 tb salt \\t 1/2 c  oil \\t 1 ts vanilla \\t 1/2 ts almond extract \\t 1 c  egg whites  -  -  7 - 8 \\t 1/2 ts cream of tartar   \n",
       "12                              8 lg eggs \\t 1/4 c  water \\t 1/4 c  vegetable oil \\t 1 2/3 c  unsifted cake flour \\t 1/2 c  unsweetened cocoa \\t 1 c  sugar \\t 1 1/2 ts baking soda \\t 1/2 ts salt \\t 1 ts vanilla \\t 1/2 ts cream oftartar \\t 1 c  heavy cream \\t 2 tb confectioners' sugar \\t 1/2 ts vanilla \\t 2 tb unsweetened cocoa \\t 1/4 c  seedless raspberry preserves \\t frosting  opt ,  recipe below    \n",
       "13  3 tb butter or margarine \\t 3 tb hershey's cocoa \\t 2/3 c  powdered sugar \\t 1 tb milk \\t 1/4 ts vanilla extract \\t 1 3/4 c  all - purpose flour \\t 1 1/2 c  granulated sugar \\t 2/3 c  hershey's cocoa \\t 1 1/2 ts baking soda \\t 1 ts salt \\t 1 1/2 c  dairy sour cream \\t 1/2 c  butter or margarine  -  softened \\t 2    eggs \\t 1 ts vanilla extract \\t 1/2 c  chopped nuts \\t powdered sugar  optional    \n",
       "14                                                                                                                                                                                                                                                 3    egg whites \\t 1 c  light brown sugar \\t 2 tb vegetable oil \\t 1 ts vanilla \\t 1 c  whole wheat flour \\t 1/2 c  cocoa \\t 1 ts baking powder \\t 1 ds nutmeg   \n",
       "15                                                                                                                                                                                                                                     2 c  cold espresso blend coffee \\t 2 c  cold cocoa  2 - 3 heaping teaspoons of unsweetened cocoa to 1 cup of milk  \\t 1 ts vanilla extract \\t 1 c  sweetened whipped cream   \n",
       "16                                                                                                                                                                                                                                                                                                          2 tb cocoa \\t 2 tb butter \\t 3 tb milk \\t 3 c  confectioners' sugar ,  sifted \\t 1 ts vanilla extract   \n",
       "17                                                                                                                                                                                                                                                                                  2/3 c  cocoa \\t 3 c  sugar \\t 1 1/2 c  heavy cream or non - dairy \\t liquid cream substitute \\t 1/4 c  butter \\t 1 ts vanilla   \n",
       "18                                                                                                    3/4 c  butter \\t 1 1/2 c  sugar \\t 3    eggs \\t 1 1/2 tb vanilla \\t 2 1/4 c  cake flour  -  -  sifted \\t 1/2 c  cocoa \\t 3 tb baking powder \\t 1 c  milk \\t fudge frosting -  -  -  -  -  \\t 6 tb cocoa \\t 3 c  sugar \\t 3 tb light corn syrup \\t 1/4 ts salt \\t 1 c  milk \\t 1/3 c  butter \\t 1 ts vanilla   \n",
       "19                                                                                                                                                                                                                                           1/2 c  butter or margarine \\t 1/2 c  hershey's cocoa ;  or .  .  .  hershey's european style cocoa \\t 3 2/3 c  powdered sugar \\t 1/3 c  milk \\t 1 ts vanilla extract   \n",
       "\n",
       "                                                                                                                                                                                                                                                                                                                                                                                                                                                                                                                 Recipe  \n",
       "0                                                                   cream together butter and powdered sugar  .  blend in 1 cup flour and milk  .  spread evenly in bottom of ungreased 9 - inch square pan  .  bake in 350 degree oven 10 to 12 minutes  .  beat eggs slightly  ;  combine dry ingredients and add to eggs  .  blend in vanilla and almond extract  ;  fold in almonds  .  spread over hot baked layer  ;  return to oven and bake 20 minutes longer  .  cool  ;  while warm  ,  cut into 24 bars  .    \n",
       "1                                                                                                                                                                                               combine dry ingredients and mix well  .  add corn syrup and bourbon and mix well  .  if too moist add a few cookie crumbs  ,  if too dry add a little more bourbon  .  shape into small balls and roll in fruit sugar or fonely chopped pecans  .  store in an airtight container  .  also good made with dark rum  .    \n",
       "2   kellogg 's all - bran 1  .  stir together flour  ,  sugar  ,  baking powder  ,  salt  ,  and cocoa powder  .  set aside  .  in large mixing bowl  ,  combine all - bran cereal and milk  .  let stand 5 minutes or until cereal softens  .  add egg whites and oil  .  beat well  .  stir in bananas  .  add flour mixture stirring only until combined  .  portion batte evenly into twelve 2 - 1/2 inch muffin - pan cups coated with cooking spray  .  bake at 400 f .  about 25 minutes or until lightly bro...  \n",
       "3   soften yeast and dissolve 1 tablespoon sugar in lukewarm milk  .  add 3 cups flour and beat until smooth  .  cover and set aside to rise in a warm place until light  .  add shortening and sugar  ,  which have been creamed together  ,  eggs  ,  cocoa  ,  salt  ,  and remainder of flour or enough to make a soft dough  .  knead lightly and place in well - oiled bowl  .  cover and set in a warm place until double in bulk about 2 hours  .  form into loaves  .  place in well - oiled bread pans  , ...  \n",
       "4                                                                                                        into a greased casserole dish break up enough bread to fill it 2/3 full  .  over this pour 2/3 cup sugar  ,  2 heaping tbsp cocoa that have been mixed together  .  toss all together lightly  - lrb -  to coat the bread  - rrb -   .  to 2 cups of milk add 2 well beaten eggs and 1 tsp vanilla  .  pour this over the bread and it should just cover the pieces  .  bake at 350 fo r about 45 minutes  .    \n",
       "5                                                                                                                       heat oven to 350 degrees  .  oil bottom of 9 - inch square pan  .  place egg whites in a large bowl  .  beat until slightly frothy  .  add oil  ,  yogurt and vanilla  ,  mix well  .  add sugar and cocoa  ,  mix well  .  add flour and salt  .  mix until blended  .  pour into pan  .  bake at 360 degrees for 26 - 28 minutes  .  avoid over baking  .  dust with confectioners sugar  .    \n",
       "6                                                                                                    sift together flour  ,  cocoa  ,  baking powder  ,  and salt  ;  set aside  .  in mixing bowl slightly beat the eggs  .  gradually stir in sugar  .  add vanilla and oil and mix well  .  stir in flour - cocoa mixture  ,  then nuts  .  spread in greased shallow 11x7 or 9 - inch square pan  .  bake at 350 degrees for 22 to 25 minutes  .  cool in pan  ,  then cut in bars  ,  squares  ,  or diamonds  .    \n",
       "7                                                                                                                                                                                                                                                                                                                                            mix sugar and cocoa together  .  add butter  - lrb -  or margarine  - rrb -  and eggs  .  mix well  .  add the rest of the ingredients  .  bake at 350 for 25 minutes  .    \n",
       "8   heat oven to 350 degrees  .  generously grease and flour 12 cup bundt pan  .  in large mixer bowl  ,  blend flour  ,  sugar  ,  cocoa  ,  baking soda  ,  baking powder and salt  ;  add remaining ingredients except chocolate glaze  .  beat on low speed 1 minute  ,  scraping bowl constantly  .  beat on high speed 3 minutes  ,  scraping bowl occasionally  .  pour into prepared pan  .  bake 50 to 55 minutes or until wooden toothpick inserted in center comes out clean  .  cool 10 minutes  ;  remo...  \n",
       "9   mix together cocoa and boiling water to blend and set aside to cool to room temperature  .  cream margarine at medium speed until light and fluffy  .  add sweetener and vanilla to creamed misture  ,  along with cooled cocoa mixture  .  mix at medium speed until well blended  .  beat egg whites at medium speed until foamy  .  add cream of tartar and beat at high speed  ,  gradually adding sugar  ,  to form a meringue  .  set aside for alter use  .  stir together flour  ,  soda  ,  baking powd...  \n",
       "10  heat oven to 375 degrees fahrenheit  .  in large mixer bowl  ,  beat cream cheese  ,  3/4 cup sugar  ,  cocoa and 1 teaspoon vanilla until well blended  .  add eggs  ;  blend well  .  pour batter into prepared graham crust  .  bake 20 minutes  .  remove from oven  ;  cool 15 minutes  .  increase oven temperature to 425 degrees fahrenheit  .  in small bowl  ,  stir together sour cream  ,  remaining 2 tablespoons sugar and remaining 1 teaspoon vanilla until smooth  ;  spread evenly over top of...  \n",
       "11                                                                                                                                                     blend cocoa and water and cool  .  mix flour  .  baking powder and salt  .  beat yolks with half of sugar  .  in another bowl  ,  beats whites wi th cream of tartar  ,  gradually adding rest of sugar till stiff peaks form  .  fold in yolk mixture and dry ings  .  spoon into ungreased t ube pan  .  bake about 65 min  .  at 325f  .  invert to cool  .    \n",
       "12                                                                                                                                                                                                                                                                                                                                                    separate eggs one hour before preparing cake  ,  if possible  .  allow whites to sit  ,  covered  ,  at room temperature for 1 hour  .  put 4 yolks in a cup  ;    \n",
       "13  heat oven to 350 f .  grease and flour 13x9x2 - inch baking pan  .  prepare crater filling  .  in large bowl  ,  stir together flour  ,  sugar  ,  cocoa  ,  baking soda and salt  .  add sour cream  ,  butter  ,  eggs and vanilla  ;  blend on low speed  .  beat on medium speed of electric mixer 3 minutes  ,  scraping bowl occasionally  .  pour batter into prepared pan  .  drop half teaspoonfuls of filling 1 inch apart over top of batter  .  with fork  ,  marble filling lightly over batter  . ...  \n",
       "14                            preheat the oven to 325 degrees  .  beat the egg whites with an electric mixer until stiff  .  gradually beat in the sugar  ,  oil  ,  and vanilla  .  in a small mixing bowl  ,  combine the remaining ingredients  .  work into the whipped egg white mixture to form a stiff dough  .  drop by rounded teaspoonfuls onto a nonstick baking sheet  .  bake for 10 minutes  ,  or until the tops of the cookies feel set  .  cool on a rack  ,  then store in an airtight container  .    \n",
       "15                                                                                                                                                                                                                                                                                                                                                           combine cold coffee  ,  cocoa and vanilla  .  pour over ice in tall glasses  .  top each with 2 tablespoons of whipped cream  .  15.5 grams total fat  ;    \n",
       "16                                                             combine cocoa  ,  milk and butter in a medium - sized  ,  heat resistant  ,  non - metallic bowl  .  heat  ,  uncovered  ,  in microwave oven 11/2 minutes or until butter is melted  .  gradually add confectioners ' sugar and beat with electric mixer till smooth  .  stir in vanilla  .  fills and frosts two 8 - inch layers  .  if consistency is too thick  ,  add 1 to 2 tablespoons more milk as you are beating in confectioners ' sugar  .    \n",
       "17                           combine cocoa  ,  sugar  ,  salt  ,  and heavy cream in a large saucepan  .  bring to a rolling boil  ;  then reduce heat to medium and cook to 234 degrees f .  without stirring  .  remove from heat and add butter and vanilla  .  cool to lukewarm  - lrb -  about 110 degrees f .   - rrb -   .  beat by hand or with mixer until fudge thickens and loses some of its gloss  .  quickly spread fudge in lightly buttered 8 - inch square pan  .  when cool  ,  cut into squares  .    \n",
       "18  cream butter and sugar until light  .  add eggs  ,  one at a time  ,  beating well after each addition  .  add vanilla and mix til blended  .  sift dry ingredients together  .  add to creamed mixture alternately with milk  ,  beating after each addition until blended  .  bake in 2 greased and floured 9x1 1/2 - inch pans at 350f for 25 minutes  .  butter sides of a heavy 3 - quart saucepan  .  combine cocoa  ,  sugar  ,  corn syrup  ,  salt  ,  and milk  .  cook ans stir over low heat til sug...  \n",
       "19                    in small saucepan over low heat  ,  melt butter  .  add cocoa  ;  stir constantly just until mixture begins to boil  .  remove from heat  ;  pour into small mixer bowl  .  add powdered sugar alternately with milk  ,  beating to spreading consistency  .  blend in vanilla  .  spread frosting while warm  .  about 2 - 1/4 cups frosting  .  add 1 tablespoon finely crushed peppermint candy to frosting mixture  .  hershey 's is a registered trademark of hershey foods corporation  .    "
      ]
     },
     "execution_count": 131,
     "metadata": {},
     "output_type": "execute_result"
    }
   ],
   "source": [
    "df[:20]"
   ]
  },
  {
   "cell_type": "code",
   "execution_count": null,
   "metadata": {},
   "outputs": [
    {
     "data": {
      "text/html": [
       "<div>\n",
       "<style scoped>\n",
       "    .dataframe tbody tr th:only-of-type {\n",
       "        vertical-align: middle;\n",
       "    }\n",
       "\n",
       "    .dataframe tbody tr th {\n",
       "        vertical-align: top;\n",
       "    }\n",
       "\n",
       "    .dataframe thead th {\n",
       "        text-align: right;\n",
       "    }\n",
       "</style>\n",
       "<table border=\"1\" class=\"dataframe\">\n",
       "  <thead>\n",
       "    <tr style=\"text-align: right;\">\n",
       "      <th></th>\n",
       "      <th>Ingredients</th>\n",
       "      <th>Recipe</th>\n",
       "    </tr>\n",
       "  </thead>\n",
       "  <tbody>\n",
       "    <tr>\n",
       "      <th>69</th>\n",
       "      <td>1/2 c  butter\\t2 c  sugar\\t4    eggs\\t3 ts vanilla\\t1 1/2 c  sifted flour\\t1/2 c  unsweetened cocoa\\t1/2 ts salt\\t1 c  flaked coconut\\t1/2 c  chocolate chips\\t2 tb sugar\\t1/2 c  walnuts; chopped  opt</td>\n",
       "      <td>melt butter over low heat , then remove . add 2 c sugar . beat . add eggs and vanilla . blend . add flour , cocoa , salt . mix . stir in coconut . pour into greased 13x9 '' pan . sprinkle remaining ingredients over top . bake at 350 for 30 minutes . cool in pan and cut into bars .</td>\n",
       "    </tr>\n",
       "    <tr>\n",
       "      <th>70</th>\n",
       "      <td>24 2/3 oz sugar\\t2    coconuts\\t1 1/4 oz cashews\\t8    cardam seeds; powdered\\t7000 cg ghee  recipe</td>\n",
       "      <td>shred the coconut . break the cashewnuts into small pieces &amp; fry them in ghee . powder the cardamom . heat water in a vessel containing 1/4 ltr . of water and add the sugar to it . after the sugary liquid is no longer thin , add the coconut shreds and heat it until it turns thick . after sufficient stirring , add the fried cashewnut pieces and ghee and stir the mixture well . add the powdered cardamom and mix it thoroughly and stop heating .</td>\n",
       "    </tr>\n",
       "    <tr>\n",
       "      <th>71</th>\n",
       "      <td>base:\\t2 c  flour; all purpose\\t1/3 c  sugar; granulated\\t1 c  butter; cold, cubed\\ttopping:\\t1/4 c  butter\\t3    eggs; lightly beaten\\t2 c  sugar; brown\\t1/2 c  rolled oats\\t3 ts flour; all purpose\\t1 ts baking powder\\t1 ts vanilla extract\\t1/4 ts salt\\t1/2 c  raisins\\t1/2 c  coconut; unsweetened, flake\\t1/2 c  pecans; chopped</td>\n",
       "      <td>preheat oven to 350f . in bowl , combine flour and sugar , cut in butter till mixture ressembles coarse crumbs . press into 13 '' x 9 '' baking pan . bake in 350f 15 minutes or till golden . in bowl , mix together butter and eggs ; blend in sugar , rolled oats , flour , baking powder , vanilla and salt . stir in raisins , coconut and pecans ; pour over base . bake in preheated 350f oven 20 , to 25 minutes or till top is golden brown and springs back when lightly touched . run knife around ed...</td>\n",
       "    </tr>\n",
       "    <tr>\n",
       "      <th>72</th>\n",
       "      <td>6 tb butter\\t1 c  dark brown sugar\\t2    eggs\\t1 ts vanilla extract\\t2/3 c  flour\\t1 ts baking powder\\t1/4 ts salt\\t1/2 c  chopped pecans\\t1/2 c  shredded coconut</td>\n",
       "      <td>preheat oven to 350 ` f. grease an 8 '' square baking pan . combine the butter and brown sugar in a sturdy saucepan and set over moderate heat . stir frequently until the mixture is bubbly and the sugar is melted , then set aside to cool slightly . beat the eggs and vanilla into the butter and brown sugar mixture . combine the flour , baking powder and salt , then stir and toss them together . add to the first mixture and beat just until thoroughly mixed . stir in the pecans and the coconut ...</td>\n",
       "    </tr>\n",
       "    <tr>\n",
       "      <th>73</th>\n",
       "      <td>1 1/2 c  all-purpose flour\\t1/2 ts baking soda\\t1/2 c  butter or shortening\\t1/2 c  firmly packed brown sugar\\t1 pk butterscotch pudding mix  4 serving \\t1    egg\\t1/2 c  flaked coconut</td>\n",
       "      <td>mix flour with baking soda . cream butter and beat in sugar and pudding mix . add egg and blend well . stir in flour mixture . form into small balls about 1 inch in diameter . roll in coconut . place on ungreased baking sheets and press with bottom of glass that has been dipped in flour . bake at 350 degrees f for 10 minutes . remove from sheets and cool on racks . 70 cal ;</td>\n",
       "    </tr>\n",
       "    <tr>\n",
       "      <th>74</th>\n",
       "      <td>4    eggs\\t1/2 c  oil\\t1/2 c  water\\t1/2 ts vanilla\\t1/2 ts salt\\t1 1/2 ts baking powder\\t1 c  cake flour\\t3/4 c  sugar\\t2 c  milk; plus...\\t2 tb milk\\t3/4 c  sugar\\t1/2 ts vanilla\\t1 tb cornstarch\\t2    eggs; beaten\\t1 1/2 c  whipping cream\\t3 tb sugar\\t3 c  freshly grated coconut</td>\n",
       "      <td>separate the first 4 eggs . mix egg yolks , oil , water and 1/2 teaspoon vanilla . add salt , baking powder , cake flour and 3/4 cup sugar and mix until smooth . beat 4 egg whites until stiff and carefully fold into batter . pour into 10-inch springform pan that has been greased and floured or waxed paper lined . bake at 325f about 50 minutes , or until cake tests done . cool . cut cake into 4 very thin or 3 thicker layers . to make filling , combine 2 cups milk , 3/4 cup sugar and 1/2 teasp...</td>\n",
       "    </tr>\n",
       "    <tr>\n",
       "      <th>75</th>\n",
       "      <td>4 x  eggs\\t1/2 c  oil\\t1/2 c  water\\t1/2 ts vanilla\\t1/2 ts salt\\t1 1/2 ts baking powder\\t1 c  cake flour\\t3/4 c  sugar\\t2 c  plus 2 t milk\\t3/4 c  sugar\\t1/2 ts vanilla\\t1 tb cornstarch\\t2 x  eggs, beaten\\t1 1/2 c  whipping cream\\t3 tb sugar\\t3 c  freshly grated coconut</td>\n",
       "      <td>separate 4 eggs . mix eggs yolks , oil , water and 1/2 tsp vanilla . add salt , baking powder , cake flour and 3.4 c. sugar and mix until smooth . beat 4 egg whites until stiff and carefully fold into batter . pour into 10 in springform pan that has been greased and floured and waxed paper lined . bake at 325f about 50 minutes , or until cake tests done . cool . cut cake into 4 very thin or 3 thicker layers . to make filling , combine 2 cups milk , 3/4 c. sugar and 1/2 tsp vanilla in saucepa...</td>\n",
       "    </tr>\n",
       "    <tr>\n",
       "      <th>76</th>\n",
       "      <td>1 lg coconut \\t1 pn salt\\t1 pt milk, sweet\\t1 c  sugar\\t1 tb flour, heaping</td>\n",
       "      <td>to coconut milk to make 1 pint . -- cook all ingredients in a 3-quart saucepan except coconut until thick . add coconut and cook another 10 minutes on low-heat . cool before putting on any white cake .</td>\n",
       "    </tr>\n",
       "    <tr>\n",
       "      <th>77</th>\n",
       "      <td>1 ea coconut, large   \\t1 x  salt, pinch\\t1 pt milk, sweet\\t1 c  sugar\\t1 tb flour, heaping</td>\n",
       "      <td>quart saucepan except coconut until thick . add coconut and cook another 10 minutes on low-heat . cool before putting on any white cake .</td>\n",
       "    </tr>\n",
       "    <tr>\n",
       "      <th>78</th>\n",
       "      <td>3 c  granulated sugar\\t1 c  milk\\t3 c  grated coconut</td>\n",
       "      <td>boil the sugar and milk over a medium heat until it forms a thin syrup . -lrb- 232 to 240 degrees on your candy thermometer -rrb- add grated coconut , stirring frequently to prevent burning . when mixture thickens , drop by the spoonful onto a piece of waxed paper and allow to cool .</td>\n",
       "    </tr>\n",
       "  </tbody>\n",
       "</table>\n",
       "</div>"
      ],
      "text/plain": [
       "                                                                                                                                                                                                                                                                                                                                  Ingredients  \\\n",
       "69                                                                                                                                   1/2 c  butter\\t2 c  sugar\\t4    eggs\\t3 ts vanilla\\t1 1/2 c  sifted flour\\t1/2 c  unsweetened cocoa\\t1/2 ts salt\\t1 c  flaked coconut\\t1/2 c  chocolate chips\\t2 tb sugar\\t1/2 c  walnuts; chopped  opt    \n",
       "70                                                                                                                                                                                                                                       24 2/3 oz sugar\\t2    coconuts\\t1 1/4 oz cashews\\t8    cardam seeds; powdered\\t7000 cg ghee  recipe    \n",
       "71  base:\\t2 c  flour; all purpose\\t1/3 c  sugar; granulated\\t1 c  butter; cold, cubed\\ttopping:\\t1/4 c  butter\\t3    eggs; lightly beaten\\t2 c  sugar; brown\\t1/2 c  rolled oats\\t3 ts flour; all purpose\\t1 ts baking powder\\t1 ts vanilla extract\\t1/4 ts salt\\t1/2 c  raisins\\t1/2 c  coconut; unsweetened, flake\\t1/2 c  pecans; chopped   \n",
       "72                                                                                                                                                                         6 tb butter\\t1 c  dark brown sugar\\t2    eggs\\t1 ts vanilla extract\\t2/3 c  flour\\t1 ts baking powder\\t1/4 ts salt\\t1/2 c  chopped pecans\\t1/2 c  shredded coconut   \n",
       "73                                                                                                                                                  1 1/2 c  all-purpose flour\\t1/2 ts baking soda\\t1/2 c  butter or shortening\\t1/2 c  firmly packed brown sugar\\t1 pk butterscotch pudding mix  4 serving \\t1    egg\\t1/2 c  flaked coconut   \n",
       "74                                                 4    eggs\\t1/2 c  oil\\t1/2 c  water\\t1/2 ts vanilla\\t1/2 ts salt\\t1 1/2 ts baking powder\\t1 c  cake flour\\t3/4 c  sugar\\t2 c  milk; plus...\\t2 tb milk\\t3/4 c  sugar\\t1/2 ts vanilla\\t1 tb cornstarch\\t2    eggs; beaten\\t1 1/2 c  whipping cream\\t3 tb sugar\\t3 c  freshly grated coconut   \n",
       "75                                                            4 x  eggs\\t1/2 c  oil\\t1/2 c  water\\t1/2 ts vanilla\\t1/2 ts salt\\t1 1/2 ts baking powder\\t1 c  cake flour\\t3/4 c  sugar\\t2 c  plus 2 t milk\\t3/4 c  sugar\\t1/2 ts vanilla\\t1 tb cornstarch\\t2 x  eggs, beaten\\t1 1/2 c  whipping cream\\t3 tb sugar\\t3 c  freshly grated coconut   \n",
       "76                                                                                                                                                                                                                                                                1 lg coconut \\t1 pn salt\\t1 pt milk, sweet\\t1 c  sugar\\t1 tb flour, heaping   \n",
       "77                                                                                                                                                                                                                                                1 ea coconut, large   \\t1 x  salt, pinch\\t1 pt milk, sweet\\t1 c  sugar\\t1 tb flour, heaping   \n",
       "78                                                                                                                                                                                                                                                                                      3 c  granulated sugar\\t1 c  milk\\t3 c  grated coconut   \n",
       "\n",
       "                                                                                                                                                                                                                                                                                                                                                                                                                                                                                                                 Recipe  \n",
       "69                                                                                                                                                                                                                           melt butter over low heat , then remove . add 2 c sugar . beat . add eggs and vanilla . blend . add flour , cocoa , salt . mix . stir in coconut . pour into greased 13x9 '' pan . sprinkle remaining ingredients over top . bake at 350 for 30 minutes . cool in pan and cut into bars .   \n",
       "70                                                       shred the coconut . break the cashewnuts into small pieces & fry them in ghee . powder the cardamom . heat water in a vessel containing 1/4 ltr . of water and add the sugar to it . after the sugary liquid is no longer thin , add the coconut shreds and heat it until it turns thick . after sufficient stirring , add the fried cashewnut pieces and ghee and stir the mixture well . add the powdered cardamom and mix it thoroughly and stop heating .   \n",
       "71  preheat oven to 350f . in bowl , combine flour and sugar , cut in butter till mixture ressembles coarse crumbs . press into 13 '' x 9 '' baking pan . bake in 350f 15 minutes or till golden . in bowl , mix together butter and eggs ; blend in sugar , rolled oats , flour , baking powder , vanilla and salt . stir in raisins , coconut and pecans ; pour over base . bake in preheated 350f oven 20 , to 25 minutes or till top is golden brown and springs back when lightly touched . run knife around ed...  \n",
       "72  preheat oven to 350 ` f. grease an 8 '' square baking pan . combine the butter and brown sugar in a sturdy saucepan and set over moderate heat . stir frequently until the mixture is bubbly and the sugar is melted , then set aside to cool slightly . beat the eggs and vanilla into the butter and brown sugar mixture . combine the flour , baking powder and salt , then stir and toss them together . add to the first mixture and beat just until thoroughly mixed . stir in the pecans and the coconut ...  \n",
       "73                                                                                                                            mix flour with baking soda . cream butter and beat in sugar and pudding mix . add egg and blend well . stir in flour mixture . form into small balls about 1 inch in diameter . roll in coconut . place on ungreased baking sheets and press with bottom of glass that has been dipped in flour . bake at 350 degrees f for 10 minutes . remove from sheets and cool on racks . 70 cal ;   \n",
       "74  separate the first 4 eggs . mix egg yolks , oil , water and 1/2 teaspoon vanilla . add salt , baking powder , cake flour and 3/4 cup sugar and mix until smooth . beat 4 egg whites until stiff and carefully fold into batter . pour into 10-inch springform pan that has been greased and floured or waxed paper lined . bake at 325f about 50 minutes , or until cake tests done . cool . cut cake into 4 very thin or 3 thicker layers . to make filling , combine 2 cups milk , 3/4 cup sugar and 1/2 teasp...  \n",
       "75  separate 4 eggs . mix eggs yolks , oil , water and 1/2 tsp vanilla . add salt , baking powder , cake flour and 3.4 c. sugar and mix until smooth . beat 4 egg whites until stiff and carefully fold into batter . pour into 10 in springform pan that has been greased and floured and waxed paper lined . bake at 325f about 50 minutes , or until cake tests done . cool . cut cake into 4 very thin or 3 thicker layers . to make filling , combine 2 cups milk , 3/4 c. sugar and 1/2 tsp vanilla in saucepa...  \n",
       "76                                                                                                                                                                                                                                                                                                           to coconut milk to make 1 pint . -- cook all ingredients in a 3-quart saucepan except coconut until thick . add coconut and cook another 10 minutes on low-heat . cool before putting on any white cake .   \n",
       "77                                                                                                                                                                                                                                                                                                                                                                           quart saucepan except coconut until thick . add coconut and cook another 10 minutes on low-heat . cool before putting on any white cake .   \n",
       "78                                                                                                                                                                                                                        boil the sugar and milk over a medium heat until it forms a thin syrup . -lrb- 232 to 240 degrees on your candy thermometer -rrb- add grated coconut , stirring frequently to prevent burning . when mixture thickens , drop by the spoonful onto a piece of waxed paper and allow to cool .   "
      ]
     },
     "execution_count": 91,
     "metadata": {},
     "output_type": "execute_result"
    }
   ],
   "source": [
    "df[69:79]"
   ]
  },
  {
   "cell_type": "code",
   "execution_count": null,
   "metadata": {},
   "outputs": [
    {
     "data": {
      "text/html": [
       "<div>\n",
       "<style scoped>\n",
       "    .dataframe tbody tr th:only-of-type {\n",
       "        vertical-align: middle;\n",
       "    }\n",
       "\n",
       "    .dataframe tbody tr th {\n",
       "        vertical-align: top;\n",
       "    }\n",
       "\n",
       "    .dataframe thead th {\n",
       "        text-align: right;\n",
       "    }\n",
       "</style>\n",
       "<table border=\"1\" class=\"dataframe\">\n",
       "  <thead>\n",
       "    <tr style=\"text-align: right;\">\n",
       "      <th></th>\n",
       "      <th>Ingredients</th>\n",
       "      <th>Recipe</th>\n",
       "    </tr>\n",
       "  </thead>\n",
       "  <tbody>\n",
       "    <tr>\n",
       "      <th>0</th>\n",
       "      <td>6 tb butter or margarine - softened\\t3/4 c  c and h powdered sugar\\t1 c  all-purpose flour\\t1 tb milk\\t2    eggs\\t1 c  c and h granulated sugar\\t1/2 c  cocoa\\t2 tb flour\\t1/2 ts baking powder\\t1/2 ts salt\\t1 ts vanilla\\t1/4 ts almond extract (optional)\\t1 c  chopped almonds or pecans</td>\n",
       "      <td>cream together butter and powdered sugar . blend in 1 cup flour and milk . spread evenly in bottom of ungreased 9-inch square pan . bake in 350 degree oven 10 to 12 minutes . beat eggs slightly ; combine dry ingredients and add to eggs . blend in vanilla and almond extract ; fold in almonds . spread over hot baked layer ; return to oven and bake 20 minutes longer . cool ; while warm , cut into 24 bars .</td>\n",
       "    </tr>\n",
       "    <tr>\n",
       "      <th>1</th>\n",
       "      <td>1 c  vanilla wafer cookies, finely crushed\\t1 c  confectioner's sugar\\t2 tb cocoa\\t1 c  pecans, finely chopped\\t2 tb corn syrup\\t1/2 c  bourbon</td>\n",
       "      <td>combine dry ingredients and mix well . add corn syrup and bourbon and mix well . if too moist add a few cookie crumbs , if too dry add a little more bourbon . shape into small balls and roll in fruit sugar or fonely chopped pecans . store in an airtight container . also good made with dark rum .</td>\n",
       "    </tr>\n",
       "    <tr>\n",
       "      <th>2</th>\n",
       "      <td>1 c  all-purpose flour\\t1/2 c  sugar\\t2 ts baking powder\\t1/2 ts salt\\t2 tb unsweetened cocoa powder\\t1 1/2 c  all-bran? cereal\\t3/4 c  skim milk\\t2    egg whites\\t1/4 c  vegetable oil\\t1 c  sliced ripe banana; (about 1\\tvegetable cooking spray</td>\n",
       "      <td>kellogg 's all-bran 1 . stir together flour , sugar , baking powder , salt , and cocoa powder . set aside . in large mixing bowl , combine all-bran cereal and milk . let stand 5 minutes or until cereal softens . add egg whites and oil . beat well . stir in bananas . add flour mixture stirring only until combined . portion batte evenly into twelve 2-1/2 inch muffin-pan cups coated with cooking spray . bake at 400 f. about 25 minutes or until lightly browned . serve warm .</td>\n",
       "    </tr>\n",
       "    <tr>\n",
       "      <th>3</th>\n",
       "      <td>5 1/2 c  flour\\t1    cake compressed yeast\\tor 1  cake dry yeast\\t2 c  milk, scalded and cooled\\t1/2 ts salt\\t1/2 c  cocoa\\t1/4 c  shortening\\t2    eggs, well beaten\\t1/2 c  sugar</td>\n",
       "      <td>soften yeast and dissolve 1 tablespoon sugar in lukewarm milk . add 3 cups flour and beat until smooth . cover and set aside to rise in a warm place until light . add shortening and sugar , which have been creamed together , eggs , cocoa , salt , and remainder of flour or enough to make a soft dough . knead lightly and place in well-oiled bowl . cover and set in a warm place until double in bulk about 2 hours . form into loaves . place in well-oiled bread pans , filling them 1/2 full . cover...</td>\n",
       "    </tr>\n",
       "    <tr>\n",
       "      <th>4</th>\n",
       "      <td>bread -- to fill dish 2/3\\tful\\t2 c  skim milk\\t2/3 c  sugar\\t2    eggs -- or 4 egg whites\\t2 tb cocoa\\t1 ts vanilla</td>\n",
       "      <td>into a greased casserole dish break up enough bread to fill it 2/3 full . over this pour 2/3 cup sugar , 2 heaping tbsp cocoa that have been mixed together . toss all together lightly -lrb- to coat the bread -rrb- . to 2 cups of milk add 2 well beaten eggs and 1 tsp vanilla . pour this over the bread and it should just cover the pieces . bake at 350 fo r about 45 minutes .</td>\n",
       "    </tr>\n",
       "    <tr>\n",
       "      <th>5</th>\n",
       "      <td>4    egg whites\\t1/3 c  oil\\t1/4 c  nonfat yogurt\\t1 ts vanilla\\t1 1/3 c  sugar\\t1/2 c  cocoa powder\\t1 1/4 c  flour\\t1/4 ts salt\\t1 tb confectioners sugar</td>\n",
       "      <td>heat oven to 350 degrees . oil bottom of 9-inch square pan . place egg whites in a large bowl . beat until slightly frothy . add oil , yogurt and vanilla , mix well . add sugar and cocoa , mix well . add flour and salt . mix until blended . pour into pan . bake at 360 degrees for 26-28 minutes . avoid over baking . dust with confectioners sugar .</td>\n",
       "    </tr>\n",
       "    <tr>\n",
       "      <th>6</th>\n",
       "      <td>2/3 c  sifted all-purpose flour\\t1/3 c  cocoa\\t1/2 ts baking powder\\t1/2 ts salt\\t2    eggs; unbeaten\\t1 c  c&amp;h golden brown sugar\\t1 ts vanilla\\t1/3 c  salad oil\\t1 c  coarsely chopped nuts</td>\n",
       "      <td>sift together flour , cocoa , baking powder , and salt ; set aside . in mixing bowl slightly beat the eggs . gradually stir in sugar . add vanilla and oil and mix well . stir in flour-cocoa mixture , then nuts . spread in greased shallow 11x7 or 9-inch square pan . bake at 350 degrees for 22 to 25 minutes . cool in pan , then cut in bars , squares , or diamonds .</td>\n",
       "    </tr>\n",
       "    <tr>\n",
       "      <th>7</th>\n",
       "      <td>1 c  melted butter or margarine\\t2    eggs\\t2 c  brown sugar\\t6 tb cocoa\\t1 1/2 c  flour\\t1 ts baking powder\\t1 ts vanilla</td>\n",
       "      <td>mix sugar and cocoa together . add butter -lrb- or margarine -rrb- and eggs . mix well . add the rest of the ingredients . bake at 350 for 25 minutes .</td>\n",
       "    </tr>\n",
       "    <tr>\n",
       "      <th>8</th>\n",
       "      <td>1 2/3 c  all-purpose flour\\t1 1/2 c  sugar\\t1/2 c  hershey cocoa\\t1 1/2 ts baking soda\\t1/2 ts baking powder\\t1 ts salt\\t2    eggs\\t1/2 c  shortening\\t1 1/3 c  buttermilk or sour milk \\t1 ts vanilla\\tchocolate glaze (recipe foll ws)</td>\n",
       "      <td>heat oven to 350 degrees . generously grease and flour 12 cup bundt pan . in large mixer bowl , blend flour , sugar , cocoa , baking soda , baking powder and salt ; add remaining ingredients except chocolate glaze . beat on low speed 1 minute , scraping bowl constantly . beat on high speed 3 minutes , scraping bowl occasionally . pour into prepared pan . bake 50 to 55 minutes or until wooden toothpick inserted in center comes out clean . cool 10 minutes ; remove from pan to wire rack . cool ...</td>\n",
       "    </tr>\n",
       "    <tr>\n",
       "      <th>9</th>\n",
       "      <td>1/2 c  cocoa\\t1/2 c  boiling water\\t3/4 c  (1 1/2 sticks) margerine @\\troom temperature\\tliquid sugar substitue equal\\tto 1/2 cup sugar\\t2 ts vinilla;\\t3    large egg whites;@ rm temp;\\t1/2 ts cream of tartar\\t1/3 c  sugar\\t2 1/2 c  cake flour\\t1 ts baking soda\\t2 ts baking powder\\t1/4 ts salt\\t1/2 ts cinnamon\\t1 c  cool water</td>\n",
       "      <td>mix together cocoa and boiling water to blend and set aside to cool to room temperature . cream margarine at medium speed until light and fluffy . add sweetener and vanilla to creamed misture , along with cooled cocoa mixture . mix at medium speed until well blended . beat egg whites at medium speed until foamy . add cream of tartar and beat at high speed , gradually adding sugar , to form a meringue . set aside for alter use . stir together flour , soda , baking powder , salt and cinnamon t...</td>\n",
       "    </tr>\n",
       "  </tbody>\n",
       "</table>\n",
       "</div>"
      ],
      "text/plain": [
       "                                                                                                                                                                                                                                                                                                                                Ingredients  \\\n",
       "0                                              6 tb butter or margarine - softened\\t3/4 c  c and h powdered sugar\\t1 c  all-purpose flour\\t1 tb milk\\t2    eggs\\t1 c  c and h granulated sugar\\t1/2 c  cocoa\\t2 tb flour\\t1/2 ts baking powder\\t1/2 ts salt\\t1 ts vanilla\\t1/4 ts almond extract (optional)\\t1 c  chopped almonds or pecans   \n",
       "1                                                                                                                                                                                           1 c  vanilla wafer cookies, finely crushed\\t1 c  confectioner's sugar\\t2 tb cocoa\\t1 c  pecans, finely chopped\\t2 tb corn syrup\\t1/2 c  bourbon   \n",
       "2                                                                                      1 c  all-purpose flour\\t1/2 c  sugar\\t2 ts baking powder\\t1/2 ts salt\\t2 tb unsweetened cocoa powder\\t1 1/2 c  all-bran? cereal\\t3/4 c  skim milk\\t2    egg whites\\t1/4 c  vegetable oil\\t1 c  sliced ripe banana; (about 1\\tvegetable cooking spray   \n",
       "3                                                                                                                                                       5 1/2 c  flour\\t1    cake compressed yeast\\tor 1  cake dry yeast\\t2 c  milk, scalded and cooled\\t1/2 ts salt\\t1/2 c  cocoa\\t1/4 c  shortening\\t2    eggs, well beaten\\t1/2 c  sugar   \n",
       "4                                                                                                                                                                                                                      bread -- to fill dish 2/3\\tful\\t2 c  skim milk\\t2/3 c  sugar\\t2    eggs -- or 4 egg whites\\t2 tb cocoa\\t1 ts vanilla   \n",
       "5                                                                                                                                                                               4    egg whites\\t1/3 c  oil\\t1/4 c  nonfat yogurt\\t1 ts vanilla\\t1 1/3 c  sugar\\t1/2 c  cocoa powder\\t1 1/4 c  flour\\t1/4 ts salt\\t1 tb confectioners sugar   \n",
       "6                                                                                                                                            2/3 c  sifted all-purpose flour\\t1/3 c  cocoa\\t1/2 ts baking powder\\t1/2 ts salt\\t2    eggs; unbeaten\\t1 c  c&h golden brown sugar\\t1 ts vanilla\\t1/3 c  salad oil\\t1 c  coarsely chopped nuts   \n",
       "7                                                                                                                                                                                                                1 c  melted butter or margarine\\t2    eggs\\t2 c  brown sugar\\t6 tb cocoa\\t1 1/2 c  flour\\t1 ts baking powder\\t1 ts vanilla   \n",
       "8                                                                                                  1 2/3 c  all-purpose flour\\t1 1/2 c  sugar\\t1/2 c  hershey cocoa\\t1 1/2 ts baking soda\\t1/2 ts baking powder\\t1 ts salt\\t2    eggs\\t1/2 c  shortening\\t1 1/3 c  buttermilk or sour milk \\t1 ts vanilla\\tchocolate glaze (recipe foll ws)   \n",
       "9  1/2 c  cocoa\\t1/2 c  boiling water\\t3/4 c  (1 1/2 sticks) margerine @\\troom temperature\\tliquid sugar substitue equal\\tto 1/2 cup sugar\\t2 ts vinilla;\\t3    large egg whites;@ rm temp;\\t1/2 ts cream of tartar\\t1/3 c  sugar\\t2 1/2 c  cake flour\\t1 ts baking soda\\t2 ts baking powder\\t1/4 ts salt\\t1/2 ts cinnamon\\t1 c  cool water   \n",
       "\n",
       "                                                                                                                                                                                                                                                                                                                                                                                                                                                                                                                Recipe  \n",
       "0                                                                                              cream together butter and powdered sugar . blend in 1 cup flour and milk . spread evenly in bottom of ungreased 9-inch square pan . bake in 350 degree oven 10 to 12 minutes . beat eggs slightly ; combine dry ingredients and add to eggs . blend in vanilla and almond extract ; fold in almonds . spread over hot baked layer ; return to oven and bake 20 minutes longer . cool ; while warm , cut into 24 bars .   \n",
       "1                                                                                                                                                                                                            combine dry ingredients and mix well . add corn syrup and bourbon and mix well . if too moist add a few cookie crumbs , if too dry add a little more bourbon . shape into small balls and roll in fruit sugar or fonely chopped pecans . store in an airtight container . also good made with dark rum .   \n",
       "2                         kellogg 's all-bran 1 . stir together flour , sugar , baking powder , salt , and cocoa powder . set aside . in large mixing bowl , combine all-bran cereal and milk . let stand 5 minutes or until cereal softens . add egg whites and oil . beat well . stir in bananas . add flour mixture stirring only until combined . portion batte evenly into twelve 2-1/2 inch muffin-pan cups coated with cooking spray . bake at 400 f. about 25 minutes or until lightly browned . serve warm .   \n",
       "3  soften yeast and dissolve 1 tablespoon sugar in lukewarm milk . add 3 cups flour and beat until smooth . cover and set aside to rise in a warm place until light . add shortening and sugar , which have been creamed together , eggs , cocoa , salt , and remainder of flour or enough to make a soft dough . knead lightly and place in well-oiled bowl . cover and set in a warm place until double in bulk about 2 hours . form into loaves . place in well-oiled bread pans , filling them 1/2 full . cover...  \n",
       "4                                                                                                                             into a greased casserole dish break up enough bread to fill it 2/3 full . over this pour 2/3 cup sugar , 2 heaping tbsp cocoa that have been mixed together . toss all together lightly -lrb- to coat the bread -rrb- . to 2 cups of milk add 2 well beaten eggs and 1 tsp vanilla . pour this over the bread and it should just cover the pieces . bake at 350 fo r about 45 minutes .   \n",
       "5                                                                                                                                                        heat oven to 350 degrees . oil bottom of 9-inch square pan . place egg whites in a large bowl . beat until slightly frothy . add oil , yogurt and vanilla , mix well . add sugar and cocoa , mix well . add flour and salt . mix until blended . pour into pan . bake at 360 degrees for 26-28 minutes . avoid over baking . dust with confectioners sugar .   \n",
       "6                                                                                                                                       sift together flour , cocoa , baking powder , and salt ; set aside . in mixing bowl slightly beat the eggs . gradually stir in sugar . add vanilla and oil and mix well . stir in flour-cocoa mixture , then nuts . spread in greased shallow 11x7 or 9-inch square pan . bake at 350 degrees for 22 to 25 minutes . cool in pan , then cut in bars , squares , or diamonds .   \n",
       "7                                                                                                                                                                                                                                                                                                                                                             mix sugar and cocoa together . add butter -lrb- or margarine -rrb- and eggs . mix well . add the rest of the ingredients . bake at 350 for 25 minutes .   \n",
       "8  heat oven to 350 degrees . generously grease and flour 12 cup bundt pan . in large mixer bowl , blend flour , sugar , cocoa , baking soda , baking powder and salt ; add remaining ingredients except chocolate glaze . beat on low speed 1 minute , scraping bowl constantly . beat on high speed 3 minutes , scraping bowl occasionally . pour into prepared pan . bake 50 to 55 minutes or until wooden toothpick inserted in center comes out clean . cool 10 minutes ; remove from pan to wire rack . cool ...  \n",
       "9  mix together cocoa and boiling water to blend and set aside to cool to room temperature . cream margarine at medium speed until light and fluffy . add sweetener and vanilla to creamed misture , along with cooled cocoa mixture . mix at medium speed until well blended . beat egg whites at medium speed until foamy . add cream of tartar and beat at high speed , gradually adding sugar , to form a meringue . set aside for alter use . stir together flour , soda , baking powder , salt and cinnamon t...  "
      ]
     },
     "execution_count": 83,
     "metadata": {},
     "output_type": "execute_result"
    }
   ],
   "source": [
    "df[:10]"
   ]
  },
  {
   "cell_type": "code",
   "execution_count": null,
   "metadata": {},
   "outputs": [
    {
     "data": {
      "text/plain": [
       "101338"
      ]
     },
     "execution_count": 50,
     "metadata": {},
     "output_type": "execute_result"
    }
   ],
   "source": [
    "df.Recipe.str.islower().sum()"
   ]
  },
  {
   "cell_type": "code",
   "execution_count": null,
   "metadata": {},
   "outputs": [
    {
     "data": {
      "text/html": [
       "<div>\n",
       "<style scoped>\n",
       "    .dataframe tbody tr th:only-of-type {\n",
       "        vertical-align: middle;\n",
       "    }\n",
       "\n",
       "    .dataframe tbody tr th {\n",
       "        vertical-align: top;\n",
       "    }\n",
       "\n",
       "    .dataframe thead th {\n",
       "        text-align: right;\n",
       "    }\n",
       "</style>\n",
       "<table border=\"1\" class=\"dataframe\">\n",
       "  <thead>\n",
       "    <tr style=\"text-align: right;\">\n",
       "      <th></th>\n",
       "      <th>Ingredients</th>\n",
       "      <th>Recipe</th>\n",
       "    </tr>\n",
       "  </thead>\n",
       "  <tbody>\n",
       "  </tbody>\n",
       "</table>\n",
       "</div>"
      ],
      "text/plain": [
       "Empty DataFrame\n",
       "Columns: [Ingredients, Recipe]\n",
       "Index: []"
      ]
     },
     "execution_count": 49,
     "metadata": {},
     "output_type": "execute_result"
    }
   ],
   "source": [
    "df[~(df.Recipe.str.islower())]"
   ]
  },
  {
   "cell_type": "code",
   "execution_count": null,
   "metadata": {},
   "outputs": [],
   "source": [
    "df.Ingredients = df.Ingredients.str.lower()\n",
    "df.Recipe = df.Recipe.str.lower()"
   ]
  },
  {
   "cell_type": "code",
   "execution_count": null,
   "metadata": {},
   "outputs": [
    {
     "data": {
      "text/plain": [
       "101340"
      ]
     },
     "execution_count": 34,
     "metadata": {},
     "output_type": "execute_result"
    }
   ],
   "source": [
    "len(df)"
   ]
  },
  {
   "cell_type": "code",
   "execution_count": null,
   "metadata": {},
   "outputs": [
    {
     "data": {
      "text/plain": [
       "(101338, 2)"
      ]
     },
     "execution_count": 30,
     "metadata": {},
     "output_type": "execute_result"
    }
   ],
   "source": [
    "df.dropna().shape"
   ]
  },
  {
   "cell_type": "code",
   "execution_count": null,
   "metadata": {},
   "outputs": [
    {
     "data": {
      "text/plain": [
       "(101340, 2)"
      ]
     },
     "execution_count": 31,
     "metadata": {},
     "output_type": "execute_result"
    }
   ],
   "source": [
    "df.shape"
   ]
  },
  {
   "cell_type": "code",
   "execution_count": null,
   "metadata": {},
   "outputs": [
    {
     "data": {
      "text/html": [
       "<div>\n",
       "<style scoped>\n",
       "    .dataframe tbody tr th:only-of-type {\n",
       "        vertical-align: middle;\n",
       "    }\n",
       "\n",
       "    .dataframe tbody tr th {\n",
       "        vertical-align: top;\n",
       "    }\n",
       "\n",
       "    .dataframe thead th {\n",
       "        text-align: right;\n",
       "    }\n",
       "</style>\n",
       "<table border=\"1\" class=\"dataframe\">\n",
       "  <thead>\n",
       "    <tr style=\"text-align: right;\">\n",
       "      <th></th>\n",
       "      <th>Ingredients</th>\n",
       "      <th>Recipe</th>\n",
       "    </tr>\n",
       "  </thead>\n",
       "  <tbody>\n",
       "    <tr>\n",
       "      <th>38064</th>\n",
       "      <td>4    regular tea bags;\\t-torani\\t3 ts peach syrup; such as monin\\tsugar to taste =or=-                                   (sugar sub)\\t3 ts mango syrup; davinci or  let cool.  add flavoring.  add ice.  sweeten to taste.</td>\n",
       "      <td>NaN</td>\n",
       "    </tr>\n",
       "    <tr>\n",
       "      <th>38681</th>\n",
       "      <td>3    (6 ot 7 inch) whole wheat\\t-shredded (about 2 cups) pocket (pita) breads               1 tb chopped fresh mint leaves\\t3/4 c  lowfat plain yogurt\\t2 ts chopped fresh cilantro\\t2 tb light sour cream\\t-(chinese parsley or fresh\\t1    garlic clove, minced\\t-coriander)\\t1    cucumber, peeled and m pillsbury's fast and easy magazine, july/august 1993 posted by</td>\n",
       "      <td>NaN</td>\n",
       "    </tr>\n",
       "  </tbody>\n",
       "</table>\n",
       "</div>"
      ],
      "text/plain": [
       "                                                                                                                                                                                                                                                                                                                                                                      Ingredients  \\\n",
       "38064                                                                                                                                                  4    regular tea bags;\\t-torani\\t3 ts peach syrup; such as monin\\tsugar to taste =or=-                                   (sugar sub)\\t3 ts mango syrup; davinci or  let cool.  add flavoring.  add ice.  sweeten to taste.   \n",
       "38681  3    (6 ot 7 inch) whole wheat\\t-shredded (about 2 cups) pocket (pita) breads               1 tb chopped fresh mint leaves\\t3/4 c  lowfat plain yogurt\\t2 ts chopped fresh cilantro\\t2 tb light sour cream\\t-(chinese parsley or fresh\\t1    garlic clove, minced\\t-coriander)\\t1    cucumber, peeled and m pillsbury's fast and easy magazine, july/august 1993 posted by   \n",
       "\n",
       "      Recipe  \n",
       "38064    NaN  \n",
       "38681    NaN  "
      ]
     },
     "execution_count": 24,
     "metadata": {},
     "output_type": "execute_result"
    }
   ],
   "source": [
    "df[(df != train)['Recipe']]"
   ]
  },
  {
   "cell_type": "code",
   "execution_count": null,
   "metadata": {},
   "outputs": [
    {
     "data": {
      "text/html": [
       "<div>\n",
       "<style scoped>\n",
       "    .dataframe tbody tr th:only-of-type {\n",
       "        vertical-align: middle;\n",
       "    }\n",
       "\n",
       "    .dataframe tbody tr th {\n",
       "        vertical-align: top;\n",
       "    }\n",
       "\n",
       "    .dataframe thead th {\n",
       "        text-align: right;\n",
       "    }\n",
       "</style>\n",
       "<table border=\"1\" class=\"dataframe\">\n",
       "  <thead>\n",
       "    <tr style=\"text-align: right;\">\n",
       "      <th></th>\n",
       "      <th>Ingredients</th>\n",
       "      <th>Recipe</th>\n",
       "    </tr>\n",
       "  </thead>\n",
       "  <tbody>\n",
       "    <tr>\n",
       "      <th>0</th>\n",
       "      <td>6 tb butter or margarine - softened\\t3/4 c  c and h powdered sugar\\t1 c  all-purpose flour\\t1 tb milk\\t2    eggs\\t1 c  c and h granulated sugar\\t1/2 c  cocoa\\t2 tb flour\\t1/2 ts baking powder\\t1/2 ts salt\\t1 ts vanilla\\t1/4 ts almond extract (optional)\\t1 c  chopped almonds or pecans</td>\n",
       "      <td>cream together butter and powdered sugar . blend in 1 cup flour and milk . spread evenly in bottom of ungreased 9-inch square pan . bake in 350 degree oven 10 to 12 minutes . beat eggs slightly ; combine dry ingredients and add to eggs . blend in vanilla and almond extract ; fold in almonds . spread over hot baked layer ; return to oven and bake 20 minutes longer . cool ; while warm , cut into 24 bars .</td>\n",
       "    </tr>\n",
       "    <tr>\n",
       "      <th>1</th>\n",
       "      <td>1 c  vanilla wafer cookies, finely crushed\\t1 c  confectioner's sugar\\t2 tb cocoa\\t1 c  pecans, finely chopped\\t2 tb corn syrup\\t1/2 c  bourbon</td>\n",
       "      <td>combine dry ingredients and mix well . add corn syrup and bourbon and mix well . if too moist add a few cookie crumbs , if too dry add a little more bourbon . shape into small balls and roll in fruit sugar or fonely chopped pecans . store in an airtight container . also good made with dark rum .</td>\n",
       "    </tr>\n",
       "    <tr>\n",
       "      <th>2</th>\n",
       "      <td>1 c  all-purpose flour\\t1/2 c  sugar\\t2 ts baking powder\\t1/2 ts salt\\t2 tb unsweetened cocoa powder\\t1 1/2 c  all-bran? cereal\\t3/4 c  skim milk\\t2    egg whites\\t1/4 c  vegetable oil\\t1 c  sliced ripe banana; (about 1\\tvegetable cooking spray</td>\n",
       "      <td>kellogg 's all-bran 1 . stir together flour , sugar , baking powder , salt , and cocoa powder . set aside . in large mixing bowl , combine all-bran cereal and milk . let stand 5 minutes or until cereal softens . add egg whites and oil . beat well . stir in bananas . add flour mixture stirring only until combined . portion batte evenly into twelve 2-1/2 inch muffin-pan cups coated with cooking spray . bake at 400 f. about 25 minutes or until lightly browned . serve warm .</td>\n",
       "    </tr>\n",
       "    <tr>\n",
       "      <th>3</th>\n",
       "      <td>5 1/2 c  flour\\t1    cake compressed yeast\\tor 1  cake dry yeast\\t2 c  milk, scalded and cooled\\t1/2 ts salt\\t1/2 c  cocoa\\t1/4 c  shortening\\t2    eggs, well beaten\\t1/2 c  sugar</td>\n",
       "      <td>soften yeast and dissolve 1 tablespoon sugar in lukewarm milk . add 3 cups flour and beat until smooth . cover and set aside to rise in a warm place until light . add shortening and sugar , which have been creamed together , eggs , cocoa , salt , and remainder of flour or enough to make a soft dough . knead lightly and place in well-oiled bowl . cover and set in a warm place until double in bulk about 2 hours . form into loaves . place in well-oiled bread pans , filling them 1/2 full . cover...</td>\n",
       "    </tr>\n",
       "    <tr>\n",
       "      <th>4</th>\n",
       "      <td>bread -- to fill dish 2/3\\tful\\t2 c  skim milk\\t2/3 c  sugar\\t2    eggs -- or 4 egg whites\\t2 tb cocoa\\t1 ts vanilla</td>\n",
       "      <td>into a greased casserole dish break up enough bread to fill it 2/3 full . over this pour 2/3 cup sugar , 2 heaping tbsp cocoa that have been mixed together . toss all together lightly -lrb- to coat the bread -rrb- . to 2 cups of milk add 2 well beaten eggs and 1 tsp vanilla . pour this over the bread and it should just cover the pieces . bake at 350 fo r about 45 minutes .</td>\n",
       "    </tr>\n",
       "    <tr>\n",
       "      <th>...</th>\n",
       "      <td>...</td>\n",
       "      <td>...</td>\n",
       "    </tr>\n",
       "    <tr>\n",
       "      <th>101335</th>\n",
       "      <td>6 oz smoked bacon or pancetta, cut into 1/2\" dice\\t4 tb olive oil\\t6 oz fresh shiitake mushrooms, sliced\\t1 lb asparagus, cut into 2\" piece\\t12 oz fresh fettucine\\t1 tb fresh thyme, finely chopped\\t2 tb fresh oregano, finely chopped\\tsalt to taste\\tpepper to taste</td>\n",
       "      <td>saute bacon in skillet until crisp , remove to a plate . drain off excess fat , then add olive oil to the skillet and cook the mushrooms until softened . lightly blanch the asparagus . cook the pasta briefly in boiling salted water . drain the noodles and toos with the asparagus , bacon , shiitake and fresh herbs . season with salt and pepper . 35 grams total fat ; -lrb- 9.9 grams saturated fat -rrb- ; 175.5 milligrams cholesterol ; 709.7 milligrams sodium .</td>\n",
       "    </tr>\n",
       "    <tr>\n",
       "      <th>101336</th>\n",
       "      <td>2 ts sesame oil\\t1 lb halibut or lean fish steaks, cut into l-inch pieces\\t1 md onion, thinly sliced\\t3    cloves garlic, finely chopped\\t1 ts finely chopped gingerroot\\t1 pk (10 ounces) frozen asparagus cuts, thawed and drained\\t1 cn (4 ounces) sliced mushrooms, drained\\t1 md tomato, cut into thin wedges\\t2 tb soy sauce\\t1 tb lemon juice</td>\n",
       "      <td>heat oil in 10-inch nonstick skillet over medium-high heat . add fish , onion , garlic , gingerroot and asparagus . stir-fry 2 to 3 minutes or until fish almost flakes with fork . carefully stir in remaining ingredients ; heat through . serve with additional soy sauce if desired . 4 servings . nutrition information per serving 1 serving percent of u.s. rda</td>\n",
       "    </tr>\n",
       "    <tr>\n",
       "      <th>101337</th>\n",
       "      <td>apple, artichoke, asparagus, vocado, string bean, beet, roccoli, russels spourts, cabbage, arrot, cauliflower, celery, orn, cucumber, ggplant, grape, lettuce, nion, parsnip, pea, peach, ear, pepper, lum, potato, radish, aspberry, squash, tomato, atermelon</td>\n",
       "      <td>in the name of sportsmanship , let 's consider one more way to look at fruits and vegetables . artichoke , asparagus , avocado , bean , beet , broccoli , brussels sprouts , cabbage , carrot , cauliflower , celery , corn , cucumber , eggplant , lettuce , onion , parsnip , pea , pepper , potato , radish , squash , and tomato are vegetables , all the others are fruits . fine with us . and , deep in our hearts , we suspect that 's the best way to play , according to hoyle .</td>\n",
       "    </tr>\n",
       "    <tr>\n",
       "      <th>101338</th>\n",
       "      <td>herb vinaigrette (see below)\\ttruffle juice vinaigrette (see below)\\t32    asparagus tips\\t50 g  chanterelles   (cleaned)\\t12 qt breasts\\t1    or 2 uncooked yellow zucchini (sliced into 48 very thin circles)\\t1 lg tomato (brunoised)\\t15 g  frisee lettuce (cleaned)\\t12    italian parsley leaves\\t30 g  truffle (sliced into 12 very thin circles)\\tbutter\\tseasoning - salt, pepper, chicken stock\\twhite wine</td>\n",
       "      <td>little dabs of food artfully arranged here and there on a plate , sometimes connected by skeins of sauces . expensive too . patrick lin -lrb- the regent hotel -rrb- make herb vinaigrette from onion , chives , italian parsley , parsley and a pinch of tarragon , all finely chopped together . -lrb- keep some chopped herbs aside to use in chanterelles preparation see below . -rrb- add salt , pepper , walnut oil , sherry and vinegar , according to taste . make truffle juice vinaigrette from bottl...</td>\n",
       "    </tr>\n",
       "    <tr>\n",
       "      <th>101339</th>\n",
       "      <td>2 lb asparagus, peeled \\t1/2 c  olive oil\\t1/4 c  white wine vinegar\\t1/2 ts dijon mustard\\t1 lg clove garlic, crushed\\tsalt and ground pepper\\t1 ts worcestershire sauce\\tds tabasco sauce\\t1/2 c  chopped onion\\t1/2 c  chopped fresh parsley\\t1/2 c  parmesan cheese\\t3 tb pine nuts,toasted(see below)</td>\n",
       "      <td>steam the asparagus spears for 5 minutes . drain well and place in a serving dish . in a bowl , whisk together the oil , vinegar , dijon , garlic , salt , pepper , worcestershire , tabasco , onion , parsley , and parmesan . stir in the pine nuts . pour the vinaigrette over the asparagus . cover and let marinate in the refrigerator 6 to 8 hours or overnight . serve chilled with the marinade spooned over the spears . 6 portions mature asparagus . spread nuts out on a cookie sheet and bake in a...</td>\n",
       "    </tr>\n",
       "  </tbody>\n",
       "</table>\n",
       "<p>101340 rows × 2 columns</p>\n",
       "</div>"
      ],
      "text/plain": [
       "                                                                                                                                                                                                                                                                                                                                                                                                                  Ingredients  \\\n",
       "0                                                                                                                                6 tb butter or margarine - softened\\t3/4 c  c and h powdered sugar\\t1 c  all-purpose flour\\t1 tb milk\\t2    eggs\\t1 c  c and h granulated sugar\\t1/2 c  cocoa\\t2 tb flour\\t1/2 ts baking powder\\t1/2 ts salt\\t1 ts vanilla\\t1/4 ts almond extract (optional)\\t1 c  chopped almonds or pecans   \n",
       "1                                                                                                                                                                                                                                                                             1 c  vanilla wafer cookies, finely crushed\\t1 c  confectioner's sugar\\t2 tb cocoa\\t1 c  pecans, finely chopped\\t2 tb corn syrup\\t1/2 c  bourbon   \n",
       "2                                                                                                                                                                        1 c  all-purpose flour\\t1/2 c  sugar\\t2 ts baking powder\\t1/2 ts salt\\t2 tb unsweetened cocoa powder\\t1 1/2 c  all-bran? cereal\\t3/4 c  skim milk\\t2    egg whites\\t1/4 c  vegetable oil\\t1 c  sliced ripe banana; (about 1\\tvegetable cooking spray   \n",
       "3                                                                                                                                                                                                                                         5 1/2 c  flour\\t1    cake compressed yeast\\tor 1  cake dry yeast\\t2 c  milk, scalded and cooled\\t1/2 ts salt\\t1/2 c  cocoa\\t1/4 c  shortening\\t2    eggs, well beaten\\t1/2 c  sugar   \n",
       "4                                                                                                                                                                                                                                                                                                        bread -- to fill dish 2/3\\tful\\t2 c  skim milk\\t2/3 c  sugar\\t2    eggs -- or 4 egg whites\\t2 tb cocoa\\t1 ts vanilla   \n",
       "...                                                                                                                                                                                                                                                                                                                                                                                                                       ...   \n",
       "101335                                                                                                                                               6 oz smoked bacon or pancetta, cut into 1/2\" dice\\t4 tb olive oil\\t6 oz fresh shiitake mushrooms, sliced\\t1 lb asparagus, cut into 2\" piece\\t12 oz fresh fettucine\\t1 tb fresh thyme, finely chopped\\t2 tb fresh oregano, finely chopped\\tsalt to taste\\tpepper to taste   \n",
       "101336                                                                   2 ts sesame oil\\t1 lb halibut or lean fish steaks, cut into l-inch pieces\\t1 md onion, thinly sliced\\t3    cloves garlic, finely chopped\\t1 ts finely chopped gingerroot\\t1 pk (10 ounces) frozen asparagus cuts, thawed and drained\\t1 cn (4 ounces) sliced mushrooms, drained\\t1 md tomato, cut into thin wedges\\t2 tb soy sauce\\t1 tb lemon juice   \n",
       "101337                                                                                                                                                        apple, artichoke, asparagus, vocado, string bean, beet, roccoli, russels spourts, cabbage, arrot, cauliflower, celery, orn, cucumber, ggplant, grape, lettuce, nion, parsnip, pea, peach, ear, pepper, lum, potato, radish, aspberry, squash, tomato, atermelon   \n",
       "101338  herb vinaigrette (see below)\\ttruffle juice vinaigrette (see below)\\t32    asparagus tips\\t50 g  chanterelles   (cleaned)\\t12 qt breasts\\t1    or 2 uncooked yellow zucchini (sliced into 48 very thin circles)\\t1 lg tomato (brunoised)\\t15 g  frisee lettuce (cleaned)\\t12    italian parsley leaves\\t30 g  truffle (sliced into 12 very thin circles)\\tbutter\\tseasoning - salt, pepper, chicken stock\\twhite wine   \n",
       "101339                                                                                                             2 lb asparagus, peeled \\t1/2 c  olive oil\\t1/4 c  white wine vinegar\\t1/2 ts dijon mustard\\t1 lg clove garlic, crushed\\tsalt and ground pepper\\t1 ts worcestershire sauce\\tds tabasco sauce\\t1/2 c  chopped onion\\t1/2 c  chopped fresh parsley\\t1/2 c  parmesan cheese\\t3 tb pine nuts,toasted(see below)   \n",
       "\n",
       "                                                                                                                                                                                                                                                                                                                                                                                                                                                                                                                     Recipe  \n",
       "0                                                                                                   cream together butter and powdered sugar . blend in 1 cup flour and milk . spread evenly in bottom of ungreased 9-inch square pan . bake in 350 degree oven 10 to 12 minutes . beat eggs slightly ; combine dry ingredients and add to eggs . blend in vanilla and almond extract ; fold in almonds . spread over hot baked layer ; return to oven and bake 20 minutes longer . cool ; while warm , cut into 24 bars .   \n",
       "1                                                                                                                                                                                                                 combine dry ingredients and mix well . add corn syrup and bourbon and mix well . if too moist add a few cookie crumbs , if too dry add a little more bourbon . shape into small balls and roll in fruit sugar or fonely chopped pecans . store in an airtight container . also good made with dark rum .   \n",
       "2                              kellogg 's all-bran 1 . stir together flour , sugar , baking powder , salt , and cocoa powder . set aside . in large mixing bowl , combine all-bran cereal and milk . let stand 5 minutes or until cereal softens . add egg whites and oil . beat well . stir in bananas . add flour mixture stirring only until combined . portion batte evenly into twelve 2-1/2 inch muffin-pan cups coated with cooking spray . bake at 400 f. about 25 minutes or until lightly browned . serve warm .   \n",
       "3       soften yeast and dissolve 1 tablespoon sugar in lukewarm milk . add 3 cups flour and beat until smooth . cover and set aside to rise in a warm place until light . add shortening and sugar , which have been creamed together , eggs , cocoa , salt , and remainder of flour or enough to make a soft dough . knead lightly and place in well-oiled bowl . cover and set in a warm place until double in bulk about 2 hours . form into loaves . place in well-oiled bread pans , filling them 1/2 full . cover...  \n",
       "4                                                                                                                                  into a greased casserole dish break up enough bread to fill it 2/3 full . over this pour 2/3 cup sugar , 2 heaping tbsp cocoa that have been mixed together . toss all together lightly -lrb- to coat the bread -rrb- . to 2 cups of milk add 2 well beaten eggs and 1 tsp vanilla . pour this over the bread and it should just cover the pieces . bake at 350 fo r about 45 minutes .   \n",
       "...                                                                                                                                                                                                                                                                                                                                                                                                                                                                                                                     ...  \n",
       "101335                                      saute bacon in skillet until crisp , remove to a plate . drain off excess fat , then add olive oil to the skillet and cook the mushrooms until softened . lightly blanch the asparagus . cook the pasta briefly in boiling salted water . drain the noodles and toos with the asparagus , bacon , shiitake and fresh herbs . season with salt and pepper . 35 grams total fat ; -lrb- 9.9 grams saturated fat -rrb- ; 175.5 milligrams cholesterol ; 709.7 milligrams sodium .   \n",
       "101336                                                                                                                                              heat oil in 10-inch nonstick skillet over medium-high heat . add fish , onion , garlic , gingerroot and asparagus . stir-fry 2 to 3 minutes or until fish almost flakes with fork . carefully stir in remaining ingredients ; heat through . serve with additional soy sauce if desired . 4 servings . nutrition information per serving 1 serving percent of u.s. rda   \n",
       "101337                          in the name of sportsmanship , let 's consider one more way to look at fruits and vegetables . artichoke , asparagus , avocado , bean , beet , broccoli , brussels sprouts , cabbage , carrot , cauliflower , celery , corn , cucumber , eggplant , lettuce , onion , parsnip , pea , pepper , potato , radish , squash , and tomato are vegetables , all the others are fruits . fine with us . and , deep in our hearts , we suspect that 's the best way to play , according to hoyle .   \n",
       "101338  little dabs of food artfully arranged here and there on a plate , sometimes connected by skeins of sauces . expensive too . patrick lin -lrb- the regent hotel -rrb- make herb vinaigrette from onion , chives , italian parsley , parsley and a pinch of tarragon , all finely chopped together . -lrb- keep some chopped herbs aside to use in chanterelles preparation see below . -rrb- add salt , pepper , walnut oil , sherry and vinegar , according to taste . make truffle juice vinaigrette from bottl...  \n",
       "101339  steam the asparagus spears for 5 minutes . drain well and place in a serving dish . in a bowl , whisk together the oil , vinegar , dijon , garlic , salt , pepper , worcestershire , tabasco , onion , parsley , and parmesan . stir in the pine nuts . pour the vinaigrette over the asparagus . cover and let marinate in the refrigerator 6 to 8 hours or overnight . serve chilled with the marinade spooned over the spears . 6 portions mature asparagus . spread nuts out on a cookie sheet and bake in a...  \n",
       "\n",
       "[101340 rows x 2 columns]"
      ]
     },
     "execution_count": 20,
     "metadata": {},
     "output_type": "execute_result"
    }
   ],
   "source": [
    "df"
   ]
  },
  {
   "cell_type": "code",
   "execution_count": null,
   "metadata": {},
   "outputs": [
    {
     "data": {
      "text/plain": [
       "0        1. Ant.  \n",
       "1        2. Bee!\\n\n",
       "2        3. Cat?\\t\n",
       "3              NaN\n",
       "4               10\n",
       "5             True\n",
       "dtype: object"
      ]
     },
     "execution_count": 170,
     "metadata": {},
     "output_type": "execute_result"
    }
   ],
   "source": [
    "s = pd.Series(['    1. Ant.  ', '    2. Bee!\\n', '3. Cat?\\t', np.nan, 10, True])\n",
    "s"
   ]
  },
  {
   "cell_type": "code",
   "execution_count": null,
   "metadata": {},
   "outputs": [
    {
     "data": {
      "text/plain": [
       "0    [1., Ant.]\n",
       "1    [2., Bee!]\n",
       "2    [3., Cat?]\n",
       "3           NaN\n",
       "4           NaN\n",
       "5           NaN\n",
       "dtype: object"
      ]
     },
     "execution_count": 174,
     "metadata": {},
     "output_type": "execute_result"
    }
   ],
   "source": [
    "s.str.split()"
   ]
  },
  {
   "cell_type": "code",
   "execution_count": null,
   "metadata": {},
   "outputs": [
    {
     "data": {
      "text/plain": [
       "284"
      ]
     },
     "execution_count": 179,
     "metadata": {},
     "output_type": "execute_result"
    }
   ],
   "source": [
    "(train.Recipe.str.len() < 20).sum()"
   ]
  },
  {
   "cell_type": "code",
   "execution_count": null,
   "metadata": {},
   "outputs": [
    {
     "ename": "ValueError",
     "evalue": "The truth value of a Series is ambiguous. Use a.empty, a.bool(), a.item(), a.any() or a.all().",
     "output_type": "error",
     "traceback": [
      "\u001b[1;31m---------------------------------------------------------------------------\u001b[0m",
      "\u001b[1;31mValueError\u001b[0m                                Traceback (most recent call last)",
      "\u001b[1;32m~\\AppData\\Local\\Temp\\ipykernel_28572\\2409939672.py\u001b[0m in \u001b[0;36m?\u001b[1;34m()\u001b[0m\n\u001b[1;32m----> 1\u001b[1;33m \u001b[1;33m(\u001b[0m\u001b[1;36m10\u001b[0m \u001b[1;33m<=\u001b[0m \u001b[0mtrain\u001b[0m\u001b[1;33m.\u001b[0m\u001b[0mRecipe\u001b[0m\u001b[1;33m.\u001b[0m\u001b[0mstr\u001b[0m\u001b[1;33m.\u001b[0m\u001b[0mlen\u001b[0m\u001b[1;33m(\u001b[0m\u001b[1;33m)\u001b[0m \u001b[1;33m<=\u001b[0m \u001b[1;36m2000\u001b[0m\u001b[1;33m)\u001b[0m\u001b[1;33m.\u001b[0m\u001b[0mall\u001b[0m\u001b[1;33m(\u001b[0m\u001b[1;33m)\u001b[0m\u001b[1;33m\u001b[0m\u001b[1;33m\u001b[0m\u001b[0m\n\u001b[0m",
      "\u001b[1;32mc:\\Users\\Dell\\anaconda3\\envs\\nlp\\lib\\site-packages\\pandas\\core\\generic.py\u001b[0m in \u001b[0;36m?\u001b[1;34m(self)\u001b[0m\n\u001b[0;32m   1575\u001b[0m     \u001b[1;33m@\u001b[0m\u001b[0mfinal\u001b[0m\u001b[1;33m\u001b[0m\u001b[1;33m\u001b[0m\u001b[0m\n\u001b[0;32m   1576\u001b[0m     \u001b[1;32mdef\u001b[0m \u001b[0m__nonzero__\u001b[0m\u001b[1;33m(\u001b[0m\u001b[0mself\u001b[0m\u001b[1;33m)\u001b[0m \u001b[1;33m->\u001b[0m \u001b[0mNoReturn\u001b[0m\u001b[1;33m:\u001b[0m\u001b[1;33m\u001b[0m\u001b[1;33m\u001b[0m\u001b[0m\n\u001b[1;32m-> 1577\u001b[1;33m         raise ValueError(\n\u001b[0m\u001b[0;32m   1578\u001b[0m             \u001b[1;34mf\"The truth value of a {type(self).__name__} is ambiguous. \"\u001b[0m\u001b[1;33m\u001b[0m\u001b[1;33m\u001b[0m\u001b[0m\n\u001b[0;32m   1579\u001b[0m             \u001b[1;34m\"Use a.empty, a.bool(), a.item(), a.any() or a.all().\"\u001b[0m\u001b[1;33m\u001b[0m\u001b[1;33m\u001b[0m\u001b[0m\n\u001b[0;32m   1580\u001b[0m         )\n",
      "\u001b[1;31mValueError\u001b[0m: The truth value of a Series is ambiguous. Use a.empty, a.bool(), a.item(), a.any() or a.all()."
     ]
    }
   ],
   "source": [
    "(10 <= train.Recipe.str.len() <= 2000).all()"
   ]
  },
  {
   "cell_type": "code",
   "execution_count": null,
   "metadata": {},
   "outputs": [
    {
     "data": {
      "text/plain": [
       "549       use sweet cycle . \n",
       "716       eating raw eggs . \n",
       "961       use basic cycle . \n",
       "963       use basic cycle . \n",
       "964       use basic cycle . \n",
       "967      add nuts at beep . \n",
       "969       use basic cycle . \n",
       "970       use basic cycle . \n",
       "972       use basic cycle . \n",
       "983       use basic cycle . \n",
       "1027         instant hair ! \n",
       "1238      see ingredients . \n",
       "1992     chill until firm . \n",
       "2307             mix well . \n",
       "2381          for 1 hrs . . \n",
       "2566          -- gecho 1.11 \n",
       "2763        dried peppers ; \n",
       "2984          5 cups cooked \n",
       "4139     strain and serve . \n",
       "4518         pop the corn . \n",
       "4540         karen mintzias \n",
       "5144          walter jetton \n",
       "5146       mix thoroughly . \n",
       "5749          taste of home \n",
       "7116              combine . \n",
       "7365           what to do ? \n",
       "7839                home co \n",
       "8440       rhonda guilbeaux \n",
       "8533                  add m \n",
       "8998                1/2 cup \n",
       "9881          pizza dough . \n",
       "9882             ted taylor \n",
       "9889             ted taylor \n",
       "10055         liz parkinson \n",
       "10354       cook over med . \n",
       "11190          1-1/2 cups . \n",
       "11334            assemble . \n",
       "11648      mix and powder . \n",
       "11724        light . bake . \n",
       "12143         press start . \n",
       "Name: Recipe, dtype: object"
      ]
     },
     "execution_count": 181,
     "metadata": {},
     "output_type": "execute_result"
    }
   ],
   "source": [
    "train.Recipe[train.Recipe.str.len() < 20][:40]"
   ]
  },
  {
   "cell_type": "code",
   "execution_count": null,
   "metadata": {},
   "outputs": [
    {
     "data": {
      "text/plain": [
       "1843.0"
      ]
     },
     "execution_count": 153,
     "metadata": {},
     "output_type": "execute_result"
    }
   ],
   "source": [
    "train.Recipe.str.len().quantile(0.99)"
   ]
  },
  {
   "cell_type": "code",
   "execution_count": null,
   "metadata": {},
   "outputs": [
    {
     "data": {
      "text/plain": [
       "Series([], Name: Recipe, dtype: object)"
      ]
     },
     "execution_count": 70,
     "metadata": {},
     "output_type": "execute_result"
    }
   ],
   "source": [
    "train.Recipe[train.Recipe.str.islower() == False]"
   ]
  },
  {
   "cell_type": "code",
   "execution_count": null,
   "metadata": {},
   "outputs": [],
   "source": [
    "with_tags = add_tags(train)"
   ]
  },
  {
   "cell_type": "code",
   "execution_count": null,
   "metadata": {},
   "outputs": [
    {
     "data": {
      "text/html": [
       "<div>\n",
       "<style scoped>\n",
       "    .dataframe tbody tr th:only-of-type {\n",
       "        vertical-align: middle;\n",
       "    }\n",
       "\n",
       "    .dataframe tbody tr th {\n",
       "        vertical-align: top;\n",
       "    }\n",
       "\n",
       "    .dataframe thead th {\n",
       "        text-align: right;\n",
       "    }\n",
       "</style>\n",
       "<table border=\"1\" class=\"dataframe\">\n",
       "  <thead>\n",
       "    <tr style=\"text-align: right;\">\n",
       "      <th></th>\n",
       "      <th>Ingredients</th>\n",
       "      <th>Recipe</th>\n",
       "    </tr>\n",
       "  </thead>\n",
       "  <tbody>\n",
       "    <tr>\n",
       "      <th>0</th>\n",
       "      <td>&lt;INGREDIENT_START&gt; &lt;INGREDIENT_START&gt; 6 tb butter or margarine - softened &lt;INGREDIENT&gt; 3/4 c  c and h powdered sugar &lt;INGREDIENT&gt; 1 c  all-purpose flour &lt;INGREDIENT&gt; 1 tb milk &lt;INGREDIENT&gt; 2    eggs &lt;INGREDIENT&gt; 1 c  c and h granulated sugar &lt;INGREDIENT&gt; 1/2 c  cocoa &lt;INGREDIENT&gt; 2 tb flour &lt;INGREDIENT&gt; 1/2 ts baking powder &lt;INGREDIENT&gt; 1/2 ts salt &lt;INGREDIENT&gt; 1 ts vanilla &lt;INGREDIENT&gt; 1/4 ts almond extract (optional) &lt;INGREDIENT&gt; 1 c  chopped almonds or pecans &lt;INGREDIENT_END&gt; &lt;INGREDIENT_...</td>\n",
       "      <td>&lt;RECIPE_START&gt; cream together butter and powdered sugar  &lt;RECIPE_STEP&gt;  blend in 1 cup flour and milk  &lt;RECIPE_STEP&gt;  spread evenly in bottom of ungreased 9-inch square pan  &lt;RECIPE_STEP&gt;  bake in 350 degree oven 10 to 12 minutes  &lt;RECIPE_STEP&gt;  beat eggs slightly  &lt;RECIPE_STEP&gt;  combine dry ingredients and add to eggs  &lt;RECIPE_STEP&gt;  blend in vanilla and almond extract  &lt;RECIPE_STEP&gt;  fold in almonds  &lt;RECIPE_STEP&gt;  spread over hot baked layer  &lt;RECIPE_STEP&gt;  return to oven and bake 20 minu...</td>\n",
       "    </tr>\n",
       "    <tr>\n",
       "      <th>1</th>\n",
       "      <td>&lt;INGREDIENT_START&gt; &lt;INGREDIENT_START&gt; 1 c  vanilla wafer cookies, finely crushed &lt;INGREDIENT&gt; 1 c  confectioner's sugar &lt;INGREDIENT&gt; 2 tb cocoa &lt;INGREDIENT&gt; 1 c  pecans, finely chopped &lt;INGREDIENT&gt; 2 tb corn syrup &lt;INGREDIENT&gt; 1/2 c  bourbon &lt;INGREDIENT_END&gt; &lt;INGREDIENT_END&gt;</td>\n",
       "      <td>&lt;RECIPE_START&gt; combine dry ingredients and mix well  &lt;RECIPE_STEP&gt;  add corn syrup and bourbon and mix well  &lt;RECIPE_STEP&gt;  if too moist add a few cookie crumbs , if too dry add a little more bourbon  &lt;RECIPE_STEP&gt;  shape into small balls and roll in fruit sugar or fonely chopped pecans  &lt;RECIPE_STEP&gt;  store in an airtight container  &lt;RECIPE_STEP&gt;  also good made with dark rum  &lt;RECIPE_STEP&gt;   &lt;RECIPE_END&gt;</td>\n",
       "    </tr>\n",
       "    <tr>\n",
       "      <th>2</th>\n",
       "      <td>&lt;INGREDIENT_START&gt; &lt;INGREDIENT_START&gt; 1 c  all-purpose flour &lt;INGREDIENT&gt; 1/2 c  sugar &lt;INGREDIENT&gt; 2 ts baking powder &lt;INGREDIENT&gt; 1/2 ts salt &lt;INGREDIENT&gt; 2 tb unsweetened cocoa powder &lt;INGREDIENT&gt; 1 1/2 c  all-bran? cereal &lt;INGREDIENT&gt; 3/4 c  skim milk &lt;INGREDIENT&gt; 2    egg whites &lt;INGREDIENT&gt; 1/4 c  vegetable oil &lt;INGREDIENT&gt; 1 c  sliced ripe banana; (about 1 &lt;INGREDIENT&gt; vegetable cooking spray &lt;INGREDIENT_END&gt; &lt;INGREDIENT_END&gt;</td>\n",
       "      <td>&lt;RECIPE_START&gt; kellogg 's all-bran 1  &lt;RECIPE_STEP&gt;  stir together flour , sugar , baking powder , salt , and cocoa powder  &lt;RECIPE_STEP&gt;  set aside  &lt;RECIPE_STEP&gt;  in large mixing bowl , combine all-bran cereal and milk  &lt;RECIPE_STEP&gt;  let stand 5 minutes or until cereal softens  &lt;RECIPE_STEP&gt;  add egg whites and oil  &lt;RECIPE_STEP&gt;  beat well  &lt;RECIPE_STEP&gt;  stir in bananas  &lt;RECIPE_STEP&gt;  add flour mixture stirring only until combined  &lt;RECIPE_STEP&gt;  portion batte evenly into twelve 2-1/2 ...</td>\n",
       "    </tr>\n",
       "    <tr>\n",
       "      <th>3</th>\n",
       "      <td>&lt;INGREDIENT_START&gt; &lt;INGREDIENT_START&gt; 5 1/2 c  flour &lt;INGREDIENT&gt; 1    cake compressed yeast &lt;INGREDIENT&gt; or 1  cake dry yeast &lt;INGREDIENT&gt; 2 c  milk, scalded and cooled &lt;INGREDIENT&gt; 1/2 ts salt &lt;INGREDIENT&gt; 1/2 c  cocoa &lt;INGREDIENT&gt; 1/4 c  shortening &lt;INGREDIENT&gt; 2    eggs, well beaten &lt;INGREDIENT&gt; 1/2 c  sugar &lt;INGREDIENT_END&gt; &lt;INGREDIENT_END&gt;</td>\n",
       "      <td>&lt;RECIPE_START&gt; soften yeast and dissolve 1 tablespoon sugar in lukewarm milk  &lt;RECIPE_STEP&gt;  add 3 cups flour and beat until smooth  &lt;RECIPE_STEP&gt;  cover and set aside to rise in a warm place until light  &lt;RECIPE_STEP&gt;  add shortening and sugar , which have been creamed together , eggs , cocoa , salt , and remainder of flour or enough to make a soft dough  &lt;RECIPE_STEP&gt;  knead lightly and place in well-oiled bowl  &lt;RECIPE_STEP&gt;  cover and set in a warm place until double in bulk about 2 hour...</td>\n",
       "    </tr>\n",
       "    <tr>\n",
       "      <th>4</th>\n",
       "      <td>&lt;INGREDIENT_START&gt; &lt;INGREDIENT_START&gt; bread -- to fill dish 2/3 &lt;INGREDIENT&gt; ful &lt;INGREDIENT&gt; 2 c  skim milk &lt;INGREDIENT&gt; 2/3 c  sugar &lt;INGREDIENT&gt; 2    eggs -- or 4 egg whites &lt;INGREDIENT&gt; 2 tb cocoa &lt;INGREDIENT&gt; 1 ts vanilla &lt;INGREDIENT_END&gt; &lt;INGREDIENT_END&gt;</td>\n",
       "      <td>&lt;RECIPE_START&gt; into a greased casserole dish break up enough bread to fill it 2/3 full  &lt;RECIPE_STEP&gt;  over this pour 2/3 cup sugar , 2 heaping tbsp cocoa that have been mixed together  &lt;RECIPE_STEP&gt;  toss all together lightly -lrb- to coat the bread -rrb-  &lt;RECIPE_STEP&gt;  to 2 cups of milk add 2 well beaten eggs and 1 tsp vanilla  &lt;RECIPE_STEP&gt;  pour this over the bread and it should just cover the pieces  &lt;RECIPE_STEP&gt;  bake at 350 fo r about 45 minutes  &lt;RECIPE_STEP&gt;   &lt;RECIPE_END&gt;</td>\n",
       "    </tr>\n",
       "  </tbody>\n",
       "</table>\n",
       "</div>"
      ],
      "text/plain": [
       "                                                                                                                                                                                                                                                                                                                                                                                                                                                                                                           Ingredients  \\\n",
       "0  <INGREDIENT_START> <INGREDIENT_START> 6 tb butter or margarine - softened <INGREDIENT> 3/4 c  c and h powdered sugar <INGREDIENT> 1 c  all-purpose flour <INGREDIENT> 1 tb milk <INGREDIENT> 2    eggs <INGREDIENT> 1 c  c and h granulated sugar <INGREDIENT> 1/2 c  cocoa <INGREDIENT> 2 tb flour <INGREDIENT> 1/2 ts baking powder <INGREDIENT> 1/2 ts salt <INGREDIENT> 1 ts vanilla <INGREDIENT> 1/4 ts almond extract (optional) <INGREDIENT> 1 c  chopped almonds or pecans <INGREDIENT_END> <INGREDIENT_...   \n",
       "1                                                                                                                                                                                                                                  <INGREDIENT_START> <INGREDIENT_START> 1 c  vanilla wafer cookies, finely crushed <INGREDIENT> 1 c  confectioner's sugar <INGREDIENT> 2 tb cocoa <INGREDIENT> 1 c  pecans, finely chopped <INGREDIENT> 2 tb corn syrup <INGREDIENT> 1/2 c  bourbon <INGREDIENT_END> <INGREDIENT_END>   \n",
       "2                                                                 <INGREDIENT_START> <INGREDIENT_START> 1 c  all-purpose flour <INGREDIENT> 1/2 c  sugar <INGREDIENT> 2 ts baking powder <INGREDIENT> 1/2 ts salt <INGREDIENT> 2 tb unsweetened cocoa powder <INGREDIENT> 1 1/2 c  all-bran? cereal <INGREDIENT> 3/4 c  skim milk <INGREDIENT> 2    egg whites <INGREDIENT> 1/4 c  vegetable oil <INGREDIENT> 1 c  sliced ripe banana; (about 1 <INGREDIENT> vegetable cooking spray <INGREDIENT_END> <INGREDIENT_END>   \n",
       "3                                                                                                                                                          <INGREDIENT_START> <INGREDIENT_START> 5 1/2 c  flour <INGREDIENT> 1    cake compressed yeast <INGREDIENT> or 1  cake dry yeast <INGREDIENT> 2 c  milk, scalded and cooled <INGREDIENT> 1/2 ts salt <INGREDIENT> 1/2 c  cocoa <INGREDIENT> 1/4 c  shortening <INGREDIENT> 2    eggs, well beaten <INGREDIENT> 1/2 c  sugar <INGREDIENT_END> <INGREDIENT_END>   \n",
       "4                                                                                                                                                                                                                                                 <INGREDIENT_START> <INGREDIENT_START> bread -- to fill dish 2/3 <INGREDIENT> ful <INGREDIENT> 2 c  skim milk <INGREDIENT> 2/3 c  sugar <INGREDIENT> 2    eggs -- or 4 egg whites <INGREDIENT> 2 tb cocoa <INGREDIENT> 1 ts vanilla <INGREDIENT_END> <INGREDIENT_END>   \n",
       "\n",
       "                                                                                                                                                                                                                                                                                                                                                                                                                                                                                                                Recipe  \n",
       "0  <RECIPE_START> cream together butter and powdered sugar  <RECIPE_STEP>  blend in 1 cup flour and milk  <RECIPE_STEP>  spread evenly in bottom of ungreased 9-inch square pan  <RECIPE_STEP>  bake in 350 degree oven 10 to 12 minutes  <RECIPE_STEP>  beat eggs slightly  <RECIPE_STEP>  combine dry ingredients and add to eggs  <RECIPE_STEP>  blend in vanilla and almond extract  <RECIPE_STEP>  fold in almonds  <RECIPE_STEP>  spread over hot baked layer  <RECIPE_STEP>  return to oven and bake 20 minu...  \n",
       "1                                                                                            <RECIPE_START> combine dry ingredients and mix well  <RECIPE_STEP>  add corn syrup and bourbon and mix well  <RECIPE_STEP>  if too moist add a few cookie crumbs , if too dry add a little more bourbon  <RECIPE_STEP>  shape into small balls and roll in fruit sugar or fonely chopped pecans  <RECIPE_STEP>  store in an airtight container  <RECIPE_STEP>  also good made with dark rum  <RECIPE_STEP>   <RECIPE_END>  \n",
       "2  <RECIPE_START> kellogg 's all-bran 1  <RECIPE_STEP>  stir together flour , sugar , baking powder , salt , and cocoa powder  <RECIPE_STEP>  set aside  <RECIPE_STEP>  in large mixing bowl , combine all-bran cereal and milk  <RECIPE_STEP>  let stand 5 minutes or until cereal softens  <RECIPE_STEP>  add egg whites and oil  <RECIPE_STEP>  beat well  <RECIPE_STEP>  stir in bananas  <RECIPE_STEP>  add flour mixture stirring only until combined  <RECIPE_STEP>  portion batte evenly into twelve 2-1/2 ...  \n",
       "3  <RECIPE_START> soften yeast and dissolve 1 tablespoon sugar in lukewarm milk  <RECIPE_STEP>  add 3 cups flour and beat until smooth  <RECIPE_STEP>  cover and set aside to rise in a warm place until light  <RECIPE_STEP>  add shortening and sugar , which have been creamed together , eggs , cocoa , salt , and remainder of flour or enough to make a soft dough  <RECIPE_STEP>  knead lightly and place in well-oiled bowl  <RECIPE_STEP>  cover and set in a warm place until double in bulk about 2 hour...  \n",
       "4             <RECIPE_START> into a greased casserole dish break up enough bread to fill it 2/3 full  <RECIPE_STEP>  over this pour 2/3 cup sugar , 2 heaping tbsp cocoa that have been mixed together  <RECIPE_STEP>  toss all together lightly -lrb- to coat the bread -rrb-  <RECIPE_STEP>  to 2 cups of milk add 2 well beaten eggs and 1 tsp vanilla  <RECIPE_STEP>  pour this over the bread and it should just cover the pieces  <RECIPE_STEP>  bake at 350 fo r about 45 minutes  <RECIPE_STEP>   <RECIPE_END>  "
      ]
     },
     "execution_count": 76,
     "metadata": {},
     "output_type": "execute_result"
    }
   ],
   "source": [
    "with_tags.head()"
   ]
  },
  {
   "cell_type": "markdown",
   "metadata": {},
   "source": [
    "filter out \n",
    "\"see directions\"\n",
    "\"text only\"\n",
    "\"none\"\n",
    "\"no ingredients\"\n",
    "\"no ingredients found\"\n",
    "\"see below\""
   ]
  },
  {
   "cell_type": "code",
   "execution_count": null,
   "metadata": {},
   "outputs": [
    {
     "data": {
      "text/plain": [
       "(101340, 2)"
      ]
     },
     "execution_count": 104,
     "metadata": {},
     "output_type": "execute_result"
    }
   ],
   "source": [
    "with_tags.shape"
   ]
  },
  {
   "cell_type": "code",
   "execution_count": null,
   "metadata": {},
   "outputs": [
    {
     "data": {
      "text/plain": [
       "1234"
      ]
     },
     "execution_count": 101,
     "metadata": {},
     "output_type": "execute_result"
    }
   ],
   "source": [
    "(with_tags.Ingredients.str.count('<INGREDIENT>') < 1).sum()"
   ]
  },
  {
   "cell_type": "code",
   "execution_count": null,
   "metadata": {},
   "outputs": [
    {
     "data": {
      "text/plain": [
       "0.012176830471679495"
      ]
     },
     "execution_count": 105,
     "metadata": {},
     "output_type": "execute_result"
    }
   ],
   "source": [
    "1234 / 101340"
   ]
  },
  {
   "cell_type": "code",
   "execution_count": null,
   "metadata": {},
   "outputs": [
    {
     "data": {
      "text/html": [
       "<div>\n",
       "<style scoped>\n",
       "    .dataframe tbody tr th:only-of-type {\n",
       "        vertical-align: middle;\n",
       "    }\n",
       "\n",
       "    .dataframe tbody tr th {\n",
       "        vertical-align: top;\n",
       "    }\n",
       "\n",
       "    .dataframe thead th {\n",
       "        text-align: right;\n",
       "    }\n",
       "</style>\n",
       "<table border=\"1\" class=\"dataframe\">\n",
       "  <thead>\n",
       "    <tr style=\"text-align: right;\">\n",
       "      <th></th>\n",
       "      <th>Ingredients</th>\n",
       "      <th>Recipe</th>\n",
       "    </tr>\n",
       "  </thead>\n",
       "  <tbody>\n",
       "    <tr>\n",
       "      <th>4766</th>\n",
       "      <td>&lt;INGREDIENT_START&gt; &lt;INGREDIENT_START&gt; see below &lt;INGREDIENT_END&gt; &lt;INGREDIENT_END&gt;</td>\n",
       "      <td>&lt;RECIPE_START&gt; use 2 ts loose tea or 2 tea bags for each cup of cold water  &lt;RECIPE_STEP&gt;  place tea in glass container  &lt;RECIPE_STEP&gt;  add water  &lt;RECIPE_STEP&gt;  cover and refrigerate at least 24 hours  &lt;RECIPE_STEP&gt;  serve over crushed ice  &lt;RECIPE_STEP&gt;   &lt;RECIPE_END&gt;</td>\n",
       "    </tr>\n",
       "    <tr>\n",
       "      <th>4777</th>\n",
       "      <td>&lt;INGREDIENT_START&gt; &lt;INGREDIENT_START&gt; round robin exchange &lt;INGREDIENT_END&gt; &lt;INGREDIENT_END&gt;</td>\n",
       "      <td>&lt;RECIPE_START&gt; 6 ea eggs , separated 11/4 c sugar 2 t lemon juice 3/4 c sifted pastry flour 1/4 c cornstarch 1/2 ts salt beat egg yolks until creamy and light , gradually add sugar , beating well after each addition and adding with the last portion 1 tablespoon lemon juice  &lt;RECIPE_STEP&gt;  mix and sift flour , cornstarch and salt , add half of it to the egg yolk mixture , stirring gently till blended and adding while blending another tablespooon of lemon juice  &lt;RECIPE_STEP&gt;  fold in stiffly ...</td>\n",
       "    </tr>\n",
       "    <tr>\n",
       "      <th>4835</th>\n",
       "      <td>&lt;INGREDIENT_START&gt; &lt;INGREDIENT_START&gt; text only &lt;INGREDIENT_END&gt; &lt;INGREDIENT_END&gt;</td>\n",
       "      <td>&lt;RECIPE_START&gt; in a saucepan , make a syrup with 2 cups water and 1 cup sugar  &lt;RECIPE_STEP&gt;  stir over heat until the sugar dissolves , then add the juice of half a lemon and boil the syrup vigorously for 5 minutes  &lt;RECIPE_STEP&gt;  set aside to cool  &lt;RECIPE_STEP&gt;  in a food processor , puree 3 punnets of hulled , strawberries with quarter of a cup of milk and a couple of drops of red food colouring  &lt;RECIPE_STEP&gt;  combine puree with the syrup and pour into a narrow rectangular cake tin or a...</td>\n",
       "    </tr>\n",
       "    <tr>\n",
       "      <th>4887</th>\n",
       "      <td>&lt;INGREDIENT_START&gt; &lt;INGREDIENT_START&gt; 2 1/2 qt chicken stock; (see other recipe) &lt;INGREDIENT_END&gt; &lt;INGREDIENT_END&gt;</td>\n",
       "      <td>&lt;RECIPE_START&gt; put the previously prepared , cold , fat-free , 2-1/2 quarts of chicken stock in an 8 quart pan  &lt;RECIPE_STEP&gt;  add a whole stewing fowl or roasting chicken weighing between 4 and 5 pounds  &lt;RECIPE_STEP&gt;  bring slowly to a boil  &lt;RECIPE_STEP&gt;  skim off any scum that forms on the surface  &lt;RECIPE_STEP&gt;  reduce heat  &lt;RECIPE_STEP&gt;  cover and simmer gently until the chicken is very tender , about 1 hour for a young chicken , or 2 to 2-1/2 hours for a fowl  &lt;RECIPE_STEP&gt;  remove t...</td>\n",
       "    </tr>\n",
       "    <tr>\n",
       "      <th>5056</th>\n",
       "      <td>&lt;INGREDIENT_START&gt; &lt;INGREDIENT_START&gt; 12    ears white corn in milky stage &lt;INGREDIENT_END&gt; &lt;INGREDIENT_END&gt;</td>\n",
       "      <td>&lt;RECIPE_START&gt; scrape corn with sharp knife three times  &lt;RECIPE_STEP&gt;  first scrape corn just to break off kernals  &lt;RECIPE_STEP&gt;  second scrape remainder of corn halfway  &lt;RECIPE_STEP&gt;  third scrape off rest of kernels off cob  &lt;RECIPE_STEP&gt;  then use potato masher and mash all kernels until milk comes out , take loaf pan which is about 11/2 '' deep , grease and put in all corn that has been mashed and bake in oven until all kernels are golden brown  &lt;RECIPE_STEP&gt;  use low heat and bake ap...</td>\n",
       "    </tr>\n",
       "    <tr>\n",
       "      <th>5068</th>\n",
       "      <td>&lt;INGREDIENT_START&gt; &lt;INGREDIENT_START&gt; 2    tbsp) evenly in single layer on plate. microwave on high 2-4 minutes &lt;INGREDIENT_END&gt; &lt;INGREDIENT_END&gt;</td>\n",
       "      <td>&lt;RECIPE_START&gt; sprinkle grated peel from one medium orange or two small lemons -lrb- about or until dry to the touch , turning plate and lifting and tossing peel with fingers after each minute  &lt;RECIPE_STEP&gt;  let stand about 2 hours or until completly cooled and brittle  &lt;RECIPE_STEP&gt;  store in airtight container no longer than 2 months  &lt;RECIPE_STEP&gt;  1/2 tsp dried peel is equivalent to 1 tsp grated fresh peel  &lt;RECIPE_END&gt;</td>\n",
       "    </tr>\n",
       "    <tr>\n",
       "      <th>5069</th>\n",
       "      <td>&lt;INGREDIENT_START&gt; &lt;INGREDIENT_START&gt; 12    med-skinned oranges or lemons &lt;INGREDIENT_END&gt; &lt;INGREDIENT_END&gt;</td>\n",
       "      <td>&lt;RECIPE_START&gt; use the coarse side of a cheese grater to grate off the citrus skin in strips  &lt;RECIPE_STEP&gt;  use only the orange -lrb- or yellow -rrb- part of the skin avoiding the bitter white part  &lt;RECIPE_STEP&gt;  spread the peel strips on two ceramic plates and let dry , uncovered , at room temperature , for 3 to 4 days  &lt;RECIPE_STEP&gt;  when the peels become brittle and shriveled , store them in a small glass jar  &lt;RECIPE_STEP&gt;  whirl the whole dried peels in a blender or food processor unt...</td>\n",
       "    </tr>\n",
       "    <tr>\n",
       "      <th>5147</th>\n",
       "      <td>&lt;INGREDIENT_START&gt; &lt;INGREDIENT_START&gt; 1    information &lt;INGREDIENT_END&gt; &lt;INGREDIENT_END&gt;</td>\n",
       "      <td>&lt;RECIPE_START&gt; for use in cajun dishes , gravies and as an all around flavorful thickening agent  &lt;RECIPE_STEP&gt;  make several cups at a time and store in tightly closed jar in refrigerator  &lt;RECIPE_STEP&gt;  put 1 to 3 cups flour into heavy skillet and place over moderate heat  &lt;RECIPE_STEP&gt;  stir the flour around often with a wooden spoon as it cooks  &lt;RECIPE_STEP&gt;  continue until all the flour is desired color , probably about like a light peanut butter color  &lt;RECIPE_STEP&gt;  extracted from ``...</td>\n",
       "    </tr>\n",
       "    <tr>\n",
       "      <th>5858</th>\n",
       "      <td>&lt;INGREDIENT_START&gt; &lt;INGREDIENT_START&gt; shaping of breads &lt;INGREDIENT_END&gt; &lt;INGREDIENT_END&gt;</td>\n",
       "      <td>&lt;RECIPE_START&gt; grease 6 6x3 '' sheets to make free form loaves  &lt;RECIPE_STEP&gt;  divide dough into 6 parts  &lt;RECIPE_STEP&gt;  remove air pockets by working dough with hands and rolling into 6 10x5 '' rectangles  &lt;RECIPE_STEP&gt;  starting from shorter side , roll up , pinching edges firmly to seal  &lt;RECIPE_STEP&gt;  for free-form loaves , taper ends slightly  &lt;RECIPE_STEP&gt;  place seam-side-down on prepared pan  &lt;RECIPE_STEP&gt;  cover  &lt;RECIPE_STEP&gt;  let rise in warm place until light and double in size ,...</td>\n",
       "    </tr>\n",
       "    <tr>\n",
       "      <th>5905</th>\n",
       "      <td>&lt;INGREDIENT_START&gt; &lt;INGREDIENT_START&gt; 1 lb tofu &lt;INGREDIENT_END&gt; &lt;INGREDIENT_END&gt;</td>\n",
       "      <td>&lt;RECIPE_START&gt; slice 1/4 '' thick  &lt;RECIPE_STEP&gt;  lightly sprinkle salt on both sides  &lt;RECIPE_STEP&gt;  or , sprinkle with onion or garlic salt  &lt;RECIPE_STEP&gt;  bake in a toster oven or put cake rackson regular grates in oven  &lt;RECIPE_STEP&gt;  lay slices on racks  &lt;RECIPE_STEP&gt;  bake at 350f  &lt;RECIPE_STEP&gt;   &lt;RECIPE_END&gt;</td>\n",
       "    </tr>\n",
       "    <tr>\n",
       "      <th>5928</th>\n",
       "      <td>&lt;INGREDIENT_START&gt; &lt;INGREDIENT_START&gt; see 1-2-3-4 cake recipe &lt;INGREDIENT_END&gt; &lt;INGREDIENT_END&gt;</td>\n",
       "      <td>&lt;RECIPE_START&gt; bake in a greased and floured 10 by 4 inch -lrb- 18 cup capacity -rrb- tube , bundt or kugelhopf pan for 60 to 70 minutes  &lt;RECIPE_STEP&gt;  after the cake has cooled , sprinkle with confectioners ' sugar and fill the center with fresh berries or glaze as desired  &lt;RECIPE_STEP&gt;  add 2 tablespoons finely grated ornage rind and 1 tablespoon grated lemon rind to batter  &lt;RECIPE_STEP&gt;  decrease baking powder to 2 teaspoons and add 1 teaspoon baking soda  &lt;RECIPE_STEP&gt;  substitute but...</td>\n",
       "    </tr>\n",
       "    <tr>\n",
       "      <th>6032</th>\n",
       "      <td>&lt;INGREDIENT_START&gt; &lt;INGREDIENT_START&gt; content &lt;INGREDIENT_END&gt; &lt;INGREDIENT_END&gt;</td>\n",
       "      <td>&lt;RECIPE_START&gt; by sheldon margen , md , and dale a &lt;RECIPE_STEP&gt;  olgar  &lt;RECIPE_STEP&gt;  originally posted in the los angeles times , but appeared in a paper here in canada  &lt;RECIPE_STEP&gt;  for us , this always brings up the subject of chocolate  &lt;RECIPE_STEP&gt;  like being in love and , in fact , there is some evidence that when you eat chocolate the brain produces some fo the same complex chemical substances it does when the love bug bites  &lt;RECIPE_STEP&gt;  other sweet things mixed with the choc...</td>\n",
       "    </tr>\n",
       "    <tr>\n",
       "      <th>6059</th>\n",
       "      <td>&lt;INGREDIENT_START&gt; &lt;INGREDIENT_START&gt; no ingredients found &lt;INGREDIENT_END&gt; &lt;INGREDIENT_END&gt;</td>\n",
       "      <td>&lt;RECIPE_START&gt; okay , start off by making some jell-o , preferably strawberry or cherry or some other flavor that 's naturally red  &lt;RECIPE_STEP&gt;  but , use two to three times as much jell-o mix as you normally would , to thicken up the consistency  &lt;RECIPE_STEP&gt;  get a clean plastic bag -lrb- inside and out -rrb- and place in it some karo syrup  &lt;RECIPE_STEP&gt;  now add something like a very dar red wine , or grape juice  &lt;RECIPE_STEP&gt;  starting to get the picture yet ? kay , now place this b...</td>\n",
       "    </tr>\n",
       "    <tr>\n",
       "      <th>6062</th>\n",
       "      <td>&lt;INGREDIENT_START&gt; &lt;INGREDIENT_START&gt; no ingredients found &lt;INGREDIENT_END&gt; &lt;INGREDIENT_END&gt;</td>\n",
       "      <td>&lt;RECIPE_START&gt; but one thing we do know is that the cacao tree is definitely a tropical plant and thrives only in hot rainy climates  &lt;RECIPE_STEP&gt;  so this means that the cultivation of the tree is confined to lands that are no more than 20 degree north or south of the equator  &lt;RECIPE_STEP&gt;  cutlasses are used to whack the pods on the lower branches  &lt;RECIPE_STEP&gt;  next , the harvesters break open the pods with a machete  &lt;RECIPE_STEP&gt;  then the ivory colored beans are scooped out of the p...</td>\n",
       "    </tr>\n",
       "    <tr>\n",
       "      <th>6063</th>\n",
       "      <td>&lt;INGREDIENT_START&gt; &lt;INGREDIENT_START&gt; no ingredients found &lt;INGREDIENT_END&gt; &lt;INGREDIENT_END&gt;</td>\n",
       "      <td>&lt;RECIPE_START&gt; next , the beans are roasted in rotating machines at very high temperatures to bring out the distinctive chocolate aroma  &lt;RECIPE_STEP&gt;  buring the process , a skilled supervisor periodically takes samples to assure a uniform quality of roasst  &lt;RECIPE_STEP&gt;  when the beans are properly roasted , they are cooled quickly and their thin shells are removed by a `` cracker and fanner ''  &lt;RECIPE_STEP&gt;  during the grinding process , the heat releases the cocoa butter in the nibs , ...</td>\n",
       "    </tr>\n",
       "    <tr>\n",
       "      <th>6144</th>\n",
       "      <td>&lt;INGREDIENT_START&gt; &lt;INGREDIENT_START&gt; 1 lb makes 1 pint &lt;INGREDIENT_END&gt; &lt;INGREDIENT_END&gt;</td>\n",
       "      <td>&lt;RECIPE_START&gt; choose firm , compact , dark green heads  &lt;RECIPE_STEP&gt;  wash thoroughly , then soak in 1 cup salt per gallon of water for 1/2 hour to get rid of bugs  &lt;RECIPE_STEP&gt;  rinse in fresh water  &lt;RECIPE_STEP&gt;  drain  &lt;RECIPE_STEP&gt;  sort by size  &lt;RECIPE_STEP&gt;  blanch small sprouts 3 minutes  &lt;RECIPE_STEP&gt;  medium sprouts 4 minutes  &lt;RECIPE_STEP&gt;  large sprouts 5 minutes  &lt;RECIPE_STEP&gt;  cool  &lt;RECIPE_STEP&gt;  drain well  &lt;RECIPE_STEP&gt;  tray freeze or pack into containers  &lt;RECIPE_STEP&gt;...</td>\n",
       "    </tr>\n",
       "    <tr>\n",
       "      <th>6149</th>\n",
       "      <td>&lt;INGREDIENT_START&gt; &lt;INGREDIENT_START&gt; 1 lb to 1-1/2 lb; makes 1 pint &lt;INGREDIENT_END&gt; &lt;INGREDIENT_END&gt;</td>\n",
       "      <td>&lt;RECIPE_START&gt; choose plump , firm , evenly and darkly colored eggplant and harvest before inner seeds mature  &lt;RECIPE_STEP&gt;  wash , peel , and slice 1/3 inch thick  &lt;RECIPE_STEP&gt;  work quickly because eggplant discolors if allowed to stand  &lt;RECIPE_STEP&gt;  blanch 4 minutes  &lt;RECIPE_STEP&gt;  add 1/2 cup lemon juice or 4-1/2 teaspoons citric acid to 1 gallon blanching water  &lt;RECIPE_STEP&gt;  cool  &lt;RECIPE_STEP&gt;  drain well  &lt;RECIPE_STEP&gt;  tray freeze or pack into containers  &lt;RECIPE_STEP&gt;  seal , ...</td>\n",
       "    </tr>\n",
       "    <tr>\n",
       "      <th>6217</th>\n",
       "      <td>&lt;INGREDIENT_START&gt; &lt;INGREDIENT_START&gt; here's a chart that does the &lt;INGREDIENT_END&gt; &lt;INGREDIENT_END&gt;</td>\n",
       "      <td>&lt;RECIPE_START&gt; here 's how to measure amounts for which there are n't any stand spoon or cup measures  &lt;RECIPE_STEP&gt;   &lt;RECIPE_END&gt;</td>\n",
       "    </tr>\n",
       "    <tr>\n",
       "      <th>6257</th>\n",
       "      <td>&lt;INGREDIENT_START&gt; &lt;INGREDIENT_START&gt; 2 lb to 4 lb; makes 1 pint &lt;INGREDIENT_END&gt; &lt;INGREDIENT_END&gt;</td>\n",
       "      <td>&lt;RECIPE_START&gt; choose fresh , firm roots with no bad spots  &lt;RECIPE_STEP&gt;  scrub well  &lt;RECIPE_STEP&gt;  if necessary , cut into chunks  &lt;RECIPE_STEP&gt;  blanch 3 to 5 minutes , depending on size  &lt;RECIPE_STEP&gt;  cool  &lt;RECIPE_STEP&gt;  drain well  &lt;RECIPE_STEP&gt;  pack in containers  &lt;RECIPE_STEP&gt;  seal , label , and freeze  &lt;RECIPE_STEP&gt;  cook frozen jerusalem artichokes just until tender  &lt;RECIPE_STEP&gt;   &lt;RECIPE_END&gt;</td>\n",
       "    </tr>\n",
       "    <tr>\n",
       "      <th>6258</th>\n",
       "      <td>&lt;INGREDIENT_START&gt; &lt;INGREDIENT_START&gt; 1 1/4 lb to 1-1/2 lb; makes 1 pint &lt;INGREDIENT_END&gt; &lt;INGREDIENT_END&gt;</td>\n",
       "      <td>&lt;RECIPE_START&gt; choose young , tender small to medium kohlrabi  &lt;RECIPE_STEP&gt;  cut off tops and roots and wash well  &lt;RECIPE_STEP&gt;  pare , leave whole , or slice 1/4-inch thick or dice into 1/2-inch cubes  &lt;RECIPE_STEP&gt;  blanch whole kohlrabi 3 minutes  &lt;RECIPE_STEP&gt;  blanch diced or sliced kohlrabi 1 to 2 minutes  &lt;RECIPE_STEP&gt;  tray freeze or pack in containers , leaving 1/4 inch head space  &lt;RECIPE_STEP&gt;  seal , label , and freeze  &lt;RECIPE_STEP&gt;  cook frozen kohlrabi 8 to 10 minutes  &lt;RECI...</td>\n",
       "    </tr>\n",
       "  </tbody>\n",
       "</table>\n",
       "</div>"
      ],
      "text/plain": [
       "                                                                                                                                            Ingredients  \\\n",
       "4766                                                                  <INGREDIENT_START> <INGREDIENT_START> see below <INGREDIENT_END> <INGREDIENT_END>   \n",
       "4777                                                       <INGREDIENT_START> <INGREDIENT_START> round robin exchange <INGREDIENT_END> <INGREDIENT_END>   \n",
       "4835                                                                  <INGREDIENT_START> <INGREDIENT_START> text only <INGREDIENT_END> <INGREDIENT_END>   \n",
       "4887                                 <INGREDIENT_START> <INGREDIENT_START> 2 1/2 qt chicken stock; (see other recipe) <INGREDIENT_END> <INGREDIENT_END>   \n",
       "5056                                       <INGREDIENT_START> <INGREDIENT_START> 12    ears white corn in milky stage <INGREDIENT_END> <INGREDIENT_END>   \n",
       "5068  <INGREDIENT_START> <INGREDIENT_START> 2    tbsp) evenly in single layer on plate. microwave on high 2-4 minutes <INGREDIENT_END> <INGREDIENT_END>   \n",
       "5069                                        <INGREDIENT_START> <INGREDIENT_START> 12    med-skinned oranges or lemons <INGREDIENT_END> <INGREDIENT_END>   \n",
       "5147                                                           <INGREDIENT_START> <INGREDIENT_START> 1    information <INGREDIENT_END> <INGREDIENT_END>   \n",
       "5858                                                          <INGREDIENT_START> <INGREDIENT_START> shaping of breads <INGREDIENT_END> <INGREDIENT_END>   \n",
       "5905                                                                  <INGREDIENT_START> <INGREDIENT_START> 1 lb tofu <INGREDIENT_END> <INGREDIENT_END>   \n",
       "5928                                                    <INGREDIENT_START> <INGREDIENT_START> see 1-2-3-4 cake recipe <INGREDIENT_END> <INGREDIENT_END>   \n",
       "6032                                                                    <INGREDIENT_START> <INGREDIENT_START> content <INGREDIENT_END> <INGREDIENT_END>   \n",
       "6059                                                       <INGREDIENT_START> <INGREDIENT_START> no ingredients found <INGREDIENT_END> <INGREDIENT_END>   \n",
       "6062                                                       <INGREDIENT_START> <INGREDIENT_START> no ingredients found <INGREDIENT_END> <INGREDIENT_END>   \n",
       "6063                                                       <INGREDIENT_START> <INGREDIENT_START> no ingredients found <INGREDIENT_END> <INGREDIENT_END>   \n",
       "6144                                                          <INGREDIENT_START> <INGREDIENT_START> 1 lb makes 1 pint <INGREDIENT_END> <INGREDIENT_END>   \n",
       "6149                                             <INGREDIENT_START> <INGREDIENT_START> 1 lb to 1-1/2 lb; makes 1 pint <INGREDIENT_END> <INGREDIENT_END>   \n",
       "6217                                               <INGREDIENT_START> <INGREDIENT_START> here's a chart that does the <INGREDIENT_END> <INGREDIENT_END>   \n",
       "6257                                                 <INGREDIENT_START> <INGREDIENT_START> 2 lb to 4 lb; makes 1 pint <INGREDIENT_END> <INGREDIENT_END>   \n",
       "6258                                         <INGREDIENT_START> <INGREDIENT_START> 1 1/4 lb to 1-1/2 lb; makes 1 pint <INGREDIENT_END> <INGREDIENT_END>   \n",
       "\n",
       "                                                                                                                                                                                                                                                                                                                                                                                                                                                                                                                   Recipe  \n",
       "4766                                                                                                                                                                                                                                       <RECIPE_START> use 2 ts loose tea or 2 tea bags for each cup of cold water  <RECIPE_STEP>  place tea in glass container  <RECIPE_STEP>  add water  <RECIPE_STEP>  cover and refrigerate at least 24 hours  <RECIPE_STEP>  serve over crushed ice  <RECIPE_STEP>   <RECIPE_END>  \n",
       "4777  <RECIPE_START> 6 ea eggs , separated 11/4 c sugar 2 t lemon juice 3/4 c sifted pastry flour 1/4 c cornstarch 1/2 ts salt beat egg yolks until creamy and light , gradually add sugar , beating well after each addition and adding with the last portion 1 tablespoon lemon juice  <RECIPE_STEP>  mix and sift flour , cornstarch and salt , add half of it to the egg yolk mixture , stirring gently till blended and adding while blending another tablespooon of lemon juice  <RECIPE_STEP>  fold in stiffly ...  \n",
       "4835  <RECIPE_START> in a saucepan , make a syrup with 2 cups water and 1 cup sugar  <RECIPE_STEP>  stir over heat until the sugar dissolves , then add the juice of half a lemon and boil the syrup vigorously for 5 minutes  <RECIPE_STEP>  set aside to cool  <RECIPE_STEP>  in a food processor , puree 3 punnets of hulled , strawberries with quarter of a cup of milk and a couple of drops of red food colouring  <RECIPE_STEP>  combine puree with the syrup and pour into a narrow rectangular cake tin or a...  \n",
       "4887  <RECIPE_START> put the previously prepared , cold , fat-free , 2-1/2 quarts of chicken stock in an 8 quart pan  <RECIPE_STEP>  add a whole stewing fowl or roasting chicken weighing between 4 and 5 pounds  <RECIPE_STEP>  bring slowly to a boil  <RECIPE_STEP>  skim off any scum that forms on the surface  <RECIPE_STEP>  reduce heat  <RECIPE_STEP>  cover and simmer gently until the chicken is very tender , about 1 hour for a young chicken , or 2 to 2-1/2 hours for a fowl  <RECIPE_STEP>  remove t...  \n",
       "5056  <RECIPE_START> scrape corn with sharp knife three times  <RECIPE_STEP>  first scrape corn just to break off kernals  <RECIPE_STEP>  second scrape remainder of corn halfway  <RECIPE_STEP>  third scrape off rest of kernels off cob  <RECIPE_STEP>  then use potato masher and mash all kernels until milk comes out , take loaf pan which is about 11/2 '' deep , grease and put in all corn that has been mashed and bake in oven until all kernels are golden brown  <RECIPE_STEP>  use low heat and bake ap...  \n",
       "5068                                                                         <RECIPE_START> sprinkle grated peel from one medium orange or two small lemons -lrb- about or until dry to the touch , turning plate and lifting and tossing peel with fingers after each minute  <RECIPE_STEP>  let stand about 2 hours or until completly cooled and brittle  <RECIPE_STEP>  store in airtight container no longer than 2 months  <RECIPE_STEP>  1/2 tsp dried peel is equivalent to 1 tsp grated fresh peel  <RECIPE_END>  \n",
       "5069  <RECIPE_START> use the coarse side of a cheese grater to grate off the citrus skin in strips  <RECIPE_STEP>  use only the orange -lrb- or yellow -rrb- part of the skin avoiding the bitter white part  <RECIPE_STEP>  spread the peel strips on two ceramic plates and let dry , uncovered , at room temperature , for 3 to 4 days  <RECIPE_STEP>  when the peels become brittle and shriveled , store them in a small glass jar  <RECIPE_STEP>  whirl the whole dried peels in a blender or food processor unt...  \n",
       "5147  <RECIPE_START> for use in cajun dishes , gravies and as an all around flavorful thickening agent  <RECIPE_STEP>  make several cups at a time and store in tightly closed jar in refrigerator  <RECIPE_STEP>  put 1 to 3 cups flour into heavy skillet and place over moderate heat  <RECIPE_STEP>  stir the flour around often with a wooden spoon as it cooks  <RECIPE_STEP>  continue until all the flour is desired color , probably about like a light peanut butter color  <RECIPE_STEP>  extracted from ``...  \n",
       "5858  <RECIPE_START> grease 6 6x3 '' sheets to make free form loaves  <RECIPE_STEP>  divide dough into 6 parts  <RECIPE_STEP>  remove air pockets by working dough with hands and rolling into 6 10x5 '' rectangles  <RECIPE_STEP>  starting from shorter side , roll up , pinching edges firmly to seal  <RECIPE_STEP>  for free-form loaves , taper ends slightly  <RECIPE_STEP>  place seam-side-down on prepared pan  <RECIPE_STEP>  cover  <RECIPE_STEP>  let rise in warm place until light and double in size ,...  \n",
       "5905                                                                                                                                                                                        <RECIPE_START> slice 1/4 '' thick  <RECIPE_STEP>  lightly sprinkle salt on both sides  <RECIPE_STEP>  or , sprinkle with onion or garlic salt  <RECIPE_STEP>  bake in a toster oven or put cake rackson regular grates in oven  <RECIPE_STEP>  lay slices on racks  <RECIPE_STEP>  bake at 350f  <RECIPE_STEP>   <RECIPE_END>  \n",
       "5928  <RECIPE_START> bake in a greased and floured 10 by 4 inch -lrb- 18 cup capacity -rrb- tube , bundt or kugelhopf pan for 60 to 70 minutes  <RECIPE_STEP>  after the cake has cooled , sprinkle with confectioners ' sugar and fill the center with fresh berries or glaze as desired  <RECIPE_STEP>  add 2 tablespoons finely grated ornage rind and 1 tablespoon grated lemon rind to batter  <RECIPE_STEP>  decrease baking powder to 2 teaspoons and add 1 teaspoon baking soda  <RECIPE_STEP>  substitute but...  \n",
       "6032  <RECIPE_START> by sheldon margen , md , and dale a <RECIPE_STEP>  olgar  <RECIPE_STEP>  originally posted in the los angeles times , but appeared in a paper here in canada  <RECIPE_STEP>  for us , this always brings up the subject of chocolate  <RECIPE_STEP>  like being in love and , in fact , there is some evidence that when you eat chocolate the brain produces some fo the same complex chemical substances it does when the love bug bites  <RECIPE_STEP>  other sweet things mixed with the choc...  \n",
       "6059  <RECIPE_START> okay , start off by making some jell-o , preferably strawberry or cherry or some other flavor that 's naturally red  <RECIPE_STEP>  but , use two to three times as much jell-o mix as you normally would , to thicken up the consistency  <RECIPE_STEP>  get a clean plastic bag -lrb- inside and out -rrb- and place in it some karo syrup  <RECIPE_STEP>  now add something like a very dar red wine , or grape juice  <RECIPE_STEP>  starting to get the picture yet ? kay , now place this b...  \n",
       "6062  <RECIPE_START> but one thing we do know is that the cacao tree is definitely a tropical plant and thrives only in hot rainy climates  <RECIPE_STEP>  so this means that the cultivation of the tree is confined to lands that are no more than 20 degree north or south of the equator  <RECIPE_STEP>  cutlasses are used to whack the pods on the lower branches  <RECIPE_STEP>  next , the harvesters break open the pods with a machete  <RECIPE_STEP>  then the ivory colored beans are scooped out of the p...  \n",
       "6063  <RECIPE_START> next , the beans are roasted in rotating machines at very high temperatures to bring out the distinctive chocolate aroma  <RECIPE_STEP>  buring the process , a skilled supervisor periodically takes samples to assure a uniform quality of roasst  <RECIPE_STEP>  when the beans are properly roasted , they are cooled quickly and their thin shells are removed by a `` cracker and fanner ''  <RECIPE_STEP>  during the grinding process , the heat releases the cocoa butter in the nibs , ...  \n",
       "6144  <RECIPE_START> choose firm , compact , dark green heads  <RECIPE_STEP>  wash thoroughly , then soak in 1 cup salt per gallon of water for 1/2 hour to get rid of bugs  <RECIPE_STEP>  rinse in fresh water  <RECIPE_STEP>  drain  <RECIPE_STEP>  sort by size  <RECIPE_STEP>  blanch small sprouts 3 minutes  <RECIPE_STEP>  medium sprouts 4 minutes  <RECIPE_STEP>  large sprouts 5 minutes  <RECIPE_STEP>  cool  <RECIPE_STEP>  drain well  <RECIPE_STEP>  tray freeze or pack into containers  <RECIPE_STEP>...  \n",
       "6149  <RECIPE_START> choose plump , firm , evenly and darkly colored eggplant and harvest before inner seeds mature  <RECIPE_STEP>  wash , peel , and slice 1/3 inch thick  <RECIPE_STEP>  work quickly because eggplant discolors if allowed to stand  <RECIPE_STEP>  blanch 4 minutes  <RECIPE_STEP>  add 1/2 cup lemon juice or 4-1/2 teaspoons citric acid to 1 gallon blanching water  <RECIPE_STEP>  cool  <RECIPE_STEP>  drain well  <RECIPE_STEP>  tray freeze or pack into containers  <RECIPE_STEP>  seal , ...  \n",
       "6217                                                                                                                                                                                                                                                                                                                                                                                  <RECIPE_START> here 's how to measure amounts for which there are n't any stand spoon or cup measures  <RECIPE_STEP>   <RECIPE_END>  \n",
       "6257                                                                                         <RECIPE_START> choose fresh , firm roots with no bad spots  <RECIPE_STEP>  scrub well  <RECIPE_STEP>  if necessary , cut into chunks  <RECIPE_STEP>  blanch 3 to 5 minutes , depending on size  <RECIPE_STEP>  cool  <RECIPE_STEP>  drain well  <RECIPE_STEP>  pack in containers  <RECIPE_STEP>  seal , label , and freeze  <RECIPE_STEP>  cook frozen jerusalem artichokes just until tender  <RECIPE_STEP>   <RECIPE_END>  \n",
       "6258  <RECIPE_START> choose young , tender small to medium kohlrabi  <RECIPE_STEP>  cut off tops and roots and wash well  <RECIPE_STEP>  pare , leave whole , or slice 1/4-inch thick or dice into 1/2-inch cubes  <RECIPE_STEP>  blanch whole kohlrabi 3 minutes  <RECIPE_STEP>  blanch diced or sliced kohlrabi 1 to 2 minutes  <RECIPE_STEP>  tray freeze or pack in containers , leaving 1/4 inch head space  <RECIPE_STEP>  seal , label , and freeze  <RECIPE_STEP>  cook frozen kohlrabi 8 to 10 minutes  <RECI...  "
      ]
     },
     "execution_count": 99,
     "metadata": {},
     "output_type": "execute_result"
    }
   ],
   "source": [
    "with_tags[with_tags.Ingredients.str.count('<INGREDIENT>') < 1][60:80]"
   ]
  },
  {
   "cell_type": "code",
   "execution_count": null,
   "metadata": {},
   "outputs": [
    {
     "data": {
      "text/plain": [
       "0.0"
      ]
     },
     "execution_count": 87,
     "metadata": {},
     "output_type": "execute_result"
    }
   ],
   "source": [
    "with_tags.Ingredients.str.count('<INGREDIENT>').quantile(0.01)"
   ]
  },
  {
   "cell_type": "code",
   "execution_count": null,
   "metadata": {},
   "outputs": [],
   "source": []
  },
  {
   "cell_type": "code",
   "execution_count": null,
   "metadata": {},
   "outputs": [
    {
     "data": {
      "text/html": [
       "<div>\n",
       "<style scoped>\n",
       "    .dataframe tbody tr th:only-of-type {\n",
       "        vertical-align: middle;\n",
       "    }\n",
       "\n",
       "    .dataframe tbody tr th {\n",
       "        vertical-align: top;\n",
       "    }\n",
       "\n",
       "    .dataframe thead th {\n",
       "        text-align: right;\n",
       "    }\n",
       "</style>\n",
       "<table border=\"1\" class=\"dataframe\">\n",
       "  <thead>\n",
       "    <tr style=\"text-align: right;\">\n",
       "      <th></th>\n",
       "      <th>Ingredients</th>\n",
       "      <th>Recipe</th>\n",
       "    </tr>\n",
       "  </thead>\n",
       "  <tbody>\n",
       "    <tr>\n",
       "      <th>0</th>\n",
       "      <td>6 tb butter or margarine - softened\\t3/4 c  c and h powdered sugar\\t1 c  all-purpose flour\\t1 tb milk\\t2    eggs\\t1 c  c and h granulated sugar\\t1/2 c  cocoa\\t2 tb flour\\t1/2 ts baking powder\\t1/2 ts salt\\t1 ts vanilla\\t1/4 ts almond extract (optional)\\t1 c  chopped almonds or pecans</td>\n",
       "      <td>cream together butter and powdered sugar . blend in 1 cup flour and milk . spread evenly in bottom of ungreased 9-inch square pan . bake in 350 degree oven 10 to 12 minutes . beat eggs slightly ; combine dry ingredients and add to eggs . blend in vanilla and almond extract ; fold in almonds . spread over hot baked layer ; return to oven and bake 20 minutes longer . cool ; while warm , cut into 24 bars .</td>\n",
       "    </tr>\n",
       "    <tr>\n",
       "      <th>1</th>\n",
       "      <td>1 c  vanilla wafer cookies, finely crushed\\t1 c  confectioner's sugar\\t2 tb cocoa\\t1 c  pecans, finely chopped\\t2 tb corn syrup\\t1/2 c  bourbon</td>\n",
       "      <td>combine dry ingredients and mix well . add corn syrup and bourbon and mix well . if too moist add a few cookie crumbs , if too dry add a little more bourbon . shape into small balls and roll in fruit sugar or fonely chopped pecans . store in an airtight container . also good made with dark rum .</td>\n",
       "    </tr>\n",
       "    <tr>\n",
       "      <th>2</th>\n",
       "      <td>1 c  all-purpose flour\\t1/2 c  sugar\\t2 ts baking powder\\t1/2 ts salt\\t2 tb unsweetened cocoa powder\\t1 1/2 c  all-bran? cereal\\t3/4 c  skim milk\\t2    egg whites\\t1/4 c  vegetable oil\\t1 c  sliced ripe banana; (about 1\\tvegetable cooking spray</td>\n",
       "      <td>kellogg 's all-bran 1 . stir together flour , sugar , baking powder , salt , and cocoa powder . set aside . in large mixing bowl , combine all-bran cereal and milk . let stand 5 minutes or until cereal softens . add egg whites and oil . beat well . stir in bananas . add flour mixture stirring only until combined . portion batte evenly into twelve 2-1/2 inch muffin-pan cups coated with cooking spray . bake at 400 f. about 25 minutes or until lightly browned . serve warm .</td>\n",
       "    </tr>\n",
       "    <tr>\n",
       "      <th>3</th>\n",
       "      <td>5 1/2 c  flour\\t1    cake compressed yeast\\tor 1  cake dry yeast\\t2 c  milk, scalded and cooled\\t1/2 ts salt\\t1/2 c  cocoa\\t1/4 c  shortening\\t2    eggs, well beaten\\t1/2 c  sugar</td>\n",
       "      <td>soften yeast and dissolve 1 tablespoon sugar in lukewarm milk . add 3 cups flour and beat until smooth . cover and set aside to rise in a warm place until light . add shortening and sugar , which have been creamed together , eggs , cocoa , salt , and remainder of flour or enough to make a soft dough . knead lightly and place in well-oiled bowl . cover and set in a warm place until double in bulk about 2 hours . form into loaves . place in well-oiled bread pans , filling them 1/2 full . cover...</td>\n",
       "    </tr>\n",
       "    <tr>\n",
       "      <th>4</th>\n",
       "      <td>bread -- to fill dish 2/3\\tful\\t2 c  skim milk\\t2/3 c  sugar\\t2    eggs -- or 4 egg whites\\t2 tb cocoa\\t1 ts vanilla</td>\n",
       "      <td>into a greased casserole dish break up enough bread to fill it 2/3 full . over this pour 2/3 cup sugar , 2 heaping tbsp cocoa that have been mixed together . toss all together lightly -lrb- to coat the bread -rrb- . to 2 cups of milk add 2 well beaten eggs and 1 tsp vanilla . pour this over the bread and it should just cover the pieces . bake at 350 fo r about 45 minutes .</td>\n",
       "    </tr>\n",
       "    <tr>\n",
       "      <th>...</th>\n",
       "      <td>...</td>\n",
       "      <td>...</td>\n",
       "    </tr>\n",
       "    <tr>\n",
       "      <th>101335</th>\n",
       "      <td>6 oz smoked bacon or pancetta, cut into 1/2\" dice\\t4 tb olive oil\\t6 oz fresh shiitake mushrooms, sliced\\t1 lb asparagus, cut into 2\" piece\\t12 oz fresh fettucine\\t1 tb fresh thyme, finely chopped\\t2 tb fresh oregano, finely chopped\\tsalt to taste\\tpepper to taste</td>\n",
       "      <td>saute bacon in skillet until crisp , remove to a plate . drain off excess fat , then add olive oil to the skillet and cook the mushrooms until softened . lightly blanch the asparagus . cook the pasta briefly in boiling salted water . drain the noodles and toos with the asparagus , bacon , shiitake and fresh herbs . season with salt and pepper . 35 grams total fat ; -lrb- 9.9 grams saturated fat -rrb- ; 175.5 milligrams cholesterol ; 709.7 milligrams sodium .</td>\n",
       "    </tr>\n",
       "    <tr>\n",
       "      <th>101336</th>\n",
       "      <td>2 ts sesame oil\\t1 lb halibut or lean fish steaks, cut into l-inch pieces\\t1 md onion, thinly sliced\\t3    cloves garlic, finely chopped\\t1 ts finely chopped gingerroot\\t1 pk (10 ounces) frozen asparagus cuts, thawed and drained\\t1 cn (4 ounces) sliced mushrooms, drained\\t1 md tomato, cut into thin wedges\\t2 tb soy sauce\\t1 tb lemon juice</td>\n",
       "      <td>heat oil in 10-inch nonstick skillet over medium-high heat . add fish , onion , garlic , gingerroot and asparagus . stir-fry 2 to 3 minutes or until fish almost flakes with fork . carefully stir in remaining ingredients ; heat through . serve with additional soy sauce if desired . 4 servings . nutrition information per serving 1 serving percent of u.s. rda</td>\n",
       "    </tr>\n",
       "    <tr>\n",
       "      <th>101337</th>\n",
       "      <td>apple, artichoke, asparagus, vocado, string bean, beet, roccoli, russels spourts, cabbage, arrot, cauliflower, celery, orn, cucumber, ggplant, grape, lettuce, nion, parsnip, pea, peach, ear, pepper, lum, potato, radish, aspberry, squash, tomato, atermelon</td>\n",
       "      <td>in the name of sportsmanship , let 's consider one more way to look at fruits and vegetables . artichoke , asparagus , avocado , bean , beet , broccoli , brussels sprouts , cabbage , carrot , cauliflower , celery , corn , cucumber , eggplant , lettuce , onion , parsnip , pea , pepper , potato , radish , squash , and tomato are vegetables , all the others are fruits . fine with us . and , deep in our hearts , we suspect that 's the best way to play , according to hoyle .</td>\n",
       "    </tr>\n",
       "    <tr>\n",
       "      <th>101338</th>\n",
       "      <td>herb vinaigrette (see below)\\ttruffle juice vinaigrette (see below)\\t32    asparagus tips\\t50 g  chanterelles   (cleaned)\\t12 qt breasts\\t1    or 2 uncooked yellow zucchini (sliced into 48 very thin circles)\\t1 lg tomato (brunoised)\\t15 g  frisee lettuce (cleaned)\\t12    italian parsley leaves\\t30 g  truffle (sliced into 12 very thin circles)\\tbutter\\tseasoning - salt, pepper, chicken stock\\twhite wine</td>\n",
       "      <td>little dabs of food artfully arranged here and there on a plate , sometimes connected by skeins of sauces . expensive too . patrick lin -lrb- the regent hotel -rrb- make herb vinaigrette from onion , chives , italian parsley , parsley and a pinch of tarragon , all finely chopped together . -lrb- keep some chopped herbs aside to use in chanterelles preparation see below . -rrb- add salt , pepper , walnut oil , sherry and vinegar , according to taste . make truffle juice vinaigrette from bottl...</td>\n",
       "    </tr>\n",
       "    <tr>\n",
       "      <th>101339</th>\n",
       "      <td>2 lb asparagus, peeled \\t1/2 c  olive oil\\t1/4 c  white wine vinegar\\t1/2 ts dijon mustard\\t1 lg clove garlic, crushed\\tsalt and ground pepper\\t1 ts worcestershire sauce\\tds tabasco sauce\\t1/2 c  chopped onion\\t1/2 c  chopped fresh parsley\\t1/2 c  parmesan cheese\\t3 tb pine nuts,toasted(see below)</td>\n",
       "      <td>steam the asparagus spears for 5 minutes . drain well and place in a serving dish . in a bowl , whisk together the oil , vinegar , dijon , garlic , salt , pepper , worcestershire , tabasco , onion , parsley , and parmesan . stir in the pine nuts . pour the vinaigrette over the asparagus . cover and let marinate in the refrigerator 6 to 8 hours or overnight . serve chilled with the marinade spooned over the spears . 6 portions mature asparagus . spread nuts out on a cookie sheet and bake in a...</td>\n",
       "    </tr>\n",
       "  </tbody>\n",
       "</table>\n",
       "<p>101340 rows × 2 columns</p>\n",
       "</div>"
      ],
      "text/plain": [
       "                                                                                                                                                                                                                                                                                                                                                                                                                  Ingredients  \\\n",
       "0                                                                                                                                6 tb butter or margarine - softened\\t3/4 c  c and h powdered sugar\\t1 c  all-purpose flour\\t1 tb milk\\t2    eggs\\t1 c  c and h granulated sugar\\t1/2 c  cocoa\\t2 tb flour\\t1/2 ts baking powder\\t1/2 ts salt\\t1 ts vanilla\\t1/4 ts almond extract (optional)\\t1 c  chopped almonds or pecans   \n",
       "1                                                                                                                                                                                                                                                                             1 c  vanilla wafer cookies, finely crushed\\t1 c  confectioner's sugar\\t2 tb cocoa\\t1 c  pecans, finely chopped\\t2 tb corn syrup\\t1/2 c  bourbon   \n",
       "2                                                                                                                                                                        1 c  all-purpose flour\\t1/2 c  sugar\\t2 ts baking powder\\t1/2 ts salt\\t2 tb unsweetened cocoa powder\\t1 1/2 c  all-bran? cereal\\t3/4 c  skim milk\\t2    egg whites\\t1/4 c  vegetable oil\\t1 c  sliced ripe banana; (about 1\\tvegetable cooking spray   \n",
       "3                                                                                                                                                                                                                                         5 1/2 c  flour\\t1    cake compressed yeast\\tor 1  cake dry yeast\\t2 c  milk, scalded and cooled\\t1/2 ts salt\\t1/2 c  cocoa\\t1/4 c  shortening\\t2    eggs, well beaten\\t1/2 c  sugar   \n",
       "4                                                                                                                                                                                                                                                                                                        bread -- to fill dish 2/3\\tful\\t2 c  skim milk\\t2/3 c  sugar\\t2    eggs -- or 4 egg whites\\t2 tb cocoa\\t1 ts vanilla   \n",
       "...                                                                                                                                                                                                                                                                                                                                                                                                                       ...   \n",
       "101335                                                                                                                                               6 oz smoked bacon or pancetta, cut into 1/2\" dice\\t4 tb olive oil\\t6 oz fresh shiitake mushrooms, sliced\\t1 lb asparagus, cut into 2\" piece\\t12 oz fresh fettucine\\t1 tb fresh thyme, finely chopped\\t2 tb fresh oregano, finely chopped\\tsalt to taste\\tpepper to taste   \n",
       "101336                                                                   2 ts sesame oil\\t1 lb halibut or lean fish steaks, cut into l-inch pieces\\t1 md onion, thinly sliced\\t3    cloves garlic, finely chopped\\t1 ts finely chopped gingerroot\\t1 pk (10 ounces) frozen asparagus cuts, thawed and drained\\t1 cn (4 ounces) sliced mushrooms, drained\\t1 md tomato, cut into thin wedges\\t2 tb soy sauce\\t1 tb lemon juice   \n",
       "101337                                                                                                                                                        apple, artichoke, asparagus, vocado, string bean, beet, roccoli, russels spourts, cabbage, arrot, cauliflower, celery, orn, cucumber, ggplant, grape, lettuce, nion, parsnip, pea, peach, ear, pepper, lum, potato, radish, aspberry, squash, tomato, atermelon   \n",
       "101338  herb vinaigrette (see below)\\ttruffle juice vinaigrette (see below)\\t32    asparagus tips\\t50 g  chanterelles   (cleaned)\\t12 qt breasts\\t1    or 2 uncooked yellow zucchini (sliced into 48 very thin circles)\\t1 lg tomato (brunoised)\\t15 g  frisee lettuce (cleaned)\\t12    italian parsley leaves\\t30 g  truffle (sliced into 12 very thin circles)\\tbutter\\tseasoning - salt, pepper, chicken stock\\twhite wine   \n",
       "101339                                                                                                             2 lb asparagus, peeled \\t1/2 c  olive oil\\t1/4 c  white wine vinegar\\t1/2 ts dijon mustard\\t1 lg clove garlic, crushed\\tsalt and ground pepper\\t1 ts worcestershire sauce\\tds tabasco sauce\\t1/2 c  chopped onion\\t1/2 c  chopped fresh parsley\\t1/2 c  parmesan cheese\\t3 tb pine nuts,toasted(see below)   \n",
       "\n",
       "                                                                                                                                                                                                                                                                                                                                                                                                                                                                                                                     Recipe  \n",
       "0                                                                                                   cream together butter and powdered sugar . blend in 1 cup flour and milk . spread evenly in bottom of ungreased 9-inch square pan . bake in 350 degree oven 10 to 12 minutes . beat eggs slightly ; combine dry ingredients and add to eggs . blend in vanilla and almond extract ; fold in almonds . spread over hot baked layer ; return to oven and bake 20 minutes longer . cool ; while warm , cut into 24 bars .   \n",
       "1                                                                                                                                                                                                                 combine dry ingredients and mix well . add corn syrup and bourbon and mix well . if too moist add a few cookie crumbs , if too dry add a little more bourbon . shape into small balls and roll in fruit sugar or fonely chopped pecans . store in an airtight container . also good made with dark rum .   \n",
       "2                              kellogg 's all-bran 1 . stir together flour , sugar , baking powder , salt , and cocoa powder . set aside . in large mixing bowl , combine all-bran cereal and milk . let stand 5 minutes or until cereal softens . add egg whites and oil . beat well . stir in bananas . add flour mixture stirring only until combined . portion batte evenly into twelve 2-1/2 inch muffin-pan cups coated with cooking spray . bake at 400 f. about 25 minutes or until lightly browned . serve warm .   \n",
       "3       soften yeast and dissolve 1 tablespoon sugar in lukewarm milk . add 3 cups flour and beat until smooth . cover and set aside to rise in a warm place until light . add shortening and sugar , which have been creamed together , eggs , cocoa , salt , and remainder of flour or enough to make a soft dough . knead lightly and place in well-oiled bowl . cover and set in a warm place until double in bulk about 2 hours . form into loaves . place in well-oiled bread pans , filling them 1/2 full . cover...  \n",
       "4                                                                                                                                  into a greased casserole dish break up enough bread to fill it 2/3 full . over this pour 2/3 cup sugar , 2 heaping tbsp cocoa that have been mixed together . toss all together lightly -lrb- to coat the bread -rrb- . to 2 cups of milk add 2 well beaten eggs and 1 tsp vanilla . pour this over the bread and it should just cover the pieces . bake at 350 fo r about 45 minutes .   \n",
       "...                                                                                                                                                                                                                                                                                                                                                                                                                                                                                                                     ...  \n",
       "101335                                      saute bacon in skillet until crisp , remove to a plate . drain off excess fat , then add olive oil to the skillet and cook the mushrooms until softened . lightly blanch the asparagus . cook the pasta briefly in boiling salted water . drain the noodles and toos with the asparagus , bacon , shiitake and fresh herbs . season with salt and pepper . 35 grams total fat ; -lrb- 9.9 grams saturated fat -rrb- ; 175.5 milligrams cholesterol ; 709.7 milligrams sodium .   \n",
       "101336                                                                                                                                              heat oil in 10-inch nonstick skillet over medium-high heat . add fish , onion , garlic , gingerroot and asparagus . stir-fry 2 to 3 minutes or until fish almost flakes with fork . carefully stir in remaining ingredients ; heat through . serve with additional soy sauce if desired . 4 servings . nutrition information per serving 1 serving percent of u.s. rda   \n",
       "101337                          in the name of sportsmanship , let 's consider one more way to look at fruits and vegetables . artichoke , asparagus , avocado , bean , beet , broccoli , brussels sprouts , cabbage , carrot , cauliflower , celery , corn , cucumber , eggplant , lettuce , onion , parsnip , pea , pepper , potato , radish , squash , and tomato are vegetables , all the others are fruits . fine with us . and , deep in our hearts , we suspect that 's the best way to play , according to hoyle .   \n",
       "101338  little dabs of food artfully arranged here and there on a plate , sometimes connected by skeins of sauces . expensive too . patrick lin -lrb- the regent hotel -rrb- make herb vinaigrette from onion , chives , italian parsley , parsley and a pinch of tarragon , all finely chopped together . -lrb- keep some chopped herbs aside to use in chanterelles preparation see below . -rrb- add salt , pepper , walnut oil , sherry and vinegar , according to taste . make truffle juice vinaigrette from bottl...  \n",
       "101339  steam the asparagus spears for 5 minutes . drain well and place in a serving dish . in a bowl , whisk together the oil , vinegar , dijon , garlic , salt , pepper , worcestershire , tabasco , onion , parsley , and parmesan . stir in the pine nuts . pour the vinaigrette over the asparagus . cover and let marinate in the refrigerator 6 to 8 hours or overnight . serve chilled with the marinade spooned over the spears . 6 portions mature asparagus . spread nuts out on a cookie sheet and bake in a...  \n",
       "\n",
       "[101340 rows x 2 columns]"
      ]
     },
     "execution_count": 43,
     "metadata": {},
     "output_type": "execute_result"
    }
   ],
   "source": [
    "train"
   ]
  },
  {
   "cell_type": "code",
   "execution_count": null,
   "metadata": {},
   "outputs": [
    {
     "data": {
      "text/plain": [
       "True"
      ]
     },
     "execution_count": 25,
     "metadata": {},
     "output_type": "execute_result"
    }
   ],
   "source": [
    "'Ingredients' in train.columns"
   ]
  },
  {
   "cell_type": "code",
   "execution_count": null,
   "metadata": {},
   "outputs": [],
   "source": [
    "train.Ingredients = '<INGREDIENT_START> ' + train.Ingredients.str.replace('\\t', ' <INGREDIENT> ', regex=False) + ' <INGREDIENT_END>'"
   ]
  },
  {
   "cell_type": "markdown",
   "metadata": {},
   "source": [
    "### Building dictionaries"
   ]
  },
  {
   "cell_type": "code",
   "execution_count": 13,
   "metadata": {},
   "outputs": [],
   "source": [
    "# index for custom tags\n",
    "tags = {\n",
    "    \"<INGREDIENT_START>\": 0,\n",
    "    \"<INGREDIENT>\": 1,\n",
    "    \"<INGREDIENT_END>\": 2,\n",
    "    \"<RECIPE_START>\": 3,\n",
    "    \"<RECIPE_STEP>\": 4,\n",
    "    \"<RECIPE_END>\": 5\n",
    "}\n",
    "\n",
    "PAD_WORD = \"<PAD>\"\n",
    "class Vocabulary:\n",
    "    def __init__(self):\n",
    "        \"\"\"Vocabulary class which can convert a valid word to unique index and converting the index back to word.\"\"\"\n",
    "        ## initialize\n",
    "        self.word2index = tags\n",
    "        self.word2count = {k: 0 for k in tags.keys()}\n",
    "        self.index2word = {v:k for k,v in tags.items()}\n",
    "        self.n_unique_words = len(self.index2word) # total number of words in the dictionary.\n",
    "\n",
    "    def add_word(self, word):\n",
    "        if word not in self.word2index:\n",
    "            self.word2index[word] = self.n_unique_words\n",
    "            self.index2word[self.n_unique_words] = word\n",
    "            self.n_unique_words += 1\n",
    "            self.word2count[word] = 1\n",
    "        else:\n",
    "            self.word2count[word] += 1\n",
    "\n",
    "    def add_sentence(self, sentence):\n",
    "        for word in sentence.split(' '):\n",
    "            self.add_word(word)\n",
    "\n",
    "    def add_padding(self):\n",
    "        # NOTE: should be called after finished with building vocab\n",
    "        self.add_word(PAD_WORD)\n",
    "\n",
    "    def populate(self, df):\n",
    "        for rowid in tqdm(range(len(df))):\n",
    "            df_row = df.iloc[rowid]\n",
    "            for i in range(2):\n",
    "                self.add_sentence(df_row.iloc[i])\n",
    "        self.add_padding() # padding should be last in the vocabulary (for convenience in decoder)"
   ]
  },
  {
   "cell_type": "markdown",
   "metadata": {},
   "source": [
    "Use a combined vocabulary for both ingredients and recipes because the ingredients will appear in the recipes."
   ]
  },
  {
   "cell_type": "code",
   "execution_count": 14,
   "metadata": {},
   "outputs": [
    {
     "name": "stderr",
     "output_type": "stream",
     "text": [
      "100%|██████████| 99036/99036 [00:24<00:00, 4055.90it/s]\n"
     ]
    },
    {
     "data": {
      "text/plain": [
       "44683"
      ]
     },
     "execution_count": 14,
     "metadata": {},
     "output_type": "execute_result"
    }
   ],
   "source": [
    "vocab = Vocabulary()\n",
    "# populate_vocabulary(df, vocab)\n",
    "vocab.populate(df)\n",
    "vocab.n_unique_words"
   ]
  },
  {
   "cell_type": "code",
   "execution_count": 15,
   "metadata": {},
   "outputs": [],
   "source": [
    "class RecipeDataset(Dataset):\n",
    "    def __init__(self, df, vocab):\n",
    "        \"\"\"\n",
    "        Args:\n",
    "            df (pd.DataFrame): dataframe with two columns: \"Ingredients\" and \"Recipe\"\n",
    "            vocab (Vocabulary): to convert word2index\n",
    "        \"\"\"\n",
    "        super().__init__()\n",
    "        self.ingredient_recipe_df = df\n",
    "        self.vocab = vocab\n",
    "\n",
    "    def __len__(self):\n",
    "        return len(self.ingredient_recipe_df)\n",
    "    \n",
    "    def __getitem__(self, index):\n",
    "        row = self.ingredient_recipe_df.iloc[index]\n",
    "        ingredient_tens = torch.tensor([vocab.word2index[w] for w in row.Ingredients.split(\" \")],\n",
    "                                       dtype=torch.long, device=DEVICE)\n",
    "        recipe_tens = torch.tensor([vocab.word2index[w] for w in row.Recipe.split(\" \")],\n",
    "                                       dtype=torch.long, device=DEVICE)\n",
    "        return (ingredient_tens, recipe_tens)"
   ]
  },
  {
   "cell_type": "code",
   "execution_count": 16,
   "metadata": {},
   "outputs": [],
   "source": [
    "recipe_ds = RecipeDataset(df, vocab)"
   ]
  },
  {
   "cell_type": "markdown",
   "metadata": {},
   "source": [
    "For efficiently performing our model operations, the input should be batched. However, input ingredients and recipes are of different lengths. Therefore, to batch them, we need to pad with a padding value which we reserve to be 0 (see Vocabulary)."
   ]
  },
  {
   "cell_type": "code",
   "execution_count": 17,
   "metadata": {},
   "outputs": [],
   "source": [
    "# inspired by https://suzyahyah.github.io/pytorch/2019/07/01/DataLoader-Pad-Pack-Sequence.html\n",
    "def pad_collate(vocab):\n",
    "\n",
    "    def _pad_collate(batch):\n",
    "        # print(len(batch))\n",
    "        # print(batch[0])\n",
    "        # ingredients: tuple of len batch_size with Tensor elements containing all ingredients in batch\n",
    "        # recipes: tuple of len batch_size with Tensor elements containing all recipes in batch\n",
    "        ingredients, recipes = zip(*batch)\n",
    "        ingr_lens = torch.tensor([len(x) for x in ingredients], dtype=torch.long, device=DEVICE)\n",
    "        recipe_lens = torch.tensor([len(r) for r in recipes], dtype=torch.long, device=DEVICE)\n",
    "\n",
    "        ingredients_padded = pad_sequence(ingredients, batch_first=True, padding_value=vocab.word2index[PAD_WORD])\n",
    "        recipes_padded = pad_sequence(recipes, batch_first=True, padding_value=vocab.word2index[PAD_WORD])\n",
    "\n",
    "        return ingredients_padded, recipes_padded, ingr_lens, recipe_lens\n",
    "    \n",
    "    return _pad_collate\n",
    "\n",
    "def pack(x_embed, x_lens):\n",
    "    # convert tensor with padding to a PackedSequence, this allows rnns to ignore paddings\n",
    "    return pack_padded_sequence(x_embed, x_lens.cpu().int(), batch_first=True, enforce_sorted=False)\n",
    "\n",
    "def unpack(out_packed, padding_val):\n",
    "    out_padded, out_lens = pad_packed_sequence(out_packed, batch_first=True, padding_value=padding_val)\n",
    "    return out_padded, out_lens"
   ]
  },
  {
   "cell_type": "markdown",
   "metadata": {},
   "source": [
    "# Implementation of Baseline 1"
   ]
  },
  {
   "cell_type": "code",
   "execution_count": 18,
   "metadata": {},
   "outputs": [],
   "source": [
    "class EncoderRNN(nn.Module):\n",
    "    def __init__(self,\n",
    "                 input_size,\n",
    "                 hidden_size,\n",
    "                 padding_value,\n",
    "                 ):\n",
    "        \"\"\"Encoder LSTM to encode input sequence.\n",
    "\n",
    "        input_size (int): size of vocabulary\n",
    "        hidden_size (int): size of hidden dimension, referred to as H\n",
    "        \"\"\"\n",
    "        super().__init__()\n",
    "        self.input_size = input_size\n",
    "        self.hidden_size = hidden_size\n",
    "        self.embedding = nn.Embedding(input_size, hidden_size)\n",
    "        self.lstm = nn.LSTM(hidden_size, hidden_size, batch_first=True)\n",
    "        self.padding_value = padding_value\n",
    "\n",
    "    def forward(self, ingredients, ing_lens):\n",
    "        \"\"\"Embed ingredients and feed through LSTM. \n",
    "        Batch process all words in sequence at once for efficiency rather than one word one batch at a time.\n",
    "\n",
    "        Args:\n",
    "            ingredients (torch.Tensor): padded ingredients of shape [N, L], where N=batch size and L=longest sequence length in batch\n",
    "        \"\"\"\n",
    "        ## embed ingredients\n",
    "        ingredients_embed = self.embedding(ingredients) # [N, L, H]\n",
    "\n",
    "        ## pack padded ingredients tensor before feeding through LSTM (this allows the lstm to optimize operations, ignoring padding)\n",
    "        ingredients_packed = pack(ingredients_embed, ing_lens)\n",
    "\n",
    "        ## feed through LSTM\n",
    "        # by default, initial hidden state and initial cell state are zeros\n",
    "        # output: PackedSequence containing hidden state for each token in sequence\n",
    "        # final hidden state: Tensor [num_layers=1, N, H] NOTE: this is the last non-padded hidden state for each input sequence\n",
    "        # c_final: last cell state Tensor [num_layers=1, N, H]\n",
    "        output, (h_final, _) = self.lstm(ingredients_packed)\n",
    "\n",
    "        ## unpack PackedSequence to get back our padded tensor\n",
    "        # output_padded: padded output tensor which masks out encoder outputs for padding to 0; shape [N, L, H] NOTE: output_padded[:, -1] != h_final because of padding\n",
    "        # output_lens: unpadded sequence lengths; tensor of shape [N]\n",
    "        output_padded, output_lens = unpack(output, padding_val=self.padding_value)\n",
    "\n",
    "        return output_padded, output_lens, h_final"
   ]
  },
  {
   "cell_type": "code",
   "execution_count": 19,
   "metadata": {},
   "outputs": [],
   "source": [
    "#! IMPORTANT: MAKE SURE DECODER'S OUTPUT SIZE IS VOCAB SIZE - 1\n",
    "class DecoderRNN(nn.Module):\n",
    "    def __init__(self,\n",
    "                 hidden_size,\n",
    "                 output_size\n",
    "                 ):\n",
    "        \"\"\"Decoder to generate recipes based on encoder output (hidden state(s)).\n",
    "\n",
    "        Args:\n",
    "            hidden_size (int): size of hidden dimension\n",
    "            output_size (int): size of target language vocabulary - 1 (doesn't need to encode padding), |Vocab| - 1\n",
    "        \"\"\"\n",
    "        super().__init__()\n",
    "        self.hidden_size = hidden_size\n",
    "        self.embedding = nn.Embedding(output_size, hidden_size)\n",
    "        self.lstm = nn.LSTM(hidden_size, hidden_size, batch_first=False)\n",
    "        self.nonlinear_activation = nn.Tanh()\n",
    "        self.out_fc = nn.Linear(hidden_size, output_size)\n",
    "        self.logsoftmax = nn.LogSoftmax(dim=1)\n",
    "\n",
    "    def forward(self, inp, hidden):\n",
    "        \"\"\"Decode one word at a time. Batch processed.\n",
    "\n",
    "        Args:\n",
    "            inp (torch.Tensor): start token or previous generation (non teacher-forcing) or \n",
    "                                previous ground truth token (teacher-forcing);\n",
    "                                shape [N]\n",
    "            hidden (torch.Tensor): encoder last hidden state; shape [1, N, H]\n",
    "        \"\"\"\n",
    "        ## embed token input\n",
    "        inp_embedded = self.embedding(inp)[None] # [L=1, N, H]\n",
    "\n",
    "        ## apply non-linear activation\n",
    "        inp_embedded = self.nonlinear_activation(inp_embedded)\n",
    "        \n",
    "        ## feed embedded input and hidden state through LSTM\n",
    "        # out: output features; shape [L=1, N, H]\n",
    "        # h_final: final updated hidden state; shape [num_layers=1, N, H]\n",
    "        # c_final: last cell state Tensor [num_layers=1, N, H]\n",
    "        out, (h_final, _) = self.lstm(inp_embedded, (hidden, torch.zeros_like(hidden)))\n",
    "\n",
    "        ## linear projection\n",
    "        out = self.out_fc(out[0]) # [N, H] -> [N, |Vocab|]\n",
    "\n",
    "        ## log softmax to get log probability distribution over vocabulary words\n",
    "        out = self.logsoftmax(out) # [N, |Vocab|]\n",
    "\n",
    "        return out, h_final"
   ]
  },
  {
   "cell_type": "code",
   "execution_count": 20,
   "metadata": {},
   "outputs": [],
   "source": [
    "def train_iter(ingredients, recipes, ing_lens, rec_lens, encoder, decoder, encoder_optimizer, decoder_optimizer, criterion):\n",
    "    \"\"\"Single training iteration. Processes batched data.\n",
    "\n",
    "    Args:\n",
    "        ingredients (torch.Tensor): padded ingredients tensor in idx form; \n",
    "                                    shape [N, L_i], where L_i = max ingredients length in batch\n",
    "        recipes (torch.Tensor): padded recipes tensor in idx form;\n",
    "                                shape [N, L_r], where L_r = max recipes length in batch\n",
    "        ing_lens (torch.Tensor): unpadded length of ingredients; shape [N]\n",
    "        rec_lens (torch.Tensor): unpadded length of recipes; shape [N]\n",
    "        encoder (EncoderRNN): encoder RNN module\n",
    "        decoder (DecoderRNN): decoder RNN module\n",
    "        encoder_optimizer (torch.optim)\n",
    "        decoder_optimizer (torch.optim)\n",
    "        criterion (torch.nn.NLLLoss): loss function\n",
    "    \"\"\"\n",
    "\n",
    "    ## reset gradients\n",
    "    encoder_optimizer.zero_grad()\n",
    "    decoder_optimizer.zero_grad()\n",
    "\n",
    "    N = ingredients.size(0)\n",
    "    padded_ing_len = ingredients.size(1) # L_i\n",
    "    padded_rec_len = recipes.size(1) # L_r\n",
    "\n",
    "\n",
    "    ## feed ingredients through encoder\n",
    "    # enc_out: padded encoder output tensor with shape [N, L, H]\n",
    "    # enc_out_lens: unpadded sequence lengths; tensor with shape [N]\n",
    "    # enc_h_final: final hidden state: [num_layers=1, N, H]\n",
    "    enc_out, enc_out_lens, enc_h_final = encoder(ingredients, ing_lens)\n",
    "\n",
    "    # decoder_input = torch.full((N, 1), fill_value=vocab.word2index[\"<RECIPE_START>\"],\n",
    "    #                            dtype=torch.long, device=DEVICE) \n",
    "    # initialize decoder hidden state as final encoder hidden state\n",
    "    decoder_hidden = enc_h_final\n",
    "\n",
    "    if TEACHER_FORCING_RATIO < 1:\n",
    "        raise ValueError(\"Non-teacher forcing is not implemented\")\n",
    "    \n",
    "    loss = 0\n",
    "    all_decoder_outs = [] # List of [N, |Vocab|-1]\n",
    "    all_gt = [] # List of [N]\n",
    "\n",
    "    ## teacher forcing\n",
    "    curr_rec_lens = rec_lens.clone()\n",
    "    ## NOTE: recipes already contain start token no need to add manually\n",
    "    ## TODO IMPORTANT: MAKE SURE DECODER'S OUTPUT SIZE IS VOCAB SIZE - 1\n",
    "    for di in range(padded_rec_len-1):\n",
    "        # get batches which have valid (non-padding and non ending) tokens as input\n",
    "        valid = (rec_lens - 1) > di\n",
    "        decoder_input_i = recipes[valid, di] # [N_valid]\n",
    "        decoder_hidden_i = decoder_hidden[:,valid] # [1, N_valid, H]\n",
    "\n",
    "        # decoder_out: log probabilities over vocab; [N_valid, |Vocab|-1]\n",
    "        # decoder_hfinal: final hidden state; [num_layers=1, N_valid, H]\n",
    "        decoder_out, decoder_hidden_i = decoder(decoder_input_i, decoder_hidden_i)\n",
    "\n",
    "        all_decoder_outs.append(decoder_out)\n",
    "\n",
    "        # because we ensured that input cannot be end token, there is a guaranteed non-padding token\n",
    "        # for each valid batch sample\n",
    "        gt_i = recipes[valid, di+1] # [N_valid]\n",
    "        assert (gt_i != vocab.word2index[PAD_WORD]).all(), f\"gt_i should not have padding but got: {gt_i}\"\n",
    "        all_gt.append(gt_i)\n",
    "\n",
    "        # update only valid decoder_hidden\n",
    "        decoder_hidden[:, valid] = decoder_hidden_i\n",
    "    \n",
    "    all_decoder_outs = torch.cat(all_decoder_outs, dim=0)\n",
    "    all_gt = torch.cat(all_gt, dim=0)\n",
    "\n",
    "    # mean Negative Log Likelihood Loss\n",
    "    loss = criterion(all_decoder_outs, all_gt)\n",
    "\n",
    "    ## backpropagation\n",
    "    loss.backward()\n",
    "\n",
    "    ## update params\n",
    "    encoder_optimizer.step()\n",
    "    decoder_optimizer.step()\n",
    "\n",
    "    return loss.item()"
   ]
  },
  {
   "cell_type": "code",
   "execution_count": 21,
   "metadata": {},
   "outputs": [],
   "source": [
    "def train(encoder, decoder, dataset, n_epochs, batch_size=4, learning_rate=0.01, verbose=True, verbose_iter_interval=10):\n",
    "    dataloader = DataLoader(dataset, batch_size=batch_size, shuffle=True, collate_fn=pad_collate(vocab))\n",
    "    total_iters = len(dataloader)\n",
    "    epoch_losses = torch.zeros(size=[n_epochs], dtype=torch.double, device=DEVICE, requires_grad=False)\n",
    "    \n",
    "    encoder_optimizer = optim.SGD(encoder.parameters(), lr=learning_rate)\n",
    "    decoder_optimizer = optim.SGD(decoder.parameters(), lr=learning_rate)\n",
    "    criterion = nn.NLLLoss()\n",
    "\n",
    "    for epoch in range(n_epochs):\n",
    "        if verbose: print(f\"Starting epoch {epoch+1}/{n_epochs}\")\n",
    "        epoch_loss = 0 # accumulate total loss during epoch\n",
    "        print_epoch_loss = 0 # accumulate losses for printing\n",
    "        for iter_idx, (ingredients, recipes, ing_lens, rec_lens) in enumerate(dataloader):\n",
    "            if verbose and iter_idx > 0  and iter_idx % verbose_iter_interval == 0:\n",
    "                print(f\"(Epoch {epoch}, iter {iter_idx}/{total_iters}) Average loss so far: {print_epoch_loss/verbose_iter_interval:.3f}\")\n",
    "                print_epoch_loss = 0\n",
    "            loss = train_iter(ingredients, recipes, ing_lens, rec_lens, encoder, decoder, \n",
    "                                   encoder_optimizer, decoder_optimizer, criterion)\n",
    "            epoch_loss += loss\n",
    "            print_epoch_loss += loss\n",
    "        epoch_loss /= total_iters # get average epoch loss\n",
    "        if verbose: print(f\"Average epoch loss: {epoch_loss:.3f}\")\n",
    "        epoch_losses.append(epoch_loss)\n",
    "\n",
    "    return epoch_losses"
   ]
  },
  {
   "cell_type": "markdown",
   "metadata": {},
   "source": [
    "### Instantiate Encoder and Decoder"
   ]
  },
  {
   "cell_type": "code",
   "execution_count": 22,
   "metadata": {},
   "outputs": [],
   "source": [
    "encoder = EncoderRNN(vocab.n_unique_words, hidden_size=HIDDEN_SIZE, padding_value=vocab.word2index[PAD_WORD]).to(DEVICE)\n",
    "# in the training script, decoder is always fed a non-end token and thus never needs to generate padding\n",
    "decoder = DecoderRNN(hidden_size=HIDDEN_SIZE, output_size=vocab.n_unique_words-1).to(DEVICE)"
   ]
  },
  {
   "cell_type": "code",
   "execution_count": 23,
   "metadata": {},
   "outputs": [
    {
     "name": "stdout",
     "output_type": "stream",
     "text": [
      "Starting epoch 1/5\n"
     ]
    },
    {
     "name": "stdout",
     "output_type": "stream",
     "text": [
      "(Epoch 0, iter 1/24759) Average loss so far: 10.711\n",
      "(Epoch 0, iter 2/24759) Average loss so far: 10.707\n",
      "(Epoch 0, iter 3/24759) Average loss so far: 10.713\n",
      "(Epoch 0, iter 4/24759) Average loss so far: 10.706\n",
      "(Epoch 0, iter 5/24759) Average loss so far: 10.713\n",
      "(Epoch 0, iter 6/24759) Average loss so far: 10.710\n",
      "(Epoch 0, iter 7/24759) Average loss so far: 10.708\n",
      "(Epoch 0, iter 8/24759) Average loss so far: 10.710\n",
      "(Epoch 0, iter 9/24759) Average loss so far: 10.707\n",
      "(Epoch 0, iter 10/24759) Average loss so far: 10.708\n",
      "(Epoch 0, iter 11/24759) Average loss so far: 10.709\n",
      "(Epoch 0, iter 12/24759) Average loss so far: 10.708\n",
      "(Epoch 0, iter 13/24759) Average loss so far: 10.707\n",
      "(Epoch 0, iter 14/24759) Average loss so far: 10.707\n",
      "(Epoch 0, iter 15/24759) Average loss so far: 10.706\n",
      "(Epoch 0, iter 16/24759) Average loss so far: 10.704\n",
      "(Epoch 0, iter 17/24759) Average loss so far: 10.708\n",
      "(Epoch 0, iter 18/24759) Average loss so far: 10.704\n",
      "(Epoch 0, iter 19/24759) Average loss so far: 10.708\n",
      "(Epoch 0, iter 20/24759) Average loss so far: 10.705\n",
      "(Epoch 0, iter 21/24759) Average loss so far: 10.710\n",
      "(Epoch 0, iter 22/24759) Average loss so far: 10.706\n",
      "(Epoch 0, iter 23/24759) Average loss so far: 10.705\n",
      "(Epoch 0, iter 24/24759) Average loss so far: 10.704\n",
      "(Epoch 0, iter 25/24759) Average loss so far: 10.709\n",
      "(Epoch 0, iter 26/24759) Average loss so far: 10.703\n",
      "(Epoch 0, iter 27/24759) Average loss so far: 10.704\n",
      "(Epoch 0, iter 28/24759) Average loss so far: 10.702\n",
      "(Epoch 0, iter 29/24759) Average loss so far: 10.704\n",
      "(Epoch 0, iter 30/24759) Average loss so far: 10.701\n",
      "(Epoch 0, iter 31/24759) Average loss so far: 10.708\n",
      "(Epoch 0, iter 32/24759) Average loss so far: 10.707\n",
      "(Epoch 0, iter 33/24759) Average loss so far: 10.702\n",
      "(Epoch 0, iter 34/24759) Average loss so far: 10.706\n",
      "(Epoch 0, iter 35/24759) Average loss so far: 10.706\n",
      "(Epoch 0, iter 36/24759) Average loss so far: 10.705\n",
      "(Epoch 0, iter 37/24759) Average loss so far: 10.710\n",
      "(Epoch 0, iter 38/24759) Average loss so far: 10.702\n",
      "(Epoch 0, iter 39/24759) Average loss so far: 10.702\n",
      "(Epoch 0, iter 40/24759) Average loss so far: 10.692\n",
      "(Epoch 0, iter 41/24759) Average loss so far: 10.702\n",
      "(Epoch 0, iter 42/24759) Average loss so far: 10.701\n",
      "(Epoch 0, iter 43/24759) Average loss so far: 10.705\n",
      "(Epoch 0, iter 44/24759) Average loss so far: 10.705\n",
      "(Epoch 0, iter 45/24759) Average loss so far: 10.701\n",
      "(Epoch 0, iter 46/24759) Average loss so far: 10.691\n",
      "(Epoch 0, iter 47/24759) Average loss so far: 10.698\n",
      "(Epoch 0, iter 48/24759) Average loss so far: 10.702\n",
      "(Epoch 0, iter 49/24759) Average loss so far: 10.701\n",
      "(Epoch 0, iter 50/24759) Average loss so far: 10.702\n",
      "(Epoch 0, iter 51/24759) Average loss so far: 10.703\n",
      "(Epoch 0, iter 52/24759) Average loss so far: 10.704\n",
      "(Epoch 0, iter 53/24759) Average loss so far: 10.698\n",
      "(Epoch 0, iter 54/24759) Average loss so far: 10.698\n",
      "(Epoch 0, iter 55/24759) Average loss so far: 10.700\n",
      "(Epoch 0, iter 56/24759) Average loss so far: 10.697\n",
      "(Epoch 0, iter 57/24759) Average loss so far: 10.697\n",
      "(Epoch 0, iter 58/24759) Average loss so far: 10.697\n",
      "(Epoch 0, iter 59/24759) Average loss so far: 10.704\n",
      "(Epoch 0, iter 60/24759) Average loss so far: 10.701\n",
      "(Epoch 0, iter 61/24759) Average loss so far: 10.702\n",
      "(Epoch 0, iter 62/24759) Average loss so far: 10.695\n",
      "(Epoch 0, iter 63/24759) Average loss so far: 10.697\n",
      "(Epoch 0, iter 64/24759) Average loss so far: 10.702\n",
      "(Epoch 0, iter 65/24759) Average loss so far: 10.702\n",
      "(Epoch 0, iter 66/24759) Average loss so far: 10.695\n",
      "(Epoch 0, iter 67/24759) Average loss so far: 10.697\n",
      "(Epoch 0, iter 68/24759) Average loss so far: 10.700\n",
      "(Epoch 0, iter 69/24759) Average loss so far: 10.691\n",
      "(Epoch 0, iter 70/24759) Average loss so far: 10.691\n",
      "(Epoch 0, iter 71/24759) Average loss so far: 10.699\n",
      "(Epoch 0, iter 72/24759) Average loss so far: 10.697\n",
      "(Epoch 0, iter 73/24759) Average loss so far: 10.694\n",
      "(Epoch 0, iter 74/24759) Average loss so far: 10.702\n",
      "(Epoch 0, iter 75/24759) Average loss so far: 10.692\n",
      "(Epoch 0, iter 76/24759) Average loss so far: 10.690\n",
      "(Epoch 0, iter 77/24759) Average loss so far: 10.695\n",
      "(Epoch 0, iter 78/24759) Average loss so far: 10.696\n",
      "(Epoch 0, iter 79/24759) Average loss so far: 10.694\n",
      "(Epoch 0, iter 80/24759) Average loss so far: 10.694\n",
      "(Epoch 0, iter 81/24759) Average loss so far: 10.688\n",
      "(Epoch 0, iter 82/24759) Average loss so far: 10.693\n",
      "(Epoch 0, iter 83/24759) Average loss so far: 10.693\n",
      "(Epoch 0, iter 84/24759) Average loss so far: 10.698\n",
      "(Epoch 0, iter 85/24759) Average loss so far: 10.695\n",
      "(Epoch 0, iter 86/24759) Average loss so far: 10.689\n",
      "(Epoch 0, iter 87/24759) Average loss so far: 10.689\n",
      "(Epoch 0, iter 88/24759) Average loss so far: 10.694\n",
      "(Epoch 0, iter 89/24759) Average loss so far: 10.686\n",
      "(Epoch 0, iter 90/24759) Average loss so far: 10.690\n",
      "(Epoch 0, iter 91/24759) Average loss so far: 10.684\n",
      "(Epoch 0, iter 92/24759) Average loss so far: 10.690\n",
      "(Epoch 0, iter 93/24759) Average loss so far: 10.689\n",
      "(Epoch 0, iter 94/24759) Average loss so far: 10.691\n",
      "(Epoch 0, iter 95/24759) Average loss so far: 10.689\n",
      "(Epoch 0, iter 96/24759) Average loss so far: 10.690\n",
      "(Epoch 0, iter 97/24759) Average loss so far: 10.687\n",
      "(Epoch 0, iter 98/24759) Average loss so far: 10.692\n",
      "(Epoch 0, iter 99/24759) Average loss so far: 10.686\n",
      "(Epoch 0, iter 100/24759) Average loss so far: 10.686\n",
      "(Epoch 0, iter 101/24759) Average loss so far: 10.694\n",
      "(Epoch 0, iter 102/24759) Average loss so far: 10.690\n",
      "(Epoch 0, iter 103/24759) Average loss so far: 10.698\n",
      "(Epoch 0, iter 104/24759) Average loss so far: 10.693\n",
      "(Epoch 0, iter 105/24759) Average loss so far: 10.686\n",
      "(Epoch 0, iter 106/24759) Average loss so far: 10.689\n",
      "(Epoch 0, iter 107/24759) Average loss so far: 10.691\n",
      "(Epoch 0, iter 108/24759) Average loss so far: 10.693\n",
      "(Epoch 0, iter 109/24759) Average loss so far: 10.692\n",
      "(Epoch 0, iter 110/24759) Average loss so far: 10.679\n",
      "(Epoch 0, iter 111/24759) Average loss so far: 10.690\n",
      "(Epoch 0, iter 112/24759) Average loss so far: 10.688\n",
      "(Epoch 0, iter 113/24759) Average loss so far: 10.686\n",
      "(Epoch 0, iter 114/24759) Average loss so far: 10.686\n",
      "(Epoch 0, iter 115/24759) Average loss so far: 10.689\n",
      "(Epoch 0, iter 116/24759) Average loss so far: 10.684\n",
      "(Epoch 0, iter 117/24759) Average loss so far: 10.684\n",
      "(Epoch 0, iter 118/24759) Average loss so far: 10.692\n"
     ]
    },
    {
     "ename": "KeyboardInterrupt",
     "evalue": "",
     "output_type": "error",
     "traceback": [
      "\u001b[1;31m---------------------------------------------------------------------------\u001b[0m",
      "\u001b[1;31mKeyboardInterrupt\u001b[0m                         Traceback (most recent call last)",
      "Cell \u001b[1;32mIn[23], line 1\u001b[0m\n\u001b[1;32m----> 1\u001b[0m epoch_losses \u001b[38;5;241m=\u001b[39m \u001b[43mtrain\u001b[49m\u001b[43m(\u001b[49m\u001b[43mencoder\u001b[49m\u001b[43m,\u001b[49m\u001b[43m \u001b[49m\u001b[43mdecoder\u001b[49m\u001b[43m,\u001b[49m\u001b[43m \u001b[49m\u001b[43mrecipe_ds\u001b[49m\u001b[43m,\u001b[49m\u001b[43m \u001b[49m\u001b[43mn_epochs\u001b[49m\u001b[38;5;241;43m=\u001b[39;49m\u001b[38;5;241;43m5\u001b[39;49m\u001b[43m,\u001b[49m\u001b[43m \u001b[49m\u001b[43mbatch_size\u001b[49m\u001b[38;5;241;43m=\u001b[39;49m\u001b[38;5;241;43m4\u001b[39;49m\u001b[43m,\u001b[49m\u001b[43m \u001b[49m\u001b[43mlearning_rate\u001b[49m\u001b[38;5;241;43m=\u001b[39;49m\u001b[38;5;241;43m0.01\u001b[39;49m\u001b[43m,\u001b[49m\u001b[43m \u001b[49m\u001b[43mverbose_iter_interval\u001b[49m\u001b[38;5;241;43m=\u001b[39;49m\u001b[38;5;241;43m1\u001b[39;49m\u001b[43m)\u001b[49m\n",
      "Cell \u001b[1;32mIn[21], line 18\u001b[0m, in \u001b[0;36mtrain\u001b[1;34m(encoder, decoder, dataset, n_epochs, batch_size, learning_rate, verbose, verbose_iter_interval)\u001b[0m\n\u001b[0;32m     16\u001b[0m     \u001b[38;5;28mprint\u001b[39m(\u001b[38;5;124mf\u001b[39m\u001b[38;5;124m\"\u001b[39m\u001b[38;5;124m(Epoch \u001b[39m\u001b[38;5;132;01m{\u001b[39;00mepoch\u001b[38;5;132;01m}\u001b[39;00m\u001b[38;5;124m, iter \u001b[39m\u001b[38;5;132;01m{\u001b[39;00miter_idx\u001b[38;5;132;01m}\u001b[39;00m\u001b[38;5;124m/\u001b[39m\u001b[38;5;132;01m{\u001b[39;00mtotal_iters\u001b[38;5;132;01m}\u001b[39;00m\u001b[38;5;124m) Average loss so far: \u001b[39m\u001b[38;5;132;01m{\u001b[39;00mprint_epoch_loss\u001b[38;5;241m/\u001b[39mverbose_iter_interval\u001b[38;5;132;01m:\u001b[39;00m\u001b[38;5;124m.3f\u001b[39m\u001b[38;5;132;01m}\u001b[39;00m\u001b[38;5;124m\"\u001b[39m)\n\u001b[0;32m     17\u001b[0m     print_epoch_loss \u001b[38;5;241m=\u001b[39m \u001b[38;5;241m0\u001b[39m\n\u001b[1;32m---> 18\u001b[0m loss \u001b[38;5;241m=\u001b[39m \u001b[43mtrain_iter\u001b[49m\u001b[43m(\u001b[49m\u001b[43mingredients\u001b[49m\u001b[43m,\u001b[49m\u001b[43m \u001b[49m\u001b[43mrecipes\u001b[49m\u001b[43m,\u001b[49m\u001b[43m \u001b[49m\u001b[43ming_lens\u001b[49m\u001b[43m,\u001b[49m\u001b[43m \u001b[49m\u001b[43mrec_lens\u001b[49m\u001b[43m,\u001b[49m\u001b[43m \u001b[49m\u001b[43mencoder\u001b[49m\u001b[43m,\u001b[49m\u001b[43m \u001b[49m\u001b[43mdecoder\u001b[49m\u001b[43m,\u001b[49m\u001b[43m \u001b[49m\n\u001b[0;32m     19\u001b[0m \u001b[43m                       \u001b[49m\u001b[43mencoder_optimizer\u001b[49m\u001b[43m,\u001b[49m\u001b[43m \u001b[49m\u001b[43mdecoder_optimizer\u001b[49m\u001b[43m,\u001b[49m\u001b[43m \u001b[49m\u001b[43mcriterion\u001b[49m\u001b[43m)\u001b[49m\n\u001b[0;32m     20\u001b[0m epoch_loss \u001b[38;5;241m+\u001b[39m\u001b[38;5;241m=\u001b[39m loss\n\u001b[0;32m     21\u001b[0m print_epoch_loss \u001b[38;5;241m+\u001b[39m\u001b[38;5;241m=\u001b[39m loss\n",
      "Cell \u001b[1;32mIn[20], line 77\u001b[0m, in \u001b[0;36mtrain_iter\u001b[1;34m(ingredients, recipes, ing_lens, rec_lens, encoder, decoder, encoder_optimizer, decoder_optimizer, criterion)\u001b[0m\n\u001b[0;32m     74\u001b[0m loss \u001b[38;5;241m=\u001b[39m criterion(all_decoder_outs, all_gt)\n\u001b[0;32m     76\u001b[0m \u001b[38;5;66;03m## backpropagation\u001b[39;00m\n\u001b[1;32m---> 77\u001b[0m \u001b[43mloss\u001b[49m\u001b[38;5;241;43m.\u001b[39;49m\u001b[43mbackward\u001b[49m\u001b[43m(\u001b[49m\u001b[43m)\u001b[49m\n\u001b[0;32m     79\u001b[0m \u001b[38;5;66;03m## update params\u001b[39;00m\n\u001b[0;32m     80\u001b[0m encoder_optimizer\u001b[38;5;241m.\u001b[39mstep()\n",
      "File \u001b[1;32mc:\\Users\\Dell\\anaconda3\\envs\\nlp\\lib\\site-packages\\torch\\_tensor.py:363\u001b[0m, in \u001b[0;36mTensor.backward\u001b[1;34m(self, gradient, retain_graph, create_graph, inputs)\u001b[0m\n\u001b[0;32m    354\u001b[0m \u001b[38;5;28;01mif\u001b[39;00m has_torch_function_unary(\u001b[38;5;28mself\u001b[39m):\n\u001b[0;32m    355\u001b[0m     \u001b[38;5;28;01mreturn\u001b[39;00m handle_torch_function(\n\u001b[0;32m    356\u001b[0m         Tensor\u001b[38;5;241m.\u001b[39mbackward,\n\u001b[0;32m    357\u001b[0m         (\u001b[38;5;28mself\u001b[39m,),\n\u001b[1;32m   (...)\u001b[0m\n\u001b[0;32m    361\u001b[0m         create_graph\u001b[38;5;241m=\u001b[39mcreate_graph,\n\u001b[0;32m    362\u001b[0m         inputs\u001b[38;5;241m=\u001b[39minputs)\n\u001b[1;32m--> 363\u001b[0m \u001b[43mtorch\u001b[49m\u001b[38;5;241;43m.\u001b[39;49m\u001b[43mautograd\u001b[49m\u001b[38;5;241;43m.\u001b[39;49m\u001b[43mbackward\u001b[49m\u001b[43m(\u001b[49m\u001b[38;5;28;43mself\u001b[39;49m\u001b[43m,\u001b[49m\u001b[43m \u001b[49m\u001b[43mgradient\u001b[49m\u001b[43m,\u001b[49m\u001b[43m \u001b[49m\u001b[43mretain_graph\u001b[49m\u001b[43m,\u001b[49m\u001b[43m \u001b[49m\u001b[43mcreate_graph\u001b[49m\u001b[43m,\u001b[49m\u001b[43m \u001b[49m\u001b[43minputs\u001b[49m\u001b[38;5;241;43m=\u001b[39;49m\u001b[43minputs\u001b[49m\u001b[43m)\u001b[49m\n",
      "File \u001b[1;32mc:\\Users\\Dell\\anaconda3\\envs\\nlp\\lib\\site-packages\\torch\\autograd\\__init__.py:173\u001b[0m, in \u001b[0;36mbackward\u001b[1;34m(tensors, grad_tensors, retain_graph, create_graph, grad_variables, inputs)\u001b[0m\n\u001b[0;32m    168\u001b[0m     retain_graph \u001b[38;5;241m=\u001b[39m create_graph\n\u001b[0;32m    170\u001b[0m \u001b[38;5;66;03m# The reason we repeat same the comment below is that\u001b[39;00m\n\u001b[0;32m    171\u001b[0m \u001b[38;5;66;03m# some Python versions print out the first line of a multi-line function\u001b[39;00m\n\u001b[0;32m    172\u001b[0m \u001b[38;5;66;03m# calls in the traceback and some print out the last line\u001b[39;00m\n\u001b[1;32m--> 173\u001b[0m \u001b[43mVariable\u001b[49m\u001b[38;5;241;43m.\u001b[39;49m\u001b[43m_execution_engine\u001b[49m\u001b[38;5;241;43m.\u001b[39;49m\u001b[43mrun_backward\u001b[49m\u001b[43m(\u001b[49m\u001b[43m  \u001b[49m\u001b[38;5;66;43;03m# Calls into the C++ engine to run the backward pass\u001b[39;49;00m\n\u001b[0;32m    174\u001b[0m \u001b[43m    \u001b[49m\u001b[43mtensors\u001b[49m\u001b[43m,\u001b[49m\u001b[43m \u001b[49m\u001b[43mgrad_tensors_\u001b[49m\u001b[43m,\u001b[49m\u001b[43m \u001b[49m\u001b[43mretain_graph\u001b[49m\u001b[43m,\u001b[49m\u001b[43m \u001b[49m\u001b[43mcreate_graph\u001b[49m\u001b[43m,\u001b[49m\u001b[43m \u001b[49m\u001b[43minputs\u001b[49m\u001b[43m,\u001b[49m\n\u001b[0;32m    175\u001b[0m \u001b[43m    \u001b[49m\u001b[43mallow_unreachable\u001b[49m\u001b[38;5;241;43m=\u001b[39;49m\u001b[38;5;28;43;01mTrue\u001b[39;49;00m\u001b[43m,\u001b[49m\u001b[43m \u001b[49m\u001b[43maccumulate_grad\u001b[49m\u001b[38;5;241;43m=\u001b[39;49m\u001b[38;5;28;43;01mTrue\u001b[39;49;00m\u001b[43m)\u001b[49m\n",
      "\u001b[1;31mKeyboardInterrupt\u001b[0m: "
     ]
    }
   ],
   "source": [
    "epoch_losses = train(encoder, decoder, recipe_ds, n_epochs=5, batch_size=4, learning_rate=0.01, verbose_iter_interval=1)"
   ]
  },
  {
   "cell_type": "code",
   "execution_count": 51,
   "metadata": {},
   "outputs": [],
   "source": [
    "dataloader = DataLoader(recipe_ds, batch_size=4, shuffle=True, collate_fn=pad_collate(vocab))"
   ]
  },
  {
   "cell_type": "code",
   "execution_count": 52,
   "metadata": {},
   "outputs": [],
   "source": [
    "ingredients, recipes, ing_lens, rec_lens = next(iter(dataloader))"
   ]
  },
  {
   "cell_type": "code",
   "execution_count": 53,
   "metadata": {},
   "outputs": [
    {
     "data": {
      "text/plain": [
       "tensor([263, 134, 126,  16])"
      ]
     },
     "execution_count": 53,
     "metadata": {},
     "output_type": "execute_result"
    }
   ],
   "source": [
    "rec_lens"
   ]
  },
  {
   "cell_type": "code",
   "execution_count": 54,
   "metadata": {},
   "outputs": [],
   "source": [
    "criterion = nn.NLLLoss()"
   ]
  },
  {
   "cell_type": "code",
   "execution_count": 55,
   "metadata": {},
   "outputs": [],
   "source": [
    "encoder_optimizer = optim.SGD(encoder.parameters(), lr=1e-3)\n",
    "decoder_optimizer = optim.SGD(decoder.parameters(), lr=1e-3)"
   ]
  },
  {
   "cell_type": "code",
   "execution_count": 56,
   "metadata": {},
   "outputs": [],
   "source": [
    "loss = train_iter(ingredients, recipes, ing_lens, rec_lens, encoder, decoder, encoder_optimizer, decoder_optimizer, criterion)"
   ]
  },
  {
   "cell_type": "code",
   "execution_count": 57,
   "metadata": {},
   "outputs": [
    {
     "data": {
      "text/plain": [
       "10.712065696716309"
      ]
     },
     "execution_count": 57,
     "metadata": {},
     "output_type": "execute_result"
    }
   ],
   "source": [
    "loss"
   ]
  },
  {
   "cell_type": "code",
   "execution_count": 62,
   "metadata": {},
   "outputs": [],
   "source": [
    "l = [torch.Tensor([1, 2, 3]), torch.Tensor([4]), torch.Tensor([5, 6])]\n",
    "\n",
    "pad_l = pad_sequence(l, batch_first=True, padding_value=0)"
   ]
  },
  {
   "cell_type": "code",
   "execution_count": 63,
   "metadata": {},
   "outputs": [
    {
     "data": {
      "text/plain": [
       "tensor([[1., 2., 3.],\n",
       "        [4., 0., 0.],\n",
       "        [5., 6., 0.]])"
      ]
     },
     "execution_count": 63,
     "metadata": {},
     "output_type": "execute_result"
    }
   ],
   "source": [
    "pad_l"
   ]
  },
  {
   "cell_type": "code",
   "execution_count": 66,
   "metadata": {},
   "outputs": [
    {
     "data": {
      "text/plain": [
       "PackedSequence(data=tensor([[1.],\n",
       "        [5.],\n",
       "        [4.],\n",
       "        [2.],\n",
       "        [6.],\n",
       "        [3.]]), batch_sizes=tensor([3, 2, 1]), sorted_indices=tensor([0, 2, 1]), unsorted_indices=tensor([0, 2, 1]))"
      ]
     },
     "execution_count": 66,
     "metadata": {},
     "output_type": "execute_result"
    }
   ],
   "source": [
    "packed_l = pack(pad_l.unsqueeze(-1), torch.tensor([3, 1, 2]))\n",
    "packed_l"
   ]
  },
  {
   "cell_type": "code",
   "execution_count": 67,
   "metadata": {},
   "outputs": [],
   "source": [
    "lstm = nn.LSTM(1, 5, batch_first=True)"
   ]
  },
  {
   "cell_type": "code",
   "execution_count": 69,
   "metadata": {},
   "outputs": [],
   "source": [
    "out, (h_final, _) = lstm(packed_l)"
   ]
  },
  {
   "cell_type": "code",
   "execution_count": 70,
   "metadata": {},
   "outputs": [
    {
     "data": {
      "text/plain": [
       "PackedSequence(data=tensor([[ 0.0794, -0.0027, -0.0813, -0.0836,  0.0903],\n",
       "        [-0.0352, -0.1354, -0.1496, -0.0808,  0.3205],\n",
       "        [ 0.0136, -0.1145, -0.1331, -0.1055,  0.2563],\n",
       "        [ 0.1176, -0.0716, -0.1257, -0.1492,  0.2094],\n",
       "        [ 0.0733, -0.2670, -0.1957, -0.0674,  0.5118],\n",
       "        [ 0.1314, -0.1688, -0.1590, -0.1596,  0.3382]], grad_fn=<CatBackward0>), batch_sizes=tensor([3, 2, 1]), sorted_indices=tensor([0, 2, 1]), unsorted_indices=tensor([0, 2, 1]))"
      ]
     },
     "execution_count": 70,
     "metadata": {},
     "output_type": "execute_result"
    }
   ],
   "source": [
    "out"
   ]
  },
  {
   "cell_type": "code",
   "execution_count": 71,
   "metadata": {},
   "outputs": [
    {
     "data": {
      "text/plain": [
       "tensor([[[ 0.1314, -0.1688, -0.1590, -0.1596,  0.3382],\n",
       "         [ 0.0136, -0.1145, -0.1331, -0.1055,  0.2563],\n",
       "         [ 0.0733, -0.2670, -0.1957, -0.0674,  0.5118]]],\n",
       "       grad_fn=<IndexSelectBackward0>)"
      ]
     },
     "execution_count": 71,
     "metadata": {},
     "output_type": "execute_result"
    }
   ],
   "source": [
    "h_final"
   ]
  },
  {
   "cell_type": "code",
   "execution_count": 72,
   "metadata": {},
   "outputs": [],
   "source": [
    "unpacked_out, out_lens = unpack(out)"
   ]
  },
  {
   "cell_type": "code",
   "execution_count": 73,
   "metadata": {},
   "outputs": [
    {
     "data": {
      "text/plain": [
       "tensor([[[ 0.0794, -0.0027, -0.0813, -0.0836,  0.0903],\n",
       "         [ 0.1176, -0.0716, -0.1257, -0.1492,  0.2094],\n",
       "         [ 0.1314, -0.1688, -0.1590, -0.1596,  0.3382]],\n",
       "\n",
       "        [[ 0.0136, -0.1145, -0.1331, -0.1055,  0.2563],\n",
       "         [ 0.0000,  0.0000,  0.0000,  0.0000,  0.0000],\n",
       "         [ 0.0000,  0.0000,  0.0000,  0.0000,  0.0000]],\n",
       "\n",
       "        [[-0.0352, -0.1354, -0.1496, -0.0808,  0.3205],\n",
       "         [ 0.0733, -0.2670, -0.1957, -0.0674,  0.5118],\n",
       "         [ 0.0000,  0.0000,  0.0000,  0.0000,  0.0000]]],\n",
       "       grad_fn=<IndexSelectBackward0>)"
      ]
     },
     "execution_count": 73,
     "metadata": {},
     "output_type": "execute_result"
    }
   ],
   "source": [
    "unpacked_out"
   ]
  },
  {
   "cell_type": "code",
   "execution_count": 24,
   "metadata": {},
   "outputs": [
    {
     "data": {
      "text/plain": [
       "tensor([[0.1699, 0.7829, 0.8439, 0.3110, 0.8584, 0.2562, 0.5113, 0.8993, 0.5475,\n",
       "         0.7520],\n",
       "        [0.5721, 0.1622, 0.4188, 0.2749, 0.1484, 0.5337, 0.9014, 0.8269, 0.8428,\n",
       "         0.9507],\n",
       "        [0.9826, 0.6929, 0.9554, 0.2149, 0.3530, 0.0090, 0.9106, 0.2185, 0.1463,\n",
       "         0.2705],\n",
       "        [0.9207, 0.7776, 0.3821, 0.9539, 0.6005, 0.0750, 0.3464, 0.9162, 0.5391,\n",
       "         0.2886]])"
      ]
     },
     "execution_count": 24,
     "metadata": {},
     "output_type": "execute_result"
    }
   ],
   "source": [
    "dec_out = torch.rand(4, 10)\n",
    "dec_out"
   ]
  },
  {
   "cell_type": "code",
   "execution_count": 28,
   "metadata": {},
   "outputs": [
    {
     "data": {
      "text/plain": [
       "torch.return_types.topk(\n",
       "values=tensor([[0.8993],\n",
       "        [0.9507],\n",
       "        [0.9826],\n",
       "        [0.9539]]),\n",
       "indices=tensor([[7],\n",
       "        [9],\n",
       "        [0],\n",
       "        [3]]))"
      ]
     },
     "execution_count": 28,
     "metadata": {},
     "output_type": "execute_result"
    }
   ],
   "source": [
    "dec_out.topk(k=1, dim=-1)"
   ]
  },
  {
   "cell_type": "code",
   "execution_count": 27,
   "metadata": {},
   "outputs": [
    {
     "data": {
      "text/plain": [
       "tensor([7, 9, 0, 3])"
      ]
     },
     "execution_count": 27,
     "metadata": {},
     "output_type": "execute_result"
    }
   ],
   "source": [
    "dec_out.argmax(dim=-1)"
   ]
  },
  {
   "cell_type": "code",
   "execution_count": 15,
   "metadata": {},
   "outputs": [
    {
     "data": {
      "text/plain": [
       "tensor([2, 9, 1, 3])"
      ]
     },
     "execution_count": 15,
     "metadata": {},
     "output_type": "execute_result"
    }
   ],
   "source": [
    "lens = torch.tensor([2, 9, 1, 3])\n",
    "lens"
   ]
  },
  {
   "cell_type": "code",
   "execution_count": 18,
   "metadata": {},
   "outputs": [],
   "source": [
    "decoder_input = torch.rand((4,1))"
   ]
  },
  {
   "cell_type": "code",
   "execution_count": 19,
   "metadata": {},
   "outputs": [
    {
     "data": {
      "text/plain": [
       "tensor([[0.6875],\n",
       "        [0.3673],\n",
       "        [0.5379],\n",
       "        [0.4929]])"
      ]
     },
     "execution_count": 19,
     "metadata": {},
     "output_type": "execute_result"
    }
   ],
   "source": [
    "decoder_input"
   ]
  },
  {
   "cell_type": "code",
   "execution_count": 20,
   "metadata": {},
   "outputs": [
    {
     "data": {
      "text/plain": [
       "tensor([ True,  True, False,  True])"
      ]
     },
     "execution_count": 20,
     "metadata": {},
     "output_type": "execute_result"
    }
   ],
   "source": [
    "lens > 1"
   ]
  },
  {
   "cell_type": "code",
   "execution_count": 21,
   "metadata": {},
   "outputs": [
    {
     "data": {
      "text/plain": [
       "tensor([[0.6875],\n",
       "        [0.3673],\n",
       "        [0.4929]])"
      ]
     },
     "execution_count": 21,
     "metadata": {},
     "output_type": "execute_result"
    }
   ],
   "source": [
    "decoder_input[lens > 1]"
   ]
  },
  {
   "cell_type": "code",
   "execution_count": 153,
   "metadata": {},
   "outputs": [],
   "source": [
    "lstm = nn.LSTM(256, 256, batch_first=True)"
   ]
  },
  {
   "cell_type": "code",
   "execution_count": 164,
   "metadata": {},
   "outputs": [],
   "source": [
    "ingr_embedded = emb(ingr)"
   ]
  },
  {
   "cell_type": "code",
   "execution_count": 165,
   "metadata": {},
   "outputs": [
    {
     "data": {
      "text/plain": [
       "torch.Size([2, 93, 256])"
      ]
     },
     "execution_count": 165,
     "metadata": {},
     "output_type": "execute_result"
    }
   ],
   "source": [
    "ingr_embedded.shape"
   ]
  },
  {
   "cell_type": "code",
   "execution_count": 160,
   "metadata": {},
   "outputs": [
    {
     "data": {
      "text/plain": [
       "[69, 93]"
      ]
     },
     "execution_count": 160,
     "metadata": {},
     "output_type": "execute_result"
    }
   ],
   "source": [
    "ilen"
   ]
  },
  {
   "cell_type": "code",
   "execution_count": 187,
   "metadata": {},
   "outputs": [
    {
     "data": {
      "text/plain": [
       "PackedSequence(data=tensor([[-1.0380,  0.9075, -1.1193,  ..., -0.8712,  0.6987, -1.6537],\n",
       "        [-1.0380,  0.9075, -1.1193,  ..., -0.8712,  0.6987, -1.6537],\n",
       "        [-0.8490, -0.2949,  2.2047,  ..., -0.5509, -0.6989, -0.3990],\n",
       "        ...,\n",
       "        [ 0.6973,  0.6226,  1.1423,  ...,  2.4458,  1.2086, -1.6040],\n",
       "        [ 0.2775,  0.4690,  1.6982,  ...,  1.9954, -2.0233, -0.0757],\n",
       "        [ 0.0966,  0.8704, -0.1913,  ...,  0.4736, -0.1003, -0.5020]],\n",
       "       grad_fn=<PackPaddedSequenceBackward0>), batch_sizes=tensor([2, 2, 2, 2, 2, 2, 2, 2, 2, 2, 2, 2, 2, 2, 2, 2, 2, 2, 2, 2, 2, 2, 2, 2,\n",
       "        2, 2, 2, 2, 2, 2, 2, 2, 2, 2, 2, 2, 2, 2, 2, 2, 2, 2, 2, 2, 2, 2, 2, 2,\n",
       "        2, 2, 2, 2, 2, 2, 2, 2, 2, 2, 2, 2, 2, 2, 2, 2, 2, 2, 2, 2, 2, 1, 1, 1,\n",
       "        1, 1, 1, 1, 1, 1, 1, 1, 1, 1, 1, 1, 1, 1, 1, 1, 1, 1, 1, 1, 1]), sorted_indices=tensor([1, 0]), unsorted_indices=tensor([1, 0]))"
      ]
     },
     "execution_count": 187,
     "metadata": {},
     "output_type": "execute_result"
    }
   ],
   "source": [
    "pack(ingr_embedded, out_lens)"
   ]
  },
  {
   "cell_type": "code",
   "execution_count": 188,
   "metadata": {},
   "outputs": [
    {
     "data": {
      "text/plain": [
       "PackedSequence(data=tensor([[-1.0380,  0.9075, -1.1193,  ..., -0.8712,  0.6987, -1.6537],\n",
       "        [-1.0380,  0.9075, -1.1193,  ..., -0.8712,  0.6987, -1.6537],\n",
       "        [-0.8490, -0.2949,  2.2047,  ..., -0.5509, -0.6989, -0.3990],\n",
       "        ...,\n",
       "        [ 0.6973,  0.6226,  1.1423,  ...,  2.4458,  1.2086, -1.6040],\n",
       "        [ 0.2775,  0.4690,  1.6982,  ...,  1.9954, -2.0233, -0.0757],\n",
       "        [ 0.0966,  0.8704, -0.1913,  ...,  0.4736, -0.1003, -0.5020]],\n",
       "       grad_fn=<PackPaddedSequenceBackward0>), batch_sizes=tensor([2, 2, 2, 2, 2, 2, 2, 2, 2, 2, 2, 2, 2, 2, 2, 2, 2, 2, 2, 2, 2, 2, 2, 2,\n",
       "        2, 2, 2, 2, 2, 2, 2, 2, 2, 2, 2, 2, 2, 2, 2, 2, 2, 2, 2, 2, 2, 2, 2, 2,\n",
       "        2, 2, 2, 2, 2, 2, 2, 2, 2, 2, 2, 2, 2, 2, 2, 2, 2, 2, 2, 2, 2, 1, 1, 1,\n",
       "        1, 1, 1, 1, 1, 1, 1, 1, 1, 1, 1, 1, 1, 1, 1, 1, 1, 1, 1, 1, 1]), sorted_indices=tensor([1, 0]), unsorted_indices=tensor([1, 0]))"
      ]
     },
     "execution_count": 188,
     "metadata": {},
     "output_type": "execute_result"
    }
   ],
   "source": [
    "pack(ingr_embedded, ilen)"
   ]
  },
  {
   "cell_type": "code",
   "execution_count": 168,
   "metadata": {},
   "outputs": [],
   "source": [
    "ingr_packed = pack(ingr_embedded, out_lens)"
   ]
  },
  {
   "cell_type": "code",
   "execution_count": 169,
   "metadata": {},
   "outputs": [
    {
     "data": {
      "text/plain": [
       "PackedSequence(data=tensor([[-1.0380,  0.9075, -1.1193,  ..., -0.8712,  0.6987, -1.6537],\n",
       "        [-1.0380,  0.9075, -1.1193,  ..., -0.8712,  0.6987, -1.6537],\n",
       "        [-0.8490, -0.2949,  2.2047,  ..., -0.5509, -0.6989, -0.3990],\n",
       "        ...,\n",
       "        [ 0.6973,  0.6226,  1.1423,  ...,  2.4458,  1.2086, -1.6040],\n",
       "        [ 0.2775,  0.4690,  1.6982,  ...,  1.9954, -2.0233, -0.0757],\n",
       "        [ 0.0966,  0.8704, -0.1913,  ...,  0.4736, -0.1003, -0.5020]],\n",
       "       grad_fn=<PackPaddedSequenceBackward0>), batch_sizes=tensor([2, 2, 2, 2, 2, 2, 2, 2, 2, 2, 2, 2, 2, 2, 2, 2, 2, 2, 2, 2, 2, 2, 2, 2,\n",
       "        2, 2, 2, 2, 2, 2, 2, 2, 2, 2, 2, 2, 2, 2, 2, 2, 2, 2, 2, 2, 2, 2, 2, 2,\n",
       "        2, 2, 2, 2, 2, 2, 2, 2, 2, 2, 2, 2, 2, 2, 2, 2, 2, 2, 2, 2, 2, 1, 1, 1,\n",
       "        1, 1, 1, 1, 1, 1, 1, 1, 1, 1, 1, 1, 1, 1, 1, 1, 1, 1, 1, 1, 1]), sorted_indices=tensor([1, 0]), unsorted_indices=tensor([1, 0]))"
      ]
     },
     "execution_count": 169,
     "metadata": {},
     "output_type": "execute_result"
    }
   ],
   "source": [
    "ingr_packed"
   ]
  },
  {
   "cell_type": "code",
   "execution_count": 170,
   "metadata": {},
   "outputs": [],
   "source": [
    "output, (h_final, c_final) = lstm(ingr_packed)"
   ]
  },
  {
   "cell_type": "code",
   "execution_count": 189,
   "metadata": {},
   "outputs": [
    {
     "data": {
      "text/plain": [
       "torch.Size([1, 2, 256])"
      ]
     },
     "execution_count": 189,
     "metadata": {},
     "output_type": "execute_result"
    }
   ],
   "source": [
    "c_final.shape"
   ]
  },
  {
   "cell_type": "code",
   "execution_count": 173,
   "metadata": {},
   "outputs": [],
   "source": [
    "out_padded, out_lens = unpack(output)"
   ]
  },
  {
   "cell_type": "code",
   "execution_count": 175,
   "metadata": {},
   "outputs": [
    {
     "data": {
      "text/plain": [
       "torch.Size([2, 93, 256])"
      ]
     },
     "execution_count": 175,
     "metadata": {},
     "output_type": "execute_result"
    }
   ],
   "source": [
    "out_padded.shape"
   ]
  },
  {
   "cell_type": "code",
   "execution_count": 181,
   "metadata": {},
   "outputs": [
    {
     "data": {
      "text/plain": [
       "[69, 93]"
      ]
     },
     "execution_count": 181,
     "metadata": {},
     "output_type": "execute_result"
    }
   ],
   "source": [
    "ilen"
   ]
  },
  {
   "cell_type": "code",
   "execution_count": 183,
   "metadata": {},
   "outputs": [
    {
     "data": {
      "text/plain": [
       "tensor([69, 93])"
      ]
     },
     "execution_count": 183,
     "metadata": {},
     "output_type": "execute_result"
    }
   ],
   "source": [
    "out_lens"
   ]
  },
  {
   "cell_type": "code",
   "execution_count": 144,
   "metadata": {},
   "outputs": [],
   "source": [
    "output, (h_final, c_final) = lstm(torch.rand(2, 96, 256))"
   ]
  },
  {
   "cell_type": "code",
   "execution_count": 149,
   "metadata": {},
   "outputs": [
    {
     "data": {
      "text/plain": [
       "torch.Size([2, 256])"
      ]
     },
     "execution_count": 149,
     "metadata": {},
     "output_type": "execute_result"
    }
   ],
   "source": [
    "output[:, -1].shape"
   ]
  },
  {
   "cell_type": "code",
   "execution_count": 151,
   "metadata": {},
   "outputs": [
    {
     "data": {
      "text/plain": [
       "tensor(True)"
      ]
     },
     "execution_count": 151,
     "metadata": {},
     "output_type": "execute_result"
    }
   ],
   "source": [
    "(output[:, -1] == h_final[0]).all()"
   ]
  },
  {
   "cell_type": "code",
   "execution_count": 147,
   "metadata": {},
   "outputs": [
    {
     "data": {
      "text/plain": [
       "torch.Size([1, 2, 256])"
      ]
     },
     "execution_count": 147,
     "metadata": {},
     "output_type": "execute_result"
    }
   ],
   "source": [
    "h_final.shape"
   ]
  },
  {
   "cell_type": "code",
   "execution_count": 21,
   "metadata": {},
   "outputs": [],
   "source": [
    "emb = nn.Embedding(vocab.n_unique_words, 256)"
   ]
  },
  {
   "cell_type": "code",
   "execution_count": 52,
   "metadata": {},
   "outputs": [],
   "source": [
    "test = [torch.tensor([5, 18, 29]), torch.tensor([1]), torch.tensor([10, 9])]"
   ]
  },
  {
   "cell_type": "code",
   "execution_count": 53,
   "metadata": {},
   "outputs": [],
   "source": [
    "test_padded = pad_sequence(test, batch_first=True, padding_value=-1)"
   ]
  },
  {
   "cell_type": "code",
   "execution_count": 54,
   "metadata": {},
   "outputs": [
    {
     "data": {
      "text/plain": [
       "tensor([[ 5, 18, 29],\n",
       "        [ 1, -1, -1],\n",
       "        [10,  9, -1]])"
      ]
     },
     "execution_count": 54,
     "metadata": {},
     "output_type": "execute_result"
    }
   ],
   "source": [
    "test_padded"
   ]
  },
  {
   "cell_type": "code",
   "execution_count": null,
   "metadata": {},
   "outputs": [],
   "source": [
    "emb"
   ]
  },
  {
   "cell_type": "markdown",
   "metadata": {},
   "source": [
    "# Implementation of Baseline 2"
   ]
  },
  {
   "cell_type": "markdown",
   "metadata": {},
   "source": [
    "# Implementation of Extension 1"
   ]
  },
  {
   "cell_type": "markdown",
   "metadata": {},
   "source": [
    "# Implementation of Extension 2"
   ]
  }
 ],
 "metadata": {
  "kernelspec": {
   "display_name": "nlp",
   "language": "python",
   "name": "python3"
  },
  "language_info": {
   "codemirror_mode": {
    "name": "ipython",
    "version": 3
   },
   "file_extension": ".py",
   "mimetype": "text/x-python",
   "name": "python",
   "nbconvert_exporter": "python",
   "pygments_lexer": "ipython3",
   "version": "3.9.19"
  }
 },
 "nbformat": 4,
 "nbformat_minor": 2
}
